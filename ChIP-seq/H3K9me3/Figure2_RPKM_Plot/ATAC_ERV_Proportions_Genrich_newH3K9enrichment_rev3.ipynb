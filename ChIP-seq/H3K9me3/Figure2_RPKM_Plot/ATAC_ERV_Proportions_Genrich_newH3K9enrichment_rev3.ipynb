{
 "cells": [
  {
   "cell_type": "code",
   "execution_count": 1,
   "id": "b7b2760a",
   "metadata": {
    "slideshow": {
     "slide_type": ""
    },
    "tags": []
   },
   "outputs": [
    {
     "name": "stderr",
     "output_type": "stream",
     "text": [
      "── \u001b[1mAttaching core tidyverse packages\u001b[22m ──────────────────────── tidyverse 2.0.0 ──\n",
      "\u001b[32m✔\u001b[39m \u001b[34mdplyr    \u001b[39m 1.1.4     \u001b[32m✔\u001b[39m \u001b[34mreadr    \u001b[39m 2.1.5\n",
      "\u001b[32m✔\u001b[39m \u001b[34mforcats  \u001b[39m 1.0.0     \u001b[32m✔\u001b[39m \u001b[34mstringr  \u001b[39m 1.5.1\n",
      "\u001b[32m✔\u001b[39m \u001b[34mggplot2  \u001b[39m 3.5.0     \u001b[32m✔\u001b[39m \u001b[34mtibble   \u001b[39m 3.2.1\n",
      "\u001b[32m✔\u001b[39m \u001b[34mlubridate\u001b[39m 1.9.3     \u001b[32m✔\u001b[39m \u001b[34mtidyr    \u001b[39m 1.3.1\n",
      "\u001b[32m✔\u001b[39m \u001b[34mpurrr    \u001b[39m 1.0.2     \n",
      "── \u001b[1mConflicts\u001b[22m ────────────────────────────────────────── tidyverse_conflicts() ──\n",
      "\u001b[31m✖\u001b[39m \u001b[34mdplyr\u001b[39m::\u001b[32mfilter()\u001b[39m masks \u001b[34mstats\u001b[39m::filter()\n",
      "\u001b[31m✖\u001b[39m \u001b[34mdplyr\u001b[39m::\u001b[32mlag()\u001b[39m    masks \u001b[34mstats\u001b[39m::lag()\n",
      "\u001b[36mℹ\u001b[39m Use the conflicted package (\u001b[3m\u001b[34m<http://conflicted.r-lib.org/>\u001b[39m\u001b[23m) to force all conflicts to become errors\n",
      "\n",
      "Attaching package: ‘reshape2’\n",
      "\n",
      "\n",
      "The following object is masked from ‘package:tidyr’:\n",
      "\n",
      "    smiths\n",
      "\n",
      "\n"
     ]
    }
   ],
   "source": [
    "library(tidyverse)\n",
    "library(dplyr)\n",
    "library(ggplot2)\n",
    "library(reshape2)\n",
    "library(RColorBrewer)\n",
    "library(ggsignif)\n",
    "library(ggpubr)"
   ]
  },
  {
   "cell_type": "code",
   "execution_count": 2,
   "id": "17f474b9",
   "metadata": {
    "scrolled": true
   },
   "outputs": [
    {
     "data": {
      "text/html": [
       "185"
      ],
      "text/latex": [
       "185"
      ],
      "text/markdown": [
       "185"
      ],
      "text/plain": [
       "[1] 185"
      ]
     },
     "metadata": {},
     "output_type": "display_data"
    },
    {
     "data": {
      "text/html": [
       "185"
      ],
      "text/latex": [
       "185"
      ],
      "text/markdown": [
       "185"
      ],
      "text/plain": [
       "[1] 185"
      ]
     },
     "metadata": {},
     "output_type": "display_data"
    },
    {
     "data": {
      "text/html": [
       "381"
      ],
      "text/latex": [
       "381"
      ],
      "text/markdown": [
       "381"
      ],
      "text/plain": [
       "[1] 381"
      ]
     },
     "metadata": {},
     "output_type": "display_data"
    },
    {
     "data": {
      "text/html": [
       "381"
      ],
      "text/latex": [
       "381"
      ],
      "text/markdown": [
       "381"
      ],
      "text/plain": [
       "[1] 381"
      ]
     },
     "metadata": {},
     "output_type": "display_data"
    },
    {
     "data": {
      "text/html": [
       "2729"
      ],
      "text/latex": [
       "2729"
      ],
      "text/markdown": [
       "2729"
      ],
      "text/plain": [
       "[1] 2729"
      ]
     },
     "metadata": {},
     "output_type": "display_data"
    },
    {
     "data": {
      "text/html": [
       "2729"
      ],
      "text/latex": [
       "2729"
      ],
      "text/markdown": [
       "2729"
      ],
      "text/plain": [
       "[1] 2729"
      ]
     },
     "metadata": {},
     "output_type": "display_data"
    },
    {
     "data": {
      "text/html": [
       "1533"
      ],
      "text/latex": [
       "1533"
      ],
      "text/markdown": [
       "1533"
      ],
      "text/plain": [
       "[1] 1533"
      ]
     },
     "metadata": {},
     "output_type": "display_data"
    },
    {
     "data": {
      "text/html": [
       "1533"
      ],
      "text/latex": [
       "1533"
      ],
      "text/markdown": [
       "1533"
      ],
      "text/plain": [
       "[1] 1533"
      ]
     },
     "metadata": {},
     "output_type": "display_data"
    }
   ],
   "source": [
    "#First build and bring in for TRIM28 Independent\n",
    "keep <- c(1,2,3,25,26,27,28,31,32)\n",
    "bedtools_cols <- c(\"Chm\", \"Start\", \"End\",  \"TE_Chr\", \"TE_Start\", \"TE_End\", \"TE_Subfamily\", \"TE_Family\", \"Overlap\")\n",
    "#\n",
    "E105_MWT_MMUT_only <- read.delim(file = 'RPKM_E105_MWT_MMUT_LTRonly.bed', sep = '\\t', header = F)\n",
    "E105_MWT_MMUT_only <- E105_MWT_MMUT_only[,keep]\n",
    "colnames(E105_MWT_MMUT_only) <- bedtools_cols\n",
    "nrow(E105_MWT_MMUT_only)\n",
    "#E105_MWT_MMUT_only <- E105_MWT_MMUT_only %>% distinct(TE_Start, .keep_all = T) %>% filter(Overlap > 20)\n",
    "E105_MWT_MMUT_only$Geno <- c(\"TCKO\")\n",
    "nrow(E105_MWT_MMUT_only)\n",
    "#\n",
    "E105_FWT_FMUT_only <- read.delim(file = 'RPKM_E105_FWT_FMUT_LTRonly.bed', sep = '\\t', header = F)\n",
    "E105_FWT_FMUT_only <- E105_FWT_FMUT_only[,keep]\n",
    "colnames(E105_FWT_FMUT_only) <- bedtools_cols\n",
    "nrow(E105_FWT_FMUT_only)\n",
    "E105_FWT_FMUT_only <- E105_FWT_FMUT_only %>% distinct(TE_Start, .keep_all = T) %>% filter(Overlap > 20)\n",
    "E105_FWT_FMUT_only$Geno <- c(\"TCKO\")\n",
    "nrow(E105_FWT_FMUT_only)\n",
    "#\n",
    "keep <- c(1,2,3,21,22,23,24,27,28)\n",
    "bedtools_cols <- c(\"Chm\", \"Start\", \"End\",  \"TE_Chr\", \"TE_Start\", \"TE_End\", \"TE_Subfamily\", \"TE_Family\", \"Overlap\")\n",
    "#\n",
    "E105_MMUT_only <- read.delim(file = 'RPKM_E105_MMUT_LTRonly.bed', sep = '\\t', header = F)\n",
    "E105_MMUT_only <- E105_MMUT_only[,keep]\n",
    "colnames(E105_MMUT_only) <- bedtools_cols\n",
    "nrow(E105_MMUT_only)\n",
    "#E105_MMUT_only <- E105_MMUT_only %>% distinct(TE_Start, .keep_all = T) %>% filter(Overlap > 20)\n",
    "E105_MMUT_only$Geno <- c(\"TCKO\")\n",
    "nrow(E105_MMUT_only)\n",
    "#\n",
    "E105_FMUT_only <- read.delim(file = 'RPKM_E105_FMUT_LTRonly.bed', sep = '\\t', header = F)\n",
    "E105_FMUT_only <- E105_FMUT_only[,keep]\n",
    "colnames(E105_FMUT_only) <- bedtools_cols\n",
    "nrow(E105_FMUT_only)\n",
    "#E105_FMUT_only <- E105_FMUT_only %>% distinct(TE_Start, .keep_all = T) %>% filter(Overlap > 20)\n",
    "E105_FMUT_only$Geno <- c(\"TCKO\")\n",
    "nrow(E105_FMUT_only)\n",
    "#"
   ]
  },
  {
   "cell_type": "code",
   "execution_count": 3,
   "id": "627310b7",
   "metadata": {},
   "outputs": [
    {
     "data": {
      "text/html": [
       "2914"
      ],
      "text/latex": [
       "2914"
      ],
      "text/markdown": [
       "2914"
      ],
      "text/plain": [
       "[1] 2914"
      ]
     },
     "metadata": {},
     "output_type": "display_data"
    },
    {
     "data": {
      "text/html": [
       "2901"
      ],
      "text/latex": [
       "2901"
      ],
      "text/markdown": [
       "2901"
      ],
      "text/plain": [
       "[1] 2901"
      ]
     },
     "metadata": {},
     "output_type": "display_data"
    },
    {
     "data": {
      "text/html": [
       "1914"
      ],
      "text/latex": [
       "1914"
      ],
      "text/markdown": [
       "1914"
      ],
      "text/plain": [
       "[1] 1914"
      ]
     },
     "metadata": {},
     "output_type": "display_data"
    },
    {
     "data": {
      "text/html": [
       "1911"
      ],
      "text/latex": [
       "1911"
      ],
      "text/markdown": [
       "1911"
      ],
      "text/plain": [
       "[1] 1911"
      ]
     },
     "metadata": {},
     "output_type": "display_data"
    },
    {
     "data": {
      "text/html": [
       "<table class=\"dataframe\">\n",
       "<caption>A data.frame: 1911 × 10</caption>\n",
       "<thead>\n",
       "\t<tr><th scope=col>Chm</th><th scope=col>Start</th><th scope=col>End</th><th scope=col>TE_Chr</th><th scope=col>TE_Start</th><th scope=col>TE_End</th><th scope=col>TE_Subfamily</th><th scope=col>TE_Family</th><th scope=col>Overlap</th><th scope=col>Geno</th></tr>\n",
       "\t<tr><th scope=col>&lt;chr&gt;</th><th scope=col>&lt;int&gt;</th><th scope=col>&lt;int&gt;</th><th scope=col>&lt;chr&gt;</th><th scope=col>&lt;int&gt;</th><th scope=col>&lt;int&gt;</th><th scope=col>&lt;chr&gt;</th><th scope=col>&lt;chr&gt;</th><th scope=col>&lt;int&gt;</th><th scope=col>&lt;chr&gt;</th></tr>\n",
       "</thead>\n",
       "<tbody>\n",
       "\t<tr><td>16</td><td>  5176024</td><td>  5176220</td><td>16</td><td>  5176171</td><td>  5176652</td><td>RLTR50B    </td><td>ERVK     </td><td> 49</td><td>TCKO</td></tr>\n",
       "\t<tr><td>16</td><td>  9705142</td><td>  9705337</td><td>16</td><td>  9705129</td><td>  9705384</td><td>ORR1F      </td><td>ERVL-MaLR</td><td>195</td><td>TCKO</td></tr>\n",
       "\t<tr><td>16</td><td> 17218220</td><td> 17218493</td><td>16</td><td> 17218429</td><td> 17218574</td><td>MER68B     </td><td>ERVL     </td><td> 64</td><td>TCKO</td></tr>\n",
       "\t<tr><td>16</td><td> 21396921</td><td> 21397325</td><td>16</td><td> 21396405</td><td> 21397275</td><td>RMER17B    </td><td>ERVK     </td><td>354</td><td>TCKO</td></tr>\n",
       "\t<tr><td>16</td><td> 32007292</td><td> 32007542</td><td>16</td><td> 32007461</td><td> 32007853</td><td>RLTR18B    </td><td>ERVK     </td><td> 81</td><td>TCKO</td></tr>\n",
       "\t<tr><td>16</td><td> 34775387</td><td> 34776139</td><td>16</td><td> 34775407</td><td> 34775775</td><td>ORR1D1     </td><td>ERVL-MaLR</td><td>368</td><td>TCKO</td></tr>\n",
       "\t<tr><td>16</td><td> 42412594</td><td> 42412731</td><td>16</td><td> 42412625</td><td> 42413158</td><td>RMER15     </td><td>ERVL     </td><td>106</td><td>TCKO</td></tr>\n",
       "\t<tr><td>16</td><td> 49307171</td><td> 49307341</td><td>16</td><td> 49305451</td><td> 49308202</td><td>IAPEz-int  </td><td>ERVK     </td><td>170</td><td>TCKO</td></tr>\n",
       "\t<tr><td>16</td><td> 89263345</td><td> 89263510</td><td>16</td><td> 89263013</td><td> 89263548</td><td>RLTR20C2_MM</td><td>ERVK     </td><td>165</td><td>TCKO</td></tr>\n",
       "\t<tr><td>16</td><td> 94504353</td><td> 94504821</td><td>16</td><td> 94504478</td><td> 94504613</td><td>RMER15     </td><td>ERVL     </td><td>135</td><td>TCKO</td></tr>\n",
       "\t<tr><td>16</td><td> 97112591</td><td> 97113039</td><td>16</td><td> 97112848</td><td> 97113340</td><td>RMER10A    </td><td>ERVL     </td><td>191</td><td>TCKO</td></tr>\n",
       "\t<tr><td>14</td><td>  3837518</td><td>  3837694</td><td>14</td><td>  3837494</td><td>  3837605</td><td>RLTR17B_Mm </td><td>ERVK     </td><td> 87</td><td>TCKO</td></tr>\n",
       "\t<tr><td>14</td><td> 10396118</td><td> 10396311</td><td>14</td><td> 10396268</td><td> 10396543</td><td>MTE2a      </td><td>ERVL-MaLR</td><td> 43</td><td>TCKO</td></tr>\n",
       "\t<tr><td>14</td><td> 28511000</td><td> 28511147</td><td>14</td><td> 28510910</td><td> 28511303</td><td>MTA_Mm     </td><td>ERVL-MaLR</td><td>147</td><td>TCKO</td></tr>\n",
       "\t<tr><td>14</td><td> 31466861</td><td> 31467053</td><td>14</td><td> 31466621</td><td> 31467017</td><td>MTC        </td><td>ERVL-MaLR</td><td>156</td><td>TCKO</td></tr>\n",
       "\t<tr><td>14</td><td> 42586884</td><td> 42587052</td><td>14</td><td> 42586933</td><td> 42586990</td><td>RLTR20A4   </td><td>ERVK     </td><td> 57</td><td>TCKO</td></tr>\n",
       "\t<tr><td>14</td><td> 43907517</td><td> 43907759</td><td>14</td><td> 43907511</td><td> 43907838</td><td>ORR1C1     </td><td>ERVL-MaLR</td><td>242</td><td>TCKO</td></tr>\n",
       "\t<tr><td>14</td><td> 48402764</td><td> 48403037</td><td>14</td><td> 48402754</td><td> 48402840</td><td>MLT1C2     </td><td>ERVL-MaLR</td><td> 76</td><td>TCKO</td></tr>\n",
       "\t<tr><td>14</td><td> 48961948</td><td> 48962245</td><td>14</td><td> 48961662</td><td> 48962169</td><td>MLTR11B    </td><td>ERVK     </td><td>221</td><td>TCKO</td></tr>\n",
       "\t<tr><td>14</td><td> 51498141</td><td> 51498346</td><td>14</td><td> 51498195</td><td> 51498496</td><td>ORR1G      </td><td>ERVL-MaLR</td><td>151</td><td>TCKO</td></tr>\n",
       "\t<tr><td>14</td><td> 51812603</td><td> 51812763</td><td>14</td><td> 51811881</td><td> 51813006</td><td>RLTR14-int </td><td>ERV1     </td><td>160</td><td>TCKO</td></tr>\n",
       "\t<tr><td>14</td><td> 74182554</td><td> 74182709</td><td>14</td><td> 74182618</td><td> 74182675</td><td>RLTR20A4   </td><td>ERVK     </td><td> 57</td><td>TCKO</td></tr>\n",
       "\t<tr><td>14</td><td> 77422590</td><td> 77422803</td><td>14</td><td> 77422755</td><td> 77422954</td><td>MLT1H      </td><td>ERVL-MaLR</td><td> 48</td><td>TCKO</td></tr>\n",
       "\t<tr><td>14</td><td> 92270182</td><td> 92270318</td><td>14</td><td> 92270107</td><td> 92270384</td><td>IAPEz-int  </td><td>ERVK     </td><td>136</td><td>TCKO</td></tr>\n",
       "\t<tr><td>14</td><td>103590541</td><td>103590781</td><td>14</td><td>103590731</td><td>103590864</td><td>ORR1B1-int </td><td>ERVL-MaLR</td><td> 50</td><td>TCKO</td></tr>\n",
       "\t<tr><td>3 </td><td> 19643246</td><td> 19643397</td><td>3 </td><td> 19643281</td><td> 19643609</td><td>ORR1A2     </td><td>ERVL-MaLR</td><td>116</td><td>TCKO</td></tr>\n",
       "\t<tr><td>3 </td><td> 41252727</td><td> 41252929</td><td>3 </td><td> 41252712</td><td> 41253077</td><td>MTD        </td><td>ERVL-MaLR</td><td>202</td><td>TCKO</td></tr>\n",
       "\t<tr><td>3 </td><td> 52121375</td><td> 52121688</td><td>3 </td><td> 52121503</td><td> 52121799</td><td>MLT1A      </td><td>ERVL-MaLR</td><td>185</td><td>TCKO</td></tr>\n",
       "\t<tr><td>3 </td><td> 53724487</td><td> 53724587</td><td>3 </td><td> 53724376</td><td> 53725151</td><td>RMER17A    </td><td>ERVK     </td><td>100</td><td>TCKO</td></tr>\n",
       "\t<tr><td>3 </td><td> 82820174</td><td> 82820344</td><td>3 </td><td> 82819731</td><td> 82820251</td><td>RLTR11A2   </td><td>ERVK     </td><td> 77</td><td>TCKO</td></tr>\n",
       "\t<tr><td>⋮</td><td>⋮</td><td>⋮</td><td>⋮</td><td>⋮</td><td>⋮</td><td>⋮</td><td>⋮</td><td>⋮</td><td>⋮</td></tr>\n",
       "\t<tr><td>18</td><td>60073968</td><td>60074387</td><td>18</td><td>60074204</td><td>60074572</td><td>MTA_Mm      </td><td>ERVL-MaLR</td><td>183</td><td>TCKO</td></tr>\n",
       "\t<tr><td>18</td><td>60075006</td><td>60075243</td><td>18</td><td>60075033</td><td>60075092</td><td>MERV1_I     </td><td>ERV1     </td><td> 59</td><td>TCKO</td></tr>\n",
       "\t<tr><td>18</td><td>60075006</td><td>60075243</td><td>18</td><td>60075093</td><td>60076089</td><td>RLTR4_MM-int</td><td>LTR      </td><td>150</td><td>TCKO</td></tr>\n",
       "\t<tr><td>18</td><td>61801217</td><td>61801333</td><td>18</td><td>61800949</td><td>61801301</td><td>MTB         </td><td>ERVL-MaLR</td><td> 84</td><td>TCKO</td></tr>\n",
       "\t<tr><td>18</td><td>62836255</td><td>62836442</td><td>18</td><td>62836364</td><td>62836733</td><td>ORR1D1      </td><td>ERVL-MaLR</td><td> 78</td><td>TCKO</td></tr>\n",
       "\t<tr><td>18</td><td>63023846</td><td>63024059</td><td>18</td><td>63023869</td><td>63024113</td><td>RLTR20A4    </td><td>ERVK     </td><td>190</td><td>TCKO</td></tr>\n",
       "\t<tr><td>18</td><td>64189201</td><td>64189336</td><td>18</td><td>64189053</td><td>64189358</td><td>ORR1A3      </td><td>ERVL-MaLR</td><td>135</td><td>TCKO</td></tr>\n",
       "\t<tr><td>18</td><td>68736949</td><td>68737135</td><td>18</td><td>68736836</td><td>68736994</td><td>ORR1C2      </td><td>ERVL-MaLR</td><td> 45</td><td>TCKO</td></tr>\n",
       "\t<tr><td>18</td><td>70021229</td><td>70021423</td><td>18</td><td>70021312</td><td>70021401</td><td>RLTR17B_Mm  </td><td>ERVK     </td><td> 89</td><td>TCKO</td></tr>\n",
       "\t<tr><td>18</td><td>70021229</td><td>70021423</td><td>18</td><td>70021316</td><td>70021420</td><td>RLTR17B_Mm  </td><td>ERVK     </td><td>104</td><td>TCKO</td></tr>\n",
       "\t<tr><td>18</td><td>70517662</td><td>70517771</td><td>18</td><td>70517510</td><td>70517827</td><td>ORR1A2      </td><td>ERVL-MaLR</td><td>109</td><td>TCKO</td></tr>\n",
       "\t<tr><td>18</td><td>70552139</td><td>70552307</td><td>18</td><td>70552159</td><td>70552465</td><td>MTD         </td><td>ERVL-MaLR</td><td>148</td><td>TCKO</td></tr>\n",
       "\t<tr><td>18</td><td>72452349</td><td>72452604</td><td>18</td><td>72452357</td><td>72452483</td><td>RLTR17B_Mm  </td><td>ERVK     </td><td>126</td><td>TCKO</td></tr>\n",
       "\t<tr><td>18</td><td>72452349</td><td>72452604</td><td>18</td><td>72452517</td><td>72452594</td><td>RLTR17B_Mm  </td><td>ERVK     </td><td> 77</td><td>TCKO</td></tr>\n",
       "\t<tr><td>18</td><td>73290604</td><td>73290773</td><td>18</td><td>73290579</td><td>73290987</td><td>MLTR11A     </td><td>ERVK     </td><td>169</td><td>TCKO</td></tr>\n",
       "\t<tr><td>18</td><td>74041007</td><td>74041277</td><td>18</td><td>74040870</td><td>74041145</td><td>ORR1G       </td><td>ERVL-MaLR</td><td>138</td><td>TCKO</td></tr>\n",
       "\t<tr><td>18</td><td>74041007</td><td>74041277</td><td>18</td><td>74041189</td><td>74041358</td><td>MER57E1     </td><td>ERV1     </td><td> 88</td><td>TCKO</td></tr>\n",
       "\t<tr><td>18</td><td>74979108</td><td>74979394</td><td>18</td><td>74978955</td><td>74979407</td><td>MLT2B2      </td><td>ERVL     </td><td>286</td><td>TCKO</td></tr>\n",
       "\t<tr><td>18</td><td>76764140</td><td>76764345</td><td>18</td><td>76764275</td><td>76764514</td><td>ORR1G       </td><td>ERVL-MaLR</td><td> 70</td><td>TCKO</td></tr>\n",
       "\t<tr><td>18</td><td>77323496</td><td>77323910</td><td>18</td><td>77323649</td><td>77323803</td><td>MLT1B       </td><td>ERVL-MaLR</td><td>154</td><td>TCKO</td></tr>\n",
       "\t<tr><td>18</td><td>77451747</td><td>77452062</td><td>18</td><td>77451880</td><td>77452357</td><td>MER67A      </td><td>ERV1     </td><td>182</td><td>TCKO</td></tr>\n",
       "\t<tr><td>18</td><td>78513112</td><td>78513248</td><td>18</td><td>78513118</td><td>78513456</td><td>MER21C      </td><td>ERVL     </td><td>130</td><td>TCKO</td></tr>\n",
       "\t<tr><td>18</td><td>80010628</td><td>80011027</td><td>18</td><td>80010630</td><td>80010721</td><td>RLTR20C2_MM </td><td>ERVK     </td><td> 91</td><td>TCKO</td></tr>\n",
       "\t<tr><td>18</td><td>80010628</td><td>80011027</td><td>18</td><td>80010699</td><td>80010902</td><td>RLTR17B_Mm  </td><td>ERVK     </td><td>203</td><td>TCKO</td></tr>\n",
       "\t<tr><td>18</td><td>80705674</td><td>80705969</td><td>18</td><td>80705684</td><td>80705899</td><td>RLTR17B_Mm  </td><td>ERVK     </td><td>215</td><td>TCKO</td></tr>\n",
       "\t<tr><td>18</td><td>80730340</td><td>80730779</td><td>18</td><td>80730387</td><td>80730476</td><td>RLTR17B_Mm  </td><td>ERVK     </td><td> 89</td><td>TCKO</td></tr>\n",
       "\t<tr><td>18</td><td>81397565</td><td>81397803</td><td>18</td><td>81397665</td><td>81397854</td><td>RLTR17B_Mm  </td><td>ERVK     </td><td>138</td><td>TCKO</td></tr>\n",
       "\t<tr><td>18</td><td>86338769</td><td>86339106</td><td>18</td><td>86338835</td><td>86338974</td><td>RMER4B      </td><td>ERVK     </td><td>139</td><td>TCKO</td></tr>\n",
       "\t<tr><td>18</td><td>86338769</td><td>86339106</td><td>18</td><td>86338974</td><td>86339168</td><td>MTC         </td><td>ERVL-MaLR</td><td>132</td><td>TCKO</td></tr>\n",
       "\t<tr><td>18</td><td>87670175</td><td>87670338</td><td>18</td><td>87670132</td><td>87670269</td><td>RLTR17B_Mm  </td><td>ERVK     </td><td> 94</td><td>TCKO</td></tr>\n",
       "</tbody>\n",
       "</table>\n"
      ],
      "text/latex": [
       "A data.frame: 1911 × 10\n",
       "\\begin{tabular}{llllllllll}\n",
       " Chm & Start & End & TE\\_Chr & TE\\_Start & TE\\_End & TE\\_Subfamily & TE\\_Family & Overlap & Geno\\\\\n",
       " <chr> & <int> & <int> & <chr> & <int> & <int> & <chr> & <chr> & <int> & <chr>\\\\\n",
       "\\hline\n",
       "\t 16 &   5176024 &   5176220 & 16 &   5176171 &   5176652 & RLTR50B     & ERVK      &  49 & TCKO\\\\\n",
       "\t 16 &   9705142 &   9705337 & 16 &   9705129 &   9705384 & ORR1F       & ERVL-MaLR & 195 & TCKO\\\\\n",
       "\t 16 &  17218220 &  17218493 & 16 &  17218429 &  17218574 & MER68B      & ERVL      &  64 & TCKO\\\\\n",
       "\t 16 &  21396921 &  21397325 & 16 &  21396405 &  21397275 & RMER17B     & ERVK      & 354 & TCKO\\\\\n",
       "\t 16 &  32007292 &  32007542 & 16 &  32007461 &  32007853 & RLTR18B     & ERVK      &  81 & TCKO\\\\\n",
       "\t 16 &  34775387 &  34776139 & 16 &  34775407 &  34775775 & ORR1D1      & ERVL-MaLR & 368 & TCKO\\\\\n",
       "\t 16 &  42412594 &  42412731 & 16 &  42412625 &  42413158 & RMER15      & ERVL      & 106 & TCKO\\\\\n",
       "\t 16 &  49307171 &  49307341 & 16 &  49305451 &  49308202 & IAPEz-int   & ERVK      & 170 & TCKO\\\\\n",
       "\t 16 &  89263345 &  89263510 & 16 &  89263013 &  89263548 & RLTR20C2\\_MM & ERVK      & 165 & TCKO\\\\\n",
       "\t 16 &  94504353 &  94504821 & 16 &  94504478 &  94504613 & RMER15      & ERVL      & 135 & TCKO\\\\\n",
       "\t 16 &  97112591 &  97113039 & 16 &  97112848 &  97113340 & RMER10A     & ERVL      & 191 & TCKO\\\\\n",
       "\t 14 &   3837518 &   3837694 & 14 &   3837494 &   3837605 & RLTR17B\\_Mm  & ERVK      &  87 & TCKO\\\\\n",
       "\t 14 &  10396118 &  10396311 & 14 &  10396268 &  10396543 & MTE2a       & ERVL-MaLR &  43 & TCKO\\\\\n",
       "\t 14 &  28511000 &  28511147 & 14 &  28510910 &  28511303 & MTA\\_Mm      & ERVL-MaLR & 147 & TCKO\\\\\n",
       "\t 14 &  31466861 &  31467053 & 14 &  31466621 &  31467017 & MTC         & ERVL-MaLR & 156 & TCKO\\\\\n",
       "\t 14 &  42586884 &  42587052 & 14 &  42586933 &  42586990 & RLTR20A4    & ERVK      &  57 & TCKO\\\\\n",
       "\t 14 &  43907517 &  43907759 & 14 &  43907511 &  43907838 & ORR1C1      & ERVL-MaLR & 242 & TCKO\\\\\n",
       "\t 14 &  48402764 &  48403037 & 14 &  48402754 &  48402840 & MLT1C2      & ERVL-MaLR &  76 & TCKO\\\\\n",
       "\t 14 &  48961948 &  48962245 & 14 &  48961662 &  48962169 & MLTR11B     & ERVK      & 221 & TCKO\\\\\n",
       "\t 14 &  51498141 &  51498346 & 14 &  51498195 &  51498496 & ORR1G       & ERVL-MaLR & 151 & TCKO\\\\\n",
       "\t 14 &  51812603 &  51812763 & 14 &  51811881 &  51813006 & RLTR14-int  & ERV1      & 160 & TCKO\\\\\n",
       "\t 14 &  74182554 &  74182709 & 14 &  74182618 &  74182675 & RLTR20A4    & ERVK      &  57 & TCKO\\\\\n",
       "\t 14 &  77422590 &  77422803 & 14 &  77422755 &  77422954 & MLT1H       & ERVL-MaLR &  48 & TCKO\\\\\n",
       "\t 14 &  92270182 &  92270318 & 14 &  92270107 &  92270384 & IAPEz-int   & ERVK      & 136 & TCKO\\\\\n",
       "\t 14 & 103590541 & 103590781 & 14 & 103590731 & 103590864 & ORR1B1-int  & ERVL-MaLR &  50 & TCKO\\\\\n",
       "\t 3  &  19643246 &  19643397 & 3  &  19643281 &  19643609 & ORR1A2      & ERVL-MaLR & 116 & TCKO\\\\\n",
       "\t 3  &  41252727 &  41252929 & 3  &  41252712 &  41253077 & MTD         & ERVL-MaLR & 202 & TCKO\\\\\n",
       "\t 3  &  52121375 &  52121688 & 3  &  52121503 &  52121799 & MLT1A       & ERVL-MaLR & 185 & TCKO\\\\\n",
       "\t 3  &  53724487 &  53724587 & 3  &  53724376 &  53725151 & RMER17A     & ERVK      & 100 & TCKO\\\\\n",
       "\t 3  &  82820174 &  82820344 & 3  &  82819731 &  82820251 & RLTR11A2    & ERVK      &  77 & TCKO\\\\\n",
       "\t ⋮ & ⋮ & ⋮ & ⋮ & ⋮ & ⋮ & ⋮ & ⋮ & ⋮ & ⋮\\\\\n",
       "\t 18 & 60073968 & 60074387 & 18 & 60074204 & 60074572 & MTA\\_Mm       & ERVL-MaLR & 183 & TCKO\\\\\n",
       "\t 18 & 60075006 & 60075243 & 18 & 60075033 & 60075092 & MERV1\\_I      & ERV1      &  59 & TCKO\\\\\n",
       "\t 18 & 60075006 & 60075243 & 18 & 60075093 & 60076089 & RLTR4\\_MM-int & LTR       & 150 & TCKO\\\\\n",
       "\t 18 & 61801217 & 61801333 & 18 & 61800949 & 61801301 & MTB          & ERVL-MaLR &  84 & TCKO\\\\\n",
       "\t 18 & 62836255 & 62836442 & 18 & 62836364 & 62836733 & ORR1D1       & ERVL-MaLR &  78 & TCKO\\\\\n",
       "\t 18 & 63023846 & 63024059 & 18 & 63023869 & 63024113 & RLTR20A4     & ERVK      & 190 & TCKO\\\\\n",
       "\t 18 & 64189201 & 64189336 & 18 & 64189053 & 64189358 & ORR1A3       & ERVL-MaLR & 135 & TCKO\\\\\n",
       "\t 18 & 68736949 & 68737135 & 18 & 68736836 & 68736994 & ORR1C2       & ERVL-MaLR &  45 & TCKO\\\\\n",
       "\t 18 & 70021229 & 70021423 & 18 & 70021312 & 70021401 & RLTR17B\\_Mm   & ERVK      &  89 & TCKO\\\\\n",
       "\t 18 & 70021229 & 70021423 & 18 & 70021316 & 70021420 & RLTR17B\\_Mm   & ERVK      & 104 & TCKO\\\\\n",
       "\t 18 & 70517662 & 70517771 & 18 & 70517510 & 70517827 & ORR1A2       & ERVL-MaLR & 109 & TCKO\\\\\n",
       "\t 18 & 70552139 & 70552307 & 18 & 70552159 & 70552465 & MTD          & ERVL-MaLR & 148 & TCKO\\\\\n",
       "\t 18 & 72452349 & 72452604 & 18 & 72452357 & 72452483 & RLTR17B\\_Mm   & ERVK      & 126 & TCKO\\\\\n",
       "\t 18 & 72452349 & 72452604 & 18 & 72452517 & 72452594 & RLTR17B\\_Mm   & ERVK      &  77 & TCKO\\\\\n",
       "\t 18 & 73290604 & 73290773 & 18 & 73290579 & 73290987 & MLTR11A      & ERVK      & 169 & TCKO\\\\\n",
       "\t 18 & 74041007 & 74041277 & 18 & 74040870 & 74041145 & ORR1G        & ERVL-MaLR & 138 & TCKO\\\\\n",
       "\t 18 & 74041007 & 74041277 & 18 & 74041189 & 74041358 & MER57E1      & ERV1      &  88 & TCKO\\\\\n",
       "\t 18 & 74979108 & 74979394 & 18 & 74978955 & 74979407 & MLT2B2       & ERVL      & 286 & TCKO\\\\\n",
       "\t 18 & 76764140 & 76764345 & 18 & 76764275 & 76764514 & ORR1G        & ERVL-MaLR &  70 & TCKO\\\\\n",
       "\t 18 & 77323496 & 77323910 & 18 & 77323649 & 77323803 & MLT1B        & ERVL-MaLR & 154 & TCKO\\\\\n",
       "\t 18 & 77451747 & 77452062 & 18 & 77451880 & 77452357 & MER67A       & ERV1      & 182 & TCKO\\\\\n",
       "\t 18 & 78513112 & 78513248 & 18 & 78513118 & 78513456 & MER21C       & ERVL      & 130 & TCKO\\\\\n",
       "\t 18 & 80010628 & 80011027 & 18 & 80010630 & 80010721 & RLTR20C2\\_MM  & ERVK      &  91 & TCKO\\\\\n",
       "\t 18 & 80010628 & 80011027 & 18 & 80010699 & 80010902 & RLTR17B\\_Mm   & ERVK      & 203 & TCKO\\\\\n",
       "\t 18 & 80705674 & 80705969 & 18 & 80705684 & 80705899 & RLTR17B\\_Mm   & ERVK      & 215 & TCKO\\\\\n",
       "\t 18 & 80730340 & 80730779 & 18 & 80730387 & 80730476 & RLTR17B\\_Mm   & ERVK      &  89 & TCKO\\\\\n",
       "\t 18 & 81397565 & 81397803 & 18 & 81397665 & 81397854 & RLTR17B\\_Mm   & ERVK      & 138 & TCKO\\\\\n",
       "\t 18 & 86338769 & 86339106 & 18 & 86338835 & 86338974 & RMER4B       & ERVK      & 139 & TCKO\\\\\n",
       "\t 18 & 86338769 & 86339106 & 18 & 86338974 & 86339168 & MTC          & ERVL-MaLR & 132 & TCKO\\\\\n",
       "\t 18 & 87670175 & 87670338 & 18 & 87670132 & 87670269 & RLTR17B\\_Mm   & ERVK      &  94 & TCKO\\\\\n",
       "\\end{tabular}\n"
      ],
      "text/markdown": [
       "\n",
       "A data.frame: 1911 × 10\n",
       "\n",
       "| Chm &lt;chr&gt; | Start &lt;int&gt; | End &lt;int&gt; | TE_Chr &lt;chr&gt; | TE_Start &lt;int&gt; | TE_End &lt;int&gt; | TE_Subfamily &lt;chr&gt; | TE_Family &lt;chr&gt; | Overlap &lt;int&gt; | Geno &lt;chr&gt; |\n",
       "|---|---|---|---|---|---|---|---|---|---|\n",
       "| 16 |   5176024 |   5176220 | 16 |   5176171 |   5176652 | RLTR50B     | ERVK      |  49 | TCKO |\n",
       "| 16 |   9705142 |   9705337 | 16 |   9705129 |   9705384 | ORR1F       | ERVL-MaLR | 195 | TCKO |\n",
       "| 16 |  17218220 |  17218493 | 16 |  17218429 |  17218574 | MER68B      | ERVL      |  64 | TCKO |\n",
       "| 16 |  21396921 |  21397325 | 16 |  21396405 |  21397275 | RMER17B     | ERVK      | 354 | TCKO |\n",
       "| 16 |  32007292 |  32007542 | 16 |  32007461 |  32007853 | RLTR18B     | ERVK      |  81 | TCKO |\n",
       "| 16 |  34775387 |  34776139 | 16 |  34775407 |  34775775 | ORR1D1      | ERVL-MaLR | 368 | TCKO |\n",
       "| 16 |  42412594 |  42412731 | 16 |  42412625 |  42413158 | RMER15      | ERVL      | 106 | TCKO |\n",
       "| 16 |  49307171 |  49307341 | 16 |  49305451 |  49308202 | IAPEz-int   | ERVK      | 170 | TCKO |\n",
       "| 16 |  89263345 |  89263510 | 16 |  89263013 |  89263548 | RLTR20C2_MM | ERVK      | 165 | TCKO |\n",
       "| 16 |  94504353 |  94504821 | 16 |  94504478 |  94504613 | RMER15      | ERVL      | 135 | TCKO |\n",
       "| 16 |  97112591 |  97113039 | 16 |  97112848 |  97113340 | RMER10A     | ERVL      | 191 | TCKO |\n",
       "| 14 |   3837518 |   3837694 | 14 |   3837494 |   3837605 | RLTR17B_Mm  | ERVK      |  87 | TCKO |\n",
       "| 14 |  10396118 |  10396311 | 14 |  10396268 |  10396543 | MTE2a       | ERVL-MaLR |  43 | TCKO |\n",
       "| 14 |  28511000 |  28511147 | 14 |  28510910 |  28511303 | MTA_Mm      | ERVL-MaLR | 147 | TCKO |\n",
       "| 14 |  31466861 |  31467053 | 14 |  31466621 |  31467017 | MTC         | ERVL-MaLR | 156 | TCKO |\n",
       "| 14 |  42586884 |  42587052 | 14 |  42586933 |  42586990 | RLTR20A4    | ERVK      |  57 | TCKO |\n",
       "| 14 |  43907517 |  43907759 | 14 |  43907511 |  43907838 | ORR1C1      | ERVL-MaLR | 242 | TCKO |\n",
       "| 14 |  48402764 |  48403037 | 14 |  48402754 |  48402840 | MLT1C2      | ERVL-MaLR |  76 | TCKO |\n",
       "| 14 |  48961948 |  48962245 | 14 |  48961662 |  48962169 | MLTR11B     | ERVK      | 221 | TCKO |\n",
       "| 14 |  51498141 |  51498346 | 14 |  51498195 |  51498496 | ORR1G       | ERVL-MaLR | 151 | TCKO |\n",
       "| 14 |  51812603 |  51812763 | 14 |  51811881 |  51813006 | RLTR14-int  | ERV1      | 160 | TCKO |\n",
       "| 14 |  74182554 |  74182709 | 14 |  74182618 |  74182675 | RLTR20A4    | ERVK      |  57 | TCKO |\n",
       "| 14 |  77422590 |  77422803 | 14 |  77422755 |  77422954 | MLT1H       | ERVL-MaLR |  48 | TCKO |\n",
       "| 14 |  92270182 |  92270318 | 14 |  92270107 |  92270384 | IAPEz-int   | ERVK      | 136 | TCKO |\n",
       "| 14 | 103590541 | 103590781 | 14 | 103590731 | 103590864 | ORR1B1-int  | ERVL-MaLR |  50 | TCKO |\n",
       "| 3  |  19643246 |  19643397 | 3  |  19643281 |  19643609 | ORR1A2      | ERVL-MaLR | 116 | TCKO |\n",
       "| 3  |  41252727 |  41252929 | 3  |  41252712 |  41253077 | MTD         | ERVL-MaLR | 202 | TCKO |\n",
       "| 3  |  52121375 |  52121688 | 3  |  52121503 |  52121799 | MLT1A       | ERVL-MaLR | 185 | TCKO |\n",
       "| 3  |  53724487 |  53724587 | 3  |  53724376 |  53725151 | RMER17A     | ERVK      | 100 | TCKO |\n",
       "| 3  |  82820174 |  82820344 | 3  |  82819731 |  82820251 | RLTR11A2    | ERVK      |  77 | TCKO |\n",
       "| ⋮ | ⋮ | ⋮ | ⋮ | ⋮ | ⋮ | ⋮ | ⋮ | ⋮ | ⋮ |\n",
       "| 18 | 60073968 | 60074387 | 18 | 60074204 | 60074572 | MTA_Mm       | ERVL-MaLR | 183 | TCKO |\n",
       "| 18 | 60075006 | 60075243 | 18 | 60075033 | 60075092 | MERV1_I      | ERV1      |  59 | TCKO |\n",
       "| 18 | 60075006 | 60075243 | 18 | 60075093 | 60076089 | RLTR4_MM-int | LTR       | 150 | TCKO |\n",
       "| 18 | 61801217 | 61801333 | 18 | 61800949 | 61801301 | MTB          | ERVL-MaLR |  84 | TCKO |\n",
       "| 18 | 62836255 | 62836442 | 18 | 62836364 | 62836733 | ORR1D1       | ERVL-MaLR |  78 | TCKO |\n",
       "| 18 | 63023846 | 63024059 | 18 | 63023869 | 63024113 | RLTR20A4     | ERVK      | 190 | TCKO |\n",
       "| 18 | 64189201 | 64189336 | 18 | 64189053 | 64189358 | ORR1A3       | ERVL-MaLR | 135 | TCKO |\n",
       "| 18 | 68736949 | 68737135 | 18 | 68736836 | 68736994 | ORR1C2       | ERVL-MaLR |  45 | TCKO |\n",
       "| 18 | 70021229 | 70021423 | 18 | 70021312 | 70021401 | RLTR17B_Mm   | ERVK      |  89 | TCKO |\n",
       "| 18 | 70021229 | 70021423 | 18 | 70021316 | 70021420 | RLTR17B_Mm   | ERVK      | 104 | TCKO |\n",
       "| 18 | 70517662 | 70517771 | 18 | 70517510 | 70517827 | ORR1A2       | ERVL-MaLR | 109 | TCKO |\n",
       "| 18 | 70552139 | 70552307 | 18 | 70552159 | 70552465 | MTD          | ERVL-MaLR | 148 | TCKO |\n",
       "| 18 | 72452349 | 72452604 | 18 | 72452357 | 72452483 | RLTR17B_Mm   | ERVK      | 126 | TCKO |\n",
       "| 18 | 72452349 | 72452604 | 18 | 72452517 | 72452594 | RLTR17B_Mm   | ERVK      |  77 | TCKO |\n",
       "| 18 | 73290604 | 73290773 | 18 | 73290579 | 73290987 | MLTR11A      | ERVK      | 169 | TCKO |\n",
       "| 18 | 74041007 | 74041277 | 18 | 74040870 | 74041145 | ORR1G        | ERVL-MaLR | 138 | TCKO |\n",
       "| 18 | 74041007 | 74041277 | 18 | 74041189 | 74041358 | MER57E1      | ERV1      |  88 | TCKO |\n",
       "| 18 | 74979108 | 74979394 | 18 | 74978955 | 74979407 | MLT2B2       | ERVL      | 286 | TCKO |\n",
       "| 18 | 76764140 | 76764345 | 18 | 76764275 | 76764514 | ORR1G        | ERVL-MaLR |  70 | TCKO |\n",
       "| 18 | 77323496 | 77323910 | 18 | 77323649 | 77323803 | MLT1B        | ERVL-MaLR | 154 | TCKO |\n",
       "| 18 | 77451747 | 77452062 | 18 | 77451880 | 77452357 | MER67A       | ERV1      | 182 | TCKO |\n",
       "| 18 | 78513112 | 78513248 | 18 | 78513118 | 78513456 | MER21C       | ERVL      | 130 | TCKO |\n",
       "| 18 | 80010628 | 80011027 | 18 | 80010630 | 80010721 | RLTR20C2_MM  | ERVK      |  91 | TCKO |\n",
       "| 18 | 80010628 | 80011027 | 18 | 80010699 | 80010902 | RLTR17B_Mm   | ERVK      | 203 | TCKO |\n",
       "| 18 | 80705674 | 80705969 | 18 | 80705684 | 80705899 | RLTR17B_Mm   | ERVK      | 215 | TCKO |\n",
       "| 18 | 80730340 | 80730779 | 18 | 80730387 | 80730476 | RLTR17B_Mm   | ERVK      |  89 | TCKO |\n",
       "| 18 | 81397565 | 81397803 | 18 | 81397665 | 81397854 | RLTR17B_Mm   | ERVK      | 138 | TCKO |\n",
       "| 18 | 86338769 | 86339106 | 18 | 86338835 | 86338974 | RMER4B       | ERVK      | 139 | TCKO |\n",
       "| 18 | 86338769 | 86339106 | 18 | 86338974 | 86339168 | MTC          | ERVL-MaLR | 132 | TCKO |\n",
       "| 18 | 87670175 | 87670338 | 18 | 87670132 | 87670269 | RLTR17B_Mm   | ERVK      |  94 | TCKO |\n",
       "\n"
      ],
      "text/plain": [
       "     Chm Start     End       TE_Chr TE_Start  TE_End    TE_Subfamily TE_Family\n",
       "1    16    5176024   5176220 16       5176171   5176652 RLTR50B      ERVK     \n",
       "2    16    9705142   9705337 16       9705129   9705384 ORR1F        ERVL-MaLR\n",
       "3    16   17218220  17218493 16      17218429  17218574 MER68B       ERVL     \n",
       "4    16   21396921  21397325 16      21396405  21397275 RMER17B      ERVK     \n",
       "5    16   32007292  32007542 16      32007461  32007853 RLTR18B      ERVK     \n",
       "6    16   34775387  34776139 16      34775407  34775775 ORR1D1       ERVL-MaLR\n",
       "7    16   42412594  42412731 16      42412625  42413158 RMER15       ERVL     \n",
       "8    16   49307171  49307341 16      49305451  49308202 IAPEz-int    ERVK     \n",
       "9    16   89263345  89263510 16      89263013  89263548 RLTR20C2_MM  ERVK     \n",
       "10   16   94504353  94504821 16      94504478  94504613 RMER15       ERVL     \n",
       "11   16   97112591  97113039 16      97112848  97113340 RMER10A      ERVL     \n",
       "12   14    3837518   3837694 14       3837494   3837605 RLTR17B_Mm   ERVK     \n",
       "13   14   10396118  10396311 14      10396268  10396543 MTE2a        ERVL-MaLR\n",
       "14   14   28511000  28511147 14      28510910  28511303 MTA_Mm       ERVL-MaLR\n",
       "15   14   31466861  31467053 14      31466621  31467017 MTC          ERVL-MaLR\n",
       "16   14   42586884  42587052 14      42586933  42586990 RLTR20A4     ERVK     \n",
       "17   14   43907517  43907759 14      43907511  43907838 ORR1C1       ERVL-MaLR\n",
       "18   14   48402764  48403037 14      48402754  48402840 MLT1C2       ERVL-MaLR\n",
       "19   14   48961948  48962245 14      48961662  48962169 MLTR11B      ERVK     \n",
       "20   14   51498141  51498346 14      51498195  51498496 ORR1G        ERVL-MaLR\n",
       "21   14   51812603  51812763 14      51811881  51813006 RLTR14-int   ERV1     \n",
       "22   14   74182554  74182709 14      74182618  74182675 RLTR20A4     ERVK     \n",
       "23   14   77422590  77422803 14      77422755  77422954 MLT1H        ERVL-MaLR\n",
       "24   14   92270182  92270318 14      92270107  92270384 IAPEz-int    ERVK     \n",
       "25   14  103590541 103590781 14     103590731 103590864 ORR1B1-int   ERVL-MaLR\n",
       "26   3    19643246  19643397 3       19643281  19643609 ORR1A2       ERVL-MaLR\n",
       "27   3    41252727  41252929 3       41252712  41253077 MTD          ERVL-MaLR\n",
       "28   3    52121375  52121688 3       52121503  52121799 MLT1A        ERVL-MaLR\n",
       "29   3    53724487  53724587 3       53724376  53725151 RMER17A      ERVK     \n",
       "30   3    82820174  82820344 3       82819731  82820251 RLTR11A2     ERVK     \n",
       "⋮    ⋮   ⋮         ⋮         ⋮      ⋮         ⋮         ⋮            ⋮        \n",
       "1882 18  60073968  60074387  18     60074204  60074572  MTA_Mm       ERVL-MaLR\n",
       "1883 18  60075006  60075243  18     60075033  60075092  MERV1_I      ERV1     \n",
       "1884 18  60075006  60075243  18     60075093  60076089  RLTR4_MM-int LTR      \n",
       "1885 18  61801217  61801333  18     61800949  61801301  MTB          ERVL-MaLR\n",
       "1886 18  62836255  62836442  18     62836364  62836733  ORR1D1       ERVL-MaLR\n",
       "1887 18  63023846  63024059  18     63023869  63024113  RLTR20A4     ERVK     \n",
       "1888 18  64189201  64189336  18     64189053  64189358  ORR1A3       ERVL-MaLR\n",
       "1889 18  68736949  68737135  18     68736836  68736994  ORR1C2       ERVL-MaLR\n",
       "1890 18  70021229  70021423  18     70021312  70021401  RLTR17B_Mm   ERVK     \n",
       "1891 18  70021229  70021423  18     70021316  70021420  RLTR17B_Mm   ERVK     \n",
       "1892 18  70517662  70517771  18     70517510  70517827  ORR1A2       ERVL-MaLR\n",
       "1893 18  70552139  70552307  18     70552159  70552465  MTD          ERVL-MaLR\n",
       "1894 18  72452349  72452604  18     72452357  72452483  RLTR17B_Mm   ERVK     \n",
       "1895 18  72452349  72452604  18     72452517  72452594  RLTR17B_Mm   ERVK     \n",
       "1896 18  73290604  73290773  18     73290579  73290987  MLTR11A      ERVK     \n",
       "1897 18  74041007  74041277  18     74040870  74041145  ORR1G        ERVL-MaLR\n",
       "1898 18  74041007  74041277  18     74041189  74041358  MER57E1      ERV1     \n",
       "1899 18  74979108  74979394  18     74978955  74979407  MLT2B2       ERVL     \n",
       "1900 18  76764140  76764345  18     76764275  76764514  ORR1G        ERVL-MaLR\n",
       "1901 18  77323496  77323910  18     77323649  77323803  MLT1B        ERVL-MaLR\n",
       "1902 18  77451747  77452062  18     77451880  77452357  MER67A       ERV1     \n",
       "1903 18  78513112  78513248  18     78513118  78513456  MER21C       ERVL     \n",
       "1904 18  80010628  80011027  18     80010630  80010721  RLTR20C2_MM  ERVK     \n",
       "1905 18  80010628  80011027  18     80010699  80010902  RLTR17B_Mm   ERVK     \n",
       "1906 18  80705674  80705969  18     80705684  80705899  RLTR17B_Mm   ERVK     \n",
       "1907 18  80730340  80730779  18     80730387  80730476  RLTR17B_Mm   ERVK     \n",
       "1908 18  81397565  81397803  18     81397665  81397854  RLTR17B_Mm   ERVK     \n",
       "1909 18  86338769  86339106  18     86338835  86338974  RMER4B       ERVK     \n",
       "1910 18  86338769  86339106  18     86338974  86339168  MTC          ERVL-MaLR\n",
       "1911 18  87670175  87670338  18     87670132  87670269  RLTR17B_Mm   ERVK     \n",
       "     Overlap Geno\n",
       "1     49     TCKO\n",
       "2    195     TCKO\n",
       "3     64     TCKO\n",
       "4    354     TCKO\n",
       "5     81     TCKO\n",
       "6    368     TCKO\n",
       "7    106     TCKO\n",
       "8    170     TCKO\n",
       "9    165     TCKO\n",
       "10   135     TCKO\n",
       "11   191     TCKO\n",
       "12    87     TCKO\n",
       "13    43     TCKO\n",
       "14   147     TCKO\n",
       "15   156     TCKO\n",
       "16    57     TCKO\n",
       "17   242     TCKO\n",
       "18    76     TCKO\n",
       "19   221     TCKO\n",
       "20   151     TCKO\n",
       "21   160     TCKO\n",
       "22    57     TCKO\n",
       "23    48     TCKO\n",
       "24   136     TCKO\n",
       "25    50     TCKO\n",
       "26   116     TCKO\n",
       "27   202     TCKO\n",
       "28   185     TCKO\n",
       "29   100     TCKO\n",
       "30    77     TCKO\n",
       "⋮    ⋮       ⋮   \n",
       "1882 183     TCKO\n",
       "1883  59     TCKO\n",
       "1884 150     TCKO\n",
       "1885  84     TCKO\n",
       "1886  78     TCKO\n",
       "1887 190     TCKO\n",
       "1888 135     TCKO\n",
       "1889  45     TCKO\n",
       "1890  89     TCKO\n",
       "1891 104     TCKO\n",
       "1892 109     TCKO\n",
       "1893 148     TCKO\n",
       "1894 126     TCKO\n",
       "1895  77     TCKO\n",
       "1896 169     TCKO\n",
       "1897 138     TCKO\n",
       "1898  88     TCKO\n",
       "1899 286     TCKO\n",
       "1900  70     TCKO\n",
       "1901 154     TCKO\n",
       "1902 182     TCKO\n",
       "1903 130     TCKO\n",
       "1904  91     TCKO\n",
       "1905 203     TCKO\n",
       "1906 215     TCKO\n",
       "1907  89     TCKO\n",
       "1908 138     TCKO\n",
       "1909 139     TCKO\n",
       "1910 132     TCKO\n",
       "1911  94     TCKO"
      ]
     },
     "metadata": {},
     "output_type": "display_data"
    }
   ],
   "source": [
    "TRIM28_E105_Muts_Male <- do.call(\"rbind\", list(E105_MWT_MMUT_only, E105_MMUT_only))\n",
    "nrow(TRIM28_E105_Muts_Male)\n",
    "TRIM28_E105_Muts_Male <- distinct(TRIM28_E105_Muts_Male, TE_Start, .keep_all = T)\n",
    "nrow(TRIM28_E105_Muts_Male)\n",
    "TRIM28_E105_Muts_Female <- do.call(\"rbind\", list(E105_FWT_FMUT_only, E105_FMUT_only))\n",
    "nrow(TRIM28_E105_Muts_Female)\n",
    "TRIM28_E105_Muts_Female <- distinct(TRIM28_E105_Muts_Female, TE_Start, .keep_all = T)\n",
    "nrow(TRIM28_E105_Muts_Female)\n",
    "TRIM28_E105_Muts_Female\n",
    "#For H3K9me3 Overlap\n",
    "out <- c(1:3)\n",
    "TRIM28_E105_Muts_Male_out <- TRIM28_E105_Muts_Male[,out]\n",
    "TRIM28_E105_Muts_Female_out <- TRIM28_E105_Muts_Female[,out]\n",
    "#write.table(TRIM28_E105_Muts_Male_out, file = 'TRIM28_E105_Muts_Male_export.bed', sep = '\\t', col.names = F, row.names = F, quote = F)\n",
    "#write.table(TRIM28_E105_Muts_Female_out, file = 'TRIM28_E105_Muts_Female_export.bed', sep = '\\t', col.names = F, row.names = F, quote = F)\n"
   ]
  },
  {
   "cell_type": "code",
   "execution_count": 4,
   "id": "3a6fb12c",
   "metadata": {},
   "outputs": [
    {
     "data": {
      "text/html": [
       "<table class=\"dataframe\">\n",
       "<caption>A data.frame: 6 × 2</caption>\n",
       "<thead>\n",
       "\t<tr><th scope=col>rowname</th><th scope=col>colSums(ERV_Table)</th></tr>\n",
       "\t<tr><th scope=col>&lt;chr&gt;</th><th scope=col>&lt;dbl&gt;</th></tr>\n",
       "</thead>\n",
       "<tbody>\n",
       "\t<tr><td>ERV1     </td><td> 140</td></tr>\n",
       "\t<tr><td>ERVK     </td><td>1284</td></tr>\n",
       "\t<tr><td>ERVL     </td><td> 273</td></tr>\n",
       "\t<tr><td>ERVL-MaLR</td><td>1150</td></tr>\n",
       "\t<tr><td>Gypsy    </td><td>   6</td></tr>\n",
       "\t<tr><td>LTR      </td><td>  48</td></tr>\n",
       "</tbody>\n",
       "</table>\n"
      ],
      "text/latex": [
       "A data.frame: 6 × 2\n",
       "\\begin{tabular}{ll}\n",
       " rowname & colSums(ERV\\_Table)\\\\\n",
       " <chr> & <dbl>\\\\\n",
       "\\hline\n",
       "\t ERV1      &  140\\\\\n",
       "\t ERVK      & 1284\\\\\n",
       "\t ERVL      &  273\\\\\n",
       "\t ERVL-MaLR & 1150\\\\\n",
       "\t Gypsy     &    6\\\\\n",
       "\t LTR       &   48\\\\\n",
       "\\end{tabular}\n"
      ],
      "text/markdown": [
       "\n",
       "A data.frame: 6 × 2\n",
       "\n",
       "| rowname &lt;chr&gt; | colSums(ERV_Table) &lt;dbl&gt; |\n",
       "|---|---|\n",
       "| ERV1      |  140 |\n",
       "| ERVK      | 1284 |\n",
       "| ERVL      |  273 |\n",
       "| ERVL-MaLR | 1150 |\n",
       "| Gypsy     |    6 |\n",
       "| LTR       |   48 |\n",
       "\n"
      ],
      "text/plain": [
       "  rowname   colSums(ERV_Table)\n",
       "1 ERV1       140              \n",
       "2 ERVK      1284              \n",
       "3 ERVL       273              \n",
       "4 ERVL-MaLR 1150              \n",
       "5 Gypsy        6              \n",
       "6 LTR         48              "
      ]
     },
     "metadata": {},
     "output_type": "display_data"
    },
    {
     "data": {
      "text/html": [
       "<table class=\"dataframe\">\n",
       "<caption>A data.frame: 6 × 2</caption>\n",
       "<thead>\n",
       "\t<tr><th scope=col>Family</th><th scope=col>Male_Mut</th></tr>\n",
       "\t<tr><th scope=col>&lt;chr&gt;</th><th scope=col>&lt;dbl&gt;</th></tr>\n",
       "</thead>\n",
       "<tbody>\n",
       "\t<tr><td>ERV1     </td><td> 4.8259221</td></tr>\n",
       "\t<tr><td>ERVK     </td><td>44.2605998</td></tr>\n",
       "\t<tr><td>ERVL     </td><td> 9.4105481</td></tr>\n",
       "\t<tr><td>ERVL-MaLR</td><td>39.6415029</td></tr>\n",
       "\t<tr><td>Gypsy    </td><td> 0.2068252</td></tr>\n",
       "\t<tr><td>LTR      </td><td> 1.6546019</td></tr>\n",
       "</tbody>\n",
       "</table>\n"
      ],
      "text/latex": [
       "A data.frame: 6 × 2\n",
       "\\begin{tabular}{ll}\n",
       " Family & Male\\_Mut\\\\\n",
       " <chr> & <dbl>\\\\\n",
       "\\hline\n",
       "\t ERV1      &  4.8259221\\\\\n",
       "\t ERVK      & 44.2605998\\\\\n",
       "\t ERVL      &  9.4105481\\\\\n",
       "\t ERVL-MaLR & 39.6415029\\\\\n",
       "\t Gypsy     &  0.2068252\\\\\n",
       "\t LTR       &  1.6546019\\\\\n",
       "\\end{tabular}\n"
      ],
      "text/markdown": [
       "\n",
       "A data.frame: 6 × 2\n",
       "\n",
       "| Family &lt;chr&gt; | Male_Mut &lt;dbl&gt; |\n",
       "|---|---|\n",
       "| ERV1      |  4.8259221 |\n",
       "| ERVK      | 44.2605998 |\n",
       "| ERVL      |  9.4105481 |\n",
       "| ERVL-MaLR | 39.6415029 |\n",
       "| Gypsy     |  0.2068252 |\n",
       "| LTR       |  1.6546019 |\n",
       "\n"
      ],
      "text/plain": [
       "  Family    Male_Mut  \n",
       "1 ERV1       4.8259221\n",
       "2 ERVK      44.2605998\n",
       "3 ERVL       9.4105481\n",
       "4 ERVL-MaLR 39.6415029\n",
       "5 Gypsy      0.2068252\n",
       "6 LTR        1.6546019"
      ]
     },
     "metadata": {},
     "output_type": "display_data"
    },
    {
     "data": {
      "text/html": [
       "100"
      ],
      "text/latex": [
       "100"
      ],
      "text/markdown": [
       "100"
      ],
      "text/plain": [
       "[1] 100"
      ]
     },
     "metadata": {},
     "output_type": "display_data"
    },
    {
     "data": {
      "text/html": [
       "<table class=\"dataframe\">\n",
       "<caption>A data.frame: 6 × 3</caption>\n",
       "<thead>\n",
       "\t<tr><th scope=col>Family</th><th scope=col>Male_Mut</th><th scope=col>Female_Mut</th></tr>\n",
       "\t<tr><th scope=col>&lt;chr&gt;</th><th scope=col>&lt;dbl&gt;</th><th scope=col>&lt;dbl&gt;</th></tr>\n",
       "</thead>\n",
       "<tbody>\n",
       "\t<tr><td>ERV1     </td><td> 4.8259221</td><td> 3.1920460</td></tr>\n",
       "\t<tr><td>ERVK     </td><td>44.2605998</td><td>45.7875458</td></tr>\n",
       "\t<tr><td>ERVL     </td><td> 9.4105481</td><td> 9.9424385</td></tr>\n",
       "\t<tr><td>ERVL-MaLR</td><td>39.6415029</td><td>38.8278388</td></tr>\n",
       "\t<tr><td>Gypsy    </td><td> 0.2068252</td><td> 0.2616431</td></tr>\n",
       "\t<tr><td>LTR      </td><td> 1.6546019</td><td> 1.9884877</td></tr>\n",
       "</tbody>\n",
       "</table>\n"
      ],
      "text/latex": [
       "A data.frame: 6 × 3\n",
       "\\begin{tabular}{lll}\n",
       " Family & Male\\_Mut & Female\\_Mut\\\\\n",
       " <chr> & <dbl> & <dbl>\\\\\n",
       "\\hline\n",
       "\t ERV1      &  4.8259221 &  3.1920460\\\\\n",
       "\t ERVK      & 44.2605998 & 45.7875458\\\\\n",
       "\t ERVL      &  9.4105481 &  9.9424385\\\\\n",
       "\t ERVL-MaLR & 39.6415029 & 38.8278388\\\\\n",
       "\t Gypsy     &  0.2068252 &  0.2616431\\\\\n",
       "\t LTR       &  1.6546019 &  1.9884877\\\\\n",
       "\\end{tabular}\n"
      ],
      "text/markdown": [
       "\n",
       "A data.frame: 6 × 3\n",
       "\n",
       "| Family &lt;chr&gt; | Male_Mut &lt;dbl&gt; | Female_Mut &lt;dbl&gt; |\n",
       "|---|---|---|\n",
       "| ERV1      |  4.8259221 |  3.1920460 |\n",
       "| ERVK      | 44.2605998 | 45.7875458 |\n",
       "| ERVL      |  9.4105481 |  9.9424385 |\n",
       "| ERVL-MaLR | 39.6415029 | 38.8278388 |\n",
       "| Gypsy     |  0.2068252 |  0.2616431 |\n",
       "| LTR       |  1.6546019 |  1.9884877 |\n",
       "\n"
      ],
      "text/plain": [
       "  Family    Male_Mut   Female_Mut\n",
       "1 ERV1       4.8259221  3.1920460\n",
       "2 ERVK      44.2605998 45.7875458\n",
       "3 ERVL       9.4105481  9.9424385\n",
       "4 ERVL-MaLR 39.6415029 38.8278388\n",
       "5 Gypsy      0.2068252  0.2616431\n",
       "6 LTR        1.6546019  1.9884877"
      ]
     },
     "metadata": {},
     "output_type": "display_data"
    },
    {
     "data": {
      "text/html": [
       "100"
      ],
      "text/latex": [
       "100"
      ],
      "text/markdown": [
       "100"
      ],
      "text/plain": [
       "[1] 100"
      ]
     },
     "metadata": {},
     "output_type": "display_data"
    }
   ],
   "source": [
    "cols <- c(\"Family\",\"Number\") \n",
    "#\n",
    "ERV_Table <- unclass(table(TRIM28_E105_Muts_Male$TE_Subfamily, TRIM28_E105_Muts_Male$TE_Family))\n",
    "ERV_Sum <- as.data.frame(colSums(ERV_Table))\n",
    "ERV_Sum <- rownames_to_column(ERV_Sum)\n",
    "ERV_Sum\n",
    "colnames(ERV_Sum) <- cols\n",
    "ERV_Sum$Male_Mut <- ((ERV_Sum$Number)/(sum(ERV_Sum$Number))*100)\n",
    "keep <- c(1,3)\n",
    "ERV_Times <- ERV_Sum[,keep]\n",
    "ERV_Times\n",
    "sum(ERV_Times$Male_Mut)\n",
    "#\n",
    "ERV_Table <- unclass(table(TRIM28_E105_Muts_Female$TE_Subfamily, TRIM28_E105_Muts_Female$TE_Family))\n",
    "ERV_Sum <- as.data.frame(colSums(ERV_Table))\n",
    "ERV_Sum <- rownames_to_column(ERV_Sum)\n",
    "colnames(ERV_Sum) <- cols\n",
    "ERV_Sum$Female_Mut <- ((ERV_Sum$Number)/(sum(ERV_Sum$Number))*100)\n",
    "ERV_Sum <- ERV_Sum[,keep]\n",
    "ERV_Times <- full_join(ERV_Times, ERV_Sum, by = \"Family\")\n",
    "ERV_Times\n",
    "sum(ERV_Times$Female_Mut)"
   ]
  },
  {
   "cell_type": "code",
   "execution_count": 5,
   "id": "3b6569f5",
   "metadata": {},
   "outputs": [
    {
     "data": {
      "text/html": [
       "434"
      ],
      "text/latex": [
       "434"
      ],
      "text/markdown": [
       "434"
      ],
      "text/plain": [
       "[1] 434"
      ]
     },
     "metadata": {},
     "output_type": "display_data"
    },
    {
     "data": {
      "text/html": [
       "434"
      ],
      "text/latex": [
       "434"
      ],
      "text/markdown": [
       "434"
      ],
      "text/plain": [
       "[1] 434"
      ]
     },
     "metadata": {},
     "output_type": "display_data"
    },
    {
     "data": {
      "text/html": [
       "167"
      ],
      "text/latex": [
       "167"
      ],
      "text/markdown": [
       "167"
      ],
      "text/plain": [
       "[1] 167"
      ]
     },
     "metadata": {},
     "output_type": "display_data"
    },
    {
     "data": {
      "text/html": [
       "167"
      ],
      "text/latex": [
       "167"
      ],
      "text/markdown": [
       "167"
      ],
      "text/plain": [
       "[1] 167"
      ]
     },
     "metadata": {},
     "output_type": "display_data"
    },
    {
     "data": {
      "text/html": [
       "4554"
      ],
      "text/latex": [
       "4554"
      ],
      "text/markdown": [
       "4554"
      ],
      "text/plain": [
       "[1] 4554"
      ]
     },
     "metadata": {},
     "output_type": "display_data"
    },
    {
     "data": {
      "text/html": [
       "4554"
      ],
      "text/latex": [
       "4554"
      ],
      "text/markdown": [
       "4554"
      ],
      "text/plain": [
       "[1] 4554"
      ]
     },
     "metadata": {},
     "output_type": "display_data"
    },
    {
     "data": {
      "text/html": [
       "929"
      ],
      "text/latex": [
       "929"
      ],
      "text/markdown": [
       "929"
      ],
      "text/plain": [
       "[1] 929"
      ]
     },
     "metadata": {},
     "output_type": "display_data"
    },
    {
     "data": {
      "text/html": [
       "929"
      ],
      "text/latex": [
       "929"
      ],
      "text/markdown": [
       "929"
      ],
      "text/plain": [
       "[1] 929"
      ]
     },
     "metadata": {},
     "output_type": "display_data"
    }
   ],
   "source": [
    "#First build and bring in for TRIM28 Independent\n",
    "keep <- c(1,2,3,25,26,27,28,31,32)\n",
    "bedtools_cols <- c(\"Chm\", \"Start\", \"End\",  \"TE_Chr\", \"TE_Start\", \"TE_End\", \"TE_Subfamily\", \"TE_Family\", \"Overlap\")\n",
    "#\n",
    "E145_MWT_MMUT <- read.delim(file = 'RPKM_E145_MWT_MMUT_LTRonly.bed', sep = '\\t', header = F)\n",
    "E145_MWT_MMUT <- E145_MWT_MMUT[,keep]\n",
    "colnames(E145_MWT_MMUT) <- bedtools_cols\n",
    "nrow(E145_MWT_MMUT)\n",
    "#E145_MWT_MMUT <- E145_MWT_MMUT %>% distinct(TE_Start, .keep_all = T) %>% filter(Overlap > 20)\n",
    "E145_MWT_MMUT$Geno <- c(\"TCKO\")\n",
    "nrow(E145_MWT_MMUT)\n",
    "#\n",
    "E145_FWT_FMUT <- read.delim(file = 'RPKM_E145_FWT_FMUT_LTRonly.bed', sep = '\\t', header = F)\n",
    "E145_FWT_FMUT <- E145_FWT_FMUT[,keep]\n",
    "colnames(E145_FWT_FMUT) <- bedtools_cols\n",
    "nrow(E145_FWT_FMUT)\n",
    "#E145_FWT_FMUT <- E145_FWT_FMUT %>% distinct(TE_Start, .keep_all = T) %>% filter(Overlap > 20)\n",
    "E145_FWT_FMUT$Geno <- c(\"TCKO\")\n",
    "nrow(E145_FWT_FMUT)\n",
    "#\n",
    "keep <- c(1,2,3,21,22,23,24,27,28)\n",
    "bedtools_cols <- c(\"Chm\", \"Start\", \"End\",  \"TE_Chr\", \"TE_Start\", \"TE_End\", \"TE_Subfamily\", \"TE_Family\", \"Overlap\")\n",
    "#\n",
    "E145_MMUT_Only <- read.delim(file = 'RPKM_E145_MMUT_LTRonly.bed', sep = '\\t', header = F)\n",
    "E145_MMUT_Only <- E145_MMUT_Only[,keep]\n",
    "colnames(E145_MMUT_Only) <- bedtools_cols\n",
    "nrow(E145_MMUT_Only)\n",
    "#E145_MMUT_Only <- E145_MMUT_Only %>% distinct(TE_Start, .keep_all = T) %>% filter(Overlap > 20)\n",
    "E145_MMUT_Only$Geno <- c(\"TCKO\")\n",
    "nrow(E145_MMUT_Only)\n",
    "#\n",
    "E145_FMUT_Only <- read.delim(file = 'RPKM_E145_FMUT_LTRonly.bed', sep = '\\t', header = F)\n",
    "E145_FMUT_Only <- E145_FMUT_Only[,keep]\n",
    "colnames(E145_FMUT_Only) <- bedtools_cols\n",
    "nrow(E145_FMUT_Only)\n",
    "#E145_FMUT_Only <- E145_FMUT_Only %>% distinct(TE_Start, .keep_all = T) %>% filter(Overlap > 20)\n",
    "E145_FMUT_Only$Geno <- c(\"TCKO\")\n",
    "nrow(E145_FMUT_Only)"
   ]
  },
  {
   "cell_type": "code",
   "execution_count": 6,
   "id": "ead04043",
   "metadata": {},
   "outputs": [
    {
     "data": {
      "text/html": [
       "4988"
      ],
      "text/latex": [
       "4988"
      ],
      "text/markdown": [
       "4988"
      ],
      "text/plain": [
       "[1] 4988"
      ]
     },
     "metadata": {},
     "output_type": "display_data"
    },
    {
     "data": {
      "text/html": [
       "4819"
      ],
      "text/latex": [
       "4819"
      ],
      "text/markdown": [
       "4819"
      ],
      "text/plain": [
       "[1] 4819"
      ]
     },
     "metadata": {},
     "output_type": "display_data"
    },
    {
     "data": {
      "text/html": [
       "1096"
      ],
      "text/latex": [
       "1096"
      ],
      "text/markdown": [
       "1096"
      ],
      "text/plain": [
       "[1] 1096"
      ]
     },
     "metadata": {},
     "output_type": "display_data"
    },
    {
     "data": {
      "text/html": [
       "1087"
      ],
      "text/latex": [
       "1087"
      ],
      "text/markdown": [
       "1087"
      ],
      "text/plain": [
       "[1] 1087"
      ]
     },
     "metadata": {},
     "output_type": "display_data"
    }
   ],
   "source": [
    "TRIM28_E145_Muts_Male <- do.call(\"rbind\", list(E145_MMUT_Only, E145_MWT_MMUT))\n",
    "nrow(TRIM28_E145_Muts_Male)\n",
    "TRIM28_E145_Muts_Male <- distinct(TRIM28_E145_Muts_Male, TE_Start, .keep_all = T)\n",
    "nrow(TRIM28_E145_Muts_Male)\n",
    "TRIM28_E145_Muts_Female <- do.call(\"rbind\", list(E145_FWT_FMUT, E145_FMUT_Only))\n",
    "nrow(TRIM28_E145_Muts_Female)\n",
    "TRIM28_E145_Muts_Female <- distinct(TRIM28_E145_Muts_Female, TE_Start, .keep_all = T)\n",
    "nrow(TRIM28_E145_Muts_Female)\n",
    "#\n",
    "#For H3K9me3 Overlap\n",
    "out <- c(1:3)\n",
    "TRIM28_E145_Muts_Male_out <- TRIM28_E145_Muts_Male[,out]\n",
    "TRIM28_E145_Muts_Female_out <- TRIM28_E145_Muts_Female[,out]\n",
    "\n",
    "#write.table(TRIM28_E145_Muts_Male, file = 'TRIM28_E145_Muts_Male_export.bed', sep = '\\t', col.names = F, row.names = F, quote = F)\n",
    "#write.table(TRIM28_E145_Muts_Female, file = 'TRIM28_E145_Muts_Female_export.bed', sep = '\\t', col.names = F, row.names = F, quote = F)\n"
   ]
  },
  {
   "cell_type": "code",
   "execution_count": 7,
   "id": "1dd56130",
   "metadata": {},
   "outputs": [
    {
     "data": {
      "text/html": [
       "<table class=\"dataframe\">\n",
       "<caption>A data.frame: 6 × 4</caption>\n",
       "<thead>\n",
       "\t<tr><th scope=col>Family</th><th scope=col>Male_Mut</th><th scope=col>Female_Mut</th><th scope=col>E145_Male_Mut</th></tr>\n",
       "\t<tr><th scope=col>&lt;chr&gt;</th><th scope=col>&lt;dbl&gt;</th><th scope=col>&lt;dbl&gt;</th><th scope=col>&lt;dbl&gt;</th></tr>\n",
       "</thead>\n",
       "<tbody>\n",
       "\t<tr><td>ERV1     </td><td> 4.8259221</td><td> 3.1920460</td><td> 4.58601370</td></tr>\n",
       "\t<tr><td>ERVK     </td><td>44.2605998</td><td>45.7875458</td><td>80.14110811</td></tr>\n",
       "\t<tr><td>ERVL     </td><td> 9.4105481</td><td> 9.9424385</td><td> 3.00892301</td></tr>\n",
       "\t<tr><td>ERVL-MaLR</td><td>39.6415029</td><td>38.8278388</td><td>10.02282631</td></tr>\n",
       "\t<tr><td>Gypsy    </td><td> 0.2068252</td><td> 0.2616431</td><td> 0.06225358</td></tr>\n",
       "\t<tr><td>LTR      </td><td> 1.6546019</td><td> 1.9884877</td><td> 2.17887529</td></tr>\n",
       "</tbody>\n",
       "</table>\n"
      ],
      "text/latex": [
       "A data.frame: 6 × 4\n",
       "\\begin{tabular}{llll}\n",
       " Family & Male\\_Mut & Female\\_Mut & E145\\_Male\\_Mut\\\\\n",
       " <chr> & <dbl> & <dbl> & <dbl>\\\\\n",
       "\\hline\n",
       "\t ERV1      &  4.8259221 &  3.1920460 &  4.58601370\\\\\n",
       "\t ERVK      & 44.2605998 & 45.7875458 & 80.14110811\\\\\n",
       "\t ERVL      &  9.4105481 &  9.9424385 &  3.00892301\\\\\n",
       "\t ERVL-MaLR & 39.6415029 & 38.8278388 & 10.02282631\\\\\n",
       "\t Gypsy     &  0.2068252 &  0.2616431 &  0.06225358\\\\\n",
       "\t LTR       &  1.6546019 &  1.9884877 &  2.17887529\\\\\n",
       "\\end{tabular}\n"
      ],
      "text/markdown": [
       "\n",
       "A data.frame: 6 × 4\n",
       "\n",
       "| Family &lt;chr&gt; | Male_Mut &lt;dbl&gt; | Female_Mut &lt;dbl&gt; | E145_Male_Mut &lt;dbl&gt; |\n",
       "|---|---|---|---|\n",
       "| ERV1      |  4.8259221 |  3.1920460 |  4.58601370 |\n",
       "| ERVK      | 44.2605998 | 45.7875458 | 80.14110811 |\n",
       "| ERVL      |  9.4105481 |  9.9424385 |  3.00892301 |\n",
       "| ERVL-MaLR | 39.6415029 | 38.8278388 | 10.02282631 |\n",
       "| Gypsy     |  0.2068252 |  0.2616431 |  0.06225358 |\n",
       "| LTR       |  1.6546019 |  1.9884877 |  2.17887529 |\n",
       "\n"
      ],
      "text/plain": [
       "  Family    Male_Mut   Female_Mut E145_Male_Mut\n",
       "1 ERV1       4.8259221  3.1920460  4.58601370  \n",
       "2 ERVK      44.2605998 45.7875458 80.14110811  \n",
       "3 ERVL       9.4105481  9.9424385  3.00892301  \n",
       "4 ERVL-MaLR 39.6415029 38.8278388 10.02282631  \n",
       "5 Gypsy      0.2068252  0.2616431  0.06225358  \n",
       "6 LTR        1.6546019  1.9884877  2.17887529  "
      ]
     },
     "metadata": {},
     "output_type": "display_data"
    },
    {
     "data": {
      "text/html": [
       "100"
      ],
      "text/latex": [
       "100"
      ],
      "text/markdown": [
       "100"
      ],
      "text/plain": [
       "[1] 100"
      ]
     },
     "metadata": {},
     "output_type": "display_data"
    },
    {
     "data": {
      "text/html": [
       "<table class=\"dataframe\">\n",
       "<caption>A data.frame: 6 × 5</caption>\n",
       "<thead>\n",
       "\t<tr><th scope=col>Family</th><th scope=col>Male_Mut</th><th scope=col>Female_Mut</th><th scope=col>E145_Male_Mut</th><th scope=col>E145_Female_Mut</th></tr>\n",
       "\t<tr><th scope=col>&lt;chr&gt;</th><th scope=col>&lt;dbl&gt;</th><th scope=col>&lt;dbl&gt;</th><th scope=col>&lt;dbl&gt;</th><th scope=col>&lt;dbl&gt;</th></tr>\n",
       "</thead>\n",
       "<tbody>\n",
       "\t<tr><td>ERV1     </td><td> 4.8259221</td><td> 3.1920460</td><td> 4.58601370</td><td> 6.9917203</td></tr>\n",
       "\t<tr><td>ERVK     </td><td>44.2605998</td><td>45.7875458</td><td>80.14110811</td><td>52.8058878</td></tr>\n",
       "\t<tr><td>ERVL     </td><td> 9.4105481</td><td> 9.9424385</td><td> 3.00892301</td><td> 6.8077277</td></tr>\n",
       "\t<tr><td>ERVL-MaLR</td><td>39.6415029</td><td>38.8278388</td><td>10.02282631</td><td>30.9107636</td></tr>\n",
       "\t<tr><td>Gypsy    </td><td> 0.2068252</td><td> 0.2616431</td><td> 0.06225358</td><td> 0.1839926</td></tr>\n",
       "\t<tr><td>LTR      </td><td> 1.6546019</td><td> 1.9884877</td><td> 2.17887529</td><td> 2.2999080</td></tr>\n",
       "</tbody>\n",
       "</table>\n"
      ],
      "text/latex": [
       "A data.frame: 6 × 5\n",
       "\\begin{tabular}{lllll}\n",
       " Family & Male\\_Mut & Female\\_Mut & E145\\_Male\\_Mut & E145\\_Female\\_Mut\\\\\n",
       " <chr> & <dbl> & <dbl> & <dbl> & <dbl>\\\\\n",
       "\\hline\n",
       "\t ERV1      &  4.8259221 &  3.1920460 &  4.58601370 &  6.9917203\\\\\n",
       "\t ERVK      & 44.2605998 & 45.7875458 & 80.14110811 & 52.8058878\\\\\n",
       "\t ERVL      &  9.4105481 &  9.9424385 &  3.00892301 &  6.8077277\\\\\n",
       "\t ERVL-MaLR & 39.6415029 & 38.8278388 & 10.02282631 & 30.9107636\\\\\n",
       "\t Gypsy     &  0.2068252 &  0.2616431 &  0.06225358 &  0.1839926\\\\\n",
       "\t LTR       &  1.6546019 &  1.9884877 &  2.17887529 &  2.2999080\\\\\n",
       "\\end{tabular}\n"
      ],
      "text/markdown": [
       "\n",
       "A data.frame: 6 × 5\n",
       "\n",
       "| Family &lt;chr&gt; | Male_Mut &lt;dbl&gt; | Female_Mut &lt;dbl&gt; | E145_Male_Mut &lt;dbl&gt; | E145_Female_Mut &lt;dbl&gt; |\n",
       "|---|---|---|---|---|\n",
       "| ERV1      |  4.8259221 |  3.1920460 |  4.58601370 |  6.9917203 |\n",
       "| ERVK      | 44.2605998 | 45.7875458 | 80.14110811 | 52.8058878 |\n",
       "| ERVL      |  9.4105481 |  9.9424385 |  3.00892301 |  6.8077277 |\n",
       "| ERVL-MaLR | 39.6415029 | 38.8278388 | 10.02282631 | 30.9107636 |\n",
       "| Gypsy     |  0.2068252 |  0.2616431 |  0.06225358 |  0.1839926 |\n",
       "| LTR       |  1.6546019 |  1.9884877 |  2.17887529 |  2.2999080 |\n",
       "\n"
      ],
      "text/plain": [
       "  Family    Male_Mut   Female_Mut E145_Male_Mut E145_Female_Mut\n",
       "1 ERV1       4.8259221  3.1920460  4.58601370    6.9917203     \n",
       "2 ERVK      44.2605998 45.7875458 80.14110811   52.8058878     \n",
       "3 ERVL       9.4105481  9.9424385  3.00892301    6.8077277     \n",
       "4 ERVL-MaLR 39.6415029 38.8278388 10.02282631   30.9107636     \n",
       "5 Gypsy      0.2068252  0.2616431  0.06225358    0.1839926     \n",
       "6 LTR        1.6546019  1.9884877  2.17887529    2.2999080     "
      ]
     },
     "metadata": {},
     "output_type": "display_data"
    },
    {
     "data": {
      "text/html": [
       "100"
      ],
      "text/latex": [
       "100"
      ],
      "text/markdown": [
       "100"
      ],
      "text/plain": [
       "[1] 100"
      ]
     },
     "metadata": {},
     "output_type": "display_data"
    }
   ],
   "source": [
    "keep <- c(1,3)\n",
    "cols <- c(\"Family\",\"Number\") \n",
    "ERV_Table <- unclass(table(TRIM28_E145_Muts_Male$TE_Subfamily, TRIM28_E145_Muts_Male$TE_Family))\n",
    "ERV_Sum <- as.data.frame(colSums(ERV_Table))\n",
    "ERV_Sum <- rownames_to_column(ERV_Sum)\n",
    "colnames(ERV_Sum) <- cols\n",
    "ERV_Sum$E145_Male_Mut <- ((ERV_Sum$Number)/(sum(ERV_Sum$Number))*100)\n",
    "ERV_Sum <- ERV_Sum[,keep]\n",
    "ERV_Times <- full_join(ERV_Times, ERV_Sum, by = \"Family\")\n",
    "ERV_Times\n",
    "sum(ERV_Times$E145_Male_Mut)\n",
    "#\n",
    "ERV_Table <- unclass(table(TRIM28_E145_Muts_Female$TE_Subfamily, TRIM28_E145_Muts_Female$TE_Family))\n",
    "ERV_Sum <- as.data.frame(colSums(ERV_Table))\n",
    "ERV_Sum <- rownames_to_column(ERV_Sum)\n",
    "colnames(ERV_Sum) <- cols\n",
    "ERV_Sum$E145_Female_Mut <- ((ERV_Sum$Number)/(sum(ERV_Sum$Number))*100)\n",
    "ERV_Sum <- ERV_Sum[,keep]\n",
    "ERV_Times <- full_join(ERV_Times, ERV_Sum, by = \"Family\")\n",
    "ERV_Times\n",
    "sum(ERV_Times$E145_Female_Mut)"
   ]
  },
  {
   "cell_type": "code",
   "execution_count": 8,
   "id": "5959039f",
   "metadata": {
    "scrolled": true
   },
   "outputs": [
    {
     "name": "stderr",
     "output_type": "stream",
     "text": [
      "Using Family as id variables\n",
      "\n",
      "Using Family, variable, Sex, Class as id variables\n",
      "\n"
     ]
    },
    {
     "data": {
      "text/html": [
       "<table class=\"dataframe\">\n",
       "<caption>A data.frame: 20 × 6</caption>\n",
       "<thead>\n",
       "\t<tr><th scope=col>Family</th><th scope=col>variable</th><th scope=col>Sex</th><th scope=col>Class</th><th scope=col>variable</th><th scope=col>value</th></tr>\n",
       "\t<tr><th scope=col>&lt;chr&gt;</th><th scope=col>&lt;fct&gt;</th><th scope=col>&lt;chr&gt;</th><th scope=col>&lt;chr&gt;</th><th scope=col>&lt;fct&gt;</th><th scope=col>&lt;dbl&gt;</th></tr>\n",
       "</thead>\n",
       "<tbody>\n",
       "\t<tr><td>ERV1     </td><td>Male_Mut       </td><td>M</td><td>E10.5 TCKO Peak</td><td>value</td><td> 4.825922</td></tr>\n",
       "\t<tr><td>ERVK     </td><td>Male_Mut       </td><td>M</td><td>E10.5 TCKO Peak</td><td>value</td><td>44.260600</td></tr>\n",
       "\t<tr><td>ERVL     </td><td>Male_Mut       </td><td>M</td><td>E10.5 TCKO Peak</td><td>value</td><td> 9.410548</td></tr>\n",
       "\t<tr><td>ERVL-MaLR</td><td>Male_Mut       </td><td>M</td><td>E10.5 TCKO Peak</td><td>value</td><td>39.641503</td></tr>\n",
       "\t<tr><td>LTR      </td><td>Male_Mut       </td><td>M</td><td>E10.5 TCKO Peak</td><td>value</td><td> 1.654602</td></tr>\n",
       "\t<tr><td>ERV1     </td><td>Female_Mut     </td><td>F</td><td>E10.5 TCKO Peak</td><td>value</td><td> 3.192046</td></tr>\n",
       "\t<tr><td>ERVK     </td><td>Female_Mut     </td><td>F</td><td>E10.5 TCKO Peak</td><td>value</td><td>45.787546</td></tr>\n",
       "\t<tr><td>ERVL     </td><td>Female_Mut     </td><td>F</td><td>E10.5 TCKO Peak</td><td>value</td><td> 9.942439</td></tr>\n",
       "\t<tr><td>ERVL-MaLR</td><td>Female_Mut     </td><td>F</td><td>E10.5 TCKO Peak</td><td>value</td><td>38.827839</td></tr>\n",
       "\t<tr><td>LTR      </td><td>Female_Mut     </td><td>F</td><td>E10.5 TCKO Peak</td><td>value</td><td> 1.988488</td></tr>\n",
       "\t<tr><td>ERV1     </td><td>E145_Male_Mut  </td><td>M</td><td>E14.5 TCKO Peak</td><td>value</td><td> 4.586014</td></tr>\n",
       "\t<tr><td>ERVK     </td><td>E145_Male_Mut  </td><td>M</td><td>E14.5 TCKO Peak</td><td>value</td><td>80.141108</td></tr>\n",
       "\t<tr><td>ERVL     </td><td>E145_Male_Mut  </td><td>M</td><td>E14.5 TCKO Peak</td><td>value</td><td> 3.008923</td></tr>\n",
       "\t<tr><td>ERVL-MaLR</td><td>E145_Male_Mut  </td><td>M</td><td>E14.5 TCKO Peak</td><td>value</td><td>10.022826</td></tr>\n",
       "\t<tr><td>LTR      </td><td>E145_Male_Mut  </td><td>M</td><td>E14.5 TCKO Peak</td><td>value</td><td> 2.178875</td></tr>\n",
       "\t<tr><td>ERV1     </td><td>E145_Female_Mut</td><td>F</td><td>E14.5 TCKO Peak</td><td>value</td><td> 6.991720</td></tr>\n",
       "\t<tr><td>ERVK     </td><td>E145_Female_Mut</td><td>F</td><td>E14.5 TCKO Peak</td><td>value</td><td>52.805888</td></tr>\n",
       "\t<tr><td>ERVL     </td><td>E145_Female_Mut</td><td>F</td><td>E14.5 TCKO Peak</td><td>value</td><td> 6.807728</td></tr>\n",
       "\t<tr><td>ERVL-MaLR</td><td>E145_Female_Mut</td><td>F</td><td>E14.5 TCKO Peak</td><td>value</td><td>30.910764</td></tr>\n",
       "\t<tr><td>LTR      </td><td>E145_Female_Mut</td><td>F</td><td>E14.5 TCKO Peak</td><td>value</td><td> 2.299908</td></tr>\n",
       "</tbody>\n",
       "</table>\n"
      ],
      "text/latex": [
       "A data.frame: 20 × 6\n",
       "\\begin{tabular}{llllll}\n",
       " Family & variable & Sex & Class & variable & value\\\\\n",
       " <chr> & <fct> & <chr> & <chr> & <fct> & <dbl>\\\\\n",
       "\\hline\n",
       "\t ERV1      & Male\\_Mut        & M & E10.5 TCKO Peak & value &  4.825922\\\\\n",
       "\t ERVK      & Male\\_Mut        & M & E10.5 TCKO Peak & value & 44.260600\\\\\n",
       "\t ERVL      & Male\\_Mut        & M & E10.5 TCKO Peak & value &  9.410548\\\\\n",
       "\t ERVL-MaLR & Male\\_Mut        & M & E10.5 TCKO Peak & value & 39.641503\\\\\n",
       "\t LTR       & Male\\_Mut        & M & E10.5 TCKO Peak & value &  1.654602\\\\\n",
       "\t ERV1      & Female\\_Mut      & F & E10.5 TCKO Peak & value &  3.192046\\\\\n",
       "\t ERVK      & Female\\_Mut      & F & E10.5 TCKO Peak & value & 45.787546\\\\\n",
       "\t ERVL      & Female\\_Mut      & F & E10.5 TCKO Peak & value &  9.942439\\\\\n",
       "\t ERVL-MaLR & Female\\_Mut      & F & E10.5 TCKO Peak & value & 38.827839\\\\\n",
       "\t LTR       & Female\\_Mut      & F & E10.5 TCKO Peak & value &  1.988488\\\\\n",
       "\t ERV1      & E145\\_Male\\_Mut   & M & E14.5 TCKO Peak & value &  4.586014\\\\\n",
       "\t ERVK      & E145\\_Male\\_Mut   & M & E14.5 TCKO Peak & value & 80.141108\\\\\n",
       "\t ERVL      & E145\\_Male\\_Mut   & M & E14.5 TCKO Peak & value &  3.008923\\\\\n",
       "\t ERVL-MaLR & E145\\_Male\\_Mut   & M & E14.5 TCKO Peak & value & 10.022826\\\\\n",
       "\t LTR       & E145\\_Male\\_Mut   & M & E14.5 TCKO Peak & value &  2.178875\\\\\n",
       "\t ERV1      & E145\\_Female\\_Mut & F & E14.5 TCKO Peak & value &  6.991720\\\\\n",
       "\t ERVK      & E145\\_Female\\_Mut & F & E14.5 TCKO Peak & value & 52.805888\\\\\n",
       "\t ERVL      & E145\\_Female\\_Mut & F & E14.5 TCKO Peak & value &  6.807728\\\\\n",
       "\t ERVL-MaLR & E145\\_Female\\_Mut & F & E14.5 TCKO Peak & value & 30.910764\\\\\n",
       "\t LTR       & E145\\_Female\\_Mut & F & E14.5 TCKO Peak & value &  2.299908\\\\\n",
       "\\end{tabular}\n"
      ],
      "text/markdown": [
       "\n",
       "A data.frame: 20 × 6\n",
       "\n",
       "| Family &lt;chr&gt; | variable &lt;fct&gt; | Sex &lt;chr&gt; | Class &lt;chr&gt; | variable &lt;fct&gt; | value &lt;dbl&gt; |\n",
       "|---|---|---|---|---|---|\n",
       "| ERV1      | Male_Mut        | M | E10.5 TCKO Peak | value |  4.825922 |\n",
       "| ERVK      | Male_Mut        | M | E10.5 TCKO Peak | value | 44.260600 |\n",
       "| ERVL      | Male_Mut        | M | E10.5 TCKO Peak | value |  9.410548 |\n",
       "| ERVL-MaLR | Male_Mut        | M | E10.5 TCKO Peak | value | 39.641503 |\n",
       "| LTR       | Male_Mut        | M | E10.5 TCKO Peak | value |  1.654602 |\n",
       "| ERV1      | Female_Mut      | F | E10.5 TCKO Peak | value |  3.192046 |\n",
       "| ERVK      | Female_Mut      | F | E10.5 TCKO Peak | value | 45.787546 |\n",
       "| ERVL      | Female_Mut      | F | E10.5 TCKO Peak | value |  9.942439 |\n",
       "| ERVL-MaLR | Female_Mut      | F | E10.5 TCKO Peak | value | 38.827839 |\n",
       "| LTR       | Female_Mut      | F | E10.5 TCKO Peak | value |  1.988488 |\n",
       "| ERV1      | E145_Male_Mut   | M | E14.5 TCKO Peak | value |  4.586014 |\n",
       "| ERVK      | E145_Male_Mut   | M | E14.5 TCKO Peak | value | 80.141108 |\n",
       "| ERVL      | E145_Male_Mut   | M | E14.5 TCKO Peak | value |  3.008923 |\n",
       "| ERVL-MaLR | E145_Male_Mut   | M | E14.5 TCKO Peak | value | 10.022826 |\n",
       "| LTR       | E145_Male_Mut   | M | E14.5 TCKO Peak | value |  2.178875 |\n",
       "| ERV1      | E145_Female_Mut | F | E14.5 TCKO Peak | value |  6.991720 |\n",
       "| ERVK      | E145_Female_Mut | F | E14.5 TCKO Peak | value | 52.805888 |\n",
       "| ERVL      | E145_Female_Mut | F | E14.5 TCKO Peak | value |  6.807728 |\n",
       "| ERVL-MaLR | E145_Female_Mut | F | E14.5 TCKO Peak | value | 30.910764 |\n",
       "| LTR       | E145_Female_Mut | F | E14.5 TCKO Peak | value |  2.299908 |\n",
       "\n"
      ],
      "text/plain": [
       "   Family    variable        Sex Class           variable value    \n",
       "1  ERV1      Male_Mut        M   E10.5 TCKO Peak value     4.825922\n",
       "2  ERVK      Male_Mut        M   E10.5 TCKO Peak value    44.260600\n",
       "3  ERVL      Male_Mut        M   E10.5 TCKO Peak value     9.410548\n",
       "4  ERVL-MaLR Male_Mut        M   E10.5 TCKO Peak value    39.641503\n",
       "5  LTR       Male_Mut        M   E10.5 TCKO Peak value     1.654602\n",
       "6  ERV1      Female_Mut      F   E10.5 TCKO Peak value     3.192046\n",
       "7  ERVK      Female_Mut      F   E10.5 TCKO Peak value    45.787546\n",
       "8  ERVL      Female_Mut      F   E10.5 TCKO Peak value     9.942439\n",
       "9  ERVL-MaLR Female_Mut      F   E10.5 TCKO Peak value    38.827839\n",
       "10 LTR       Female_Mut      F   E10.5 TCKO Peak value     1.988488\n",
       "11 ERV1      E145_Male_Mut   M   E14.5 TCKO Peak value     4.586014\n",
       "12 ERVK      E145_Male_Mut   M   E14.5 TCKO Peak value    80.141108\n",
       "13 ERVL      E145_Male_Mut   M   E14.5 TCKO Peak value     3.008923\n",
       "14 ERVL-MaLR E145_Male_Mut   M   E14.5 TCKO Peak value    10.022826\n",
       "15 LTR       E145_Male_Mut   M   E14.5 TCKO Peak value     2.178875\n",
       "16 ERV1      E145_Female_Mut F   E14.5 TCKO Peak value     6.991720\n",
       "17 ERVK      E145_Female_Mut F   E14.5 TCKO Peak value    52.805888\n",
       "18 ERVL      E145_Female_Mut F   E14.5 TCKO Peak value     6.807728\n",
       "19 ERVL-MaLR E145_Female_Mut F   E14.5 TCKO Peak value    30.910764\n",
       "20 LTR       E145_Female_Mut F   E14.5 TCKO Peak value     2.299908"
      ]
     },
     "metadata": {},
     "output_type": "display_data"
    }
   ],
   "source": [
    "malelist <- c(\"M\")\n",
    "femalelist <- c(\"F\")\n",
    "plotmelt <- reshape2::melt(ERV_Times)\n",
    "plotmelt$Sex <- c(rep(\"M\", 6), rep(\"F\",6), rep(\"M\",6), rep(\"F\",6))\n",
    "plotmelt$Class <- c(rep(\"E10.5 TCKO Peak\", 12), rep(\"E14.5 TCKO Peak\", 12))\n",
    "plotmelt <- filter(plotmelt, Family != \"Gypsy\")\n",
    "melt(plotmelt)\n",
    "write.table(plotmelt, file = 'ATAC_ERVFamily_proportion.tsv', sep = '\\t', quote = F, row.names = F, col.names = T)"
   ]
  },
  {
   "cell_type": "code",
   "execution_count": 9,
   "id": "f8513727",
   "metadata": {},
   "outputs": [
    {
     "data": {
      "image/png": "[encoded data removed]",
      "text/plain": [
       "plot without title"
      ]
     },
     "metadata": {
      "image/png": {
       "height": 420,
       "width": 180
      }
     },
     "output_type": "display_data"
    }
   ],
   "source": [
    "options(repr.plot.width=3, repr.plot.height=7)\n",
    "order <- c(\"E10.5 TCKO Peak\", \"E14.5 TCKO Peak\")\n",
    "bothsex_prop <- ggplot(plotmelt, aes(fill=Family, y=value, x= factor(Class, order), label = (round(value)))) + geom_bar(position=\"stack\", stat=\"identity\", width = 0.8) + geom_text(size = 3, position = position_stack(vjust = 0.5)) + xlab(label = \"Condition\") + theme_bw()\n",
    "bothsex_prop_export <- bothsex_prop + facet_grid(vars(Sex)) + scale_fill_brewer(palette = \"Set2\") + ylab(label = \"% of Peaks of Class in Family\") + theme(legend.position = \"bottom\")\n",
    "bothsex_prop_export"
   ]
  },
  {
   "cell_type": "code",
   "execution_count": 10,
   "id": "32ea5f76",
   "metadata": {},
   "outputs": [
    {
     "data": {
      "text/html": [
       "<strong>png:</strong> 2"
      ],
      "text/latex": [
       "\\textbf{png:} 2"
      ],
      "text/markdown": [
       "**png:** 2"
      ],
      "text/plain": [
       "png \n",
       "  2 "
      ]
     },
     "metadata": {},
     "output_type": "display_data"
    }
   ],
   "source": [
    "pdf(file = 'ATAC_E105_E145_MUT_FamilyPercent.pdf', height = 7, width = 3)\n",
    "bothsex_prop_export\n",
    "dev.off()"
   ]
  },
  {
   "cell_type": "code",
   "execution_count": 12,
   "id": "710741fc",
   "metadata": {
    "scrolled": true
   },
   "outputs": [
    {
     "data": {
      "text/html": [
       "<table class=\"dataframe\">\n",
       "<caption>A data.frame: 2901 × 5</caption>\n",
       "<thead>\n",
       "\t<tr><th scope=col>Chr</th><th scope=col>Start</th><th scope=col>End</th><th scope=col>E105_H3K9me3</th><th scope=col>E135_H3K9me3</th></tr>\n",
       "\t<tr><th scope=col>&lt;chr&gt;</th><th scope=col>&lt;int&gt;</th><th scope=col>&lt;int&gt;</th><th scope=col>&lt;dbl&gt;</th><th scope=col>&lt;dbl&gt;</th></tr>\n",
       "</thead>\n",
       "<tbody>\n",
       "\t<tr><td>1</td><td> 3099205</td><td> 3099379</td><td>-5.7850283</td><td> 38.9023624</td></tr>\n",
       "\t<tr><td>1</td><td> 3637374</td><td> 3637578</td><td>-3.2099658</td><td> -2.1523701</td></tr>\n",
       "\t<tr><td>1</td><td> 4126607</td><td> 4126788</td><td> 2.4603688</td><td>-10.1125273</td></tr>\n",
       "\t<tr><td>1</td><td> 4943430</td><td> 4943589</td><td>-7.9703871</td><td> -2.2386329</td></tr>\n",
       "\t<tr><td>1</td><td> 5246599</td><td> 5246841</td><td> 1.4291930</td><td>  0.3803369</td></tr>\n",
       "\t<tr><td>1</td><td> 5588340</td><td> 5588488</td><td>-9.2863863</td><td> 12.3775768</td></tr>\n",
       "\t<tr><td>1</td><td> 7008548</td><td> 7008685</td><td> 5.9148926</td><td>  9.4937202</td></tr>\n",
       "\t<tr><td>1</td><td> 7523039</td><td> 7523206</td><td>-0.9798310</td><td> -4.8661511</td></tr>\n",
       "\t<tr><td>1</td><td> 7724201</td><td> 7724398</td><td>10.0955431</td><td> 10.8401539</td></tr>\n",
       "\t<tr><td>1</td><td> 8988023</td><td> 8988164</td><td> 4.0479245</td><td>  5.0811577</td></tr>\n",
       "\t<tr><td>1</td><td> 9588722</td><td> 9588919</td><td>-2.4827896</td><td>  4.2046648</td></tr>\n",
       "\t<tr><td>1</td><td>11048382</td><td>11048665</td><td> 4.9697550</td><td> 49.3129273</td></tr>\n",
       "\t<tr><td>1</td><td>11887494</td><td>11887625</td><td>-7.2794585</td><td> -1.6137466</td></tr>\n",
       "\t<tr><td>1</td><td>13343139</td><td>13343340</td><td>15.4710586</td><td> 12.2187866</td></tr>\n",
       "\t<tr><td>1</td><td>17237215</td><td>17237349</td><td> 1.2211049</td><td>  0.5512194</td></tr>\n",
       "\t<tr><td>1</td><td>17466361</td><td>17466550</td><td>-0.8309328</td><td>-14.4851854</td></tr>\n",
       "\t<tr><td>1</td><td>18033181</td><td>18033352</td><td>32.4021610</td><td> 72.7305765</td></tr>\n",
       "\t<tr><td>1</td><td>18541942</td><td>18542096</td><td>-6.0951931</td><td>  9.3023895</td></tr>\n",
       "\t<tr><td>1</td><td>18565881</td><td>18566271</td><td>-0.2336236</td><td> -0.8922220</td></tr>\n",
       "\t<tr><td>1</td><td>18565881</td><td>18566271</td><td>-0.2336236</td><td> -0.8922220</td></tr>\n",
       "\t<tr><td>1</td><td>18668211</td><td>18668377</td><td> 9.0189263</td><td>-10.6084170</td></tr>\n",
       "\t<tr><td>1</td><td>18714210</td><td>18714360</td><td> 4.0317387</td><td> -4.1007440</td></tr>\n",
       "\t<tr><td>1</td><td>20689757</td><td>20689882</td><td> 4.1661861</td><td> -3.4406844</td></tr>\n",
       "\t<tr><td>1</td><td>21110777</td><td>21110899</td><td> 7.9706552</td><td> 13.8773917</td></tr>\n",
       "\t<tr><td>1</td><td>21110777</td><td>21110899</td><td> 7.9706552</td><td> 13.8773917</td></tr>\n",
       "\t<tr><td>1</td><td>22076724</td><td>22077005</td><td>44.8458217</td><td> 21.1794298</td></tr>\n",
       "\t<tr><td>1</td><td>22373779</td><td>22373910</td><td>-9.7002867</td><td>  2.0392298</td></tr>\n",
       "\t<tr><td>1</td><td>23051915</td><td>23052082</td><td>13.0973288</td><td>-10.3774785</td></tr>\n",
       "\t<tr><td>1</td><td>24023757</td><td>24024027</td><td>-1.6789664</td><td>  6.3661892</td></tr>\n",
       "\t<tr><td>1</td><td>26808689</td><td>26808961</td><td>-3.8612991</td><td>  1.7597013</td></tr>\n",
       "\t<tr><td>⋮</td><td>⋮</td><td>⋮</td><td>⋮</td><td>⋮</td></tr>\n",
       "\t<tr><td>X</td><td> 89760201</td><td> 89760575</td><td>  6.057081</td><td> 2.1743629</td></tr>\n",
       "\t<tr><td>X</td><td> 90183430</td><td> 90183530</td><td> 24.998270</td><td>18.2500837</td></tr>\n",
       "\t<tr><td>X</td><td> 93731479</td><td> 93731660</td><td> 12.806520</td><td>14.4794288</td></tr>\n",
       "\t<tr><td>X</td><td> 96532856</td><td> 96533040</td><td> 52.331750</td><td>42.5451312</td></tr>\n",
       "\t<tr><td>X</td><td>101698695</td><td>101698795</td><td>-10.742565</td><td>-0.9020108</td></tr>\n",
       "\t<tr><td>X</td><td>104033578</td><td>104033696</td><td> -2.370555</td><td>-1.3783364</td></tr>\n",
       "\t<tr><td>X</td><td>108402195</td><td>108402299</td><td>  2.451019</td><td> 5.6336242</td></tr>\n",
       "\t<tr><td>X</td><td>118062013</td><td>118062113</td><td> -2.377598</td><td>17.5200634</td></tr>\n",
       "\t<tr><td>X</td><td>118496645</td><td>118496781</td><td> 42.746665</td><td>32.5918664</td></tr>\n",
       "\t<tr><td>X</td><td>134908028</td><td>134908128</td><td> -8.602015</td><td>18.5658015</td></tr>\n",
       "\t<tr><td>X</td><td>167202825</td><td>167202985</td><td> -4.767748</td><td>-9.5811893</td></tr>\n",
       "\t<tr><td>X</td><td>167202825</td><td>167202985</td><td> -4.767748</td><td>-9.5811893</td></tr>\n",
       "\t<tr><td>X</td><td>167770461</td><td>167770797</td><td> 13.206961</td><td>-1.1347420</td></tr>\n",
       "\t<tr><td>X</td><td>169316296</td><td>169316521</td><td> 10.269319</td><td>12.8530072</td></tr>\n",
       "\t<tr><td>X</td><td>169316296</td><td>169316521</td><td> 10.269319</td><td>12.8530072</td></tr>\n",
       "\t<tr><td>Y</td><td>   859998</td><td>   860147</td><td> -1.658387</td><td> 0.0000000</td></tr>\n",
       "\t<tr><td>Y</td><td>   866990</td><td>   867586</td><td> -1.366205</td><td> 0.0000000</td></tr>\n",
       "\t<tr><td>Y</td><td>  1034941</td><td>  1035102</td><td>  2.526764</td><td> 0.0000000</td></tr>\n",
       "\t<tr><td>Y</td><td>  2765858</td><td>  2766444</td><td> -7.439792</td><td> 0.0000000</td></tr>\n",
       "\t<tr><td>Y</td><td>  3737999</td><td>  3738099</td><td> -1.193475</td><td> 0.0000000</td></tr>\n",
       "\t<tr><td>Y</td><td>  3794964</td><td>  3795365</td><td> -4.278948</td><td> 0.0000000</td></tr>\n",
       "\t<tr><td>Y</td><td>  4797964</td><td>  4798123</td><td>  9.668466</td><td> 4.9514947</td></tr>\n",
       "\t<tr><td>Y</td><td> 15193648</td><td> 15193834</td><td> 17.587784</td><td> 0.0000000</td></tr>\n",
       "\t<tr><td>Y</td><td> 15193648</td><td> 15193834</td><td> 17.587784</td><td> 0.0000000</td></tr>\n",
       "\t<tr><td>Y</td><td> 15355005</td><td> 15355236</td><td> 26.293552</td><td>11.2018959</td></tr>\n",
       "\t<tr><td>Y</td><td> 44211086</td><td> 44211284</td><td> 38.069329</td><td> 0.0000000</td></tr>\n",
       "\t<tr><td>Y</td><td> 58887531</td><td> 58887799</td><td> 41.150354</td><td> 0.0000000</td></tr>\n",
       "\t<tr><td>Y</td><td> 71522505</td><td> 71522605</td><td>  2.667502</td><td> 0.0000000</td></tr>\n",
       "\t<tr><td>Y</td><td> 79057193</td><td> 79057369</td><td> -0.168207</td><td>-1.0060985</td></tr>\n",
       "\t<tr><td>Y</td><td> 85102911</td><td> 85103036</td><td> 43.105263</td><td>11.7615445</td></tr>\n",
       "</tbody>\n",
       "</table>\n"
      ],
      "text/latex": [
       "A data.frame: 2901 × 5\n",
       "\\begin{tabular}{lllll}\n",
       " Chr & Start & End & E105\\_H3K9me3 & E135\\_H3K9me3\\\\\n",
       " <chr> & <int> & <int> & <dbl> & <dbl>\\\\\n",
       "\\hline\n",
       "\t 1 &  3099205 &  3099379 & -5.7850283 &  38.9023624\\\\\n",
       "\t 1 &  3637374 &  3637578 & -3.2099658 &  -2.1523701\\\\\n",
       "\t 1 &  4126607 &  4126788 &  2.4603688 & -10.1125273\\\\\n",
       "\t 1 &  4943430 &  4943589 & -7.9703871 &  -2.2386329\\\\\n",
       "\t 1 &  5246599 &  5246841 &  1.4291930 &   0.3803369\\\\\n",
       "\t 1 &  5588340 &  5588488 & -9.2863863 &  12.3775768\\\\\n",
       "\t 1 &  7008548 &  7008685 &  5.9148926 &   9.4937202\\\\\n",
       "\t 1 &  7523039 &  7523206 & -0.9798310 &  -4.8661511\\\\\n",
       "\t 1 &  7724201 &  7724398 & 10.0955431 &  10.8401539\\\\\n",
       "\t 1 &  8988023 &  8988164 &  4.0479245 &   5.0811577\\\\\n",
       "\t 1 &  9588722 &  9588919 & -2.4827896 &   4.2046648\\\\\n",
       "\t 1 & 11048382 & 11048665 &  4.9697550 &  49.3129273\\\\\n",
       "\t 1 & 11887494 & 11887625 & -7.2794585 &  -1.6137466\\\\\n",
       "\t 1 & 13343139 & 13343340 & 15.4710586 &  12.2187866\\\\\n",
       "\t 1 & 17237215 & 17237349 &  1.2211049 &   0.5512194\\\\\n",
       "\t 1 & 17466361 & 17466550 & -0.8309328 & -14.4851854\\\\\n",
       "\t 1 & 18033181 & 18033352 & 32.4021610 &  72.7305765\\\\\n",
       "\t 1 & 18541942 & 18542096 & -6.0951931 &   9.3023895\\\\\n",
       "\t 1 & 18565881 & 18566271 & -0.2336236 &  -0.8922220\\\\\n",
       "\t 1 & 18565881 & 18566271 & -0.2336236 &  -0.8922220\\\\\n",
       "\t 1 & 18668211 & 18668377 &  9.0189263 & -10.6084170\\\\\n",
       "\t 1 & 18714210 & 18714360 &  4.0317387 &  -4.1007440\\\\\n",
       "\t 1 & 20689757 & 20689882 &  4.1661861 &  -3.4406844\\\\\n",
       "\t 1 & 21110777 & 21110899 &  7.9706552 &  13.8773917\\\\\n",
       "\t 1 & 21110777 & 21110899 &  7.9706552 &  13.8773917\\\\\n",
       "\t 1 & 22076724 & 22077005 & 44.8458217 &  21.1794298\\\\\n",
       "\t 1 & 22373779 & 22373910 & -9.7002867 &   2.0392298\\\\\n",
       "\t 1 & 23051915 & 23052082 & 13.0973288 & -10.3774785\\\\\n",
       "\t 1 & 24023757 & 24024027 & -1.6789664 &   6.3661892\\\\\n",
       "\t 1 & 26808689 & 26808961 & -3.8612991 &   1.7597013\\\\\n",
       "\t ⋮ & ⋮ & ⋮ & ⋮ & ⋮\\\\\n",
       "\t X &  89760201 &  89760575 &   6.057081 &  2.1743629\\\\\n",
       "\t X &  90183430 &  90183530 &  24.998270 & 18.2500837\\\\\n",
       "\t X &  93731479 &  93731660 &  12.806520 & 14.4794288\\\\\n",
       "\t X &  96532856 &  96533040 &  52.331750 & 42.5451312\\\\\n",
       "\t X & 101698695 & 101698795 & -10.742565 & -0.9020108\\\\\n",
       "\t X & 104033578 & 104033696 &  -2.370555 & -1.3783364\\\\\n",
       "\t X & 108402195 & 108402299 &   2.451019 &  5.6336242\\\\\n",
       "\t X & 118062013 & 118062113 &  -2.377598 & 17.5200634\\\\\n",
       "\t X & 118496645 & 118496781 &  42.746665 & 32.5918664\\\\\n",
       "\t X & 134908028 & 134908128 &  -8.602015 & 18.5658015\\\\\n",
       "\t X & 167202825 & 167202985 &  -4.767748 & -9.5811893\\\\\n",
       "\t X & 167202825 & 167202985 &  -4.767748 & -9.5811893\\\\\n",
       "\t X & 167770461 & 167770797 &  13.206961 & -1.1347420\\\\\n",
       "\t X & 169316296 & 169316521 &  10.269319 & 12.8530072\\\\\n",
       "\t X & 169316296 & 169316521 &  10.269319 & 12.8530072\\\\\n",
       "\t Y &    859998 &    860147 &  -1.658387 &  0.0000000\\\\\n",
       "\t Y &    866990 &    867586 &  -1.366205 &  0.0000000\\\\\n",
       "\t Y &   1034941 &   1035102 &   2.526764 &  0.0000000\\\\\n",
       "\t Y &   2765858 &   2766444 &  -7.439792 &  0.0000000\\\\\n",
       "\t Y &   3737999 &   3738099 &  -1.193475 &  0.0000000\\\\\n",
       "\t Y &   3794964 &   3795365 &  -4.278948 &  0.0000000\\\\\n",
       "\t Y &   4797964 &   4798123 &   9.668466 &  4.9514947\\\\\n",
       "\t Y &  15193648 &  15193834 &  17.587784 &  0.0000000\\\\\n",
       "\t Y &  15193648 &  15193834 &  17.587784 &  0.0000000\\\\\n",
       "\t Y &  15355005 &  15355236 &  26.293552 & 11.2018959\\\\\n",
       "\t Y &  44211086 &  44211284 &  38.069329 &  0.0000000\\\\\n",
       "\t Y &  58887531 &  58887799 &  41.150354 &  0.0000000\\\\\n",
       "\t Y &  71522505 &  71522605 &   2.667502 &  0.0000000\\\\\n",
       "\t Y &  79057193 &  79057369 &  -0.168207 & -1.0060985\\\\\n",
       "\t Y &  85102911 &  85103036 &  43.105263 & 11.7615445\\\\\n",
       "\\end{tabular}\n"
      ],
      "text/markdown": [
       "\n",
       "A data.frame: 2901 × 5\n",
       "\n",
       "| Chr &lt;chr&gt; | Start &lt;int&gt; | End &lt;int&gt; | E105_H3K9me3 &lt;dbl&gt; | E135_H3K9me3 &lt;dbl&gt; |\n",
       "|---|---|---|---|---|\n",
       "| 1 |  3099205 |  3099379 | -5.7850283 |  38.9023624 |\n",
       "| 1 |  3637374 |  3637578 | -3.2099658 |  -2.1523701 |\n",
       "| 1 |  4126607 |  4126788 |  2.4603688 | -10.1125273 |\n",
       "| 1 |  4943430 |  4943589 | -7.9703871 |  -2.2386329 |\n",
       "| 1 |  5246599 |  5246841 |  1.4291930 |   0.3803369 |\n",
       "| 1 |  5588340 |  5588488 | -9.2863863 |  12.3775768 |\n",
       "| 1 |  7008548 |  7008685 |  5.9148926 |   9.4937202 |\n",
       "| 1 |  7523039 |  7523206 | -0.9798310 |  -4.8661511 |\n",
       "| 1 |  7724201 |  7724398 | 10.0955431 |  10.8401539 |\n",
       "| 1 |  8988023 |  8988164 |  4.0479245 |   5.0811577 |\n",
       "| 1 |  9588722 |  9588919 | -2.4827896 |   4.2046648 |\n",
       "| 1 | 11048382 | 11048665 |  4.9697550 |  49.3129273 |\n",
       "| 1 | 11887494 | 11887625 | -7.2794585 |  -1.6137466 |\n",
       "| 1 | 13343139 | 13343340 | 15.4710586 |  12.2187866 |\n",
       "| 1 | 17237215 | 17237349 |  1.2211049 |   0.5512194 |\n",
       "| 1 | 17466361 | 17466550 | -0.8309328 | -14.4851854 |\n",
       "| 1 | 18033181 | 18033352 | 32.4021610 |  72.7305765 |\n",
       "| 1 | 18541942 | 18542096 | -6.0951931 |   9.3023895 |\n",
       "| 1 | 18565881 | 18566271 | -0.2336236 |  -0.8922220 |\n",
       "| 1 | 18565881 | 18566271 | -0.2336236 |  -0.8922220 |\n",
       "| 1 | 18668211 | 18668377 |  9.0189263 | -10.6084170 |\n",
       "| 1 | 18714210 | 18714360 |  4.0317387 |  -4.1007440 |\n",
       "| 1 | 20689757 | 20689882 |  4.1661861 |  -3.4406844 |\n",
       "| 1 | 21110777 | 21110899 |  7.9706552 |  13.8773917 |\n",
       "| 1 | 21110777 | 21110899 |  7.9706552 |  13.8773917 |\n",
       "| 1 | 22076724 | 22077005 | 44.8458217 |  21.1794298 |\n",
       "| 1 | 22373779 | 22373910 | -9.7002867 |   2.0392298 |\n",
       "| 1 | 23051915 | 23052082 | 13.0973288 | -10.3774785 |\n",
       "| 1 | 24023757 | 24024027 | -1.6789664 |   6.3661892 |\n",
       "| 1 | 26808689 | 26808961 | -3.8612991 |   1.7597013 |\n",
       "| ⋮ | ⋮ | ⋮ | ⋮ | ⋮ |\n",
       "| X |  89760201 |  89760575 |   6.057081 |  2.1743629 |\n",
       "| X |  90183430 |  90183530 |  24.998270 | 18.2500837 |\n",
       "| X |  93731479 |  93731660 |  12.806520 | 14.4794288 |\n",
       "| X |  96532856 |  96533040 |  52.331750 | 42.5451312 |\n",
       "| X | 101698695 | 101698795 | -10.742565 | -0.9020108 |\n",
       "| X | 104033578 | 104033696 |  -2.370555 | -1.3783364 |\n",
       "| X | 108402195 | 108402299 |   2.451019 |  5.6336242 |\n",
       "| X | 118062013 | 118062113 |  -2.377598 | 17.5200634 |\n",
       "| X | 118496645 | 118496781 |  42.746665 | 32.5918664 |\n",
       "| X | 134908028 | 134908128 |  -8.602015 | 18.5658015 |\n",
       "| X | 167202825 | 167202985 |  -4.767748 | -9.5811893 |\n",
       "| X | 167202825 | 167202985 |  -4.767748 | -9.5811893 |\n",
       "| X | 167770461 | 167770797 |  13.206961 | -1.1347420 |\n",
       "| X | 169316296 | 169316521 |  10.269319 | 12.8530072 |\n",
       "| X | 169316296 | 169316521 |  10.269319 | 12.8530072 |\n",
       "| Y |    859998 |    860147 |  -1.658387 |  0.0000000 |\n",
       "| Y |    866990 |    867586 |  -1.366205 |  0.0000000 |\n",
       "| Y |   1034941 |   1035102 |   2.526764 |  0.0000000 |\n",
       "| Y |   2765858 |   2766444 |  -7.439792 |  0.0000000 |\n",
       "| Y |   3737999 |   3738099 |  -1.193475 |  0.0000000 |\n",
       "| Y |   3794964 |   3795365 |  -4.278948 |  0.0000000 |\n",
       "| Y |   4797964 |   4798123 |   9.668466 |  4.9514947 |\n",
       "| Y |  15193648 |  15193834 |  17.587784 |  0.0000000 |\n",
       "| Y |  15193648 |  15193834 |  17.587784 |  0.0000000 |\n",
       "| Y |  15355005 |  15355236 |  26.293552 | 11.2018959 |\n",
       "| Y |  44211086 |  44211284 |  38.069329 |  0.0000000 |\n",
       "| Y |  58887531 |  58887799 |  41.150354 |  0.0000000 |\n",
       "| Y |  71522505 |  71522605 |   2.667502 |  0.0000000 |\n",
       "| Y |  79057193 |  79057369 |  -0.168207 | -1.0060985 |\n",
       "| Y |  85102911 |  85103036 |  43.105263 | 11.7615445 |\n",
       "\n"
      ],
      "text/plain": [
       "     Chr Start     End       E105_H3K9me3 E135_H3K9me3\n",
       "1    1    3099205   3099379  -5.7850283    38.9023624 \n",
       "2    1    3637374   3637578  -3.2099658    -2.1523701 \n",
       "3    1    4126607   4126788   2.4603688   -10.1125273 \n",
       "4    1    4943430   4943589  -7.9703871    -2.2386329 \n",
       "5    1    5246599   5246841   1.4291930     0.3803369 \n",
       "6    1    5588340   5588488  -9.2863863    12.3775768 \n",
       "7    1    7008548   7008685   5.9148926     9.4937202 \n",
       "8    1    7523039   7523206  -0.9798310    -4.8661511 \n",
       "9    1    7724201   7724398  10.0955431    10.8401539 \n",
       "10   1    8988023   8988164   4.0479245     5.0811577 \n",
       "11   1    9588722   9588919  -2.4827896     4.2046648 \n",
       "12   1   11048382  11048665   4.9697550    49.3129273 \n",
       "13   1   11887494  11887625  -7.2794585    -1.6137466 \n",
       "14   1   13343139  13343340  15.4710586    12.2187866 \n",
       "15   1   17237215  17237349   1.2211049     0.5512194 \n",
       "16   1   17466361  17466550  -0.8309328   -14.4851854 \n",
       "17   1   18033181  18033352  32.4021610    72.7305765 \n",
       "18   1   18541942  18542096  -6.0951931     9.3023895 \n",
       "19   1   18565881  18566271  -0.2336236    -0.8922220 \n",
       "20   1   18565881  18566271  -0.2336236    -0.8922220 \n",
       "21   1   18668211  18668377   9.0189263   -10.6084170 \n",
       "22   1   18714210  18714360   4.0317387    -4.1007440 \n",
       "23   1   20689757  20689882   4.1661861    -3.4406844 \n",
       "24   1   21110777  21110899   7.9706552    13.8773917 \n",
       "25   1   21110777  21110899   7.9706552    13.8773917 \n",
       "26   1   22076724  22077005  44.8458217    21.1794298 \n",
       "27   1   22373779  22373910  -9.7002867     2.0392298 \n",
       "28   1   23051915  23052082  13.0973288   -10.3774785 \n",
       "29   1   24023757  24024027  -1.6789664     6.3661892 \n",
       "30   1   26808689  26808961  -3.8612991     1.7597013 \n",
       "⋮    ⋮   ⋮         ⋮         ⋮            ⋮           \n",
       "2872 X    89760201  89760575   6.057081    2.1743629  \n",
       "2873 X    90183430  90183530  24.998270   18.2500837  \n",
       "2874 X    93731479  93731660  12.806520   14.4794288  \n",
       "2875 X    96532856  96533040  52.331750   42.5451312  \n",
       "2876 X   101698695 101698795 -10.742565   -0.9020108  \n",
       "2877 X   104033578 104033696  -2.370555   -1.3783364  \n",
       "2878 X   108402195 108402299   2.451019    5.6336242  \n",
       "2879 X   118062013 118062113  -2.377598   17.5200634  \n",
       "2880 X   118496645 118496781  42.746665   32.5918664  \n",
       "2881 X   134908028 134908128  -8.602015   18.5658015  \n",
       "2882 X   167202825 167202985  -4.767748   -9.5811893  \n",
       "2883 X   167202825 167202985  -4.767748   -9.5811893  \n",
       "2884 X   167770461 167770797  13.206961   -1.1347420  \n",
       "2885 X   169316296 169316521  10.269319   12.8530072  \n",
       "2886 X   169316296 169316521  10.269319   12.8530072  \n",
       "2887 Y      859998    860147  -1.658387    0.0000000  \n",
       "2888 Y      866990    867586  -1.366205    0.0000000  \n",
       "2889 Y     1034941   1035102   2.526764    0.0000000  \n",
       "2890 Y     2765858   2766444  -7.439792    0.0000000  \n",
       "2891 Y     3737999   3738099  -1.193475    0.0000000  \n",
       "2892 Y     3794964   3795365  -4.278948    0.0000000  \n",
       "2893 Y     4797964   4798123   9.668466    4.9514947  \n",
       "2894 Y    15193648  15193834  17.587784    0.0000000  \n",
       "2895 Y    15193648  15193834  17.587784    0.0000000  \n",
       "2896 Y    15355005  15355236  26.293552   11.2018959  \n",
       "2897 Y    44211086  44211284  38.069329    0.0000000  \n",
       "2898 Y    58887531  58887799  41.150354    0.0000000  \n",
       "2899 Y    71522505  71522605   2.667502    0.0000000  \n",
       "2900 Y    79057193  79057369  -0.168207   -1.0060985  \n",
       "2901 Y    85102911  85103036  43.105263   11.7615445  "
      ]
     },
     "metadata": {},
     "output_type": "display_data"
    },
    {
     "data": {
      "text/html": [
       "<table class=\"dataframe\">\n",
       "<caption>A data.frame: 4819 × 5</caption>\n",
       "<thead>\n",
       "\t<tr><th scope=col>Chr</th><th scope=col>Start</th><th scope=col>End</th><th scope=col>E105_H3K9me3</th><th scope=col>E135_H3K9me3</th></tr>\n",
       "\t<tr><th scope=col>&lt;chr&gt;</th><th scope=col>&lt;int&gt;</th><th scope=col>&lt;int&gt;</th><th scope=col>&lt;dbl&gt;</th><th scope=col>&lt;dbl&gt;</th></tr>\n",
       "</thead>\n",
       "<tbody>\n",
       "\t<tr><td>1</td><td>3217587</td><td>3218374</td><td> 34.447420</td><td>63.52499</td></tr>\n",
       "\t<tr><td>1</td><td>3217587</td><td>3218374</td><td> 34.447420</td><td>63.52499</td></tr>\n",
       "\t<tr><td>1</td><td>3220743</td><td>3221048</td><td> 28.581351</td><td>56.90425</td></tr>\n",
       "\t<tr><td>1</td><td>3345154</td><td>3345717</td><td> 36.704545</td><td>32.82953</td></tr>\n",
       "\t<tr><td>1</td><td>4051952</td><td>4053137</td><td> 20.959421</td><td>28.86529</td></tr>\n",
       "\t<tr><td>1</td><td>4629700</td><td>4630175</td><td> 46.553885</td><td>33.61375</td></tr>\n",
       "\t<tr><td>1</td><td>4637485</td><td>4638157</td><td> 34.515721</td><td>49.10282</td></tr>\n",
       "\t<tr><td>1</td><td>5450701</td><td>5451197</td><td> 27.897250</td><td>32.36900</td></tr>\n",
       "\t<tr><td>1</td><td>5817810</td><td>5818172</td><td> 45.574525</td><td>44.43810</td></tr>\n",
       "\t<tr><td>1</td><td>5817810</td><td>5818172</td><td> 45.574525</td><td>44.43810</td></tr>\n",
       "\t<tr><td>1</td><td>5874527</td><td>5875312</td><td> 61.709820</td><td>72.21340</td></tr>\n",
       "\t<tr><td>1</td><td>5874527</td><td>5875312</td><td> 61.709820</td><td>72.21340</td></tr>\n",
       "\t<tr><td>1</td><td>6242099</td><td>6242427</td><td> 49.808049</td><td>97.17673</td></tr>\n",
       "\t<tr><td>1</td><td>6243918</td><td>6244444</td><td> 33.686341</td><td>41.09864</td></tr>\n",
       "\t<tr><td>1</td><td>6243918</td><td>6244444</td><td> 33.686341</td><td>41.09864</td></tr>\n",
       "\t<tr><td>1</td><td>6507228</td><td>6507701</td><td> 53.005189</td><td>45.23457</td></tr>\n",
       "\t<tr><td>1</td><td>6507228</td><td>6507701</td><td> 53.005189</td><td>45.23457</td></tr>\n",
       "\t<tr><td>1</td><td>7080914</td><td>7081581</td><td> 15.531787</td><td>41.44394</td></tr>\n",
       "\t<tr><td>1</td><td>7191681</td><td>7192002</td><td>  4.898659</td><td>26.25641</td></tr>\n",
       "\t<tr><td>1</td><td>7367856</td><td>7368557</td><td> 46.510493</td><td>31.77853</td></tr>\n",
       "\t<tr><td>1</td><td>7369557</td><td>7369775</td><td> 31.998781</td><td>76.90672</td></tr>\n",
       "\t<tr><td>1</td><td>7419532</td><td>7419744</td><td> 43.030045</td><td>41.90344</td></tr>\n",
       "\t<tr><td>1</td><td>7811400</td><td>7811500</td><td>-10.727049</td><td> 8.90821</td></tr>\n",
       "\t<tr><td>1</td><td>8018536</td><td>8019106</td><td> 47.845673</td><td>39.32832</td></tr>\n",
       "\t<tr><td>1</td><td>8019667</td><td>8019877</td><td> 32.828748</td><td>75.64447</td></tr>\n",
       "\t<tr><td>1</td><td>8019988</td><td>8020162</td><td> 53.084596</td><td>93.52850</td></tr>\n",
       "\t<tr><td>1</td><td>8019988</td><td>8020162</td><td> 53.084596</td><td>93.52850</td></tr>\n",
       "\t<tr><td>1</td><td>8098607</td><td>8098899</td><td> 28.235787</td><td>35.17210</td></tr>\n",
       "\t<tr><td>1</td><td>8098607</td><td>8098899</td><td> 28.235787</td><td>35.17210</td></tr>\n",
       "\t<tr><td>1</td><td>8138171</td><td>8138476</td><td> 34.305697</td><td>32.66176</td></tr>\n",
       "\t<tr><td>⋮</td><td>⋮</td><td>⋮</td><td>⋮</td><td>⋮</td></tr>\n",
       "\t<tr><td>Y</td><td>58566532</td><td>58567148</td><td>13.461922</td><td> 50.428087</td></tr>\n",
       "\t<tr><td>Y</td><td>59345030</td><td>59345338</td><td>16.909145</td><td> 58.277962</td></tr>\n",
       "\t<tr><td>Y</td><td>59460851</td><td>59461081</td><td> 3.845280</td><td> 27.218580</td></tr>\n",
       "\t<tr><td>Y</td><td>59460851</td><td>59461081</td><td> 3.845280</td><td> 27.218580</td></tr>\n",
       "\t<tr><td>Y</td><td>59461488</td><td>59461612</td><td>18.591792</td><td> 75.044795</td></tr>\n",
       "\t<tr><td>Y</td><td>59656210</td><td>59656549</td><td>32.898989</td><td> 24.025121</td></tr>\n",
       "\t<tr><td>Y</td><td>60540524</td><td>60540885</td><td> 8.897280</td><td> 26.166063</td></tr>\n",
       "\t<tr><td>Y</td><td>61159485</td><td>61159822</td><td> 7.912692</td><td> 65.570720</td></tr>\n",
       "\t<tr><td>Y</td><td>68889918</td><td>68890199</td><td>19.409073</td><td> 57.316549</td></tr>\n",
       "\t<tr><td>Y</td><td>73710414</td><td>73710825</td><td>25.217556</td><td> 33.401121</td></tr>\n",
       "\t<tr><td>Y</td><td>73710414</td><td>73710825</td><td>25.217556</td><td> 33.401121</td></tr>\n",
       "\t<tr><td>Y</td><td>74743855</td><td>74744333</td><td>27.475422</td><td> 31.661346</td></tr>\n",
       "\t<tr><td>Y</td><td>79365013</td><td>79365171</td><td>51.942632</td><td>168.159355</td></tr>\n",
       "\t<tr><td>Y</td><td>80629908</td><td>80630099</td><td>62.090724</td><td>109.698747</td></tr>\n",
       "\t<tr><td>Y</td><td>81938044</td><td>81938239</td><td>47.908589</td><td>166.677001</td></tr>\n",
       "\t<tr><td>Y</td><td>83806700</td><td>83807000</td><td>20.598335</td><td> 94.205093</td></tr>\n",
       "\t<tr><td>Y</td><td>84720699</td><td>84721009</td><td>35.194011</td><td> 67.643973</td></tr>\n",
       "\t<tr><td>Y</td><td>86451051</td><td>86451260</td><td>32.113595</td><td> 69.874348</td></tr>\n",
       "\t<tr><td>Y</td><td>86754756</td><td>86755231</td><td>17.234477</td><td> 54.561930</td></tr>\n",
       "\t<tr><td>Y</td><td>87320012</td><td>87320185</td><td>31.213402</td><td> 85.348932</td></tr>\n",
       "\t<tr><td>Y</td><td>87547118</td><td>87547387</td><td>13.160023</td><td> 24.356927</td></tr>\n",
       "\t<tr><td>Y</td><td>87791646</td><td>87792237</td><td>50.873638</td><td> 69.974286</td></tr>\n",
       "\t<tr><td>Y</td><td>87791646</td><td>87792237</td><td>50.873638</td><td> 69.974286</td></tr>\n",
       "\t<tr><td>Y</td><td>88476420</td><td>88476752</td><td>34.248953</td><td> 56.205729</td></tr>\n",
       "\t<tr><td>Y</td><td>88476420</td><td>88476752</td><td>34.248953</td><td> 56.205729</td></tr>\n",
       "\t<tr><td>Y</td><td>89136349</td><td>89136619</td><td> 1.268236</td><td>  1.581963</td></tr>\n",
       "\t<tr><td>Y</td><td>89315011</td><td>89315346</td><td>25.853435</td><td> 35.977328</td></tr>\n",
       "\t<tr><td>Y</td><td>90362577</td><td>90362748</td><td> 7.071081</td><td> 51.812520</td></tr>\n",
       "\t<tr><td>Y</td><td>90557539</td><td>90558372</td><td>33.162399</td><td> 67.041517</td></tr>\n",
       "\t<tr><td>Y</td><td>90584905</td><td>90585129</td><td>44.056268</td><td> 60.934521</td></tr>\n",
       "</tbody>\n",
       "</table>\n"
      ],
      "text/latex": [
       "A data.frame: 4819 × 5\n",
       "\\begin{tabular}{lllll}\n",
       " Chr & Start & End & E105\\_H3K9me3 & E135\\_H3K9me3\\\\\n",
       " <chr> & <int> & <int> & <dbl> & <dbl>\\\\\n",
       "\\hline\n",
       "\t 1 & 3217587 & 3218374 &  34.447420 & 63.52499\\\\\n",
       "\t 1 & 3217587 & 3218374 &  34.447420 & 63.52499\\\\\n",
       "\t 1 & 3220743 & 3221048 &  28.581351 & 56.90425\\\\\n",
       "\t 1 & 3345154 & 3345717 &  36.704545 & 32.82953\\\\\n",
       "\t 1 & 4051952 & 4053137 &  20.959421 & 28.86529\\\\\n",
       "\t 1 & 4629700 & 4630175 &  46.553885 & 33.61375\\\\\n",
       "\t 1 & 4637485 & 4638157 &  34.515721 & 49.10282\\\\\n",
       "\t 1 & 5450701 & 5451197 &  27.897250 & 32.36900\\\\\n",
       "\t 1 & 5817810 & 5818172 &  45.574525 & 44.43810\\\\\n",
       "\t 1 & 5817810 & 5818172 &  45.574525 & 44.43810\\\\\n",
       "\t 1 & 5874527 & 5875312 &  61.709820 & 72.21340\\\\\n",
       "\t 1 & 5874527 & 5875312 &  61.709820 & 72.21340\\\\\n",
       "\t 1 & 6242099 & 6242427 &  49.808049 & 97.17673\\\\\n",
       "\t 1 & 6243918 & 6244444 &  33.686341 & 41.09864\\\\\n",
       "\t 1 & 6243918 & 6244444 &  33.686341 & 41.09864\\\\\n",
       "\t 1 & 6507228 & 6507701 &  53.005189 & 45.23457\\\\\n",
       "\t 1 & 6507228 & 6507701 &  53.005189 & 45.23457\\\\\n",
       "\t 1 & 7080914 & 7081581 &  15.531787 & 41.44394\\\\\n",
       "\t 1 & 7191681 & 7192002 &   4.898659 & 26.25641\\\\\n",
       "\t 1 & 7367856 & 7368557 &  46.510493 & 31.77853\\\\\n",
       "\t 1 & 7369557 & 7369775 &  31.998781 & 76.90672\\\\\n",
       "\t 1 & 7419532 & 7419744 &  43.030045 & 41.90344\\\\\n",
       "\t 1 & 7811400 & 7811500 & -10.727049 &  8.90821\\\\\n",
       "\t 1 & 8018536 & 8019106 &  47.845673 & 39.32832\\\\\n",
       "\t 1 & 8019667 & 8019877 &  32.828748 & 75.64447\\\\\n",
       "\t 1 & 8019988 & 8020162 &  53.084596 & 93.52850\\\\\n",
       "\t 1 & 8019988 & 8020162 &  53.084596 & 93.52850\\\\\n",
       "\t 1 & 8098607 & 8098899 &  28.235787 & 35.17210\\\\\n",
       "\t 1 & 8098607 & 8098899 &  28.235787 & 35.17210\\\\\n",
       "\t 1 & 8138171 & 8138476 &  34.305697 & 32.66176\\\\\n",
       "\t ⋮ & ⋮ & ⋮ & ⋮ & ⋮\\\\\n",
       "\t Y & 58566532 & 58567148 & 13.461922 &  50.428087\\\\\n",
       "\t Y & 59345030 & 59345338 & 16.909145 &  58.277962\\\\\n",
       "\t Y & 59460851 & 59461081 &  3.845280 &  27.218580\\\\\n",
       "\t Y & 59460851 & 59461081 &  3.845280 &  27.218580\\\\\n",
       "\t Y & 59461488 & 59461612 & 18.591792 &  75.044795\\\\\n",
       "\t Y & 59656210 & 59656549 & 32.898989 &  24.025121\\\\\n",
       "\t Y & 60540524 & 60540885 &  8.897280 &  26.166063\\\\\n",
       "\t Y & 61159485 & 61159822 &  7.912692 &  65.570720\\\\\n",
       "\t Y & 68889918 & 68890199 & 19.409073 &  57.316549\\\\\n",
       "\t Y & 73710414 & 73710825 & 25.217556 &  33.401121\\\\\n",
       "\t Y & 73710414 & 73710825 & 25.217556 &  33.401121\\\\\n",
       "\t Y & 74743855 & 74744333 & 27.475422 &  31.661346\\\\\n",
       "\t Y & 79365013 & 79365171 & 51.942632 & 168.159355\\\\\n",
       "\t Y & 80629908 & 80630099 & 62.090724 & 109.698747\\\\\n",
       "\t Y & 81938044 & 81938239 & 47.908589 & 166.677001\\\\\n",
       "\t Y & 83806700 & 83807000 & 20.598335 &  94.205093\\\\\n",
       "\t Y & 84720699 & 84721009 & 35.194011 &  67.643973\\\\\n",
       "\t Y & 86451051 & 86451260 & 32.113595 &  69.874348\\\\\n",
       "\t Y & 86754756 & 86755231 & 17.234477 &  54.561930\\\\\n",
       "\t Y & 87320012 & 87320185 & 31.213402 &  85.348932\\\\\n",
       "\t Y & 87547118 & 87547387 & 13.160023 &  24.356927\\\\\n",
       "\t Y & 87791646 & 87792237 & 50.873638 &  69.974286\\\\\n",
       "\t Y & 87791646 & 87792237 & 50.873638 &  69.974286\\\\\n",
       "\t Y & 88476420 & 88476752 & 34.248953 &  56.205729\\\\\n",
       "\t Y & 88476420 & 88476752 & 34.248953 &  56.205729\\\\\n",
       "\t Y & 89136349 & 89136619 &  1.268236 &   1.581963\\\\\n",
       "\t Y & 89315011 & 89315346 & 25.853435 &  35.977328\\\\\n",
       "\t Y & 90362577 & 90362748 &  7.071081 &  51.812520\\\\\n",
       "\t Y & 90557539 & 90558372 & 33.162399 &  67.041517\\\\\n",
       "\t Y & 90584905 & 90585129 & 44.056268 &  60.934521\\\\\n",
       "\\end{tabular}\n"
      ],
      "text/markdown": [
       "\n",
       "A data.frame: 4819 × 5\n",
       "\n",
       "| Chr &lt;chr&gt; | Start &lt;int&gt; | End &lt;int&gt; | E105_H3K9me3 &lt;dbl&gt; | E135_H3K9me3 &lt;dbl&gt; |\n",
       "|---|---|---|---|---|\n",
       "| 1 | 3217587 | 3218374 |  34.447420 | 63.52499 |\n",
       "| 1 | 3217587 | 3218374 |  34.447420 | 63.52499 |\n",
       "| 1 | 3220743 | 3221048 |  28.581351 | 56.90425 |\n",
       "| 1 | 3345154 | 3345717 |  36.704545 | 32.82953 |\n",
       "| 1 | 4051952 | 4053137 |  20.959421 | 28.86529 |\n",
       "| 1 | 4629700 | 4630175 |  46.553885 | 33.61375 |\n",
       "| 1 | 4637485 | 4638157 |  34.515721 | 49.10282 |\n",
       "| 1 | 5450701 | 5451197 |  27.897250 | 32.36900 |\n",
       "| 1 | 5817810 | 5818172 |  45.574525 | 44.43810 |\n",
       "| 1 | 5817810 | 5818172 |  45.574525 | 44.43810 |\n",
       "| 1 | 5874527 | 5875312 |  61.709820 | 72.21340 |\n",
       "| 1 | 5874527 | 5875312 |  61.709820 | 72.21340 |\n",
       "| 1 | 6242099 | 6242427 |  49.808049 | 97.17673 |\n",
       "| 1 | 6243918 | 6244444 |  33.686341 | 41.09864 |\n",
       "| 1 | 6243918 | 6244444 |  33.686341 | 41.09864 |\n",
       "| 1 | 6507228 | 6507701 |  53.005189 | 45.23457 |\n",
       "| 1 | 6507228 | 6507701 |  53.005189 | 45.23457 |\n",
       "| 1 | 7080914 | 7081581 |  15.531787 | 41.44394 |\n",
       "| 1 | 7191681 | 7192002 |   4.898659 | 26.25641 |\n",
       "| 1 | 7367856 | 7368557 |  46.510493 | 31.77853 |\n",
       "| 1 | 7369557 | 7369775 |  31.998781 | 76.90672 |\n",
       "| 1 | 7419532 | 7419744 |  43.030045 | 41.90344 |\n",
       "| 1 | 7811400 | 7811500 | -10.727049 |  8.90821 |\n",
       "| 1 | 8018536 | 8019106 |  47.845673 | 39.32832 |\n",
       "| 1 | 8019667 | 8019877 |  32.828748 | 75.64447 |\n",
       "| 1 | 8019988 | 8020162 |  53.084596 | 93.52850 |\n",
       "| 1 | 8019988 | 8020162 |  53.084596 | 93.52850 |\n",
       "| 1 | 8098607 | 8098899 |  28.235787 | 35.17210 |\n",
       "| 1 | 8098607 | 8098899 |  28.235787 | 35.17210 |\n",
       "| 1 | 8138171 | 8138476 |  34.305697 | 32.66176 |\n",
       "| ⋮ | ⋮ | ⋮ | ⋮ | ⋮ |\n",
       "| Y | 58566532 | 58567148 | 13.461922 |  50.428087 |\n",
       "| Y | 59345030 | 59345338 | 16.909145 |  58.277962 |\n",
       "| Y | 59460851 | 59461081 |  3.845280 |  27.218580 |\n",
       "| Y | 59460851 | 59461081 |  3.845280 |  27.218580 |\n",
       "| Y | 59461488 | 59461612 | 18.591792 |  75.044795 |\n",
       "| Y | 59656210 | 59656549 | 32.898989 |  24.025121 |\n",
       "| Y | 60540524 | 60540885 |  8.897280 |  26.166063 |\n",
       "| Y | 61159485 | 61159822 |  7.912692 |  65.570720 |\n",
       "| Y | 68889918 | 68890199 | 19.409073 |  57.316549 |\n",
       "| Y | 73710414 | 73710825 | 25.217556 |  33.401121 |\n",
       "| Y | 73710414 | 73710825 | 25.217556 |  33.401121 |\n",
       "| Y | 74743855 | 74744333 | 27.475422 |  31.661346 |\n",
       "| Y | 79365013 | 79365171 | 51.942632 | 168.159355 |\n",
       "| Y | 80629908 | 80630099 | 62.090724 | 109.698747 |\n",
       "| Y | 81938044 | 81938239 | 47.908589 | 166.677001 |\n",
       "| Y | 83806700 | 83807000 | 20.598335 |  94.205093 |\n",
       "| Y | 84720699 | 84721009 | 35.194011 |  67.643973 |\n",
       "| Y | 86451051 | 86451260 | 32.113595 |  69.874348 |\n",
       "| Y | 86754756 | 86755231 | 17.234477 |  54.561930 |\n",
       "| Y | 87320012 | 87320185 | 31.213402 |  85.348932 |\n",
       "| Y | 87547118 | 87547387 | 13.160023 |  24.356927 |\n",
       "| Y | 87791646 | 87792237 | 50.873638 |  69.974286 |\n",
       "| Y | 87791646 | 87792237 | 50.873638 |  69.974286 |\n",
       "| Y | 88476420 | 88476752 | 34.248953 |  56.205729 |\n",
       "| Y | 88476420 | 88476752 | 34.248953 |  56.205729 |\n",
       "| Y | 89136349 | 89136619 |  1.268236 |   1.581963 |\n",
       "| Y | 89315011 | 89315346 | 25.853435 |  35.977328 |\n",
       "| Y | 90362577 | 90362748 |  7.071081 |  51.812520 |\n",
       "| Y | 90557539 | 90558372 | 33.162399 |  67.041517 |\n",
       "| Y | 90584905 | 90585129 | 44.056268 |  60.934521 |\n",
       "\n"
      ],
      "text/plain": [
       "     Chr Start    End      E105_H3K9me3 E135_H3K9me3\n",
       "1    1   3217587  3218374   34.447420   63.52499    \n",
       "2    1   3217587  3218374   34.447420   63.52499    \n",
       "3    1   3220743  3221048   28.581351   56.90425    \n",
       "4    1   3345154  3345717   36.704545   32.82953    \n",
       "5    1   4051952  4053137   20.959421   28.86529    \n",
       "6    1   4629700  4630175   46.553885   33.61375    \n",
       "7    1   4637485  4638157   34.515721   49.10282    \n",
       "8    1   5450701  5451197   27.897250   32.36900    \n",
       "9    1   5817810  5818172   45.574525   44.43810    \n",
       "10   1   5817810  5818172   45.574525   44.43810    \n",
       "11   1   5874527  5875312   61.709820   72.21340    \n",
       "12   1   5874527  5875312   61.709820   72.21340    \n",
       "13   1   6242099  6242427   49.808049   97.17673    \n",
       "14   1   6243918  6244444   33.686341   41.09864    \n",
       "15   1   6243918  6244444   33.686341   41.09864    \n",
       "16   1   6507228  6507701   53.005189   45.23457    \n",
       "17   1   6507228  6507701   53.005189   45.23457    \n",
       "18   1   7080914  7081581   15.531787   41.44394    \n",
       "19   1   7191681  7192002    4.898659   26.25641    \n",
       "20   1   7367856  7368557   46.510493   31.77853    \n",
       "21   1   7369557  7369775   31.998781   76.90672    \n",
       "22   1   7419532  7419744   43.030045   41.90344    \n",
       "23   1   7811400  7811500  -10.727049    8.90821    \n",
       "24   1   8018536  8019106   47.845673   39.32832    \n",
       "25   1   8019667  8019877   32.828748   75.64447    \n",
       "26   1   8019988  8020162   53.084596   93.52850    \n",
       "27   1   8019988  8020162   53.084596   93.52850    \n",
       "28   1   8098607  8098899   28.235787   35.17210    \n",
       "29   1   8098607  8098899   28.235787   35.17210    \n",
       "30   1   8138171  8138476   34.305697   32.66176    \n",
       "⋮    ⋮   ⋮        ⋮        ⋮            ⋮           \n",
       "4790 Y   58566532 58567148 13.461922     50.428087  \n",
       "4791 Y   59345030 59345338 16.909145     58.277962  \n",
       "4792 Y   59460851 59461081  3.845280     27.218580  \n",
       "4793 Y   59460851 59461081  3.845280     27.218580  \n",
       "4794 Y   59461488 59461612 18.591792     75.044795  \n",
       "4795 Y   59656210 59656549 32.898989     24.025121  \n",
       "4796 Y   60540524 60540885  8.897280     26.166063  \n",
       "4797 Y   61159485 61159822  7.912692     65.570720  \n",
       "4798 Y   68889918 68890199 19.409073     57.316549  \n",
       "4799 Y   73710414 73710825 25.217556     33.401121  \n",
       "4800 Y   73710414 73710825 25.217556     33.401121  \n",
       "4801 Y   74743855 74744333 27.475422     31.661346  \n",
       "4802 Y   79365013 79365171 51.942632    168.159355  \n",
       "4803 Y   80629908 80630099 62.090724    109.698747  \n",
       "4804 Y   81938044 81938239 47.908589    166.677001  \n",
       "4805 Y   83806700 83807000 20.598335     94.205093  \n",
       "4806 Y   84720699 84721009 35.194011     67.643973  \n",
       "4807 Y   86451051 86451260 32.113595     69.874348  \n",
       "4808 Y   86754756 86755231 17.234477     54.561930  \n",
       "4809 Y   87320012 87320185 31.213402     85.348932  \n",
       "4810 Y   87547118 87547387 13.160023     24.356927  \n",
       "4811 Y   87791646 87792237 50.873638     69.974286  \n",
       "4812 Y   87791646 87792237 50.873638     69.974286  \n",
       "4813 Y   88476420 88476752 34.248953     56.205729  \n",
       "4814 Y   88476420 88476752 34.248953     56.205729  \n",
       "4815 Y   89136349 89136619  1.268236      1.581963  \n",
       "4816 Y   89315011 89315346 25.853435     35.977328  \n",
       "4817 Y   90362577 90362748  7.071081     51.812520  \n",
       "4818 Y   90557539 90558372 33.162399     67.041517  \n",
       "4819 Y   90584905 90585129 44.056268     60.934521  "
      ]
     },
     "metadata": {},
     "output_type": "display_data"
    },
    {
     "data": {
      "text/html": [
       "<table class=\"dataframe\">\n",
       "<caption>A data.frame: 1911 × 5</caption>\n",
       "<thead>\n",
       "\t<tr><th scope=col>Chr</th><th scope=col>Start</th><th scope=col>End</th><th scope=col>E105_H3K9me3</th><th scope=col>E135_H3K9me3</th></tr>\n",
       "\t<tr><th scope=col>&lt;chr&gt;</th><th scope=col>&lt;int&gt;</th><th scope=col>&lt;int&gt;</th><th scope=col>&lt;dbl&gt;</th><th scope=col>&lt;dbl&gt;</th></tr>\n",
       "</thead>\n",
       "<tbody>\n",
       "\t<tr><td>1</td><td> 3642161</td><td> 3642557</td><td>-5.73733197</td><td> 4.02131928</td></tr>\n",
       "\t<tr><td>1</td><td> 5227199</td><td> 5227300</td><td>-2.11824288</td><td>10.04807206</td></tr>\n",
       "\t<tr><td>1</td><td> 6337455</td><td> 6337575</td><td>11.04376825</td><td> 7.74345619</td></tr>\n",
       "\t<tr><td>1</td><td> 8105660</td><td> 8105872</td><td>11.52134173</td><td>26.06565735</td></tr>\n",
       "\t<tr><td>1</td><td> 9283825</td><td> 9283989</td><td>10.73395938</td><td>10.48631902</td></tr>\n",
       "\t<tr><td>1</td><td>16117471</td><td>16117739</td><td>-4.32679785</td><td> 0.40683470</td></tr>\n",
       "\t<tr><td>1</td><td>16117471</td><td>16117739</td><td>-4.32679785</td><td> 0.40683470</td></tr>\n",
       "\t<tr><td>1</td><td>17846173</td><td>17846561</td><td> 5.41274737</td><td>10.96495393</td></tr>\n",
       "\t<tr><td>1</td><td>19695687</td><td>19695998</td><td>28.02639709</td><td>81.95592108</td></tr>\n",
       "\t<tr><td>1</td><td>23793497</td><td>23793745</td><td>-2.91673133</td><td> 1.44281102</td></tr>\n",
       "\t<tr><td>1</td><td>23900057</td><td>23900306</td><td> 0.26013895</td><td>-4.35968730</td></tr>\n",
       "\t<tr><td>1</td><td>24334333</td><td>24334446</td><td>-3.57387094</td><td>-0.04571051</td></tr>\n",
       "\t<tr><td>1</td><td>25804020</td><td>25804164</td><td> 2.07916999</td><td> 2.97924157</td></tr>\n",
       "\t<tr><td>1</td><td>34493591</td><td>34493700</td><td> 2.37831498</td><td>-6.11162365</td></tr>\n",
       "\t<tr><td>1</td><td>35302931</td><td>35303102</td><td>-9.39311208</td><td> 7.42858896</td></tr>\n",
       "\t<tr><td>1</td><td>37056526</td><td>37056678</td><td> 3.06546513</td><td>-8.97321673</td></tr>\n",
       "\t<tr><td>1</td><td>37061388</td><td>37061515</td><td> 5.48702747</td><td>-0.80791434</td></tr>\n",
       "\t<tr><td>1</td><td>38178707</td><td>38179134</td><td>-7.16113763</td><td>-2.88855451</td></tr>\n",
       "\t<tr><td>1</td><td>39124392</td><td>39124570</td><td> 8.31031623</td><td>-5.32753975</td></tr>\n",
       "\t<tr><td>1</td><td>40831944</td><td>40832395</td><td>-7.76314139</td><td>-2.09223181</td></tr>\n",
       "\t<tr><td>1</td><td>47256819</td><td>47257103</td><td>-2.94298849</td><td>-1.47665687</td></tr>\n",
       "\t<tr><td>1</td><td>47306119</td><td>47306279</td><td> 5.80478124</td><td>13.18252889</td></tr>\n",
       "\t<tr><td>1</td><td>50228163</td><td>50228325</td><td>-5.67084706</td><td>-3.41021164</td></tr>\n",
       "\t<tr><td>1</td><td>52604659</td><td>52604917</td><td>-0.64802952</td><td>-1.36122364</td></tr>\n",
       "\t<tr><td>1</td><td>53545091</td><td>53545237</td><td>42.44270829</td><td>51.48051586</td></tr>\n",
       "\t<tr><td>1</td><td>53545091</td><td>53545237</td><td>42.44270829</td><td>51.48051586</td></tr>\n",
       "\t<tr><td>1</td><td>54566084</td><td>54566240</td><td>-4.10505488</td><td>10.12021646</td></tr>\n",
       "\t<tr><td>1</td><td>55610478</td><td>55610681</td><td>-0.04042671</td><td> 1.92200235</td></tr>\n",
       "\t<tr><td>1</td><td>57689141</td><td>57689243</td><td> 1.29302352</td><td>-4.40620741</td></tr>\n",
       "\t<tr><td>1</td><td>57810197</td><td>57810513</td><td> 2.28211953</td><td>-0.20997943</td></tr>\n",
       "\t<tr><td>⋮</td><td>⋮</td><td>⋮</td><td>⋮</td><td>⋮</td></tr>\n",
       "\t<tr><td>X</td><td>135091729</td><td>135091987</td><td>-0.5032910</td><td> -2.81302092</td></tr>\n",
       "\t<tr><td>X</td><td>135091729</td><td>135091987</td><td>-0.5032910</td><td> -2.81302092</td></tr>\n",
       "\t<tr><td>X</td><td>135689037</td><td>135689175</td><td>-7.1602360</td><td> -1.31615719</td></tr>\n",
       "\t<tr><td>X</td><td>139004402</td><td>139004579</td><td> 6.2512049</td><td> -0.57938599</td></tr>\n",
       "\t<tr><td>X</td><td>140769852</td><td>140770115</td><td>-7.7865499</td><td>  4.11085148</td></tr>\n",
       "\t<tr><td>X</td><td>141150595</td><td>141150824</td><td> 1.8941224</td><td>  3.46825081</td></tr>\n",
       "\t<tr><td>X</td><td>147174400</td><td>147174719</td><td> 4.2626338</td><td>121.27113285</td></tr>\n",
       "\t<tr><td>X</td><td>147431195</td><td>147431483</td><td>37.2281006</td><td>126.78824825</td></tr>\n",
       "\t<tr><td>X</td><td>147762036</td><td>147762420</td><td>19.7472886</td><td> 90.98820086</td></tr>\n",
       "\t<tr><td>X</td><td>147784717</td><td>147784868</td><td>30.9649099</td><td>114.98471251</td></tr>\n",
       "\t<tr><td>X</td><td>148652891</td><td>148653221</td><td> 7.8896084</td><td> 34.38072088</td></tr>\n",
       "\t<tr><td>X</td><td>153053490</td><td>153053661</td><td> 6.4162925</td><td>  9.65067911</td></tr>\n",
       "\t<tr><td>X</td><td>153116274</td><td>153116424</td><td> 9.1689723</td><td> 29.65369167</td></tr>\n",
       "\t<tr><td>X</td><td>156234148</td><td>156234347</td><td>-2.6439007</td><td> -5.25346518</td></tr>\n",
       "\t<tr><td>X</td><td>157330561</td><td>157330714</td><td>11.1561619</td><td> 23.21695163</td></tr>\n",
       "\t<tr><td>X</td><td>157330561</td><td>157330714</td><td>11.1561619</td><td> 23.21695163</td></tr>\n",
       "\t<tr><td>X</td><td>159389431</td><td>159389632</td><td>-2.6550771</td><td> -1.17404327</td></tr>\n",
       "\t<tr><td>X</td><td>159786183</td><td>159786343</td><td> 0.5393802</td><td> -0.02658965</td></tr>\n",
       "\t<tr><td>X</td><td>159786183</td><td>159786343</td><td> 0.5393802</td><td> -0.02658965</td></tr>\n",
       "\t<tr><td>X</td><td>159831403</td><td>159831613</td><td>-6.4356233</td><td> -4.06740395</td></tr>\n",
       "\t<tr><td>X</td><td>161782020</td><td>161782122</td><td> 2.3212290</td><td> -9.95735940</td></tr>\n",
       "\t<tr><td>X</td><td>164844453</td><td>164844596</td><td> 2.3573280</td><td> -1.71775305</td></tr>\n",
       "\t<tr><td>X</td><td>165291327</td><td>165291800</td><td> 1.7343001</td><td> -3.00180108</td></tr>\n",
       "\t<tr><td>Y</td><td>   691446</td><td>   691655</td><td>58.1351497</td><td>  6.63636524</td></tr>\n",
       "\t<tr><td>Y</td><td> 11601029</td><td> 11601180</td><td> 1.0209597</td><td>  0.00000000</td></tr>\n",
       "\t<tr><td>Y</td><td> 15379136</td><td> 15379315</td><td> 0.3726792</td><td>  0.00000000</td></tr>\n",
       "\t<tr><td>Y</td><td> 15379136</td><td> 15379315</td><td> 0.3726792</td><td>  0.00000000</td></tr>\n",
       "\t<tr><td>Y</td><td> 30011356</td><td> 30011553</td><td>22.1959318</td><td> -1.49009599</td></tr>\n",
       "\t<tr><td>Y</td><td> 38858644</td><td> 38858821</td><td> 2.9646308</td><td>  0.00000000</td></tr>\n",
       "\t<tr><td>Y</td><td> 59672879</td><td> 59672996</td><td> 7.5503631</td><td> 15.97908490</td></tr>\n",
       "</tbody>\n",
       "</table>\n"
      ],
      "text/latex": [
       "A data.frame: 1911 × 5\n",
       "\\begin{tabular}{lllll}\n",
       " Chr & Start & End & E105\\_H3K9me3 & E135\\_H3K9me3\\\\\n",
       " <chr> & <int> & <int> & <dbl> & <dbl>\\\\\n",
       "\\hline\n",
       "\t 1 &  3642161 &  3642557 & -5.73733197 &  4.02131928\\\\\n",
       "\t 1 &  5227199 &  5227300 & -2.11824288 & 10.04807206\\\\\n",
       "\t 1 &  6337455 &  6337575 & 11.04376825 &  7.74345619\\\\\n",
       "\t 1 &  8105660 &  8105872 & 11.52134173 & 26.06565735\\\\\n",
       "\t 1 &  9283825 &  9283989 & 10.73395938 & 10.48631902\\\\\n",
       "\t 1 & 16117471 & 16117739 & -4.32679785 &  0.40683470\\\\\n",
       "\t 1 & 16117471 & 16117739 & -4.32679785 &  0.40683470\\\\\n",
       "\t 1 & 17846173 & 17846561 &  5.41274737 & 10.96495393\\\\\n",
       "\t 1 & 19695687 & 19695998 & 28.02639709 & 81.95592108\\\\\n",
       "\t 1 & 23793497 & 23793745 & -2.91673133 &  1.44281102\\\\\n",
       "\t 1 & 23900057 & 23900306 &  0.26013895 & -4.35968730\\\\\n",
       "\t 1 & 24334333 & 24334446 & -3.57387094 & -0.04571051\\\\\n",
       "\t 1 & 25804020 & 25804164 &  2.07916999 &  2.97924157\\\\\n",
       "\t 1 & 34493591 & 34493700 &  2.37831498 & -6.11162365\\\\\n",
       "\t 1 & 35302931 & 35303102 & -9.39311208 &  7.42858896\\\\\n",
       "\t 1 & 37056526 & 37056678 &  3.06546513 & -8.97321673\\\\\n",
       "\t 1 & 37061388 & 37061515 &  5.48702747 & -0.80791434\\\\\n",
       "\t 1 & 38178707 & 38179134 & -7.16113763 & -2.88855451\\\\\n",
       "\t 1 & 39124392 & 39124570 &  8.31031623 & -5.32753975\\\\\n",
       "\t 1 & 40831944 & 40832395 & -7.76314139 & -2.09223181\\\\\n",
       "\t 1 & 47256819 & 47257103 & -2.94298849 & -1.47665687\\\\\n",
       "\t 1 & 47306119 & 47306279 &  5.80478124 & 13.18252889\\\\\n",
       "\t 1 & 50228163 & 50228325 & -5.67084706 & -3.41021164\\\\\n",
       "\t 1 & 52604659 & 52604917 & -0.64802952 & -1.36122364\\\\\n",
       "\t 1 & 53545091 & 53545237 & 42.44270829 & 51.48051586\\\\\n",
       "\t 1 & 53545091 & 53545237 & 42.44270829 & 51.48051586\\\\\n",
       "\t 1 & 54566084 & 54566240 & -4.10505488 & 10.12021646\\\\\n",
       "\t 1 & 55610478 & 55610681 & -0.04042671 &  1.92200235\\\\\n",
       "\t 1 & 57689141 & 57689243 &  1.29302352 & -4.40620741\\\\\n",
       "\t 1 & 57810197 & 57810513 &  2.28211953 & -0.20997943\\\\\n",
       "\t ⋮ & ⋮ & ⋮ & ⋮ & ⋮\\\\\n",
       "\t X & 135091729 & 135091987 & -0.5032910 &  -2.81302092\\\\\n",
       "\t X & 135091729 & 135091987 & -0.5032910 &  -2.81302092\\\\\n",
       "\t X & 135689037 & 135689175 & -7.1602360 &  -1.31615719\\\\\n",
       "\t X & 139004402 & 139004579 &  6.2512049 &  -0.57938599\\\\\n",
       "\t X & 140769852 & 140770115 & -7.7865499 &   4.11085148\\\\\n",
       "\t X & 141150595 & 141150824 &  1.8941224 &   3.46825081\\\\\n",
       "\t X & 147174400 & 147174719 &  4.2626338 & 121.27113285\\\\\n",
       "\t X & 147431195 & 147431483 & 37.2281006 & 126.78824825\\\\\n",
       "\t X & 147762036 & 147762420 & 19.7472886 &  90.98820086\\\\\n",
       "\t X & 147784717 & 147784868 & 30.9649099 & 114.98471251\\\\\n",
       "\t X & 148652891 & 148653221 &  7.8896084 &  34.38072088\\\\\n",
       "\t X & 153053490 & 153053661 &  6.4162925 &   9.65067911\\\\\n",
       "\t X & 153116274 & 153116424 &  9.1689723 &  29.65369167\\\\\n",
       "\t X & 156234148 & 156234347 & -2.6439007 &  -5.25346518\\\\\n",
       "\t X & 157330561 & 157330714 & 11.1561619 &  23.21695163\\\\\n",
       "\t X & 157330561 & 157330714 & 11.1561619 &  23.21695163\\\\\n",
       "\t X & 159389431 & 159389632 & -2.6550771 &  -1.17404327\\\\\n",
       "\t X & 159786183 & 159786343 &  0.5393802 &  -0.02658965\\\\\n",
       "\t X & 159786183 & 159786343 &  0.5393802 &  -0.02658965\\\\\n",
       "\t X & 159831403 & 159831613 & -6.4356233 &  -4.06740395\\\\\n",
       "\t X & 161782020 & 161782122 &  2.3212290 &  -9.95735940\\\\\n",
       "\t X & 164844453 & 164844596 &  2.3573280 &  -1.71775305\\\\\n",
       "\t X & 165291327 & 165291800 &  1.7343001 &  -3.00180108\\\\\n",
       "\t Y &    691446 &    691655 & 58.1351497 &   6.63636524\\\\\n",
       "\t Y &  11601029 &  11601180 &  1.0209597 &   0.00000000\\\\\n",
       "\t Y &  15379136 &  15379315 &  0.3726792 &   0.00000000\\\\\n",
       "\t Y &  15379136 &  15379315 &  0.3726792 &   0.00000000\\\\\n",
       "\t Y &  30011356 &  30011553 & 22.1959318 &  -1.49009599\\\\\n",
       "\t Y &  38858644 &  38858821 &  2.9646308 &   0.00000000\\\\\n",
       "\t Y &  59672879 &  59672996 &  7.5503631 &  15.97908490\\\\\n",
       "\\end{tabular}\n"
      ],
      "text/markdown": [
       "\n",
       "A data.frame: 1911 × 5\n",
       "\n",
       "| Chr &lt;chr&gt; | Start &lt;int&gt; | End &lt;int&gt; | E105_H3K9me3 &lt;dbl&gt; | E135_H3K9me3 &lt;dbl&gt; |\n",
       "|---|---|---|---|---|\n",
       "| 1 |  3642161 |  3642557 | -5.73733197 |  4.02131928 |\n",
       "| 1 |  5227199 |  5227300 | -2.11824288 | 10.04807206 |\n",
       "| 1 |  6337455 |  6337575 | 11.04376825 |  7.74345619 |\n",
       "| 1 |  8105660 |  8105872 | 11.52134173 | 26.06565735 |\n",
       "| 1 |  9283825 |  9283989 | 10.73395938 | 10.48631902 |\n",
       "| 1 | 16117471 | 16117739 | -4.32679785 |  0.40683470 |\n",
       "| 1 | 16117471 | 16117739 | -4.32679785 |  0.40683470 |\n",
       "| 1 | 17846173 | 17846561 |  5.41274737 | 10.96495393 |\n",
       "| 1 | 19695687 | 19695998 | 28.02639709 | 81.95592108 |\n",
       "| 1 | 23793497 | 23793745 | -2.91673133 |  1.44281102 |\n",
       "| 1 | 23900057 | 23900306 |  0.26013895 | -4.35968730 |\n",
       "| 1 | 24334333 | 24334446 | -3.57387094 | -0.04571051 |\n",
       "| 1 | 25804020 | 25804164 |  2.07916999 |  2.97924157 |\n",
       "| 1 | 34493591 | 34493700 |  2.37831498 | -6.11162365 |\n",
       "| 1 | 35302931 | 35303102 | -9.39311208 |  7.42858896 |\n",
       "| 1 | 37056526 | 37056678 |  3.06546513 | -8.97321673 |\n",
       "| 1 | 37061388 | 37061515 |  5.48702747 | -0.80791434 |\n",
       "| 1 | 38178707 | 38179134 | -7.16113763 | -2.88855451 |\n",
       "| 1 | 39124392 | 39124570 |  8.31031623 | -5.32753975 |\n",
       "| 1 | 40831944 | 40832395 | -7.76314139 | -2.09223181 |\n",
       "| 1 | 47256819 | 47257103 | -2.94298849 | -1.47665687 |\n",
       "| 1 | 47306119 | 47306279 |  5.80478124 | 13.18252889 |\n",
       "| 1 | 50228163 | 50228325 | -5.67084706 | -3.41021164 |\n",
       "| 1 | 52604659 | 52604917 | -0.64802952 | -1.36122364 |\n",
       "| 1 | 53545091 | 53545237 | 42.44270829 | 51.48051586 |\n",
       "| 1 | 53545091 | 53545237 | 42.44270829 | 51.48051586 |\n",
       "| 1 | 54566084 | 54566240 | -4.10505488 | 10.12021646 |\n",
       "| 1 | 55610478 | 55610681 | -0.04042671 |  1.92200235 |\n",
       "| 1 | 57689141 | 57689243 |  1.29302352 | -4.40620741 |\n",
       "| 1 | 57810197 | 57810513 |  2.28211953 | -0.20997943 |\n",
       "| ⋮ | ⋮ | ⋮ | ⋮ | ⋮ |\n",
       "| X | 135091729 | 135091987 | -0.5032910 |  -2.81302092 |\n",
       "| X | 135091729 | 135091987 | -0.5032910 |  -2.81302092 |\n",
       "| X | 135689037 | 135689175 | -7.1602360 |  -1.31615719 |\n",
       "| X | 139004402 | 139004579 |  6.2512049 |  -0.57938599 |\n",
       "| X | 140769852 | 140770115 | -7.7865499 |   4.11085148 |\n",
       "| X | 141150595 | 141150824 |  1.8941224 |   3.46825081 |\n",
       "| X | 147174400 | 147174719 |  4.2626338 | 121.27113285 |\n",
       "| X | 147431195 | 147431483 | 37.2281006 | 126.78824825 |\n",
       "| X | 147762036 | 147762420 | 19.7472886 |  90.98820086 |\n",
       "| X | 147784717 | 147784868 | 30.9649099 | 114.98471251 |\n",
       "| X | 148652891 | 148653221 |  7.8896084 |  34.38072088 |\n",
       "| X | 153053490 | 153053661 |  6.4162925 |   9.65067911 |\n",
       "| X | 153116274 | 153116424 |  9.1689723 |  29.65369167 |\n",
       "| X | 156234148 | 156234347 | -2.6439007 |  -5.25346518 |\n",
       "| X | 157330561 | 157330714 | 11.1561619 |  23.21695163 |\n",
       "| X | 157330561 | 157330714 | 11.1561619 |  23.21695163 |\n",
       "| X | 159389431 | 159389632 | -2.6550771 |  -1.17404327 |\n",
       "| X | 159786183 | 159786343 |  0.5393802 |  -0.02658965 |\n",
       "| X | 159786183 | 159786343 |  0.5393802 |  -0.02658965 |\n",
       "| X | 159831403 | 159831613 | -6.4356233 |  -4.06740395 |\n",
       "| X | 161782020 | 161782122 |  2.3212290 |  -9.95735940 |\n",
       "| X | 164844453 | 164844596 |  2.3573280 |  -1.71775305 |\n",
       "| X | 165291327 | 165291800 |  1.7343001 |  -3.00180108 |\n",
       "| Y |    691446 |    691655 | 58.1351497 |   6.63636524 |\n",
       "| Y |  11601029 |  11601180 |  1.0209597 |   0.00000000 |\n",
       "| Y |  15379136 |  15379315 |  0.3726792 |   0.00000000 |\n",
       "| Y |  15379136 |  15379315 |  0.3726792 |   0.00000000 |\n",
       "| Y |  30011356 |  30011553 | 22.1959318 |  -1.49009599 |\n",
       "| Y |  38858644 |  38858821 |  2.9646308 |   0.00000000 |\n",
       "| Y |  59672879 |  59672996 |  7.5503631 |  15.97908490 |\n",
       "\n"
      ],
      "text/plain": [
       "     Chr Start     End       E105_H3K9me3 E135_H3K9me3\n",
       "1    1    3642161   3642557  -5.73733197   4.02131928 \n",
       "2    1    5227199   5227300  -2.11824288  10.04807206 \n",
       "3    1    6337455   6337575  11.04376825   7.74345619 \n",
       "4    1    8105660   8105872  11.52134173  26.06565735 \n",
       "5    1    9283825   9283989  10.73395938  10.48631902 \n",
       "6    1   16117471  16117739  -4.32679785   0.40683470 \n",
       "7    1   16117471  16117739  -4.32679785   0.40683470 \n",
       "8    1   17846173  17846561   5.41274737  10.96495393 \n",
       "9    1   19695687  19695998  28.02639709  81.95592108 \n",
       "10   1   23793497  23793745  -2.91673133   1.44281102 \n",
       "11   1   23900057  23900306   0.26013895  -4.35968730 \n",
       "12   1   24334333  24334446  -3.57387094  -0.04571051 \n",
       "13   1   25804020  25804164   2.07916999   2.97924157 \n",
       "14   1   34493591  34493700   2.37831498  -6.11162365 \n",
       "15   1   35302931  35303102  -9.39311208   7.42858896 \n",
       "16   1   37056526  37056678   3.06546513  -8.97321673 \n",
       "17   1   37061388  37061515   5.48702747  -0.80791434 \n",
       "18   1   38178707  38179134  -7.16113763  -2.88855451 \n",
       "19   1   39124392  39124570   8.31031623  -5.32753975 \n",
       "20   1   40831944  40832395  -7.76314139  -2.09223181 \n",
       "21   1   47256819  47257103  -2.94298849  -1.47665687 \n",
       "22   1   47306119  47306279   5.80478124  13.18252889 \n",
       "23   1   50228163  50228325  -5.67084706  -3.41021164 \n",
       "24   1   52604659  52604917  -0.64802952  -1.36122364 \n",
       "25   1   53545091  53545237  42.44270829  51.48051586 \n",
       "26   1   53545091  53545237  42.44270829  51.48051586 \n",
       "27   1   54566084  54566240  -4.10505488  10.12021646 \n",
       "28   1   55610478  55610681  -0.04042671   1.92200235 \n",
       "29   1   57689141  57689243   1.29302352  -4.40620741 \n",
       "30   1   57810197  57810513   2.28211953  -0.20997943 \n",
       "⋮    ⋮   ⋮         ⋮         ⋮            ⋮           \n",
       "1882 X   135091729 135091987 -0.5032910    -2.81302092\n",
       "1883 X   135091729 135091987 -0.5032910    -2.81302092\n",
       "1884 X   135689037 135689175 -7.1602360    -1.31615719\n",
       "1885 X   139004402 139004579  6.2512049    -0.57938599\n",
       "1886 X   140769852 140770115 -7.7865499     4.11085148\n",
       "1887 X   141150595 141150824  1.8941224     3.46825081\n",
       "1888 X   147174400 147174719  4.2626338   121.27113285\n",
       "1889 X   147431195 147431483 37.2281006   126.78824825\n",
       "1890 X   147762036 147762420 19.7472886    90.98820086\n",
       "1891 X   147784717 147784868 30.9649099   114.98471251\n",
       "1892 X   148652891 148653221  7.8896084    34.38072088\n",
       "1893 X   153053490 153053661  6.4162925     9.65067911\n",
       "1894 X   153116274 153116424  9.1689723    29.65369167\n",
       "1895 X   156234148 156234347 -2.6439007    -5.25346518\n",
       "1896 X   157330561 157330714 11.1561619    23.21695163\n",
       "1897 X   157330561 157330714 11.1561619    23.21695163\n",
       "1898 X   159389431 159389632 -2.6550771    -1.17404327\n",
       "1899 X   159786183 159786343  0.5393802    -0.02658965\n",
       "1900 X   159786183 159786343  0.5393802    -0.02658965\n",
       "1901 X   159831403 159831613 -6.4356233    -4.06740395\n",
       "1902 X   161782020 161782122  2.3212290    -9.95735940\n",
       "1903 X   164844453 164844596  2.3573280    -1.71775305\n",
       "1904 X   165291327 165291800  1.7343001    -3.00180108\n",
       "1905 Y      691446    691655 58.1351497     6.63636524\n",
       "1906 Y    11601029  11601180  1.0209597     0.00000000\n",
       "1907 Y    15379136  15379315  0.3726792     0.00000000\n",
       "1908 Y    15379136  15379315  0.3726792     0.00000000\n",
       "1909 Y    30011356  30011553 22.1959318    -1.49009599\n",
       "1910 Y    38858644  38858821  2.9646308     0.00000000\n",
       "1911 Y    59672879  59672996  7.5503631    15.97908490"
      ]
     },
     "metadata": {},
     "output_type": "display_data"
    },
    {
     "data": {
      "text/html": [
       "<table class=\"dataframe\">\n",
       "<caption>A data.frame: 1087 × 5</caption>\n",
       "<thead>\n",
       "\t<tr><th scope=col>Chr</th><th scope=col>Start</th><th scope=col>End</th><th scope=col>E105_H3K9me3</th><th scope=col>E135_H3K9me3</th></tr>\n",
       "\t<tr><th scope=col>&lt;chr&gt;</th><th scope=col>&lt;int&gt;</th><th scope=col>&lt;int&gt;</th><th scope=col>&lt;dbl&gt;</th><th scope=col>&lt;dbl&gt;</th></tr>\n",
       "</thead>\n",
       "<tbody>\n",
       "\t<tr><td>1</td><td> 4058457</td><td> 4058574</td><td>25.1900092</td><td> 36.2163417</td></tr>\n",
       "\t<tr><td>1</td><td> 4858564</td><td> 4859105</td><td>48.0661566</td><td> 46.3781568</td></tr>\n",
       "\t<tr><td>1</td><td> 4858564</td><td> 4859105</td><td>48.0661566</td><td> 46.3781568</td></tr>\n",
       "\t<tr><td>1</td><td> 5055439</td><td> 5055588</td><td>26.3658879</td><td> 33.0423553</td></tr>\n",
       "\t<tr><td>1</td><td> 5898173</td><td> 5898439</td><td>10.4359904</td><td> 39.7621092</td></tr>\n",
       "\t<tr><td>1</td><td> 7890602</td><td> 7890715</td><td>39.6272625</td><td> 31.7667387</td></tr>\n",
       "\t<tr><td>1</td><td> 7890602</td><td> 7890715</td><td>39.6272625</td><td> 31.7667387</td></tr>\n",
       "\t<tr><td>1</td><td> 9007164</td><td> 9007264</td><td>-5.4479498</td><td> -3.8339305</td></tr>\n",
       "\t<tr><td>1</td><td>11290253</td><td>11290494</td><td>-1.0839139</td><td> -8.6175312</td></tr>\n",
       "\t<tr><td>1</td><td>16903102</td><td>16903615</td><td>27.6781408</td><td> 23.0810692</td></tr>\n",
       "\t<tr><td>1</td><td>18117921</td><td>18118159</td><td> 9.4426753</td><td> 22.8648292</td></tr>\n",
       "\t<tr><td>1</td><td>18711122</td><td>18711298</td><td> 2.0366256</td><td> -2.6222461</td></tr>\n",
       "\t<tr><td>1</td><td>19699044</td><td>19699207</td><td>57.1121725</td><td> 63.3587166</td></tr>\n",
       "\t<tr><td>1</td><td>23364085</td><td>23364189</td><td>-4.9418799</td><td>-20.6815109</td></tr>\n",
       "\t<tr><td>1</td><td>24731382</td><td>24731647</td><td>-2.8373114</td><td> -4.6027185</td></tr>\n",
       "\t<tr><td>1</td><td>29533189</td><td>29533337</td><td>13.1577982</td><td>  4.5281524</td></tr>\n",
       "\t<tr><td>1</td><td>30397474</td><td>30397631</td><td>-1.0307060</td><td> -9.9586275</td></tr>\n",
       "\t<tr><td>1</td><td>34186991</td><td>34187587</td><td>-0.4335071</td><td>  0.4996401</td></tr>\n",
       "\t<tr><td>1</td><td>34818891</td><td>34819333</td><td>-7.1805079</td><td> -7.7224235</td></tr>\n",
       "\t<tr><td>1</td><td>34952507</td><td>34952859</td><td>19.3625190</td><td> 38.7855561</td></tr>\n",
       "\t<tr><td>1</td><td>36572343</td><td>36572621</td><td>-2.4781225</td><td> -2.7027461</td></tr>\n",
       "\t<tr><td>1</td><td>37248112</td><td>37248443</td><td>28.8938167</td><td> 22.8390263</td></tr>\n",
       "\t<tr><td>1</td><td>37248112</td><td>37248443</td><td>28.8938167</td><td> 22.8390263</td></tr>\n",
       "\t<tr><td>1</td><td>39392223</td><td>39392500</td><td>16.1556318</td><td> -3.3265735</td></tr>\n",
       "\t<tr><td>1</td><td>41127295</td><td>41127692</td><td>54.8411881</td><td> 31.9491310</td></tr>\n",
       "\t<tr><td>1</td><td>42886904</td><td>42887008</td><td> 8.2282471</td><td>-11.4715094</td></tr>\n",
       "\t<tr><td>1</td><td>46285319</td><td>46285471</td><td>-6.1026746</td><td> -3.8495547</td></tr>\n",
       "\t<tr><td>1</td><td>53276747</td><td>53276995</td><td>39.4211499</td><td> 35.3233245</td></tr>\n",
       "\t<tr><td>1</td><td>53749743</td><td>53749843</td><td> 0.9929592</td><td> -9.0733400</td></tr>\n",
       "\t<tr><td>1</td><td>55536745</td><td>55537111</td><td>-7.2713363</td><td> -3.6023533</td></tr>\n",
       "\t<tr><td>⋮</td><td>⋮</td><td>⋮</td><td>⋮</td><td>⋮</td></tr>\n",
       "\t<tr><td>X</td><td>126699010</td><td>126699197</td><td>32.6957451</td><td>21.3673551</td></tr>\n",
       "\t<tr><td>X</td><td>128850589</td><td>128850841</td><td>-6.3500128</td><td>-6.3164249</td></tr>\n",
       "\t<tr><td>X</td><td>131073929</td><td>131074029</td><td> 0.5791058</td><td> 9.7601070</td></tr>\n",
       "\t<tr><td>X</td><td>134653509</td><td>134653930</td><td> 3.2639627</td><td> 3.6548614</td></tr>\n",
       "\t<tr><td>X</td><td>136378076</td><td>136378337</td><td> 0.4196154</td><td> 3.2565809</td></tr>\n",
       "\t<tr><td>X</td><td>141954652</td><td>141955054</td><td>28.2342087</td><td>45.3413666</td></tr>\n",
       "\t<tr><td>X</td><td>143454429</td><td>143454601</td><td>14.8001588</td><td>45.0955679</td></tr>\n",
       "\t<tr><td>X</td><td>144820249</td><td>144820349</td><td>51.9982265</td><td>52.1973815</td></tr>\n",
       "\t<tr><td>X</td><td>147149470</td><td>147149622</td><td>21.8095148</td><td>72.1931196</td></tr>\n",
       "\t<tr><td>X</td><td>148605665</td><td>148606011</td><td> 9.9948029</td><td>15.4705001</td></tr>\n",
       "\t<tr><td>X</td><td>149268302</td><td>149268435</td><td> 4.4452416</td><td>22.1486876</td></tr>\n",
       "\t<tr><td>X</td><td>149282908</td><td>149283172</td><td> 1.5744932</td><td> 8.8853295</td></tr>\n",
       "\t<tr><td>X</td><td>149282908</td><td>149283172</td><td> 1.5744932</td><td> 8.8853295</td></tr>\n",
       "\t<tr><td>X</td><td>151391152</td><td>151391695</td><td>-1.0757984</td><td>-4.6283668</td></tr>\n",
       "\t<tr><td>X</td><td>152331309</td><td>152331510</td><td>13.3853092</td><td> 4.3129957</td></tr>\n",
       "\t<tr><td>X</td><td>152482569</td><td>152482769</td><td> 0.5831283</td><td> 7.7127956</td></tr>\n",
       "\t<tr><td>X</td><td>153065183</td><td>153065306</td><td>24.7423412</td><td>27.1169366</td></tr>\n",
       "\t<tr><td>X</td><td>153500062</td><td>153500303</td><td> 3.8404827</td><td> 5.3628799</td></tr>\n",
       "\t<tr><td>X</td><td>153500062</td><td>153500303</td><td> 3.8404827</td><td> 5.3628799</td></tr>\n",
       "\t<tr><td>X</td><td>161629709</td><td>161629796</td><td>-0.3821460</td><td>-0.9076157</td></tr>\n",
       "\t<tr><td>X</td><td>161767564</td><td>161767872</td><td>11.5036580</td><td>11.1860617</td></tr>\n",
       "\t<tr><td>X</td><td>162481833</td><td>162482016</td><td> 1.3714963</td><td> 2.4877334</td></tr>\n",
       "\t<tr><td>X</td><td>162481833</td><td>162482016</td><td> 1.3714963</td><td> 2.4877334</td></tr>\n",
       "\t<tr><td>X</td><td>162850856</td><td>162851063</td><td> 2.9557988</td><td>-7.8355212</td></tr>\n",
       "\t<tr><td>X</td><td>164590328</td><td>164590585</td><td>22.0602416</td><td>29.1675775</td></tr>\n",
       "\t<tr><td>X</td><td>164590328</td><td>164590585</td><td>22.0602416</td><td>29.1675775</td></tr>\n",
       "\t<tr><td>X</td><td>167736673</td><td>167736942</td><td>-2.1313561</td><td>-9.3594904</td></tr>\n",
       "\t<tr><td>X</td><td>168113870</td><td>168113994</td><td> 0.0000000</td><td>-3.1853292</td></tr>\n",
       "\t<tr><td>Y</td><td> 31294850</td><td> 31295174</td><td> 7.9026918</td><td> 7.3971443</td></tr>\n",
       "\t<tr><td>Y</td><td> 88473382</td><td> 88473576</td><td>32.4364972</td><td>31.6789207</td></tr>\n",
       "</tbody>\n",
       "</table>\n"
      ],
      "text/latex": [
       "A data.frame: 1087 × 5\n",
       "\\begin{tabular}{lllll}\n",
       " Chr & Start & End & E105\\_H3K9me3 & E135\\_H3K9me3\\\\\n",
       " <chr> & <int> & <int> & <dbl> & <dbl>\\\\\n",
       "\\hline\n",
       "\t 1 &  4058457 &  4058574 & 25.1900092 &  36.2163417\\\\\n",
       "\t 1 &  4858564 &  4859105 & 48.0661566 &  46.3781568\\\\\n",
       "\t 1 &  4858564 &  4859105 & 48.0661566 &  46.3781568\\\\\n",
       "\t 1 &  5055439 &  5055588 & 26.3658879 &  33.0423553\\\\\n",
       "\t 1 &  5898173 &  5898439 & 10.4359904 &  39.7621092\\\\\n",
       "\t 1 &  7890602 &  7890715 & 39.6272625 &  31.7667387\\\\\n",
       "\t 1 &  7890602 &  7890715 & 39.6272625 &  31.7667387\\\\\n",
       "\t 1 &  9007164 &  9007264 & -5.4479498 &  -3.8339305\\\\\n",
       "\t 1 & 11290253 & 11290494 & -1.0839139 &  -8.6175312\\\\\n",
       "\t 1 & 16903102 & 16903615 & 27.6781408 &  23.0810692\\\\\n",
       "\t 1 & 18117921 & 18118159 &  9.4426753 &  22.8648292\\\\\n",
       "\t 1 & 18711122 & 18711298 &  2.0366256 &  -2.6222461\\\\\n",
       "\t 1 & 19699044 & 19699207 & 57.1121725 &  63.3587166\\\\\n",
       "\t 1 & 23364085 & 23364189 & -4.9418799 & -20.6815109\\\\\n",
       "\t 1 & 24731382 & 24731647 & -2.8373114 &  -4.6027185\\\\\n",
       "\t 1 & 29533189 & 29533337 & 13.1577982 &   4.5281524\\\\\n",
       "\t 1 & 30397474 & 30397631 & -1.0307060 &  -9.9586275\\\\\n",
       "\t 1 & 34186991 & 34187587 & -0.4335071 &   0.4996401\\\\\n",
       "\t 1 & 34818891 & 34819333 & -7.1805079 &  -7.7224235\\\\\n",
       "\t 1 & 34952507 & 34952859 & 19.3625190 &  38.7855561\\\\\n",
       "\t 1 & 36572343 & 36572621 & -2.4781225 &  -2.7027461\\\\\n",
       "\t 1 & 37248112 & 37248443 & 28.8938167 &  22.8390263\\\\\n",
       "\t 1 & 37248112 & 37248443 & 28.8938167 &  22.8390263\\\\\n",
       "\t 1 & 39392223 & 39392500 & 16.1556318 &  -3.3265735\\\\\n",
       "\t 1 & 41127295 & 41127692 & 54.8411881 &  31.9491310\\\\\n",
       "\t 1 & 42886904 & 42887008 &  8.2282471 & -11.4715094\\\\\n",
       "\t 1 & 46285319 & 46285471 & -6.1026746 &  -3.8495547\\\\\n",
       "\t 1 & 53276747 & 53276995 & 39.4211499 &  35.3233245\\\\\n",
       "\t 1 & 53749743 & 53749843 &  0.9929592 &  -9.0733400\\\\\n",
       "\t 1 & 55536745 & 55537111 & -7.2713363 &  -3.6023533\\\\\n",
       "\t ⋮ & ⋮ & ⋮ & ⋮ & ⋮\\\\\n",
       "\t X & 126699010 & 126699197 & 32.6957451 & 21.3673551\\\\\n",
       "\t X & 128850589 & 128850841 & -6.3500128 & -6.3164249\\\\\n",
       "\t X & 131073929 & 131074029 &  0.5791058 &  9.7601070\\\\\n",
       "\t X & 134653509 & 134653930 &  3.2639627 &  3.6548614\\\\\n",
       "\t X & 136378076 & 136378337 &  0.4196154 &  3.2565809\\\\\n",
       "\t X & 141954652 & 141955054 & 28.2342087 & 45.3413666\\\\\n",
       "\t X & 143454429 & 143454601 & 14.8001588 & 45.0955679\\\\\n",
       "\t X & 144820249 & 144820349 & 51.9982265 & 52.1973815\\\\\n",
       "\t X & 147149470 & 147149622 & 21.8095148 & 72.1931196\\\\\n",
       "\t X & 148605665 & 148606011 &  9.9948029 & 15.4705001\\\\\n",
       "\t X & 149268302 & 149268435 &  4.4452416 & 22.1486876\\\\\n",
       "\t X & 149282908 & 149283172 &  1.5744932 &  8.8853295\\\\\n",
       "\t X & 149282908 & 149283172 &  1.5744932 &  8.8853295\\\\\n",
       "\t X & 151391152 & 151391695 & -1.0757984 & -4.6283668\\\\\n",
       "\t X & 152331309 & 152331510 & 13.3853092 &  4.3129957\\\\\n",
       "\t X & 152482569 & 152482769 &  0.5831283 &  7.7127956\\\\\n",
       "\t X & 153065183 & 153065306 & 24.7423412 & 27.1169366\\\\\n",
       "\t X & 153500062 & 153500303 &  3.8404827 &  5.3628799\\\\\n",
       "\t X & 153500062 & 153500303 &  3.8404827 &  5.3628799\\\\\n",
       "\t X & 161629709 & 161629796 & -0.3821460 & -0.9076157\\\\\n",
       "\t X & 161767564 & 161767872 & 11.5036580 & 11.1860617\\\\\n",
       "\t X & 162481833 & 162482016 &  1.3714963 &  2.4877334\\\\\n",
       "\t X & 162481833 & 162482016 &  1.3714963 &  2.4877334\\\\\n",
       "\t X & 162850856 & 162851063 &  2.9557988 & -7.8355212\\\\\n",
       "\t X & 164590328 & 164590585 & 22.0602416 & 29.1675775\\\\\n",
       "\t X & 164590328 & 164590585 & 22.0602416 & 29.1675775\\\\\n",
       "\t X & 167736673 & 167736942 & -2.1313561 & -9.3594904\\\\\n",
       "\t X & 168113870 & 168113994 &  0.0000000 & -3.1853292\\\\\n",
       "\t Y &  31294850 &  31295174 &  7.9026918 &  7.3971443\\\\\n",
       "\t Y &  88473382 &  88473576 & 32.4364972 & 31.6789207\\\\\n",
       "\\end{tabular}\n"
      ],
      "text/markdown": [
       "\n",
       "A data.frame: 1087 × 5\n",
       "\n",
       "| Chr &lt;chr&gt; | Start &lt;int&gt; | End &lt;int&gt; | E105_H3K9me3 &lt;dbl&gt; | E135_H3K9me3 &lt;dbl&gt; |\n",
       "|---|---|---|---|---|\n",
       "| 1 |  4058457 |  4058574 | 25.1900092 |  36.2163417 |\n",
       "| 1 |  4858564 |  4859105 | 48.0661566 |  46.3781568 |\n",
       "| 1 |  4858564 |  4859105 | 48.0661566 |  46.3781568 |\n",
       "| 1 |  5055439 |  5055588 | 26.3658879 |  33.0423553 |\n",
       "| 1 |  5898173 |  5898439 | 10.4359904 |  39.7621092 |\n",
       "| 1 |  7890602 |  7890715 | 39.6272625 |  31.7667387 |\n",
       "| 1 |  7890602 |  7890715 | 39.6272625 |  31.7667387 |\n",
       "| 1 |  9007164 |  9007264 | -5.4479498 |  -3.8339305 |\n",
       "| 1 | 11290253 | 11290494 | -1.0839139 |  -8.6175312 |\n",
       "| 1 | 16903102 | 16903615 | 27.6781408 |  23.0810692 |\n",
       "| 1 | 18117921 | 18118159 |  9.4426753 |  22.8648292 |\n",
       "| 1 | 18711122 | 18711298 |  2.0366256 |  -2.6222461 |\n",
       "| 1 | 19699044 | 19699207 | 57.1121725 |  63.3587166 |\n",
       "| 1 | 23364085 | 23364189 | -4.9418799 | -20.6815109 |\n",
       "| 1 | 24731382 | 24731647 | -2.8373114 |  -4.6027185 |\n",
       "| 1 | 29533189 | 29533337 | 13.1577982 |   4.5281524 |\n",
       "| 1 | 30397474 | 30397631 | -1.0307060 |  -9.9586275 |\n",
       "| 1 | 34186991 | 34187587 | -0.4335071 |   0.4996401 |\n",
       "| 1 | 34818891 | 34819333 | -7.1805079 |  -7.7224235 |\n",
       "| 1 | 34952507 | 34952859 | 19.3625190 |  38.7855561 |\n",
       "| 1 | 36572343 | 36572621 | -2.4781225 |  -2.7027461 |\n",
       "| 1 | 37248112 | 37248443 | 28.8938167 |  22.8390263 |\n",
       "| 1 | 37248112 | 37248443 | 28.8938167 |  22.8390263 |\n",
       "| 1 | 39392223 | 39392500 | 16.1556318 |  -3.3265735 |\n",
       "| 1 | 41127295 | 41127692 | 54.8411881 |  31.9491310 |\n",
       "| 1 | 42886904 | 42887008 |  8.2282471 | -11.4715094 |\n",
       "| 1 | 46285319 | 46285471 | -6.1026746 |  -3.8495547 |\n",
       "| 1 | 53276747 | 53276995 | 39.4211499 |  35.3233245 |\n",
       "| 1 | 53749743 | 53749843 |  0.9929592 |  -9.0733400 |\n",
       "| 1 | 55536745 | 55537111 | -7.2713363 |  -3.6023533 |\n",
       "| ⋮ | ⋮ | ⋮ | ⋮ | ⋮ |\n",
       "| X | 126699010 | 126699197 | 32.6957451 | 21.3673551 |\n",
       "| X | 128850589 | 128850841 | -6.3500128 | -6.3164249 |\n",
       "| X | 131073929 | 131074029 |  0.5791058 |  9.7601070 |\n",
       "| X | 134653509 | 134653930 |  3.2639627 |  3.6548614 |\n",
       "| X | 136378076 | 136378337 |  0.4196154 |  3.2565809 |\n",
       "| X | 141954652 | 141955054 | 28.2342087 | 45.3413666 |\n",
       "| X | 143454429 | 143454601 | 14.8001588 | 45.0955679 |\n",
       "| X | 144820249 | 144820349 | 51.9982265 | 52.1973815 |\n",
       "| X | 147149470 | 147149622 | 21.8095148 | 72.1931196 |\n",
       "| X | 148605665 | 148606011 |  9.9948029 | 15.4705001 |\n",
       "| X | 149268302 | 149268435 |  4.4452416 | 22.1486876 |\n",
       "| X | 149282908 | 149283172 |  1.5744932 |  8.8853295 |\n",
       "| X | 149282908 | 149283172 |  1.5744932 |  8.8853295 |\n",
       "| X | 151391152 | 151391695 | -1.0757984 | -4.6283668 |\n",
       "| X | 152331309 | 152331510 | 13.3853092 |  4.3129957 |\n",
       "| X | 152482569 | 152482769 |  0.5831283 |  7.7127956 |\n",
       "| X | 153065183 | 153065306 | 24.7423412 | 27.1169366 |\n",
       "| X | 153500062 | 153500303 |  3.8404827 |  5.3628799 |\n",
       "| X | 153500062 | 153500303 |  3.8404827 |  5.3628799 |\n",
       "| X | 161629709 | 161629796 | -0.3821460 | -0.9076157 |\n",
       "| X | 161767564 | 161767872 | 11.5036580 | 11.1860617 |\n",
       "| X | 162481833 | 162482016 |  1.3714963 |  2.4877334 |\n",
       "| X | 162481833 | 162482016 |  1.3714963 |  2.4877334 |\n",
       "| X | 162850856 | 162851063 |  2.9557988 | -7.8355212 |\n",
       "| X | 164590328 | 164590585 | 22.0602416 | 29.1675775 |\n",
       "| X | 164590328 | 164590585 | 22.0602416 | 29.1675775 |\n",
       "| X | 167736673 | 167736942 | -2.1313561 | -9.3594904 |\n",
       "| X | 168113870 | 168113994 |  0.0000000 | -3.1853292 |\n",
       "| Y |  31294850 |  31295174 |  7.9026918 |  7.3971443 |\n",
       "| Y |  88473382 |  88473576 | 32.4364972 | 31.6789207 |\n",
       "\n"
      ],
      "text/plain": [
       "     Chr Start     End       E105_H3K9me3 E135_H3K9me3\n",
       "1    1    4058457   4058574  25.1900092    36.2163417 \n",
       "2    1    4858564   4859105  48.0661566    46.3781568 \n",
       "3    1    4858564   4859105  48.0661566    46.3781568 \n",
       "4    1    5055439   5055588  26.3658879    33.0423553 \n",
       "5    1    5898173   5898439  10.4359904    39.7621092 \n",
       "6    1    7890602   7890715  39.6272625    31.7667387 \n",
       "7    1    7890602   7890715  39.6272625    31.7667387 \n",
       "8    1    9007164   9007264  -5.4479498    -3.8339305 \n",
       "9    1   11290253  11290494  -1.0839139    -8.6175312 \n",
       "10   1   16903102  16903615  27.6781408    23.0810692 \n",
       "11   1   18117921  18118159   9.4426753    22.8648292 \n",
       "12   1   18711122  18711298   2.0366256    -2.6222461 \n",
       "13   1   19699044  19699207  57.1121725    63.3587166 \n",
       "14   1   23364085  23364189  -4.9418799   -20.6815109 \n",
       "15   1   24731382  24731647  -2.8373114    -4.6027185 \n",
       "16   1   29533189  29533337  13.1577982     4.5281524 \n",
       "17   1   30397474  30397631  -1.0307060    -9.9586275 \n",
       "18   1   34186991  34187587  -0.4335071     0.4996401 \n",
       "19   1   34818891  34819333  -7.1805079    -7.7224235 \n",
       "20   1   34952507  34952859  19.3625190    38.7855561 \n",
       "21   1   36572343  36572621  -2.4781225    -2.7027461 \n",
       "22   1   37248112  37248443  28.8938167    22.8390263 \n",
       "23   1   37248112  37248443  28.8938167    22.8390263 \n",
       "24   1   39392223  39392500  16.1556318    -3.3265735 \n",
       "25   1   41127295  41127692  54.8411881    31.9491310 \n",
       "26   1   42886904  42887008   8.2282471   -11.4715094 \n",
       "27   1   46285319  46285471  -6.1026746    -3.8495547 \n",
       "28   1   53276747  53276995  39.4211499    35.3233245 \n",
       "29   1   53749743  53749843   0.9929592    -9.0733400 \n",
       "30   1   55536745  55537111  -7.2713363    -3.6023533 \n",
       "⋮    ⋮   ⋮         ⋮         ⋮            ⋮           \n",
       "1058 X   126699010 126699197 32.6957451   21.3673551  \n",
       "1059 X   128850589 128850841 -6.3500128   -6.3164249  \n",
       "1060 X   131073929 131074029  0.5791058    9.7601070  \n",
       "1061 X   134653509 134653930  3.2639627    3.6548614  \n",
       "1062 X   136378076 136378337  0.4196154    3.2565809  \n",
       "1063 X   141954652 141955054 28.2342087   45.3413666  \n",
       "1064 X   143454429 143454601 14.8001588   45.0955679  \n",
       "1065 X   144820249 144820349 51.9982265   52.1973815  \n",
       "1066 X   147149470 147149622 21.8095148   72.1931196  \n",
       "1067 X   148605665 148606011  9.9948029   15.4705001  \n",
       "1068 X   149268302 149268435  4.4452416   22.1486876  \n",
       "1069 X   149282908 149283172  1.5744932    8.8853295  \n",
       "1070 X   149282908 149283172  1.5744932    8.8853295  \n",
       "1071 X   151391152 151391695 -1.0757984   -4.6283668  \n",
       "1072 X   152331309 152331510 13.3853092    4.3129957  \n",
       "1073 X   152482569 152482769  0.5831283    7.7127956  \n",
       "1074 X   153065183 153065306 24.7423412   27.1169366  \n",
       "1075 X   153500062 153500303  3.8404827    5.3628799  \n",
       "1076 X   153500062 153500303  3.8404827    5.3628799  \n",
       "1077 X   161629709 161629796 -0.3821460   -0.9076157  \n",
       "1078 X   161767564 161767872 11.5036580   11.1860617  \n",
       "1079 X   162481833 162482016  1.3714963    2.4877334  \n",
       "1080 X   162481833 162482016  1.3714963    2.4877334  \n",
       "1081 X   162850856 162851063  2.9557988   -7.8355212  \n",
       "1082 X   164590328 164590585 22.0602416   29.1675775  \n",
       "1083 X   164590328 164590585 22.0602416   29.1675775  \n",
       "1084 X   167736673 167736942 -2.1313561   -9.3594904  \n",
       "1085 X   168113870 168113994  0.0000000   -3.1853292  \n",
       "1086 Y    31294850  31295174  7.9026918    7.3971443  \n",
       "1087 Y    88473382  88473576 32.4364972   31.6789207  "
      ]
     },
     "metadata": {},
     "output_type": "display_data"
    }
   ],
   "source": [
    "#Load back in RPKM data. Below is a snippet (example) of the Deeptools multiBigWigSummary command used. \n",
    "#multiBigwigSummary BED-file -b $SCRATCH/H3K9me3_ChIP/bw/E105_H3K9me3_RPKM_bs10_extend_subtrack.bw $SCRATCH/H3K9me3_ChIP/bw/E135_F_H3K9me3_RPKM_bs10_extend_subtrack.bw --BED TRIM28_Agnostic_Female_export.bed -o ./H3K9me3_overlap/TRIM28_Agn_F.npz --outRawCounts ./H3K9me3_overlap/TRIM28_Agnostic_Female_H3K9me3.csv\n",
    "\n",
    "cols <- c(\"Chr\", \"Start\", \"End\", \"E105_H3K9me3\", \"E135_H3K9me3\")\n",
    "K9_Male_E105 <- read.delim(file = './H3K9me3/TRIM28_E105_Male_H3K9me3.bed', header = T)\n",
    "colnames(K9_Male_E105) <- cols\n",
    "K9_Male_E105\n",
    "#\n",
    "K9_Male_E145 <- read.delim(file = './H3K9me3/TRIM28_E145_Male_H3K9me3.bed', header = T)\n",
    "colnames(K9_Male_E145) <- cols\n",
    "K9_Male_E145\n",
    "#\n",
    "K9_Female_E105 <- read.delim(file = './H3K9me3/TRIM28_E105_Female_H3K9me3.bed', header= T)\n",
    "colnames(K9_Female_E105) <- cols\n",
    "K9_Female_E105\n",
    "#\n",
    "K9_Female_E145 <- read.delim(file = './H3K9me3/TRIM28_E145_Female_H3K9me3.bed', header= T)\n",
    "colnames(K9_Female_E145) <- cols\n",
    "K9_Female_E145"
   ]
  },
  {
   "cell_type": "code",
   "execution_count": 13,
   "id": "29347e89",
   "metadata": {},
   "outputs": [
    {
     "name": "stderr",
     "output_type": "stream",
     "text": [
      "No id variables; using all as measure variables\n",
      "\n"
     ]
    },
    {
     "data": {
      "text/html": [
       "<table class=\"dataframe\">\n",
       "<caption>A data.frame: 6 × 5</caption>\n",
       "<thead>\n",
       "\t<tr><th></th><th scope=col>variable</th><th scope=col>value</th><th scope=col>Sex</th><th scope=col>Time</th><th scope=col>ChIPSex</th></tr>\n",
       "\t<tr><th></th><th scope=col>&lt;fct&gt;</th><th scope=col>&lt;dbl&gt;</th><th scope=col>&lt;chr&gt;</th><th scope=col>&lt;chr&gt;</th><th scope=col>&lt;chr&gt;</th></tr>\n",
       "</thead>\n",
       "<tbody>\n",
       "\t<tr><th scope=row>1</th><td>E105_H3K9me3</td><td>-5.785028</td><td>Male</td><td>E105</td><td>MF</td></tr>\n",
       "\t<tr><th scope=row>2</th><td>E105_H3K9me3</td><td>-3.209966</td><td>Male</td><td>E105</td><td>MF</td></tr>\n",
       "\t<tr><th scope=row>3</th><td>E105_H3K9me3</td><td> 2.460369</td><td>Male</td><td>E105</td><td>MF</td></tr>\n",
       "\t<tr><th scope=row>4</th><td>E105_H3K9me3</td><td>-7.970387</td><td>Male</td><td>E105</td><td>MF</td></tr>\n",
       "\t<tr><th scope=row>5</th><td>E105_H3K9me3</td><td> 1.429193</td><td>Male</td><td>E105</td><td>MF</td></tr>\n",
       "\t<tr><th scope=row>6</th><td>E105_H3K9me3</td><td>-9.286386</td><td>Male</td><td>E105</td><td>MF</td></tr>\n",
       "</tbody>\n",
       "</table>\n"
      ],
      "text/latex": [
       "A data.frame: 6 × 5\n",
       "\\begin{tabular}{r|lllll}\n",
       "  & variable & value & Sex & Time & ChIPSex\\\\\n",
       "  & <fct> & <dbl> & <chr> & <chr> & <chr>\\\\\n",
       "\\hline\n",
       "\t1 & E105\\_H3K9me3 & -5.785028 & Male & E105 & MF\\\\\n",
       "\t2 & E105\\_H3K9me3 & -3.209966 & Male & E105 & MF\\\\\n",
       "\t3 & E105\\_H3K9me3 &  2.460369 & Male & E105 & MF\\\\\n",
       "\t4 & E105\\_H3K9me3 & -7.970387 & Male & E105 & MF\\\\\n",
       "\t5 & E105\\_H3K9me3 &  1.429193 & Male & E105 & MF\\\\\n",
       "\t6 & E105\\_H3K9me3 & -9.286386 & Male & E105 & MF\\\\\n",
       "\\end{tabular}\n"
      ],
      "text/markdown": [
       "\n",
       "A data.frame: 6 × 5\n",
       "\n",
       "| <!--/--> | variable &lt;fct&gt; | value &lt;dbl&gt; | Sex &lt;chr&gt; | Time &lt;chr&gt; | ChIPSex &lt;chr&gt; |\n",
       "|---|---|---|---|---|---|\n",
       "| 1 | E105_H3K9me3 | -5.785028 | Male | E105 | MF |\n",
       "| 2 | E105_H3K9me3 | -3.209966 | Male | E105 | MF |\n",
       "| 3 | E105_H3K9me3 |  2.460369 | Male | E105 | MF |\n",
       "| 4 | E105_H3K9me3 | -7.970387 | Male | E105 | MF |\n",
       "| 5 | E105_H3K9me3 |  1.429193 | Male | E105 | MF |\n",
       "| 6 | E105_H3K9me3 | -9.286386 | Male | E105 | MF |\n",
       "\n"
      ],
      "text/plain": [
       "  variable     value     Sex  Time ChIPSex\n",
       "1 E105_H3K9me3 -5.785028 Male E105 MF     \n",
       "2 E105_H3K9me3 -3.209966 Male E105 MF     \n",
       "3 E105_H3K9me3  2.460369 Male E105 MF     \n",
       "4 E105_H3K9me3 -7.970387 Male E105 MF     \n",
       "5 E105_H3K9me3  1.429193 Male E105 MF     \n",
       "6 E105_H3K9me3 -9.286386 Male E105 MF     "
      ]
     },
     "metadata": {},
     "output_type": "display_data"
    },
    {
     "name": "stderr",
     "output_type": "stream",
     "text": [
      "No id variables; using all as measure variables\n",
      "\n"
     ]
    },
    {
     "data": {
      "text/html": [
       "<table class=\"dataframe\">\n",
       "<caption>A data.frame: 6 × 5</caption>\n",
       "<thead>\n",
       "\t<tr><th></th><th scope=col>variable</th><th scope=col>value</th><th scope=col>Sex</th><th scope=col>Time</th><th scope=col>ChIPSex</th></tr>\n",
       "\t<tr><th></th><th scope=col>&lt;fct&gt;</th><th scope=col>&lt;dbl&gt;</th><th scope=col>&lt;chr&gt;</th><th scope=col>&lt;chr&gt;</th><th scope=col>&lt;chr&gt;</th></tr>\n",
       "</thead>\n",
       "<tbody>\n",
       "\t<tr><th scope=row>1</th><td>E105_H3K9me3</td><td>34.44742</td><td>Male</td><td>E145</td><td>M</td></tr>\n",
       "\t<tr><th scope=row>2</th><td>E105_H3K9me3</td><td>34.44742</td><td>Male</td><td>E145</td><td>M</td></tr>\n",
       "\t<tr><th scope=row>3</th><td>E105_H3K9me3</td><td>28.58135</td><td>Male</td><td>E145</td><td>M</td></tr>\n",
       "\t<tr><th scope=row>4</th><td>E105_H3K9me3</td><td>36.70455</td><td>Male</td><td>E145</td><td>M</td></tr>\n",
       "\t<tr><th scope=row>5</th><td>E105_H3K9me3</td><td>20.95942</td><td>Male</td><td>E145</td><td>M</td></tr>\n",
       "\t<tr><th scope=row>6</th><td>E105_H3K9me3</td><td>46.55388</td><td>Male</td><td>E145</td><td>M</td></tr>\n",
       "</tbody>\n",
       "</table>\n"
      ],
      "text/latex": [
       "A data.frame: 6 × 5\n",
       "\\begin{tabular}{r|lllll}\n",
       "  & variable & value & Sex & Time & ChIPSex\\\\\n",
       "  & <fct> & <dbl> & <chr> & <chr> & <chr>\\\\\n",
       "\\hline\n",
       "\t1 & E105\\_H3K9me3 & 34.44742 & Male & E145 & M\\\\\n",
       "\t2 & E105\\_H3K9me3 & 34.44742 & Male & E145 & M\\\\\n",
       "\t3 & E105\\_H3K9me3 & 28.58135 & Male & E145 & M\\\\\n",
       "\t4 & E105\\_H3K9me3 & 36.70455 & Male & E145 & M\\\\\n",
       "\t5 & E105\\_H3K9me3 & 20.95942 & Male & E145 & M\\\\\n",
       "\t6 & E105\\_H3K9me3 & 46.55388 & Male & E145 & M\\\\\n",
       "\\end{tabular}\n"
      ],
      "text/markdown": [
       "\n",
       "A data.frame: 6 × 5\n",
       "\n",
       "| <!--/--> | variable &lt;fct&gt; | value &lt;dbl&gt; | Sex &lt;chr&gt; | Time &lt;chr&gt; | ChIPSex &lt;chr&gt; |\n",
       "|---|---|---|---|---|---|\n",
       "| 1 | E105_H3K9me3 | 34.44742 | Male | E145 | M |\n",
       "| 2 | E105_H3K9me3 | 34.44742 | Male | E145 | M |\n",
       "| 3 | E105_H3K9me3 | 28.58135 | Male | E145 | M |\n",
       "| 4 | E105_H3K9me3 | 36.70455 | Male | E145 | M |\n",
       "| 5 | E105_H3K9me3 | 20.95942 | Male | E145 | M |\n",
       "| 6 | E105_H3K9me3 | 46.55388 | Male | E145 | M |\n",
       "\n"
      ],
      "text/plain": [
       "  variable     value    Sex  Time ChIPSex\n",
       "1 E105_H3K9me3 34.44742 Male E145 M      \n",
       "2 E105_H3K9me3 34.44742 Male E145 M      \n",
       "3 E105_H3K9me3 28.58135 Male E145 M      \n",
       "4 E105_H3K9me3 36.70455 Male E145 M      \n",
       "5 E105_H3K9me3 20.95942 Male E145 M      \n",
       "6 E105_H3K9me3 46.55388 Male E145 M      "
      ]
     },
     "metadata": {},
     "output_type": "display_data"
    },
    {
     "name": "stderr",
     "output_type": "stream",
     "text": [
      "No id variables; using all as measure variables\n",
      "\n"
     ]
    },
    {
     "data": {
      "text/html": [
       "<table class=\"dataframe\">\n",
       "<caption>A data.frame: 6 × 5</caption>\n",
       "<thead>\n",
       "\t<tr><th></th><th scope=col>variable</th><th scope=col>value</th><th scope=col>Sex</th><th scope=col>Time</th><th scope=col>ChIPSex</th></tr>\n",
       "\t<tr><th></th><th scope=col>&lt;fct&gt;</th><th scope=col>&lt;dbl&gt;</th><th scope=col>&lt;chr&gt;</th><th scope=col>&lt;chr&gt;</th><th scope=col>&lt;chr&gt;</th></tr>\n",
       "</thead>\n",
       "<tbody>\n",
       "\t<tr><th scope=row>1</th><td>E105_H3K9me3</td><td>-5.737332</td><td>Female</td><td>E105</td><td>MF</td></tr>\n",
       "\t<tr><th scope=row>2</th><td>E105_H3K9me3</td><td>-2.118243</td><td>Female</td><td>E105</td><td>MF</td></tr>\n",
       "\t<tr><th scope=row>3</th><td>E105_H3K9me3</td><td>11.043768</td><td>Female</td><td>E105</td><td>MF</td></tr>\n",
       "\t<tr><th scope=row>4</th><td>E105_H3K9me3</td><td>11.521342</td><td>Female</td><td>E105</td><td>MF</td></tr>\n",
       "\t<tr><th scope=row>5</th><td>E105_H3K9me3</td><td>10.733959</td><td>Female</td><td>E105</td><td>MF</td></tr>\n",
       "\t<tr><th scope=row>6</th><td>E105_H3K9me3</td><td>-4.326798</td><td>Female</td><td>E105</td><td>MF</td></tr>\n",
       "</tbody>\n",
       "</table>\n"
      ],
      "text/latex": [
       "A data.frame: 6 × 5\n",
       "\\begin{tabular}{r|lllll}\n",
       "  & variable & value & Sex & Time & ChIPSex\\\\\n",
       "  & <fct> & <dbl> & <chr> & <chr> & <chr>\\\\\n",
       "\\hline\n",
       "\t1 & E105\\_H3K9me3 & -5.737332 & Female & E105 & MF\\\\\n",
       "\t2 & E105\\_H3K9me3 & -2.118243 & Female & E105 & MF\\\\\n",
       "\t3 & E105\\_H3K9me3 & 11.043768 & Female & E105 & MF\\\\\n",
       "\t4 & E105\\_H3K9me3 & 11.521342 & Female & E105 & MF\\\\\n",
       "\t5 & E105\\_H3K9me3 & 10.733959 & Female & E105 & MF\\\\\n",
       "\t6 & E105\\_H3K9me3 & -4.326798 & Female & E105 & MF\\\\\n",
       "\\end{tabular}\n"
      ],
      "text/markdown": [
       "\n",
       "A data.frame: 6 × 5\n",
       "\n",
       "| <!--/--> | variable &lt;fct&gt; | value &lt;dbl&gt; | Sex &lt;chr&gt; | Time &lt;chr&gt; | ChIPSex &lt;chr&gt; |\n",
       "|---|---|---|---|---|---|\n",
       "| 1 | E105_H3K9me3 | -5.737332 | Female | E105 | MF |\n",
       "| 2 | E105_H3K9me3 | -2.118243 | Female | E105 | MF |\n",
       "| 3 | E105_H3K9me3 | 11.043768 | Female | E105 | MF |\n",
       "| 4 | E105_H3K9me3 | 11.521342 | Female | E105 | MF |\n",
       "| 5 | E105_H3K9me3 | 10.733959 | Female | E105 | MF |\n",
       "| 6 | E105_H3K9me3 | -4.326798 | Female | E105 | MF |\n",
       "\n"
      ],
      "text/plain": [
       "  variable     value     Sex    Time ChIPSex\n",
       "1 E105_H3K9me3 -5.737332 Female E105 MF     \n",
       "2 E105_H3K9me3 -2.118243 Female E105 MF     \n",
       "3 E105_H3K9me3 11.043768 Female E105 MF     \n",
       "4 E105_H3K9me3 11.521342 Female E105 MF     \n",
       "5 E105_H3K9me3 10.733959 Female E105 MF     \n",
       "6 E105_H3K9me3 -4.326798 Female E105 MF     "
      ]
     },
     "metadata": {},
     "output_type": "display_data"
    },
    {
     "name": "stderr",
     "output_type": "stream",
     "text": [
      "No id variables; using all as measure variables\n",
      "\n"
     ]
    },
    {
     "data": {
      "text/html": [
       "<table class=\"dataframe\">\n",
       "<caption>A data.frame: 6 × 5</caption>\n",
       "<thead>\n",
       "\t<tr><th></th><th scope=col>variable</th><th scope=col>value</th><th scope=col>Sex</th><th scope=col>Time</th><th scope=col>ChIPSex</th></tr>\n",
       "\t<tr><th></th><th scope=col>&lt;fct&gt;</th><th scope=col>&lt;dbl&gt;</th><th scope=col>&lt;chr&gt;</th><th scope=col>&lt;chr&gt;</th><th scope=col>&lt;chr&gt;</th></tr>\n",
       "</thead>\n",
       "<tbody>\n",
       "\t<tr><th scope=row>1</th><td>E105_H3K9me3</td><td>25.19001</td><td>Female</td><td>E145</td><td>F</td></tr>\n",
       "\t<tr><th scope=row>2</th><td>E105_H3K9me3</td><td>48.06616</td><td>Female</td><td>E145</td><td>F</td></tr>\n",
       "\t<tr><th scope=row>3</th><td>E105_H3K9me3</td><td>48.06616</td><td>Female</td><td>E145</td><td>F</td></tr>\n",
       "\t<tr><th scope=row>4</th><td>E105_H3K9me3</td><td>26.36589</td><td>Female</td><td>E145</td><td>F</td></tr>\n",
       "\t<tr><th scope=row>5</th><td>E105_H3K9me3</td><td>10.43599</td><td>Female</td><td>E145</td><td>F</td></tr>\n",
       "\t<tr><th scope=row>6</th><td>E105_H3K9me3</td><td>39.62726</td><td>Female</td><td>E145</td><td>F</td></tr>\n",
       "</tbody>\n",
       "</table>\n"
      ],
      "text/latex": [
       "A data.frame: 6 × 5\n",
       "\\begin{tabular}{r|lllll}\n",
       "  & variable & value & Sex & Time & ChIPSex\\\\\n",
       "  & <fct> & <dbl> & <chr> & <chr> & <chr>\\\\\n",
       "\\hline\n",
       "\t1 & E105\\_H3K9me3 & 25.19001 & Female & E145 & F\\\\\n",
       "\t2 & E105\\_H3K9me3 & 48.06616 & Female & E145 & F\\\\\n",
       "\t3 & E105\\_H3K9me3 & 48.06616 & Female & E145 & F\\\\\n",
       "\t4 & E105\\_H3K9me3 & 26.36589 & Female & E145 & F\\\\\n",
       "\t5 & E105\\_H3K9me3 & 10.43599 & Female & E145 & F\\\\\n",
       "\t6 & E105\\_H3K9me3 & 39.62726 & Female & E145 & F\\\\\n",
       "\\end{tabular}\n"
      ],
      "text/markdown": [
       "\n",
       "A data.frame: 6 × 5\n",
       "\n",
       "| <!--/--> | variable &lt;fct&gt; | value &lt;dbl&gt; | Sex &lt;chr&gt; | Time &lt;chr&gt; | ChIPSex &lt;chr&gt; |\n",
       "|---|---|---|---|---|---|\n",
       "| 1 | E105_H3K9me3 | 25.19001 | Female | E145 | F |\n",
       "| 2 | E105_H3K9me3 | 48.06616 | Female | E145 | F |\n",
       "| 3 | E105_H3K9me3 | 48.06616 | Female | E145 | F |\n",
       "| 4 | E105_H3K9me3 | 26.36589 | Female | E145 | F |\n",
       "| 5 | E105_H3K9me3 | 10.43599 | Female | E145 | F |\n",
       "| 6 | E105_H3K9me3 | 39.62726 | Female | E145 | F |\n",
       "\n"
      ],
      "text/plain": [
       "  variable     value    Sex    Time ChIPSex\n",
       "1 E105_H3K9me3 25.19001 Female E145 F      \n",
       "2 E105_H3K9me3 48.06616 Female E145 F      \n",
       "3 E105_H3K9me3 48.06616 Female E145 F      \n",
       "4 E105_H3K9me3 26.36589 Female E145 F      \n",
       "5 E105_H3K9me3 10.43599 Female E145 F      \n",
       "6 E105_H3K9me3 39.62726 Female E145 F      "
      ]
     },
     "metadata": {},
     "output_type": "display_data"
    }
   ],
   "source": [
    "K9_Male_E105_trim <- K9_Male_E105[,4:5]\n",
    "K9_Male_E105_trim <- reshape2::melt(K9_Male_E105_trim)\n",
    "K9_Male_E105_trim$Sex <- c(\"Male\")\n",
    "K9_Male_E105_trim$Time <- c(\"E105\")\n",
    "K9_Male_E105_trim$ChIPSex <- c(\"MF\")\n",
    "head(K9_Male_E105_trim)\n",
    "#\n",
    "K9_Male_E145_trim <- K9_Male_E145[,4:5]\n",
    "K9_Male_E145_trim <- reshape2::melt(K9_Male_E145_trim)\n",
    "K9_Male_E145_trim$Sex <- c(\"Male\")\n",
    "K9_Male_E145_trim$Time <- c(\"E145\")\n",
    "K9_Male_E145_trim$ChIPSex <- c(\"M\")\n",
    "head(K9_Male_E145_trim)\n",
    "#\n",
    "K9_Female_E105_trim <- K9_Female_E105[,4:5]\n",
    "K9_Female_E105_trim <- reshape2::melt(K9_Female_E105_trim)\n",
    "K9_Female_E105_trim$Sex <- c(\"Female\")\n",
    "K9_Female_E105_trim$Time <- c(\"E105\")\n",
    "K9_Female_E105_trim$ChIPSex <- c(\"MF\")\n",
    "head(K9_Female_E105_trim)\n",
    "#\n",
    "K9_Female_E145_trim <- K9_Female_E145[,4:5]\n",
    "K9_Female_E145_trim <- reshape2::melt(K9_Female_E145_trim)\n",
    "K9_Female_E145_trim$Sex <- c(\"Female\")\n",
    "K9_Female_E145_trim$Time <- c(\"E145\")\n",
    "K9_Female_E145_trim$ChIPSex <- c(\"F\")\n",
    "head(K9_Female_E145_trim)"
   ]
  },
  {
   "cell_type": "code",
   "execution_count": 14,
   "id": "3b180315",
   "metadata": {},
   "outputs": [
    {
     "data": {
      "text/html": [
       "<table class=\"dataframe\">\n",
       "<caption>A data.frame: 6 × 5</caption>\n",
       "<thead>\n",
       "\t<tr><th></th><th scope=col>variable</th><th scope=col>value</th><th scope=col>Sex</th><th scope=col>Time</th><th scope=col>ChIPSex</th></tr>\n",
       "\t<tr><th></th><th scope=col>&lt;fct&gt;</th><th scope=col>&lt;dbl&gt;</th><th scope=col>&lt;chr&gt;</th><th scope=col>&lt;chr&gt;</th><th scope=col>&lt;chr&gt;</th></tr>\n",
       "</thead>\n",
       "<tbody>\n",
       "\t<tr><th scope=row>1</th><td>E105_H3K9me3</td><td>-5.785028</td><td>Male</td><td>E105</td><td>MF</td></tr>\n",
       "\t<tr><th scope=row>2</th><td>E105_H3K9me3</td><td>-3.209966</td><td>Male</td><td>E105</td><td>MF</td></tr>\n",
       "\t<tr><th scope=row>3</th><td>E105_H3K9me3</td><td> 2.460369</td><td>Male</td><td>E105</td><td>MF</td></tr>\n",
       "\t<tr><th scope=row>4</th><td>E105_H3K9me3</td><td>-7.970387</td><td>Male</td><td>E105</td><td>MF</td></tr>\n",
       "\t<tr><th scope=row>5</th><td>E105_H3K9me3</td><td> 1.429193</td><td>Male</td><td>E105</td><td>MF</td></tr>\n",
       "\t<tr><th scope=row>6</th><td>E105_H3K9me3</td><td>-9.286386</td><td>Male</td><td>E105</td><td>MF</td></tr>\n",
       "</tbody>\n",
       "</table>\n"
      ],
      "text/latex": [
       "A data.frame: 6 × 5\n",
       "\\begin{tabular}{r|lllll}\n",
       "  & variable & value & Sex & Time & ChIPSex\\\\\n",
       "  & <fct> & <dbl> & <chr> & <chr> & <chr>\\\\\n",
       "\\hline\n",
       "\t1 & E105\\_H3K9me3 & -5.785028 & Male & E105 & MF\\\\\n",
       "\t2 & E105\\_H3K9me3 & -3.209966 & Male & E105 & MF\\\\\n",
       "\t3 & E105\\_H3K9me3 &  2.460369 & Male & E105 & MF\\\\\n",
       "\t4 & E105\\_H3K9me3 & -7.970387 & Male & E105 & MF\\\\\n",
       "\t5 & E105\\_H3K9me3 &  1.429193 & Male & E105 & MF\\\\\n",
       "\t6 & E105\\_H3K9me3 & -9.286386 & Male & E105 & MF\\\\\n",
       "\\end{tabular}\n"
      ],
      "text/markdown": [
       "\n",
       "A data.frame: 6 × 5\n",
       "\n",
       "| <!--/--> | variable &lt;fct&gt; | value &lt;dbl&gt; | Sex &lt;chr&gt; | Time &lt;chr&gt; | ChIPSex &lt;chr&gt; |\n",
       "|---|---|---|---|---|---|\n",
       "| 1 | E105_H3K9me3 | -5.785028 | Male | E105 | MF |\n",
       "| 2 | E105_H3K9me3 | -3.209966 | Male | E105 | MF |\n",
       "| 3 | E105_H3K9me3 |  2.460369 | Male | E105 | MF |\n",
       "| 4 | E105_H3K9me3 | -7.970387 | Male | E105 | MF |\n",
       "| 5 | E105_H3K9me3 |  1.429193 | Male | E105 | MF |\n",
       "| 6 | E105_H3K9me3 | -9.286386 | Male | E105 | MF |\n",
       "\n"
      ],
      "text/plain": [
       "  variable     value     Sex  Time ChIPSex\n",
       "1 E105_H3K9me3 -5.785028 Male E105 MF     \n",
       "2 E105_H3K9me3 -3.209966 Male E105 MF     \n",
       "3 E105_H3K9me3  2.460369 Male E105 MF     \n",
       "4 E105_H3K9me3 -7.970387 Male E105 MF     \n",
       "5 E105_H3K9me3  1.429193 Male E105 MF     \n",
       "6 E105_H3K9me3 -9.286386 Male E105 MF     "
      ]
     },
     "metadata": {},
     "output_type": "display_data"
    }
   ],
   "source": [
    "boxmelt <- do.call(\"rbind\", list(K9_Male_E105_trim, K9_Male_E145_trim, K9_Female_E105_trim, K9_Female_E145_trim))\n",
    "head(boxmelt)\n",
    "write.table(boxmelt, file = 'ATAC_ERVFamily_raw.tsv', sep = '\\t', quote = F, row.names = F, col.names = T)"
   ]
  },
  {
   "cell_type": "code",
   "execution_count": 15,
   "id": "c2b3541b",
   "metadata": {},
   "outputs": [
    {
     "data": {
      "image/png": "[encoded data removed]",
      "text/plain": [
       "plot without title"
      ]
     },
     "metadata": {
      "image/png": {
       "height": 480,
       "width": 300
      }
     },
     "output_type": "display_data"
    }
   ],
   "source": [
    "options(repr.plot.width=5, repr.plot.height=8)\n",
    "order <- c(\"E105\", \"E145\")\n",
    "#\n",
    "H3K9me3_regroup <- ggplot(boxmelt, aes(x = variable, y = value, fill = interaction(Sex, ChIPSex))) + geom_boxplot(stat = \"boxplot\") + facet_grid(vars(Time), scales=\"free\") + scale_fill_manual(values=c(\"coral\",\"mediumaquamarine\",\"coral4\",\"aquamarine4\"), guide = guide_legend(nrow = 2)) + theme_bw() + ylab(label = \"Input Subtracted H3K9me3 RPKM\") + theme(legend.position = \"bottom\") \n",
    "#H3K9me3_regroup + coord_cartesian(ylim = c(-30,200))\n",
    "H3K9me3_regroup"
   ]
  },
  {
   "cell_type": "code",
   "execution_count": 16,
   "id": "2899e461-7863-4fcf-a620-63b65d12bf39",
   "metadata": {},
   "outputs": [
    {
     "data": {
      "image/png": "[encoded data removed]",
      "text/plain": [
       "plot without title"
      ]
     },
     "metadata": {
      "image/png": {
       "height": 480,
       "width": 240
      }
     },
     "output_type": "display_data"
    }
   ],
   "source": [
    "options(repr.plot.width=4, repr.plot.height=8)\n",
    "new_stat <- H3K9me3_regroup + stat_compare_means(aes(group = Sex), method = \"t.test\", label = \"p.format\")\n",
    "new_stat"
   ]
  },
  {
   "cell_type": "code",
   "execution_count": 12,
   "id": "e6b47687-39fc-46f6-824d-18203b41cb8a",
   "metadata": {},
   "outputs": [
    {
     "data": {
      "text/html": [
       "<strong>png:</strong> 2"
      ],
      "text/latex": [
       "\\textbf{png:} 2"
      ],
      "text/markdown": [
       "**png:** 2"
      ],
      "text/plain": [
       "png \n",
       "  2 "
      ]
     },
     "metadata": {},
     "output_type": "display_data"
    }
   ],
   "source": [
    "pdf(file = 'TRIM28_Time_Sex_Split_Mut_H3K9me3_sig_newscale.pdf', height = 8, width = 4)\n",
    "new_stat\n",
    "dev.off()"
   ]
  },
  {
   "cell_type": "code",
   "execution_count": 14,
   "id": "a0749e1f-9354-4488-95a3-a20b5b55b549",
   "metadata": {},
   "outputs": [
    {
     "data": {
      "text/plain": [
       "R version 4.3.3 (2024-02-29)\n",
       "Platform: x86_64-pc-linux-gnu (64-bit)\n",
       "Running under: Ubuntu 20.04.6 LTS\n",
       "\n",
       "Matrix products: default\n",
       "BLAS:   /usr/lib/x86_64-linux-gnu/blas/libblas.so.3.9.0 \n",
       "LAPACK: /usr/lib/x86_64-linux-gnu/lapack/liblapack.so.3.9.0\n",
       "\n",
       "locale:\n",
       " [1] LC_CTYPE=en_US.UTF-8       LC_NUMERIC=C              \n",
       " [3] LC_TIME=en_US.UTF-8        LC_COLLATE=en_US.UTF-8    \n",
       " [5] LC_MONETARY=en_US.UTF-8    LC_MESSAGES=en_US.UTF-8   \n",
       " [7] LC_PAPER=en_US.UTF-8       LC_NAME=C                 \n",
       " [9] LC_ADDRESS=C               LC_TELEPHONE=C            \n",
       "[11] LC_MEASUREMENT=en_US.UTF-8 LC_IDENTIFICATION=C       \n",
       "\n",
       "time zone: America/Los_Angeles\n",
       "tzcode source: system (glibc)\n",
       "\n",
       "attached base packages:\n",
       "[1] stats     graphics  grDevices utils     datasets  methods   base     \n",
       "\n",
       "other attached packages:\n",
       " [1] ggpubr_0.6.0       ggsignif_0.6.4     RColorBrewer_1.1-3 reshape2_1.4.4    \n",
       " [5] lubridate_1.9.3    forcats_1.0.0      stringr_1.5.1      dplyr_1.1.4       \n",
       " [9] purrr_1.0.2        readr_2.1.5        tidyr_1.3.1        tibble_3.2.1      \n",
       "[13] ggplot2_3.5.0      tidyverse_2.0.0   \n",
       "\n",
       "loaded via a namespace (and not attached):\n",
       " [1] utf8_1.2.4       generics_0.1.3   rstatix_0.7.2    stringi_1.8.3   \n",
       " [5] hms_1.1.3        digest_0.6.34    magrittr_2.0.3   evaluate_0.23   \n",
       " [9] grid_4.3.3       timechange_0.3.0 pbdZMQ_0.3-11    fastmap_1.1.1   \n",
       "[13] plyr_1.8.9       jsonlite_1.8.8   backports_1.4.1  fansi_1.0.6     \n",
       "[17] scales_1.3.0     abind_1.4-5      cli_3.6.2        rlang_1.1.3     \n",
       "[21] crayon_1.5.2     munsell_0.5.0    base64enc_0.1-3  withr_3.0.0     \n",
       "[25] repr_1.1.6       tools_4.3.3      tzdb_0.4.0       uuid_1.2-0      \n",
       "[29] colorspace_2.1-0 broom_1.0.5      IRdisplay_1.1    vctrs_0.6.5     \n",
       "[33] R6_2.5.1         lifecycle_1.0.4  car_3.1-2        pkgconfig_2.0.3 \n",
       "[37] pillar_1.9.0     gtable_0.3.4     glue_1.7.0       Rcpp_1.0.12     \n",
       "[41] tidyselect_1.2.0 IRkernel_1.3.2   farver_2.1.1     htmltools_0.5.7 \n",
       "[45] labeling_0.4.3   carData_3.0-5    compiler_4.3.3  "
      ]
     },
     "metadata": {},
     "output_type": "display_data"
    }
   ],
   "source": [
    "sessionInfo()"
   ]
  },
  {
   "cell_type": "code",
   "execution_count": null,
   "id": "7a96e443-bde0-46a6-917b-96e00a637670",
   "metadata": {},
   "outputs": [],
   "source": []
  }
 ],
 "metadata": {
  "kernelspec": {
   "display_name": "R",
   "language": "R",
   "name": "ir"
  },
  "language_info": {
   "codemirror_mode": "r",
   "file_extension": ".r",
   "mimetype": "text/x-r-source",
   "name": "R",
   "pygments_lexer": "r",
   "version": "4.3.3"
  }
 },
 "nbformat": 4,
 "nbformat_minor": 5
}
