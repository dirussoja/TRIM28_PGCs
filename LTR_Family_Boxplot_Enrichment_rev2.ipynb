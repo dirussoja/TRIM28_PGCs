{
 "cells": [
  {
   "cell_type": "code",
   "execution_count": 1,
   "id": "2475d836",
   "metadata": {
    "vscode": {
     "languageId": "r"
    }
   },
   "outputs": [
    {
     "name": "stderr",
     "output_type": "stream",
     "text": [
      "\n",
      "Attaching package: ‘dplyr’\n",
      "\n",
      "\n",
      "The following objects are masked from ‘package:stats’:\n",
      "\n",
      "    filter, lag\n",
      "\n",
      "\n",
      "The following objects are masked from ‘package:base’:\n",
      "\n",
      "    intersect, setdiff, setequal, union\n",
      "\n",
      "\n",
      "── \u001b[1mAttaching core tidyverse packages\u001b[22m ──────────────────────── tidyverse 2.0.0 ──\n",
      "\u001b[32m✔\u001b[39m \u001b[34mforcats  \u001b[39m 1.0.0     \u001b[32m✔\u001b[39m \u001b[34mstringr  \u001b[39m 1.5.1\n",
      "\u001b[32m✔\u001b[39m \u001b[34mlubridate\u001b[39m 1.9.3     \u001b[32m✔\u001b[39m \u001b[34mtibble   \u001b[39m 3.2.1\n",
      "\u001b[32m✔\u001b[39m \u001b[34mpurrr    \u001b[39m 1.0.2     \u001b[32m✔\u001b[39m \u001b[34mtidyr    \u001b[39m 1.3.1\n",
      "\u001b[32m✔\u001b[39m \u001b[34mreadr    \u001b[39m 2.1.5     \n",
      "── \u001b[1mConflicts\u001b[22m ────────────────────────────────────────── tidyverse_conflicts() ──\n",
      "\u001b[31m✖\u001b[39m \u001b[34mdplyr\u001b[39m::\u001b[32mfilter()\u001b[39m masks \u001b[34mstats\u001b[39m::filter()\n",
      "\u001b[31m✖\u001b[39m \u001b[34mdplyr\u001b[39m::\u001b[32mlag()\u001b[39m    masks \u001b[34mstats\u001b[39m::lag()\n",
      "\u001b[36mℹ\u001b[39m Use the conflicted package (\u001b[3m\u001b[34m<http://conflicted.r-lib.org/>\u001b[39m\u001b[23m) to force all conflicts to become errors\n"
     ]
    }
   ],
   "source": [
    "library(dplyr)\n",
    "library(reshape2)\n",
    "library(ggplot2)\n",
    "library(tidyverse)\n",
    "library(RColorBrewer)\n",
    "#library(ggeasy)"
   ]
  },
  {
   "cell_type": "code",
   "execution_count": 2,
   "id": "dc95c67a",
   "metadata": {
    "vscode": {
     "languageId": "r"
    }
   },
   "outputs": [
    {
     "data": {
      "text/html": [
       "<table class=\"dataframe\">\n",
       "<caption>A data.frame: 6 × 12</caption>\n",
       "<thead>\n",
       "\t<tr><th></th><th scope=col>chrm</th><th scope=col>start</th><th scope=col>end</th><th scope=col>RPKM_H3K27ac</th><th scope=col>TE_Chrom</th><th scope=col>TE_Start</th><th scope=col>TE_End</th><th scope=col>Subfamily</th><th scope=col>TE_Length</th><th scope=col>Strand</th><th scope=col>Family</th><th scope=col>Overlap</th></tr>\n",
       "\t<tr><th></th><th scope=col>&lt;chr&gt;</th><th scope=col>&lt;int&gt;</th><th scope=col>&lt;int&gt;</th><th scope=col>&lt;dbl&gt;</th><th scope=col>&lt;chr&gt;</th><th scope=col>&lt;int&gt;</th><th scope=col>&lt;int&gt;</th><th scope=col>&lt;chr&gt;</th><th scope=col>&lt;int&gt;</th><th scope=col>&lt;chr&gt;</th><th scope=col>&lt;chr&gt;</th><th scope=col>&lt;int&gt;</th></tr>\n",
       "</thead>\n",
       "<tbody>\n",
       "\t<tr><th scope=row>1</th><td>8</td><td>3050001</td><td>3050186</td><td>-0.41201696</td><td>8</td><td>3050001</td><td>3050186</td><td>MurERV4_19-int</td><td>186</td><td>+</td><td>ERVK     </td><td>185</td></tr>\n",
       "\t<tr><th scope=row>2</th><td>8</td><td>3050386</td><td>3050605</td><td> 0.07355288</td><td>8</td><td>3050386</td><td>3050605</td><td>RMER5         </td><td>220</td><td>+</td><td>ERV1     </td><td>219</td></tr>\n",
       "\t<tr><th scope=row>3</th><td>8</td><td>3050606</td><td>3050731</td><td> 0.00000000</td><td>8</td><td>3050606</td><td>3050731</td><td>ORR1E         </td><td>126</td><td>+</td><td>ERVL-MaLR</td><td>125</td></tr>\n",
       "\t<tr><th scope=row>4</th><td>8</td><td>3050793</td><td>3051009</td><td>-1.45659489</td><td>8</td><td>3050793</td><td>3051009</td><td>RLTR14-int    </td><td>217</td><td>+</td><td>ERV1     </td><td>216</td></tr>\n",
       "\t<tr><th scope=row>5</th><td>8</td><td>3051032</td><td>3051407</td><td>-0.29809136</td><td>8</td><td>3051032</td><td>3051407</td><td>RLTR14        </td><td>376</td><td>+</td><td>ERV1     </td><td>375</td></tr>\n",
       "\t<tr><th scope=row>6</th><td>8</td><td>3052536</td><td>3052595</td><td> 0.51129662</td><td>8</td><td>3052536</td><td>3052595</td><td>ORR1E         </td><td> 60</td><td>+</td><td>ERVL-MaLR</td><td> 59</td></tr>\n",
       "</tbody>\n",
       "</table>\n"
      ],
      "text/latex": [
       "A data.frame: 6 × 12\n",
       "\\begin{tabular}{r|llllllllllll}\n",
       "  & chrm & start & end & RPKM\\_H3K27ac & TE\\_Chrom & TE\\_Start & TE\\_End & Subfamily & TE\\_Length & Strand & Family & Overlap\\\\\n",
       "  & <chr> & <int> & <int> & <dbl> & <chr> & <int> & <int> & <chr> & <int> & <chr> & <chr> & <int>\\\\\n",
       "\\hline\n",
       "\t1 & 8 & 3050001 & 3050186 & -0.41201696 & 8 & 3050001 & 3050186 & MurERV4\\_19-int & 186 & + & ERVK      & 185\\\\\n",
       "\t2 & 8 & 3050386 & 3050605 &  0.07355288 & 8 & 3050386 & 3050605 & RMER5          & 220 & + & ERV1      & 219\\\\\n",
       "\t3 & 8 & 3050606 & 3050731 &  0.00000000 & 8 & 3050606 & 3050731 & ORR1E          & 126 & + & ERVL-MaLR & 125\\\\\n",
       "\t4 & 8 & 3050793 & 3051009 & -1.45659489 & 8 & 3050793 & 3051009 & RLTR14-int     & 217 & + & ERV1      & 216\\\\\n",
       "\t5 & 8 & 3051032 & 3051407 & -0.29809136 & 8 & 3051032 & 3051407 & RLTR14         & 376 & + & ERV1      & 375\\\\\n",
       "\t6 & 8 & 3052536 & 3052595 &  0.51129662 & 8 & 3052536 & 3052595 & ORR1E          &  60 & + & ERVL-MaLR &  59\\\\\n",
       "\\end{tabular}\n"
      ],
      "text/markdown": [
       "\n",
       "A data.frame: 6 × 12\n",
       "\n",
       "| <!--/--> | chrm &lt;chr&gt; | start &lt;int&gt; | end &lt;int&gt; | RPKM_H3K27ac &lt;dbl&gt; | TE_Chrom &lt;chr&gt; | TE_Start &lt;int&gt; | TE_End &lt;int&gt; | Subfamily &lt;chr&gt; | TE_Length &lt;int&gt; | Strand &lt;chr&gt; | Family &lt;chr&gt; | Overlap &lt;int&gt; |\n",
       "|---|---|---|---|---|---|---|---|---|---|---|---|---|\n",
       "| 1 | 8 | 3050001 | 3050186 | -0.41201696 | 8 | 3050001 | 3050186 | MurERV4_19-int | 186 | + | ERVK      | 185 |\n",
       "| 2 | 8 | 3050386 | 3050605 |  0.07355288 | 8 | 3050386 | 3050605 | RMER5          | 220 | + | ERV1      | 219 |\n",
       "| 3 | 8 | 3050606 | 3050731 |  0.00000000 | 8 | 3050606 | 3050731 | ORR1E          | 126 | + | ERVL-MaLR | 125 |\n",
       "| 4 | 8 | 3050793 | 3051009 | -1.45659489 | 8 | 3050793 | 3051009 | RLTR14-int     | 217 | + | ERV1      | 216 |\n",
       "| 5 | 8 | 3051032 | 3051407 | -0.29809136 | 8 | 3051032 | 3051407 | RLTR14         | 376 | + | ERV1      | 375 |\n",
       "| 6 | 8 | 3052536 | 3052595 |  0.51129662 | 8 | 3052536 | 3052595 | ORR1E          |  60 | + | ERVL-MaLR |  59 |\n",
       "\n"
      ],
      "text/plain": [
       "  chrm start   end     RPKM_H3K27ac TE_Chrom TE_Start TE_End  Subfamily     \n",
       "1 8    3050001 3050186 -0.41201696  8        3050001  3050186 MurERV4_19-int\n",
       "2 8    3050386 3050605  0.07355288  8        3050386  3050605 RMER5         \n",
       "3 8    3050606 3050731  0.00000000  8        3050606  3050731 ORR1E         \n",
       "4 8    3050793 3051009 -1.45659489  8        3050793  3051009 RLTR14-int    \n",
       "5 8    3051032 3051407 -0.29809136  8        3051032  3051407 RLTR14        \n",
       "6 8    3052536 3052595  0.51129662  8        3052536  3052595 ORR1E         \n",
       "  TE_Length Strand Family    Overlap\n",
       "1 186       +      ERVK      185    \n",
       "2 220       +      ERV1      219    \n",
       "3 126       +      ERVL-MaLR 125    \n",
       "4 217       +      ERV1      216    \n",
       "5 376       +      ERV1      375    \n",
       "6  60       +      ERVL-MaLR  59    "
      ]
     },
     "metadata": {},
     "output_type": "display_data"
    }
   ],
   "source": [
    "TE_Bed <- read.delim(file = 'd6_H3K27ac_LTRoverlap.bed', header = F)\n",
    "colnames <- as.list(c(\"chrm\",\"start\",\"end\",\"RPKM_H3K27ac\",\"TE_Chrom\", \"TE_Start\", \"TE_End\", \"Subfamily\", \"TE_Length\", \"Strand\", \"Family\", \"Overlap\"))\n",
    "colnames(TE_Bed) <- colnames\n",
    "head(TE_Bed)"
   ]
  },
  {
   "cell_type": "code",
   "execution_count": 3,
   "id": "dc275f86",
   "metadata": {
    "vscode": {
     "languageId": "r"
    }
   },
   "outputs": [
    {
     "name": "stderr",
     "output_type": "stream",
     "text": [
      "Using Subfamily, Family as id variables\n",
      "\n"
     ]
    },
    {
     "data": {
      "text/html": [
       "<table class=\"dataframe\">\n",
       "<caption>A data.frame: 1130289 × 4</caption>\n",
       "<thead>\n",
       "\t<tr><th scope=col>Subfamily</th><th scope=col>Family</th><th scope=col>variable</th><th scope=col>value</th></tr>\n",
       "\t<tr><th scope=col>&lt;chr&gt;</th><th scope=col>&lt;chr&gt;</th><th scope=col>&lt;fct&gt;</th><th scope=col>&lt;dbl&gt;</th></tr>\n",
       "</thead>\n",
       "<tbody>\n",
       "\t<tr><td>MurERV4_19-int</td><td>ERVK     </td><td>RPKM_H3K27ac</td><td>-0.412016962</td></tr>\n",
       "\t<tr><td>RMER5         </td><td>ERV1     </td><td>RPKM_H3K27ac</td><td> 0.073552882</td></tr>\n",
       "\t<tr><td>ORR1E         </td><td>ERVL-MaLR</td><td>RPKM_H3K27ac</td><td> 0.000000000</td></tr>\n",
       "\t<tr><td>RLTR14-int    </td><td>ERV1     </td><td>RPKM_H3K27ac</td><td>-1.456594892</td></tr>\n",
       "\t<tr><td>RLTR14        </td><td>ERV1     </td><td>RPKM_H3K27ac</td><td>-0.298091362</td></tr>\n",
       "\t<tr><td>ORR1E         </td><td>ERVL-MaLR</td><td>RPKM_H3K27ac</td><td> 0.511296617</td></tr>\n",
       "\t<tr><td>ORR1E         </td><td>ERVL-MaLR</td><td>RPKM_H3K27ac</td><td>-1.685796315</td></tr>\n",
       "\t<tr><td>RLTR11A       </td><td>ERVK     </td><td>RPKM_H3K27ac</td><td>-3.053981340</td></tr>\n",
       "\t<tr><td>ERVB5_1-LTR_MM</td><td>ERVK     </td><td>RPKM_H3K27ac</td><td>-0.430233256</td></tr>\n",
       "\t<tr><td>RLTR11A       </td><td>ERVK     </td><td>RPKM_H3K27ac</td><td>-0.009126642</td></tr>\n",
       "\t<tr><td>MTEa          </td><td>ERVL-MaLR</td><td>RPKM_H3K27ac</td><td> 0.604597562</td></tr>\n",
       "\t<tr><td>RMER15        </td><td>ERVL     </td><td>RPKM_H3K27ac</td><td> 1.807883036</td></tr>\n",
       "\t<tr><td>RLTR9A3       </td><td>ERVK     </td><td>RPKM_H3K27ac</td><td> 4.946008570</td></tr>\n",
       "\t<tr><td>RLTR9A3       </td><td>ERVK     </td><td>RPKM_H3K27ac</td><td>17.971917777</td></tr>\n",
       "\t<tr><td>MLT1E2        </td><td>ERVL-MaLR</td><td>RPKM_H3K27ac</td><td> 1.373438850</td></tr>\n",
       "\t<tr><td>RLTR1D        </td><td>ERV1     </td><td>RPKM_H3K27ac</td><td> 1.305837059</td></tr>\n",
       "\t<tr><td>RLTR11A2      </td><td>ERVK     </td><td>RPKM_H3K27ac</td><td> 0.000000000</td></tr>\n",
       "\t<tr><td>RMER16-int    </td><td>ERVK     </td><td>RPKM_H3K27ac</td><td>-1.535588674</td></tr>\n",
       "\t<tr><td>ORR1B1-int    </td><td>ERVL-MaLR</td><td>RPKM_H3K27ac</td><td> 0.000000000</td></tr>\n",
       "\t<tr><td>ORR1B1-int    </td><td>ERVL-MaLR</td><td>RPKM_H3K27ac</td><td>-0.329051296</td></tr>\n",
       "\t<tr><td>RLTR13B1      </td><td>ERVK     </td><td>RPKM_H3K27ac</td><td> 0.583427931</td></tr>\n",
       "\t<tr><td>ORR1B1-int    </td><td>ERVL-MaLR</td><td>RPKM_H3K27ac</td><td>-0.954114491</td></tr>\n",
       "\t<tr><td>ORR1F         </td><td>ERVL-MaLR</td><td>RPKM_H3K27ac</td><td>-3.381300878</td></tr>\n",
       "\t<tr><td>RLTR6B_Mm     </td><td>ERV1     </td><td>RPKM_H3K27ac</td><td>-1.062321818</td></tr>\n",
       "\t<tr><td>RLTR17B_Mm    </td><td>ERVK     </td><td>RPKM_H3K27ac</td><td> 0.000000000</td></tr>\n",
       "\t<tr><td>RLTR31B2      </td><td>ERVK     </td><td>RPKM_H3K27ac</td><td>-0.231887075</td></tr>\n",
       "\t<tr><td>MTEa          </td><td>ERVL-MaLR</td><td>RPKM_H3K27ac</td><td>-0.593554220</td></tr>\n",
       "\t<tr><td>MTEa          </td><td>ERVL-MaLR</td><td>RPKM_H3K27ac</td><td>-0.206760648</td></tr>\n",
       "\t<tr><td>MTEa          </td><td>ERVL-MaLR</td><td>RPKM_H3K27ac</td><td>-1.120289529</td></tr>\n",
       "\t<tr><td>IAPEY3_LTR    </td><td>ERVK     </td><td>RPKM_H3K27ac</td><td>-0.319689403</td></tr>\n",
       "\t<tr><td>⋮</td><td>⋮</td><td>⋮</td><td>⋮</td></tr>\n",
       "\t<tr><td>ORR1D1    </td><td>ERVL-MaLR</td><td>RPKM_H3K27ac</td><td>-2.45038892</td></tr>\n",
       "\t<tr><td>ORR1D1    </td><td>ERVL-MaLR</td><td>RPKM_H3K27ac</td><td>-3.50452017</td></tr>\n",
       "\t<tr><td>MLT1J     </td><td>ERVL-MaLR</td><td>RPKM_H3K27ac</td><td>-3.98612497</td></tr>\n",
       "\t<tr><td>RLTR17B_Mm</td><td>ERVK     </td><td>RPKM_H3K27ac</td><td>-0.91382143</td></tr>\n",
       "\t<tr><td>MTB       </td><td>ERVL-MaLR</td><td>RPKM_H3K27ac</td><td>-1.43971272</td></tr>\n",
       "\t<tr><td>MTB       </td><td>ERVL-MaLR</td><td>RPKM_H3K27ac</td><td>-4.67025267</td></tr>\n",
       "\t<tr><td>RLTR48A   </td><td>ERV1     </td><td>RPKM_H3K27ac</td><td>-2.60670150</td></tr>\n",
       "\t<tr><td>ORR1D2    </td><td>ERVL-MaLR</td><td>RPKM_H3K27ac</td><td>-2.83566427</td></tr>\n",
       "\t<tr><td>RLTR22_Mur</td><td>ERVK     </td><td>RPKM_H3K27ac</td><td>-0.92034932</td></tr>\n",
       "\t<tr><td>RMER12C   </td><td>ERVK     </td><td>RPKM_H3K27ac</td><td>-0.07544138</td></tr>\n",
       "\t<tr><td>MLT1B     </td><td>ERVL-MaLR</td><td>RPKM_H3K27ac</td><td>-3.38938215</td></tr>\n",
       "\t<tr><td>MTD       </td><td>ERVL-MaLR</td><td>RPKM_H3K27ac</td><td>-2.29487282</td></tr>\n",
       "\t<tr><td>ORR1A4    </td><td>ERVL-MaLR</td><td>RPKM_H3K27ac</td><td>-2.85296271</td></tr>\n",
       "\t<tr><td>ORR1A4    </td><td>ERVL-MaLR</td><td>RPKM_H3K27ac</td><td>-7.50360297</td></tr>\n",
       "\t<tr><td>ORR1B1-int</td><td>ERVL-MaLR</td><td>RPKM_H3K27ac</td><td>-6.91238097</td></tr>\n",
       "\t<tr><td>RMER12    </td><td>ERVK     </td><td>RPKM_H3K27ac</td><td>-1.87166969</td></tr>\n",
       "\t<tr><td>RMER15    </td><td>ERVL     </td><td>RPKM_H3K27ac</td><td>-1.73315419</td></tr>\n",
       "\t<tr><td>LTR72_RN  </td><td>ERV1     </td><td>RPKM_H3K27ac</td><td>-1.21752602</td></tr>\n",
       "\t<tr><td>MT2B1     </td><td>ERVL     </td><td>RPKM_H3K27ac</td><td>-0.19984679</td></tr>\n",
       "\t<tr><td>RLTR22_Mur</td><td>ERVK     </td><td>RPKM_H3K27ac</td><td>-1.43708308</td></tr>\n",
       "\t<tr><td>RLTR22_Mur</td><td>ERVK     </td><td>RPKM_H3K27ac</td><td>-2.46310197</td></tr>\n",
       "\t<tr><td>RMER4A    </td><td>ERVK     </td><td>RPKM_H3K27ac</td><td>-2.19552694</td></tr>\n",
       "\t<tr><td>RMER10A   </td><td>ERVL     </td><td>RPKM_H3K27ac</td><td>-3.64294740</td></tr>\n",
       "\t<tr><td>RMER6A    </td><td>ERVK     </td><td>RPKM_H3K27ac</td><td>-2.15505487</td></tr>\n",
       "\t<tr><td>MTA_Mm    </td><td>ERVL-MaLR</td><td>RPKM_H3K27ac</td><td>-0.81017505</td></tr>\n",
       "\t<tr><td>MTD       </td><td>ERVL-MaLR</td><td>RPKM_H3K27ac</td><td>-2.32078179</td></tr>\n",
       "\t<tr><td>MTD       </td><td>ERVL-MaLR</td><td>RPKM_H3K27ac</td><td>-3.47845752</td></tr>\n",
       "\t<tr><td>MTD       </td><td>ERVL-MaLR</td><td>RPKM_H3K27ac</td><td>-1.72764641</td></tr>\n",
       "\t<tr><td>MTD       </td><td>ERVL-MaLR</td><td>RPKM_H3K27ac</td><td>-3.15042949</td></tr>\n",
       "\t<tr><td>ORR1B1    </td><td>ERVL-MaLR</td><td>RPKM_H3K27ac</td><td>-2.81719529</td></tr>\n",
       "</tbody>\n",
       "</table>\n"
      ],
      "text/latex": [
       "A data.frame: 1130289 × 4\n",
       "\\begin{tabular}{llll}\n",
       " Subfamily & Family & variable & value\\\\\n",
       " <chr> & <chr> & <fct> & <dbl>\\\\\n",
       "\\hline\n",
       "\t MurERV4\\_19-int & ERVK      & RPKM\\_H3K27ac & -0.412016962\\\\\n",
       "\t RMER5          & ERV1      & RPKM\\_H3K27ac &  0.073552882\\\\\n",
       "\t ORR1E          & ERVL-MaLR & RPKM\\_H3K27ac &  0.000000000\\\\\n",
       "\t RLTR14-int     & ERV1      & RPKM\\_H3K27ac & -1.456594892\\\\\n",
       "\t RLTR14         & ERV1      & RPKM\\_H3K27ac & -0.298091362\\\\\n",
       "\t ORR1E          & ERVL-MaLR & RPKM\\_H3K27ac &  0.511296617\\\\\n",
       "\t ORR1E          & ERVL-MaLR & RPKM\\_H3K27ac & -1.685796315\\\\\n",
       "\t RLTR11A        & ERVK      & RPKM\\_H3K27ac & -3.053981340\\\\\n",
       "\t ERVB5\\_1-LTR\\_MM & ERVK      & RPKM\\_H3K27ac & -0.430233256\\\\\n",
       "\t RLTR11A        & ERVK      & RPKM\\_H3K27ac & -0.009126642\\\\\n",
       "\t MTEa           & ERVL-MaLR & RPKM\\_H3K27ac &  0.604597562\\\\\n",
       "\t RMER15         & ERVL      & RPKM\\_H3K27ac &  1.807883036\\\\\n",
       "\t RLTR9A3        & ERVK      & RPKM\\_H3K27ac &  4.946008570\\\\\n",
       "\t RLTR9A3        & ERVK      & RPKM\\_H3K27ac & 17.971917777\\\\\n",
       "\t MLT1E2         & ERVL-MaLR & RPKM\\_H3K27ac &  1.373438850\\\\\n",
       "\t RLTR1D         & ERV1      & RPKM\\_H3K27ac &  1.305837059\\\\\n",
       "\t RLTR11A2       & ERVK      & RPKM\\_H3K27ac &  0.000000000\\\\\n",
       "\t RMER16-int     & ERVK      & RPKM\\_H3K27ac & -1.535588674\\\\\n",
       "\t ORR1B1-int     & ERVL-MaLR & RPKM\\_H3K27ac &  0.000000000\\\\\n",
       "\t ORR1B1-int     & ERVL-MaLR & RPKM\\_H3K27ac & -0.329051296\\\\\n",
       "\t RLTR13B1       & ERVK      & RPKM\\_H3K27ac &  0.583427931\\\\\n",
       "\t ORR1B1-int     & ERVL-MaLR & RPKM\\_H3K27ac & -0.954114491\\\\\n",
       "\t ORR1F          & ERVL-MaLR & RPKM\\_H3K27ac & -3.381300878\\\\\n",
       "\t RLTR6B\\_Mm      & ERV1      & RPKM\\_H3K27ac & -1.062321818\\\\\n",
       "\t RLTR17B\\_Mm     & ERVK      & RPKM\\_H3K27ac &  0.000000000\\\\\n",
       "\t RLTR31B2       & ERVK      & RPKM\\_H3K27ac & -0.231887075\\\\\n",
       "\t MTEa           & ERVL-MaLR & RPKM\\_H3K27ac & -0.593554220\\\\\n",
       "\t MTEa           & ERVL-MaLR & RPKM\\_H3K27ac & -0.206760648\\\\\n",
       "\t MTEa           & ERVL-MaLR & RPKM\\_H3K27ac & -1.120289529\\\\\n",
       "\t IAPEY3\\_LTR     & ERVK      & RPKM\\_H3K27ac & -0.319689403\\\\\n",
       "\t ⋮ & ⋮ & ⋮ & ⋮\\\\\n",
       "\t ORR1D1     & ERVL-MaLR & RPKM\\_H3K27ac & -2.45038892\\\\\n",
       "\t ORR1D1     & ERVL-MaLR & RPKM\\_H3K27ac & -3.50452017\\\\\n",
       "\t MLT1J      & ERVL-MaLR & RPKM\\_H3K27ac & -3.98612497\\\\\n",
       "\t RLTR17B\\_Mm & ERVK      & RPKM\\_H3K27ac & -0.91382143\\\\\n",
       "\t MTB        & ERVL-MaLR & RPKM\\_H3K27ac & -1.43971272\\\\\n",
       "\t MTB        & ERVL-MaLR & RPKM\\_H3K27ac & -4.67025267\\\\\n",
       "\t RLTR48A    & ERV1      & RPKM\\_H3K27ac & -2.60670150\\\\\n",
       "\t ORR1D2     & ERVL-MaLR & RPKM\\_H3K27ac & -2.83566427\\\\\n",
       "\t RLTR22\\_Mur & ERVK      & RPKM\\_H3K27ac & -0.92034932\\\\\n",
       "\t RMER12C    & ERVK      & RPKM\\_H3K27ac & -0.07544138\\\\\n",
       "\t MLT1B      & ERVL-MaLR & RPKM\\_H3K27ac & -3.38938215\\\\\n",
       "\t MTD        & ERVL-MaLR & RPKM\\_H3K27ac & -2.29487282\\\\\n",
       "\t ORR1A4     & ERVL-MaLR & RPKM\\_H3K27ac & -2.85296271\\\\\n",
       "\t ORR1A4     & ERVL-MaLR & RPKM\\_H3K27ac & -7.50360297\\\\\n",
       "\t ORR1B1-int & ERVL-MaLR & RPKM\\_H3K27ac & -6.91238097\\\\\n",
       "\t RMER12     & ERVK      & RPKM\\_H3K27ac & -1.87166969\\\\\n",
       "\t RMER15     & ERVL      & RPKM\\_H3K27ac & -1.73315419\\\\\n",
       "\t LTR72\\_RN   & ERV1      & RPKM\\_H3K27ac & -1.21752602\\\\\n",
       "\t MT2B1      & ERVL      & RPKM\\_H3K27ac & -0.19984679\\\\\n",
       "\t RLTR22\\_Mur & ERVK      & RPKM\\_H3K27ac & -1.43708308\\\\\n",
       "\t RLTR22\\_Mur & ERVK      & RPKM\\_H3K27ac & -2.46310197\\\\\n",
       "\t RMER4A     & ERVK      & RPKM\\_H3K27ac & -2.19552694\\\\\n",
       "\t RMER10A    & ERVL      & RPKM\\_H3K27ac & -3.64294740\\\\\n",
       "\t RMER6A     & ERVK      & RPKM\\_H3K27ac & -2.15505487\\\\\n",
       "\t MTA\\_Mm     & ERVL-MaLR & RPKM\\_H3K27ac & -0.81017505\\\\\n",
       "\t MTD        & ERVL-MaLR & RPKM\\_H3K27ac & -2.32078179\\\\\n",
       "\t MTD        & ERVL-MaLR & RPKM\\_H3K27ac & -3.47845752\\\\\n",
       "\t MTD        & ERVL-MaLR & RPKM\\_H3K27ac & -1.72764641\\\\\n",
       "\t MTD        & ERVL-MaLR & RPKM\\_H3K27ac & -3.15042949\\\\\n",
       "\t ORR1B1     & ERVL-MaLR & RPKM\\_H3K27ac & -2.81719529\\\\\n",
       "\\end{tabular}\n"
      ],
      "text/markdown": [
       "\n",
       "A data.frame: 1130289 × 4\n",
       "\n",
       "| Subfamily &lt;chr&gt; | Family &lt;chr&gt; | variable &lt;fct&gt; | value &lt;dbl&gt; |\n",
       "|---|---|---|---|\n",
       "| MurERV4_19-int | ERVK      | RPKM_H3K27ac | -0.412016962 |\n",
       "| RMER5          | ERV1      | RPKM_H3K27ac |  0.073552882 |\n",
       "| ORR1E          | ERVL-MaLR | RPKM_H3K27ac |  0.000000000 |\n",
       "| RLTR14-int     | ERV1      | RPKM_H3K27ac | -1.456594892 |\n",
       "| RLTR14         | ERV1      | RPKM_H3K27ac | -0.298091362 |\n",
       "| ORR1E          | ERVL-MaLR | RPKM_H3K27ac |  0.511296617 |\n",
       "| ORR1E          | ERVL-MaLR | RPKM_H3K27ac | -1.685796315 |\n",
       "| RLTR11A        | ERVK      | RPKM_H3K27ac | -3.053981340 |\n",
       "| ERVB5_1-LTR_MM | ERVK      | RPKM_H3K27ac | -0.430233256 |\n",
       "| RLTR11A        | ERVK      | RPKM_H3K27ac | -0.009126642 |\n",
       "| MTEa           | ERVL-MaLR | RPKM_H3K27ac |  0.604597562 |\n",
       "| RMER15         | ERVL      | RPKM_H3K27ac |  1.807883036 |\n",
       "| RLTR9A3        | ERVK      | RPKM_H3K27ac |  4.946008570 |\n",
       "| RLTR9A3        | ERVK      | RPKM_H3K27ac | 17.971917777 |\n",
       "| MLT1E2         | ERVL-MaLR | RPKM_H3K27ac |  1.373438850 |\n",
       "| RLTR1D         | ERV1      | RPKM_H3K27ac |  1.305837059 |\n",
       "| RLTR11A2       | ERVK      | RPKM_H3K27ac |  0.000000000 |\n",
       "| RMER16-int     | ERVK      | RPKM_H3K27ac | -1.535588674 |\n",
       "| ORR1B1-int     | ERVL-MaLR | RPKM_H3K27ac |  0.000000000 |\n",
       "| ORR1B1-int     | ERVL-MaLR | RPKM_H3K27ac | -0.329051296 |\n",
       "| RLTR13B1       | ERVK      | RPKM_H3K27ac |  0.583427931 |\n",
       "| ORR1B1-int     | ERVL-MaLR | RPKM_H3K27ac | -0.954114491 |\n",
       "| ORR1F          | ERVL-MaLR | RPKM_H3K27ac | -3.381300878 |\n",
       "| RLTR6B_Mm      | ERV1      | RPKM_H3K27ac | -1.062321818 |\n",
       "| RLTR17B_Mm     | ERVK      | RPKM_H3K27ac |  0.000000000 |\n",
       "| RLTR31B2       | ERVK      | RPKM_H3K27ac | -0.231887075 |\n",
       "| MTEa           | ERVL-MaLR | RPKM_H3K27ac | -0.593554220 |\n",
       "| MTEa           | ERVL-MaLR | RPKM_H3K27ac | -0.206760648 |\n",
       "| MTEa           | ERVL-MaLR | RPKM_H3K27ac | -1.120289529 |\n",
       "| IAPEY3_LTR     | ERVK      | RPKM_H3K27ac | -0.319689403 |\n",
       "| ⋮ | ⋮ | ⋮ | ⋮ |\n",
       "| ORR1D1     | ERVL-MaLR | RPKM_H3K27ac | -2.45038892 |\n",
       "| ORR1D1     | ERVL-MaLR | RPKM_H3K27ac | -3.50452017 |\n",
       "| MLT1J      | ERVL-MaLR | RPKM_H3K27ac | -3.98612497 |\n",
       "| RLTR17B_Mm | ERVK      | RPKM_H3K27ac | -0.91382143 |\n",
       "| MTB        | ERVL-MaLR | RPKM_H3K27ac | -1.43971272 |\n",
       "| MTB        | ERVL-MaLR | RPKM_H3K27ac | -4.67025267 |\n",
       "| RLTR48A    | ERV1      | RPKM_H3K27ac | -2.60670150 |\n",
       "| ORR1D2     | ERVL-MaLR | RPKM_H3K27ac | -2.83566427 |\n",
       "| RLTR22_Mur | ERVK      | RPKM_H3K27ac | -0.92034932 |\n",
       "| RMER12C    | ERVK      | RPKM_H3K27ac | -0.07544138 |\n",
       "| MLT1B      | ERVL-MaLR | RPKM_H3K27ac | -3.38938215 |\n",
       "| MTD        | ERVL-MaLR | RPKM_H3K27ac | -2.29487282 |\n",
       "| ORR1A4     | ERVL-MaLR | RPKM_H3K27ac | -2.85296271 |\n",
       "| ORR1A4     | ERVL-MaLR | RPKM_H3K27ac | -7.50360297 |\n",
       "| ORR1B1-int | ERVL-MaLR | RPKM_H3K27ac | -6.91238097 |\n",
       "| RMER12     | ERVK      | RPKM_H3K27ac | -1.87166969 |\n",
       "| RMER15     | ERVL      | RPKM_H3K27ac | -1.73315419 |\n",
       "| LTR72_RN   | ERV1      | RPKM_H3K27ac | -1.21752602 |\n",
       "| MT2B1      | ERVL      | RPKM_H3K27ac | -0.19984679 |\n",
       "| RLTR22_Mur | ERVK      | RPKM_H3K27ac | -1.43708308 |\n",
       "| RLTR22_Mur | ERVK      | RPKM_H3K27ac | -2.46310197 |\n",
       "| RMER4A     | ERVK      | RPKM_H3K27ac | -2.19552694 |\n",
       "| RMER10A    | ERVL      | RPKM_H3K27ac | -3.64294740 |\n",
       "| RMER6A     | ERVK      | RPKM_H3K27ac | -2.15505487 |\n",
       "| MTA_Mm     | ERVL-MaLR | RPKM_H3K27ac | -0.81017505 |\n",
       "| MTD        | ERVL-MaLR | RPKM_H3K27ac | -2.32078179 |\n",
       "| MTD        | ERVL-MaLR | RPKM_H3K27ac | -3.47845752 |\n",
       "| MTD        | ERVL-MaLR | RPKM_H3K27ac | -1.72764641 |\n",
       "| MTD        | ERVL-MaLR | RPKM_H3K27ac | -3.15042949 |\n",
       "| ORR1B1     | ERVL-MaLR | RPKM_H3K27ac | -2.81719529 |\n",
       "\n"
      ],
      "text/plain": [
       "        Subfamily      Family    variable     value       \n",
       "1       MurERV4_19-int ERVK      RPKM_H3K27ac -0.412016962\n",
       "2       RMER5          ERV1      RPKM_H3K27ac  0.073552882\n",
       "3       ORR1E          ERVL-MaLR RPKM_H3K27ac  0.000000000\n",
       "4       RLTR14-int     ERV1      RPKM_H3K27ac -1.456594892\n",
       "5       RLTR14         ERV1      RPKM_H3K27ac -0.298091362\n",
       "6       ORR1E          ERVL-MaLR RPKM_H3K27ac  0.511296617\n",
       "7       ORR1E          ERVL-MaLR RPKM_H3K27ac -1.685796315\n",
       "8       RLTR11A        ERVK      RPKM_H3K27ac -3.053981340\n",
       "9       ERVB5_1-LTR_MM ERVK      RPKM_H3K27ac -0.430233256\n",
       "10      RLTR11A        ERVK      RPKM_H3K27ac -0.009126642\n",
       "11      MTEa           ERVL-MaLR RPKM_H3K27ac  0.604597562\n",
       "12      RMER15         ERVL      RPKM_H3K27ac  1.807883036\n",
       "13      RLTR9A3        ERVK      RPKM_H3K27ac  4.946008570\n",
       "14      RLTR9A3        ERVK      RPKM_H3K27ac 17.971917777\n",
       "15      MLT1E2         ERVL-MaLR RPKM_H3K27ac  1.373438850\n",
       "16      RLTR1D         ERV1      RPKM_H3K27ac  1.305837059\n",
       "17      RLTR11A2       ERVK      RPKM_H3K27ac  0.000000000\n",
       "18      RMER16-int     ERVK      RPKM_H3K27ac -1.535588674\n",
       "19      ORR1B1-int     ERVL-MaLR RPKM_H3K27ac  0.000000000\n",
       "20      ORR1B1-int     ERVL-MaLR RPKM_H3K27ac -0.329051296\n",
       "21      RLTR13B1       ERVK      RPKM_H3K27ac  0.583427931\n",
       "22      ORR1B1-int     ERVL-MaLR RPKM_H3K27ac -0.954114491\n",
       "23      ORR1F          ERVL-MaLR RPKM_H3K27ac -3.381300878\n",
       "24      RLTR6B_Mm      ERV1      RPKM_H3K27ac -1.062321818\n",
       "25      RLTR17B_Mm     ERVK      RPKM_H3K27ac  0.000000000\n",
       "26      RLTR31B2       ERVK      RPKM_H3K27ac -0.231887075\n",
       "27      MTEa           ERVL-MaLR RPKM_H3K27ac -0.593554220\n",
       "28      MTEa           ERVL-MaLR RPKM_H3K27ac -0.206760648\n",
       "29      MTEa           ERVL-MaLR RPKM_H3K27ac -1.120289529\n",
       "30      IAPEY3_LTR     ERVK      RPKM_H3K27ac -0.319689403\n",
       "⋮       ⋮              ⋮         ⋮            ⋮           \n",
       "1130260 ORR1D1         ERVL-MaLR RPKM_H3K27ac -2.45038892 \n",
       "1130261 ORR1D1         ERVL-MaLR RPKM_H3K27ac -3.50452017 \n",
       "1130262 MLT1J          ERVL-MaLR RPKM_H3K27ac -3.98612497 \n",
       "1130263 RLTR17B_Mm     ERVK      RPKM_H3K27ac -0.91382143 \n",
       "1130264 MTB            ERVL-MaLR RPKM_H3K27ac -1.43971272 \n",
       "1130265 MTB            ERVL-MaLR RPKM_H3K27ac -4.67025267 \n",
       "1130266 RLTR48A        ERV1      RPKM_H3K27ac -2.60670150 \n",
       "1130267 ORR1D2         ERVL-MaLR RPKM_H3K27ac -2.83566427 \n",
       "1130268 RLTR22_Mur     ERVK      RPKM_H3K27ac -0.92034932 \n",
       "1130269 RMER12C        ERVK      RPKM_H3K27ac -0.07544138 \n",
       "1130270 MLT1B          ERVL-MaLR RPKM_H3K27ac -3.38938215 \n",
       "1130271 MTD            ERVL-MaLR RPKM_H3K27ac -2.29487282 \n",
       "1130272 ORR1A4         ERVL-MaLR RPKM_H3K27ac -2.85296271 \n",
       "1130273 ORR1A4         ERVL-MaLR RPKM_H3K27ac -7.50360297 \n",
       "1130274 ORR1B1-int     ERVL-MaLR RPKM_H3K27ac -6.91238097 \n",
       "1130275 RMER12         ERVK      RPKM_H3K27ac -1.87166969 \n",
       "1130276 RMER15         ERVL      RPKM_H3K27ac -1.73315419 \n",
       "1130277 LTR72_RN       ERV1      RPKM_H3K27ac -1.21752602 \n",
       "1130278 MT2B1          ERVL      RPKM_H3K27ac -0.19984679 \n",
       "1130279 RLTR22_Mur     ERVK      RPKM_H3K27ac -1.43708308 \n",
       "1130280 RLTR22_Mur     ERVK      RPKM_H3K27ac -2.46310197 \n",
       "1130281 RMER4A         ERVK      RPKM_H3K27ac -2.19552694 \n",
       "1130282 RMER10A        ERVL      RPKM_H3K27ac -3.64294740 \n",
       "1130283 RMER6A         ERVK      RPKM_H3K27ac -2.15505487 \n",
       "1130284 MTA_Mm         ERVL-MaLR RPKM_H3K27ac -0.81017505 \n",
       "1130285 MTD            ERVL-MaLR RPKM_H3K27ac -2.32078179 \n",
       "1130286 MTD            ERVL-MaLR RPKM_H3K27ac -3.47845752 \n",
       "1130287 MTD            ERVL-MaLR RPKM_H3K27ac -1.72764641 \n",
       "1130288 MTD            ERVL-MaLR RPKM_H3K27ac -3.15042949 \n",
       "1130289 ORR1B1         ERVL-MaLR RPKM_H3K27ac -2.81719529 "
      ]
     },
     "metadata": {},
     "output_type": "display_data"
    },
    {
     "data": {
      "text/html": [
       "<table class=\"dataframe\">\n",
       "<caption>A data.frame: 6 × 3</caption>\n",
       "<thead>\n",
       "\t<tr><th></th><th scope=col>RPKM_H3K27ac</th><th scope=col>Subfamily</th><th scope=col>Family</th></tr>\n",
       "\t<tr><th></th><th scope=col>&lt;dbl&gt;</th><th scope=col>&lt;chr&gt;</th><th scope=col>&lt;chr&gt;</th></tr>\n",
       "</thead>\n",
       "<tbody>\n",
       "\t<tr><th scope=row>1</th><td>-0.41201696</td><td>MurERV4_19-int</td><td>ERVK     </td></tr>\n",
       "\t<tr><th scope=row>2</th><td> 0.07355288</td><td>RMER5         </td><td>ERV1     </td></tr>\n",
       "\t<tr><th scope=row>3</th><td> 0.00000000</td><td>ORR1E         </td><td>ERVL-MaLR</td></tr>\n",
       "\t<tr><th scope=row>4</th><td>-1.45659489</td><td>RLTR14-int    </td><td>ERV1     </td></tr>\n",
       "\t<tr><th scope=row>5</th><td>-0.29809136</td><td>RLTR14        </td><td>ERV1     </td></tr>\n",
       "\t<tr><th scope=row>6</th><td> 0.51129662</td><td>ORR1E         </td><td>ERVL-MaLR</td></tr>\n",
       "</tbody>\n",
       "</table>\n"
      ],
      "text/latex": [
       "A data.frame: 6 × 3\n",
       "\\begin{tabular}{r|lll}\n",
       "  & RPKM\\_H3K27ac & Subfamily & Family\\\\\n",
       "  & <dbl> & <chr> & <chr>\\\\\n",
       "\\hline\n",
       "\t1 & -0.41201696 & MurERV4\\_19-int & ERVK     \\\\\n",
       "\t2 &  0.07355288 & RMER5          & ERV1     \\\\\n",
       "\t3 &  0.00000000 & ORR1E          & ERVL-MaLR\\\\\n",
       "\t4 & -1.45659489 & RLTR14-int     & ERV1     \\\\\n",
       "\t5 & -0.29809136 & RLTR14         & ERV1     \\\\\n",
       "\t6 &  0.51129662 & ORR1E          & ERVL-MaLR\\\\\n",
       "\\end{tabular}\n"
      ],
      "text/markdown": [
       "\n",
       "A data.frame: 6 × 3\n",
       "\n",
       "| <!--/--> | RPKM_H3K27ac &lt;dbl&gt; | Subfamily &lt;chr&gt; | Family &lt;chr&gt; |\n",
       "|---|---|---|---|\n",
       "| 1 | -0.41201696 | MurERV4_19-int | ERVK      |\n",
       "| 2 |  0.07355288 | RMER5          | ERV1      |\n",
       "| 3 |  0.00000000 | ORR1E          | ERVL-MaLR |\n",
       "| 4 | -1.45659489 | RLTR14-int     | ERV1      |\n",
       "| 5 | -0.29809136 | RLTR14         | ERV1      |\n",
       "| 6 |  0.51129662 | ORR1E          | ERVL-MaLR |\n",
       "\n"
      ],
      "text/plain": [
       "  RPKM_H3K27ac Subfamily      Family   \n",
       "1 -0.41201696  MurERV4_19-int ERVK     \n",
       "2  0.07355288  RMER5          ERV1     \n",
       "3  0.00000000  ORR1E          ERVL-MaLR\n",
       "4 -1.45659489  RLTR14-int     ERV1     \n",
       "5 -0.29809136  RLTR14         ERV1     \n",
       "6  0.51129662  ORR1E          ERVL-MaLR"
      ]
     },
     "metadata": {},
     "output_type": "display_data"
    },
    {
     "data": {
      "text/html": [
       "<table class=\"dataframe\">\n",
       "<caption>A data.frame: 1130289 × 3</caption>\n",
       "<thead>\n",
       "\t<tr><th scope=col>RPKM_H3K27ac</th><th scope=col>Subfamily</th><th scope=col>Family</th></tr>\n",
       "\t<tr><th scope=col>&lt;dbl&gt;</th><th scope=col>&lt;chr&gt;</th><th scope=col>&lt;chr&gt;</th></tr>\n",
       "</thead>\n",
       "<tbody>\n",
       "\t<tr><td>-0.412016962</td><td>MurERV4_19-int</td><td>ERVK     </td></tr>\n",
       "\t<tr><td> 0.073552882</td><td>RMER5         </td><td>ERV1     </td></tr>\n",
       "\t<tr><td> 0.000000000</td><td>ORR1E         </td><td>ERVL-MaLR</td></tr>\n",
       "\t<tr><td>-1.456594892</td><td>RLTR14-int    </td><td>ERV1     </td></tr>\n",
       "\t<tr><td>-0.298091362</td><td>RLTR14        </td><td>ERV1     </td></tr>\n",
       "\t<tr><td> 0.511296617</td><td>ORR1E         </td><td>ERVL-MaLR</td></tr>\n",
       "\t<tr><td>-1.685796315</td><td>ORR1E         </td><td>ERVL-MaLR</td></tr>\n",
       "\t<tr><td>-3.053981340</td><td>RLTR11A       </td><td>ERVK     </td></tr>\n",
       "\t<tr><td>-0.430233256</td><td>ERVB5_1-LTR_MM</td><td>ERVK     </td></tr>\n",
       "\t<tr><td>-0.009126642</td><td>RLTR11A       </td><td>ERVK     </td></tr>\n",
       "\t<tr><td> 0.604597562</td><td>MTEa          </td><td>ERVL-MaLR</td></tr>\n",
       "\t<tr><td> 1.807883036</td><td>RMER15        </td><td>ERVL     </td></tr>\n",
       "\t<tr><td> 4.946008570</td><td>RLTR9A3       </td><td>ERVK     </td></tr>\n",
       "\t<tr><td>17.971917777</td><td>RLTR9A3       </td><td>ERVK     </td></tr>\n",
       "\t<tr><td> 1.373438850</td><td>MLT1E2        </td><td>ERVL-MaLR</td></tr>\n",
       "\t<tr><td> 1.305837059</td><td>RLTR1D        </td><td>ERV1     </td></tr>\n",
       "\t<tr><td> 0.000000000</td><td>RLTR11A2      </td><td>ERVK     </td></tr>\n",
       "\t<tr><td>-1.535588674</td><td>RMER16-int    </td><td>ERVK     </td></tr>\n",
       "\t<tr><td> 0.000000000</td><td>ORR1B1-int    </td><td>ERVL-MaLR</td></tr>\n",
       "\t<tr><td>-0.329051296</td><td>ORR1B1-int    </td><td>ERVL-MaLR</td></tr>\n",
       "\t<tr><td> 0.583427931</td><td>RLTR13B1      </td><td>ERVK     </td></tr>\n",
       "\t<tr><td>-0.954114491</td><td>ORR1B1-int    </td><td>ERVL-MaLR</td></tr>\n",
       "\t<tr><td>-3.381300878</td><td>ORR1F         </td><td>ERVL-MaLR</td></tr>\n",
       "\t<tr><td>-1.062321818</td><td>RLTR6B_Mm     </td><td>ERV1     </td></tr>\n",
       "\t<tr><td> 0.000000000</td><td>RLTR17B_Mm    </td><td>ERVK     </td></tr>\n",
       "\t<tr><td>-0.231887075</td><td>RLTR31B2      </td><td>ERVK     </td></tr>\n",
       "\t<tr><td>-0.593554220</td><td>MTEa          </td><td>ERVL-MaLR</td></tr>\n",
       "\t<tr><td>-0.206760648</td><td>MTEa          </td><td>ERVL-MaLR</td></tr>\n",
       "\t<tr><td>-1.120289529</td><td>MTEa          </td><td>ERVL-MaLR</td></tr>\n",
       "\t<tr><td>-0.319689403</td><td>IAPEY3_LTR    </td><td>ERVK     </td></tr>\n",
       "\t<tr><td>⋮</td><td>⋮</td><td>⋮</td></tr>\n",
       "\t<tr><td>-2.45038892</td><td>ORR1D1    </td><td>ERVL-MaLR</td></tr>\n",
       "\t<tr><td>-3.50452017</td><td>ORR1D1    </td><td>ERVL-MaLR</td></tr>\n",
       "\t<tr><td>-3.98612497</td><td>MLT1J     </td><td>ERVL-MaLR</td></tr>\n",
       "\t<tr><td>-0.91382143</td><td>RLTR17B_Mm</td><td>ERVK     </td></tr>\n",
       "\t<tr><td>-1.43971272</td><td>MTB       </td><td>ERVL-MaLR</td></tr>\n",
       "\t<tr><td>-4.67025267</td><td>MTB       </td><td>ERVL-MaLR</td></tr>\n",
       "\t<tr><td>-2.60670150</td><td>RLTR48A   </td><td>ERV1     </td></tr>\n",
       "\t<tr><td>-2.83566427</td><td>ORR1D2    </td><td>ERVL-MaLR</td></tr>\n",
       "\t<tr><td>-0.92034932</td><td>RLTR22_Mur</td><td>ERVK     </td></tr>\n",
       "\t<tr><td>-0.07544138</td><td>RMER12C   </td><td>ERVK     </td></tr>\n",
       "\t<tr><td>-3.38938215</td><td>MLT1B     </td><td>ERVL-MaLR</td></tr>\n",
       "\t<tr><td>-2.29487282</td><td>MTD       </td><td>ERVL-MaLR</td></tr>\n",
       "\t<tr><td>-2.85296271</td><td>ORR1A4    </td><td>ERVL-MaLR</td></tr>\n",
       "\t<tr><td>-7.50360297</td><td>ORR1A4    </td><td>ERVL-MaLR</td></tr>\n",
       "\t<tr><td>-6.91238097</td><td>ORR1B1-int</td><td>ERVL-MaLR</td></tr>\n",
       "\t<tr><td>-1.87166969</td><td>RMER12    </td><td>ERVK     </td></tr>\n",
       "\t<tr><td>-1.73315419</td><td>RMER15    </td><td>ERVL     </td></tr>\n",
       "\t<tr><td>-1.21752602</td><td>LTR72_RN  </td><td>ERV1     </td></tr>\n",
       "\t<tr><td>-0.19984679</td><td>MT2B1     </td><td>ERVL     </td></tr>\n",
       "\t<tr><td>-1.43708308</td><td>RLTR22_Mur</td><td>ERVK     </td></tr>\n",
       "\t<tr><td>-2.46310197</td><td>RLTR22_Mur</td><td>ERVK     </td></tr>\n",
       "\t<tr><td>-2.19552694</td><td>RMER4A    </td><td>ERVK     </td></tr>\n",
       "\t<tr><td>-3.64294740</td><td>RMER10A   </td><td>ERVL     </td></tr>\n",
       "\t<tr><td>-2.15505487</td><td>RMER6A    </td><td>ERVK     </td></tr>\n",
       "\t<tr><td>-0.81017505</td><td>MTA_Mm    </td><td>ERVL-MaLR</td></tr>\n",
       "\t<tr><td>-2.32078179</td><td>MTD       </td><td>ERVL-MaLR</td></tr>\n",
       "\t<tr><td>-3.47845752</td><td>MTD       </td><td>ERVL-MaLR</td></tr>\n",
       "\t<tr><td>-1.72764641</td><td>MTD       </td><td>ERVL-MaLR</td></tr>\n",
       "\t<tr><td>-3.15042949</td><td>MTD       </td><td>ERVL-MaLR</td></tr>\n",
       "\t<tr><td>-2.81719529</td><td>ORR1B1    </td><td>ERVL-MaLR</td></tr>\n",
       "</tbody>\n",
       "</table>\n"
      ],
      "text/latex": [
       "A data.frame: 1130289 × 3\n",
       "\\begin{tabular}{lll}\n",
       " RPKM\\_H3K27ac & Subfamily & Family\\\\\n",
       " <dbl> & <chr> & <chr>\\\\\n",
       "\\hline\n",
       "\t -0.412016962 & MurERV4\\_19-int & ERVK     \\\\\n",
       "\t  0.073552882 & RMER5          & ERV1     \\\\\n",
       "\t  0.000000000 & ORR1E          & ERVL-MaLR\\\\\n",
       "\t -1.456594892 & RLTR14-int     & ERV1     \\\\\n",
       "\t -0.298091362 & RLTR14         & ERV1     \\\\\n",
       "\t  0.511296617 & ORR1E          & ERVL-MaLR\\\\\n",
       "\t -1.685796315 & ORR1E          & ERVL-MaLR\\\\\n",
       "\t -3.053981340 & RLTR11A        & ERVK     \\\\\n",
       "\t -0.430233256 & ERVB5\\_1-LTR\\_MM & ERVK     \\\\\n",
       "\t -0.009126642 & RLTR11A        & ERVK     \\\\\n",
       "\t  0.604597562 & MTEa           & ERVL-MaLR\\\\\n",
       "\t  1.807883036 & RMER15         & ERVL     \\\\\n",
       "\t  4.946008570 & RLTR9A3        & ERVK     \\\\\n",
       "\t 17.971917777 & RLTR9A3        & ERVK     \\\\\n",
       "\t  1.373438850 & MLT1E2         & ERVL-MaLR\\\\\n",
       "\t  1.305837059 & RLTR1D         & ERV1     \\\\\n",
       "\t  0.000000000 & RLTR11A2       & ERVK     \\\\\n",
       "\t -1.535588674 & RMER16-int     & ERVK     \\\\\n",
       "\t  0.000000000 & ORR1B1-int     & ERVL-MaLR\\\\\n",
       "\t -0.329051296 & ORR1B1-int     & ERVL-MaLR\\\\\n",
       "\t  0.583427931 & RLTR13B1       & ERVK     \\\\\n",
       "\t -0.954114491 & ORR1B1-int     & ERVL-MaLR\\\\\n",
       "\t -3.381300878 & ORR1F          & ERVL-MaLR\\\\\n",
       "\t -1.062321818 & RLTR6B\\_Mm      & ERV1     \\\\\n",
       "\t  0.000000000 & RLTR17B\\_Mm     & ERVK     \\\\\n",
       "\t -0.231887075 & RLTR31B2       & ERVK     \\\\\n",
       "\t -0.593554220 & MTEa           & ERVL-MaLR\\\\\n",
       "\t -0.206760648 & MTEa           & ERVL-MaLR\\\\\n",
       "\t -1.120289529 & MTEa           & ERVL-MaLR\\\\\n",
       "\t -0.319689403 & IAPEY3\\_LTR     & ERVK     \\\\\n",
       "\t ⋮ & ⋮ & ⋮\\\\\n",
       "\t -2.45038892 & ORR1D1     & ERVL-MaLR\\\\\n",
       "\t -3.50452017 & ORR1D1     & ERVL-MaLR\\\\\n",
       "\t -3.98612497 & MLT1J      & ERVL-MaLR\\\\\n",
       "\t -0.91382143 & RLTR17B\\_Mm & ERVK     \\\\\n",
       "\t -1.43971272 & MTB        & ERVL-MaLR\\\\\n",
       "\t -4.67025267 & MTB        & ERVL-MaLR\\\\\n",
       "\t -2.60670150 & RLTR48A    & ERV1     \\\\\n",
       "\t -2.83566427 & ORR1D2     & ERVL-MaLR\\\\\n",
       "\t -0.92034932 & RLTR22\\_Mur & ERVK     \\\\\n",
       "\t -0.07544138 & RMER12C    & ERVK     \\\\\n",
       "\t -3.38938215 & MLT1B      & ERVL-MaLR\\\\\n",
       "\t -2.29487282 & MTD        & ERVL-MaLR\\\\\n",
       "\t -2.85296271 & ORR1A4     & ERVL-MaLR\\\\\n",
       "\t -7.50360297 & ORR1A4     & ERVL-MaLR\\\\\n",
       "\t -6.91238097 & ORR1B1-int & ERVL-MaLR\\\\\n",
       "\t -1.87166969 & RMER12     & ERVK     \\\\\n",
       "\t -1.73315419 & RMER15     & ERVL     \\\\\n",
       "\t -1.21752602 & LTR72\\_RN   & ERV1     \\\\\n",
       "\t -0.19984679 & MT2B1      & ERVL     \\\\\n",
       "\t -1.43708308 & RLTR22\\_Mur & ERVK     \\\\\n",
       "\t -2.46310197 & RLTR22\\_Mur & ERVK     \\\\\n",
       "\t -2.19552694 & RMER4A     & ERVK     \\\\\n",
       "\t -3.64294740 & RMER10A    & ERVL     \\\\\n",
       "\t -2.15505487 & RMER6A     & ERVK     \\\\\n",
       "\t -0.81017505 & MTA\\_Mm     & ERVL-MaLR\\\\\n",
       "\t -2.32078179 & MTD        & ERVL-MaLR\\\\\n",
       "\t -3.47845752 & MTD        & ERVL-MaLR\\\\\n",
       "\t -1.72764641 & MTD        & ERVL-MaLR\\\\\n",
       "\t -3.15042949 & MTD        & ERVL-MaLR\\\\\n",
       "\t -2.81719529 & ORR1B1     & ERVL-MaLR\\\\\n",
       "\\end{tabular}\n"
      ],
      "text/markdown": [
       "\n",
       "A data.frame: 1130289 × 3\n",
       "\n",
       "| RPKM_H3K27ac &lt;dbl&gt; | Subfamily &lt;chr&gt; | Family &lt;chr&gt; |\n",
       "|---|---|---|\n",
       "| -0.412016962 | MurERV4_19-int | ERVK      |\n",
       "|  0.073552882 | RMER5          | ERV1      |\n",
       "|  0.000000000 | ORR1E          | ERVL-MaLR |\n",
       "| -1.456594892 | RLTR14-int     | ERV1      |\n",
       "| -0.298091362 | RLTR14         | ERV1      |\n",
       "|  0.511296617 | ORR1E          | ERVL-MaLR |\n",
       "| -1.685796315 | ORR1E          | ERVL-MaLR |\n",
       "| -3.053981340 | RLTR11A        | ERVK      |\n",
       "| -0.430233256 | ERVB5_1-LTR_MM | ERVK      |\n",
       "| -0.009126642 | RLTR11A        | ERVK      |\n",
       "|  0.604597562 | MTEa           | ERVL-MaLR |\n",
       "|  1.807883036 | RMER15         | ERVL      |\n",
       "|  4.946008570 | RLTR9A3        | ERVK      |\n",
       "| 17.971917777 | RLTR9A3        | ERVK      |\n",
       "|  1.373438850 | MLT1E2         | ERVL-MaLR |\n",
       "|  1.305837059 | RLTR1D         | ERV1      |\n",
       "|  0.000000000 | RLTR11A2       | ERVK      |\n",
       "| -1.535588674 | RMER16-int     | ERVK      |\n",
       "|  0.000000000 | ORR1B1-int     | ERVL-MaLR |\n",
       "| -0.329051296 | ORR1B1-int     | ERVL-MaLR |\n",
       "|  0.583427931 | RLTR13B1       | ERVK      |\n",
       "| -0.954114491 | ORR1B1-int     | ERVL-MaLR |\n",
       "| -3.381300878 | ORR1F          | ERVL-MaLR |\n",
       "| -1.062321818 | RLTR6B_Mm      | ERV1      |\n",
       "|  0.000000000 | RLTR17B_Mm     | ERVK      |\n",
       "| -0.231887075 | RLTR31B2       | ERVK      |\n",
       "| -0.593554220 | MTEa           | ERVL-MaLR |\n",
       "| -0.206760648 | MTEa           | ERVL-MaLR |\n",
       "| -1.120289529 | MTEa           | ERVL-MaLR |\n",
       "| -0.319689403 | IAPEY3_LTR     | ERVK      |\n",
       "| ⋮ | ⋮ | ⋮ |\n",
       "| -2.45038892 | ORR1D1     | ERVL-MaLR |\n",
       "| -3.50452017 | ORR1D1     | ERVL-MaLR |\n",
       "| -3.98612497 | MLT1J      | ERVL-MaLR |\n",
       "| -0.91382143 | RLTR17B_Mm | ERVK      |\n",
       "| -1.43971272 | MTB        | ERVL-MaLR |\n",
       "| -4.67025267 | MTB        | ERVL-MaLR |\n",
       "| -2.60670150 | RLTR48A    | ERV1      |\n",
       "| -2.83566427 | ORR1D2     | ERVL-MaLR |\n",
       "| -0.92034932 | RLTR22_Mur | ERVK      |\n",
       "| -0.07544138 | RMER12C    | ERVK      |\n",
       "| -3.38938215 | MLT1B      | ERVL-MaLR |\n",
       "| -2.29487282 | MTD        | ERVL-MaLR |\n",
       "| -2.85296271 | ORR1A4     | ERVL-MaLR |\n",
       "| -7.50360297 | ORR1A4     | ERVL-MaLR |\n",
       "| -6.91238097 | ORR1B1-int | ERVL-MaLR |\n",
       "| -1.87166969 | RMER12     | ERVK      |\n",
       "| -1.73315419 | RMER15     | ERVL      |\n",
       "| -1.21752602 | LTR72_RN   | ERV1      |\n",
       "| -0.19984679 | MT2B1      | ERVL      |\n",
       "| -1.43708308 | RLTR22_Mur | ERVK      |\n",
       "| -2.46310197 | RLTR22_Mur | ERVK      |\n",
       "| -2.19552694 | RMER4A     | ERVK      |\n",
       "| -3.64294740 | RMER10A    | ERVL      |\n",
       "| -2.15505487 | RMER6A     | ERVK      |\n",
       "| -0.81017505 | MTA_Mm     | ERVL-MaLR |\n",
       "| -2.32078179 | MTD        | ERVL-MaLR |\n",
       "| -3.47845752 | MTD        | ERVL-MaLR |\n",
       "| -1.72764641 | MTD        | ERVL-MaLR |\n",
       "| -3.15042949 | MTD        | ERVL-MaLR |\n",
       "| -2.81719529 | ORR1B1     | ERVL-MaLR |\n",
       "\n"
      ],
      "text/plain": [
       "        RPKM_H3K27ac Subfamily      Family   \n",
       "1       -0.412016962 MurERV4_19-int ERVK     \n",
       "2        0.073552882 RMER5          ERV1     \n",
       "3        0.000000000 ORR1E          ERVL-MaLR\n",
       "4       -1.456594892 RLTR14-int     ERV1     \n",
       "5       -0.298091362 RLTR14         ERV1     \n",
       "6        0.511296617 ORR1E          ERVL-MaLR\n",
       "7       -1.685796315 ORR1E          ERVL-MaLR\n",
       "8       -3.053981340 RLTR11A        ERVK     \n",
       "9       -0.430233256 ERVB5_1-LTR_MM ERVK     \n",
       "10      -0.009126642 RLTR11A        ERVK     \n",
       "11       0.604597562 MTEa           ERVL-MaLR\n",
       "12       1.807883036 RMER15         ERVL     \n",
       "13       4.946008570 RLTR9A3        ERVK     \n",
       "14      17.971917777 RLTR9A3        ERVK     \n",
       "15       1.373438850 MLT1E2         ERVL-MaLR\n",
       "16       1.305837059 RLTR1D         ERV1     \n",
       "17       0.000000000 RLTR11A2       ERVK     \n",
       "18      -1.535588674 RMER16-int     ERVK     \n",
       "19       0.000000000 ORR1B1-int     ERVL-MaLR\n",
       "20      -0.329051296 ORR1B1-int     ERVL-MaLR\n",
       "21       0.583427931 RLTR13B1       ERVK     \n",
       "22      -0.954114491 ORR1B1-int     ERVL-MaLR\n",
       "23      -3.381300878 ORR1F          ERVL-MaLR\n",
       "24      -1.062321818 RLTR6B_Mm      ERV1     \n",
       "25       0.000000000 RLTR17B_Mm     ERVK     \n",
       "26      -0.231887075 RLTR31B2       ERVK     \n",
       "27      -0.593554220 MTEa           ERVL-MaLR\n",
       "28      -0.206760648 MTEa           ERVL-MaLR\n",
       "29      -1.120289529 MTEa           ERVL-MaLR\n",
       "30      -0.319689403 IAPEY3_LTR     ERVK     \n",
       "⋮       ⋮            ⋮              ⋮        \n",
       "1130260 -2.45038892  ORR1D1         ERVL-MaLR\n",
       "1130261 -3.50452017  ORR1D1         ERVL-MaLR\n",
       "1130262 -3.98612497  MLT1J          ERVL-MaLR\n",
       "1130263 -0.91382143  RLTR17B_Mm     ERVK     \n",
       "1130264 -1.43971272  MTB            ERVL-MaLR\n",
       "1130265 -4.67025267  MTB            ERVL-MaLR\n",
       "1130266 -2.60670150  RLTR48A        ERV1     \n",
       "1130267 -2.83566427  ORR1D2         ERVL-MaLR\n",
       "1130268 -0.92034932  RLTR22_Mur     ERVK     \n",
       "1130269 -0.07544138  RMER12C        ERVK     \n",
       "1130270 -3.38938215  MLT1B          ERVL-MaLR\n",
       "1130271 -2.29487282  MTD            ERVL-MaLR\n",
       "1130272 -2.85296271  ORR1A4         ERVL-MaLR\n",
       "1130273 -7.50360297  ORR1A4         ERVL-MaLR\n",
       "1130274 -6.91238097  ORR1B1-int     ERVL-MaLR\n",
       "1130275 -1.87166969  RMER12         ERVK     \n",
       "1130276 -1.73315419  RMER15         ERVL     \n",
       "1130277 -1.21752602  LTR72_RN       ERV1     \n",
       "1130278 -0.19984679  MT2B1          ERVL     \n",
       "1130279 -1.43708308  RLTR22_Mur     ERVK     \n",
       "1130280 -2.46310197  RLTR22_Mur     ERVK     \n",
       "1130281 -2.19552694  RMER4A         ERVK     \n",
       "1130282 -3.64294740  RMER10A        ERVL     \n",
       "1130283 -2.15505487  RMER6A         ERVK     \n",
       "1130284 -0.81017505  MTA_Mm         ERVL-MaLR\n",
       "1130285 -2.32078179  MTD            ERVL-MaLR\n",
       "1130286 -3.47845752  MTD            ERVL-MaLR\n",
       "1130287 -1.72764641  MTD            ERVL-MaLR\n",
       "1130288 -3.15042949  MTD            ERVL-MaLR\n",
       "1130289 -2.81719529  ORR1B1         ERVL-MaLR"
      ]
     },
     "metadata": {},
     "output_type": "display_data"
    }
   ],
   "source": [
    "keep <- c(4,8,11)\n",
    "TE_melt <- TE_Bed[,keep]\n",
    "reshape2::melt(TE_melt)\n",
    "head(TE_melt)\n",
    "LTR <- c(\"ERVK\", \"ERVL\", \"ERVL-MaLR\", \"ERV1\", \"Gypsy\", \"LTR\")\n",
    "LTR_keep <- filter(TE_melt, Family %in% LTR)\n",
    "LTR_keep"
   ]
  },
  {
   "cell_type": "code",
   "execution_count": 5,
   "id": "7e410145",
   "metadata": {
    "vscode": {
     "languageId": "r"
    }
   },
   "outputs": [
    {
     "data": {
      "text/html": [
       "<ol>\n",
       "\t<li>'MurERV4_19-int'</li>\n",
       "\t<li>'RMER5'</li>\n",
       "\t<li>'ORR1E'</li>\n",
       "\t<li>'RLTR14-int'</li>\n",
       "\t<li>'RLTR14'</li>\n",
       "\t<li>'RLTR11A'</li>\n",
       "</ol>\n"
      ],
      "text/latex": [
       "\\begin{enumerate}\n",
       "\\item 'MurERV4\\_19-int'\n",
       "\\item 'RMER5'\n",
       "\\item 'ORR1E'\n",
       "\\item 'RLTR14-int'\n",
       "\\item 'RLTR14'\n",
       "\\item 'RLTR11A'\n",
       "\\end{enumerate}\n"
      ],
      "text/markdown": [
       "1. 'MurERV4_19-int'\n",
       "2. 'RMER5'\n",
       "3. 'ORR1E'\n",
       "4. 'RLTR14-int'\n",
       "5. 'RLTR14'\n",
       "6. 'RLTR11A'\n",
       "\n",
       "\n"
      ],
      "text/plain": [
       "[[1]]\n",
       "[1] \"MurERV4_19-int\"\n",
       "\n",
       "[[2]]\n",
       "[1] \"RMER5\"\n",
       "\n",
       "[[3]]\n",
       "[1] \"ORR1E\"\n",
       "\n",
       "[[4]]\n",
       "[1] \"RLTR14-int\"\n",
       "\n",
       "[[5]]\n",
       "[1] \"RLTR14\"\n",
       "\n",
       "[[6]]\n",
       "[1] \"RLTR11A\"\n"
      ]
     },
     "metadata": {},
     "output_type": "display_data"
    }
   ],
   "source": [
    "LTRs <- as.list(unique(LTR_keep$Subfamily))\n",
    "head(LTRs)"
   ]
  },
  {
   "cell_type": "code",
   "execution_count": 6,
   "id": "ce52e2a1",
   "metadata": {
    "vscode": {
     "languageId": "r"
    }
   },
   "outputs": [
    {
     "data": {
      "text/html": [
       "<table class=\"dataframe\">\n",
       "<caption>A data.frame: 6 × 3</caption>\n",
       "<thead>\n",
       "\t<tr><th></th><th scope=col>Subfamily</th><th scope=col>Mean</th><th scope=col>Median</th></tr>\n",
       "\t<tr><th></th><th scope=col>&lt;list&gt;</th><th scope=col>&lt;lgl&gt;</th><th scope=col>&lt;lgl&gt;</th></tr>\n",
       "</thead>\n",
       "<tbody>\n",
       "\t<tr><th scope=row>1</th><td>MurERV4_19-int</td><td>NA</td><td>NA</td></tr>\n",
       "\t<tr><th scope=row>2</th><td>RMER5</td><td>NA</td><td>NA</td></tr>\n",
       "\t<tr><th scope=row>3</th><td>ORR1E</td><td>NA</td><td>NA</td></tr>\n",
       "\t<tr><th scope=row>4</th><td>RLTR14-int</td><td>NA</td><td>NA</td></tr>\n",
       "\t<tr><th scope=row>5</th><td>RLTR14</td><td>NA</td><td>NA</td></tr>\n",
       "\t<tr><th scope=row>6</th><td>RLTR11A</td><td>NA</td><td>NA</td></tr>\n",
       "</tbody>\n",
       "</table>\n"
      ],
      "text/latex": [
       "A data.frame: 6 × 3\n",
       "\\begin{tabular}{r|lll}\n",
       "  & Subfamily & Mean & Median\\\\\n",
       "  & <list> & <lgl> & <lgl>\\\\\n",
       "\\hline\n",
       "\t1 & MurERV4\\_19-int & NA & NA\\\\\n",
       "\t2 & RMER5 & NA & NA\\\\\n",
       "\t3 & ORR1E & NA & NA\\\\\n",
       "\t4 & RLTR14-int & NA & NA\\\\\n",
       "\t5 & RLTR14 & NA & NA\\\\\n",
       "\t6 & RLTR11A & NA & NA\\\\\n",
       "\\end{tabular}\n"
      ],
      "text/markdown": [
       "\n",
       "A data.frame: 6 × 3\n",
       "\n",
       "| <!--/--> | Subfamily &lt;list&gt; | Mean &lt;lgl&gt; | Median &lt;lgl&gt; |\n",
       "|---|---|---|---|\n",
       "| 1 | MurERV4_19-int | NA | NA |\n",
       "| 2 | RMER5 | NA | NA |\n",
       "| 3 | ORR1E | NA | NA |\n",
       "| 4 | RLTR14-int | NA | NA |\n",
       "| 5 | RLTR14 | NA | NA |\n",
       "| 6 | RLTR11A | NA | NA |\n",
       "\n"
      ],
      "text/plain": [
       "  Subfamily      Mean Median\n",
       "1 MurERV4_19-int NA   NA    \n",
       "2 RMER5          NA   NA    \n",
       "3 ORR1E          NA   NA    \n",
       "4 RLTR14-int     NA   NA    \n",
       "5 RLTR14         NA   NA    \n",
       "6 RLTR11A        NA   NA    "
      ]
     },
     "metadata": {},
     "output_type": "display_data"
    }
   ],
   "source": [
    "LTR_stats <- data.frame(matrix(ncol = 3, nrow = 630))\n",
    "colnames <- as.list(c(\"Subfamily\",\"Mean\",\"Median\"))\n",
    "colnames(LTR_stats) <- colnames\n",
    "LTR_stats$Subfamily <- LTRs\n",
    "head(LTR_stats)"
   ]
  },
  {
   "cell_type": "code",
   "execution_count": 7,
   "id": "250ebaae",
   "metadata": {
    "vscode": {
     "languageId": "r"
    }
   },
   "outputs": [
    {
     "data": {
      "text/html": [
       "<table class=\"dataframe\">\n",
       "<caption>A data.frame: 6 × 2</caption>\n",
       "<thead>\n",
       "\t<tr><th></th><th scope=col>Subfamily</th><th scope=col>Mean</th></tr>\n",
       "\t<tr><th></th><th scope=col>&lt;chr&gt;</th><th scope=col>&lt;dbl&gt;</th></tr>\n",
       "</thead>\n",
       "<tbody>\n",
       "\t<tr><th scope=row>1</th><td>BGLII    </td><td> 2.58104098</td></tr>\n",
       "\t<tr><th scope=row>2</th><td>BGLII_A  </td><td> 1.13904047</td></tr>\n",
       "\t<tr><th scope=row>3</th><td>BGLII_B  </td><td> 0.39112537</td></tr>\n",
       "\t<tr><th scope=row>4</th><td>BGLII_B2 </td><td> 1.02466315</td></tr>\n",
       "\t<tr><th scope=row>5</th><td>BGLII_C  </td><td>-0.26408721</td></tr>\n",
       "\t<tr><th scope=row>6</th><td>BGLII_Mur</td><td> 0.03630242</td></tr>\n",
       "</tbody>\n",
       "</table>\n"
      ],
      "text/latex": [
       "A data.frame: 6 × 2\n",
       "\\begin{tabular}{r|ll}\n",
       "  & Subfamily & Mean\\\\\n",
       "  & <chr> & <dbl>\\\\\n",
       "\\hline\n",
       "\t1 & BGLII     &  2.58104098\\\\\n",
       "\t2 & BGLII\\_A   &  1.13904047\\\\\n",
       "\t3 & BGLII\\_B   &  0.39112537\\\\\n",
       "\t4 & BGLII\\_B2  &  1.02466315\\\\\n",
       "\t5 & BGLII\\_C   & -0.26408721\\\\\n",
       "\t6 & BGLII\\_Mur &  0.03630242\\\\\n",
       "\\end{tabular}\n"
      ],
      "text/markdown": [
       "\n",
       "A data.frame: 6 × 2\n",
       "\n",
       "| <!--/--> | Subfamily &lt;chr&gt; | Mean &lt;dbl&gt; |\n",
       "|---|---|---|\n",
       "| 1 | BGLII     |  2.58104098 |\n",
       "| 2 | BGLII_A   |  1.13904047 |\n",
       "| 3 | BGLII_B   |  0.39112537 |\n",
       "| 4 | BGLII_B2  |  1.02466315 |\n",
       "| 5 | BGLII_C   | -0.26408721 |\n",
       "| 6 | BGLII_Mur |  0.03630242 |\n",
       "\n"
      ],
      "text/plain": [
       "  Subfamily Mean       \n",
       "1 BGLII      2.58104098\n",
       "2 BGLII_A    1.13904047\n",
       "3 BGLII_B    0.39112537\n",
       "4 BGLII_B2   1.02466315\n",
       "5 BGLII_C   -0.26408721\n",
       "6 BGLII_Mur  0.03630242"
      ]
     },
     "metadata": {},
     "output_type": "display_data"
    },
    {
     "data": {
      "text/html": [
       "<table class=\"dataframe\">\n",
       "<caption>A data.frame: 6 × 2</caption>\n",
       "<thead>\n",
       "\t<tr><th></th><th scope=col>Subfamily</th><th scope=col>Median</th></tr>\n",
       "\t<tr><th></th><th scope=col>&lt;chr&gt;</th><th scope=col>&lt;dbl&gt;</th></tr>\n",
       "</thead>\n",
       "<tbody>\n",
       "\t<tr><th scope=row>1</th><td>BGLII    </td><td> 0.4709912</td></tr>\n",
       "\t<tr><th scope=row>2</th><td>BGLII_A  </td><td>-0.1737271</td></tr>\n",
       "\t<tr><th scope=row>3</th><td>BGLII_B  </td><td>-0.4752432</td></tr>\n",
       "\t<tr><th scope=row>4</th><td>BGLII_B2 </td><td>-0.3691125</td></tr>\n",
       "\t<tr><th scope=row>5</th><td>BGLII_C  </td><td>-0.6767848</td></tr>\n",
       "\t<tr><th scope=row>6</th><td>BGLII_Mur</td><td>-0.6570215</td></tr>\n",
       "</tbody>\n",
       "</table>\n"
      ],
      "text/latex": [
       "A data.frame: 6 × 2\n",
       "\\begin{tabular}{r|ll}\n",
       "  & Subfamily & Median\\\\\n",
       "  & <chr> & <dbl>\\\\\n",
       "\\hline\n",
       "\t1 & BGLII     &  0.4709912\\\\\n",
       "\t2 & BGLII\\_A   & -0.1737271\\\\\n",
       "\t3 & BGLII\\_B   & -0.4752432\\\\\n",
       "\t4 & BGLII\\_B2  & -0.3691125\\\\\n",
       "\t5 & BGLII\\_C   & -0.6767848\\\\\n",
       "\t6 & BGLII\\_Mur & -0.6570215\\\\\n",
       "\\end{tabular}\n"
      ],
      "text/markdown": [
       "\n",
       "A data.frame: 6 × 2\n",
       "\n",
       "| <!--/--> | Subfamily &lt;chr&gt; | Median &lt;dbl&gt; |\n",
       "|---|---|---|\n",
       "| 1 | BGLII     |  0.4709912 |\n",
       "| 2 | BGLII_A   | -0.1737271 |\n",
       "| 3 | BGLII_B   | -0.4752432 |\n",
       "| 4 | BGLII_B2  | -0.3691125 |\n",
       "| 5 | BGLII_C   | -0.6767848 |\n",
       "| 6 | BGLII_Mur | -0.6570215 |\n",
       "\n"
      ],
      "text/plain": [
       "  Subfamily Median    \n",
       "1 BGLII      0.4709912\n",
       "2 BGLII_A   -0.1737271\n",
       "3 BGLII_B   -0.4752432\n",
       "4 BGLII_B2  -0.3691125\n",
       "5 BGLII_C   -0.6767848\n",
       "6 BGLII_Mur -0.6570215"
      ]
     },
     "metadata": {},
     "output_type": "display_data"
    }
   ],
   "source": [
    "LTR_mean <- aggregate(LTR_keep$RPKM_H3K27ac, list(LTR_keep$Subfamily), FUN=mean)\n",
    "colnames <- as.list(c(\"Subfamily\", \"Mean\"))\n",
    "colnames(LTR_mean) <- colnames\n",
    "LTR_median <- aggregate(LTR_keep$RPKM_H3K27ac, list(LTR_keep$Subfamily), FUN=median)\n",
    "colnames <- as.list(c(\"Subfamily\", \"Median\"))\n",
    "colnames(LTR_median) <- colnames\n",
    "head(LTR_mean)\n",
    "head(LTR_median)"
   ]
  },
  {
   "cell_type": "code",
   "execution_count": 8,
   "id": "0253f96a",
   "metadata": {
    "vscode": {
     "languageId": "r"
    }
   },
   "outputs": [
    {
     "data": {
      "text/html": [
       "<table class=\"dataframe\">\n",
       "<caption>A data.frame: 6 × 3</caption>\n",
       "<thead>\n",
       "\t<tr><th></th><th scope=col>Subfamily</th><th scope=col>Mean</th><th scope=col>Median</th></tr>\n",
       "\t<tr><th></th><th scope=col>&lt;chr&gt;</th><th scope=col>&lt;dbl&gt;</th><th scope=col>&lt;dbl&gt;</th></tr>\n",
       "</thead>\n",
       "<tbody>\n",
       "\t<tr><th scope=row>1</th><td>BGLII    </td><td> 2.58104098</td><td> 0.4709912</td></tr>\n",
       "\t<tr><th scope=row>2</th><td>BGLII_A  </td><td> 1.13904047</td><td>-0.1737271</td></tr>\n",
       "\t<tr><th scope=row>3</th><td>BGLII_B  </td><td> 0.39112537</td><td>-0.4752432</td></tr>\n",
       "\t<tr><th scope=row>4</th><td>BGLII_B2 </td><td> 1.02466315</td><td>-0.3691125</td></tr>\n",
       "\t<tr><th scope=row>5</th><td>BGLII_C  </td><td>-0.26408721</td><td>-0.6767848</td></tr>\n",
       "\t<tr><th scope=row>6</th><td>BGLII_Mur</td><td> 0.03630242</td><td>-0.6570215</td></tr>\n",
       "</tbody>\n",
       "</table>\n"
      ],
      "text/latex": [
       "A data.frame: 6 × 3\n",
       "\\begin{tabular}{r|lll}\n",
       "  & Subfamily & Mean & Median\\\\\n",
       "  & <chr> & <dbl> & <dbl>\\\\\n",
       "\\hline\n",
       "\t1 & BGLII     &  2.58104098 &  0.4709912\\\\\n",
       "\t2 & BGLII\\_A   &  1.13904047 & -0.1737271\\\\\n",
       "\t3 & BGLII\\_B   &  0.39112537 & -0.4752432\\\\\n",
       "\t4 & BGLII\\_B2  &  1.02466315 & -0.3691125\\\\\n",
       "\t5 & BGLII\\_C   & -0.26408721 & -0.6767848\\\\\n",
       "\t6 & BGLII\\_Mur &  0.03630242 & -0.6570215\\\\\n",
       "\\end{tabular}\n"
      ],
      "text/markdown": [
       "\n",
       "A data.frame: 6 × 3\n",
       "\n",
       "| <!--/--> | Subfamily &lt;chr&gt; | Mean &lt;dbl&gt; | Median &lt;dbl&gt; |\n",
       "|---|---|---|---|\n",
       "| 1 | BGLII     |  2.58104098 |  0.4709912 |\n",
       "| 2 | BGLII_A   |  1.13904047 | -0.1737271 |\n",
       "| 3 | BGLII_B   |  0.39112537 | -0.4752432 |\n",
       "| 4 | BGLII_B2  |  1.02466315 | -0.3691125 |\n",
       "| 5 | BGLII_C   | -0.26408721 | -0.6767848 |\n",
       "| 6 | BGLII_Mur |  0.03630242 | -0.6570215 |\n",
       "\n"
      ],
      "text/plain": [
       "  Subfamily Mean        Median    \n",
       "1 BGLII      2.58104098  0.4709912\n",
       "2 BGLII_A    1.13904047 -0.1737271\n",
       "3 BGLII_B    0.39112537 -0.4752432\n",
       "4 BGLII_B2   1.02466315 -0.3691125\n",
       "5 BGLII_C   -0.26408721 -0.6767848\n",
       "6 BGLII_Mur  0.03630242 -0.6570215"
      ]
     },
     "metadata": {},
     "output_type": "display_data"
    }
   ],
   "source": [
    "LTR_stats <- merge(x = LTR_mean, y= LTR_median, by = \"Subfamily\")\n",
    "colnames <- as.list(c(\"Subfamily\", \"Mean\", \"Median\"))\n",
    "colnames(LTR_stats) <- colnames\n",
    "head(LTR_stats)"
   ]
  },
  {
   "cell_type": "code",
   "execution_count": 9,
   "id": "07368966",
   "metadata": {
    "vscode": {
     "languageId": "r"
    }
   },
   "outputs": [
    {
     "data": {
      "text/html": [
       "<table class=\"dataframe\">\n",
       "<caption>A data.frame: 6 × 3</caption>\n",
       "<thead>\n",
       "\t<tr><th></th><th scope=col>Subfamily</th><th scope=col>Mean</th><th scope=col>Median</th></tr>\n",
       "\t<tr><th></th><th scope=col>&lt;chr&gt;</th><th scope=col>&lt;dbl&gt;</th><th scope=col>&lt;dbl&gt;</th></tr>\n",
       "</thead>\n",
       "<tbody>\n",
       "\t<tr><th scope=row>11</th><td>ERVB2_1A-I_MM</td><td>15.906430</td><td>2.006706</td></tr>\n",
       "\t<tr><th scope=row>428</th><td>RLTR13D6     </td><td>15.646715</td><td>5.543496</td></tr>\n",
       "\t<tr><th scope=row>429</th><td>RLTR13E      </td><td>13.058486</td><td>4.466922</td></tr>\n",
       "\t<tr><th scope=row>566</th><td>RLTR9D2      </td><td>10.711276</td><td>3.183305</td></tr>\n",
       "\t<tr><th scope=row>431</th><td>RLTR13G      </td><td> 8.866653</td><td>3.714875</td></tr>\n",
       "\t<tr><th scope=row>565</th><td>RLTR9D       </td><td> 6.981226</td><td>2.152433</td></tr>\n",
       "</tbody>\n",
       "</table>\n"
      ],
      "text/latex": [
       "A data.frame: 6 × 3\n",
       "\\begin{tabular}{r|lll}\n",
       "  & Subfamily & Mean & Median\\\\\n",
       "  & <chr> & <dbl> & <dbl>\\\\\n",
       "\\hline\n",
       "\t11 & ERVB2\\_1A-I\\_MM & 15.906430 & 2.006706\\\\\n",
       "\t428 & RLTR13D6      & 15.646715 & 5.543496\\\\\n",
       "\t429 & RLTR13E       & 13.058486 & 4.466922\\\\\n",
       "\t566 & RLTR9D2       & 10.711276 & 3.183305\\\\\n",
       "\t431 & RLTR13G       &  8.866653 & 3.714875\\\\\n",
       "\t565 & RLTR9D        &  6.981226 & 2.152433\\\\\n",
       "\\end{tabular}\n"
      ],
      "text/markdown": [
       "\n",
       "A data.frame: 6 × 3\n",
       "\n",
       "| <!--/--> | Subfamily &lt;chr&gt; | Mean &lt;dbl&gt; | Median &lt;dbl&gt; |\n",
       "|---|---|---|---|\n",
       "| 11 | ERVB2_1A-I_MM | 15.906430 | 2.006706 |\n",
       "| 428 | RLTR13D6      | 15.646715 | 5.543496 |\n",
       "| 429 | RLTR13E       | 13.058486 | 4.466922 |\n",
       "| 566 | RLTR9D2       | 10.711276 | 3.183305 |\n",
       "| 431 | RLTR13G       |  8.866653 | 3.714875 |\n",
       "| 565 | RLTR9D        |  6.981226 | 2.152433 |\n",
       "\n"
      ],
      "text/plain": [
       "    Subfamily     Mean      Median  \n",
       "11  ERVB2_1A-I_MM 15.906430 2.006706\n",
       "428 RLTR13D6      15.646715 5.543496\n",
       "429 RLTR13E       13.058486 4.466922\n",
       "566 RLTR9D2       10.711276 3.183305\n",
       "431 RLTR13G        8.866653 3.714875\n",
       "565 RLTR9D         6.981226 2.152433"
      ]
     },
     "metadata": {},
     "output_type": "display_data"
    }
   ],
   "source": [
    "LTR_stats <- LTR_stats[order(-LTR_stats$Mean),]\n",
    "head(LTR_stats)"
   ]
  },
  {
   "cell_type": "code",
   "execution_count": 10,
   "id": "33ffd422",
   "metadata": {
    "vscode": {
     "languageId": "r"
    }
   },
   "outputs": [
    {
     "name": "stdout",
     "output_type": "stream",
     "text": [
      "         Subfamily      Mean    Median\n",
      "1    ERVB2_1A-I_MM 15.906430 2.0067056\n",
      "2         RLTR13D6 15.646715 5.5434960\n",
      "3          RLTR13E 13.058486 4.4669224\n",
      "4          RLTR9D2 10.711276 3.1833055\n",
      "5          RLTR13G  8.866653 3.7148753\n",
      "6           RLTR9D  6.981226 2.1524332\n",
      "7           RLTR9E  6.528399 1.6332676\n",
      "8   ERVB7_4-LTR_MM  6.240763 2.5989824\n",
      "9        MMETn-int  5.818040 1.8927403\n",
      "10 ERVB4_1C-LTR_Mm  5.817534 0.8421476\n",
      "11         RLTR41C  5.756289 1.2068241\n",
      "12        RLTR13D4  5.234900 1.0324463\n",
      "13          LTRIS2  5.226742 2.7565511\n",
      "14          LTRIS3  5.135076 2.1703660\n",
      "15      ETnERV-int  5.115311 0.8748552\n"
     ]
    },
    {
     "data": {
      "text/html": [
       "15"
      ],
      "text/latex": [
       "15"
      ],
      "text/markdown": [
       "15"
      ],
      "text/plain": [
       "[1] 15"
      ]
     },
     "metadata": {},
     "output_type": "display_data"
    },
    {
     "name": "stdout",
     "output_type": "stream",
     "text": [
      "    Subfamily      Mean     Median\n",
      "1    RLTR13D6 15.646715 5.54349604\n",
      "2     RLTR13E 13.058486 4.46692241\n",
      "3     RLTR9D2 10.711276 3.18330549\n",
      "4     RLTR13G  8.866653 3.71487527\n",
      "5      RLTR9D  6.981226 2.15243318\n",
      "6      RLTR9E  6.528399 1.63326762\n",
      "7     RLTR41C  5.756289 1.20682413\n",
      "8    RLTR13D4  5.234900 1.03244631\n",
      "9  RLTRETN_Mm  4.436680 1.66430997\n",
      "10   RLTR13C1  4.235576 0.02306585\n"
     ]
    },
    {
     "data": {
      "text/html": [
       "10"
      ],
      "text/latex": [
       "10"
      ],
      "text/markdown": [
       "10"
      ],
      "text/plain": [
       "[1] 10"
      ]
     },
     "metadata": {},
     "output_type": "display_data"
    }
   ],
   "source": [
    "LTR_tops <- filter(LTR_stats, Mean >= 5)\n",
    "LTR_order <- as.factor(LTR_tops$Subfamily)\n",
    "LTR_tops$Subfamily <- as.list(LTR_tops$Subfamily)\n",
    "print(LTR_tops)\n",
    "LTR_sig <- as.list(LTR_tops$Subfamily)\n",
    "length(LTR_sig)\n",
    "#\n",
    "RLTR_stats <- LTR_stats %>% filter(str_detect(Subfamily, 'RLTR'))\n",
    "RLTR_tops <-  top_n(RLTR_stats, 10, Mean)    \n",
    "RLTR_order <- as.factor(RLTR_tops$Subfamily)\n",
    "RLTR_tops$Subfamily <- as.list(RLTR_tops$Subfamily)\n",
    "print(RLTR_tops)\n",
    "RLTR_sig <- as.list(RLTR_tops$Subfamily)\n",
    "length(RLTR_sig)"
   ]
  },
  {
   "cell_type": "code",
   "execution_count": 11,
   "id": "380ecffa",
   "metadata": {
    "vscode": {
     "languageId": "r"
    }
   },
   "outputs": [
    {
     "data": {
      "image/png": "[encoded data removed]",
      "text/plain": [
       "plot without title"
      ]
     },
     "metadata": {
      "image/png": {
       "height": 600,
       "width": 360
      }
     },
     "output_type": "display_data"
    }
   ],
   "source": [
    "options(repr.plot.width=6, repr.plot.height=10)\n",
    "plotlist <- LTR_tops[,1:2]\n",
    "plotlist$Subfamily <- as.character(plotlist$Subfamily)\n",
    "#\n",
    "LTR_ggplot <- ggplot(plotlist, aes(x = reorder(Subfamily, Mean), y = Mean)) + geom_bar(stat = \"identity\", fill = \"#088F8F\") + coord_flip() + theme_bw() + xlab(label = \"LTR Subfamily\") + ylab(label = \"H3K27ac RPKM (Mean ChIP-Input RPKM\")\n",
    "LTR_ggplot"
   ]
  },
  {
   "cell_type": "code",
   "execution_count": 12,
   "id": "de4effb7",
   "metadata": {
    "vscode": {
     "languageId": "r"
    }
   },
   "outputs": [
    {
     "data": {
      "image/png": "[encoded data removed]",
      "text/plain": [
       "plot without title"
      ]
     },
     "metadata": {
      "image/png": {
       "height": 600,
       "width": 360
      }
     },
     "output_type": "display_data"
    }
   ],
   "source": [
    "options(repr.plot.width=6, repr.plot.height=10)\n",
    "#\n",
    "RLTR_plotlist <- RLTR_tops[,1:2]\n",
    "RLTR_plotlist$Subfamily <- as.character(RLTR_plotlist$Subfamily)\n",
    "#\n",
    "RLTR_ggplot <- ggplot(RLTR_plotlist, aes(x = reorder(Subfamily, Mean), y = Mean)) + geom_bar(stat = \"identity\", fill = \"#1434A4\") + coord_flip() + theme_bw() + xlab(label = \"LTR Subfamily\") + ylab(label = \"H3K27ac RPKM (ChIP-Input RPKM\")\n",
    "RLTR_ggplot"
   ]
  },
  {
   "cell_type": "code",
   "execution_count": 13,
   "id": "ed239740-bb48-4db9-bcc3-d32db8b56f83",
   "metadata": {
    "vscode": {
     "languageId": "r"
    }
   },
   "outputs": [],
   "source": [
    "write.table(plotlist, file = 'All_family_enrich_supp2.tsv', sep = '\\t', row.names = F, col.names = T, quote = F)\n",
    "write.table(RLTR_plotlist, file = 'RLTR_family_enrich_supp2.tsv', sep = '\\t', row.names = F, col.names = T, quote = F)"
   ]
  },
  {
   "cell_type": "code",
   "execution_count": 14,
   "id": "6bfae628",
   "metadata": {
    "vscode": {
     "languageId": "r"
    }
   },
   "outputs": [],
   "source": [
    "pdf(file = 'noshuffle_RLTR_subset_H3K27ac_meanRPKM.pdf', height = 10, width = 6)\n",
    "RLTR_ggplot\n",
    "dev.off()\n",
    "#\n",
    "pdf(file = 'noshuffle_All_LTR_H3K27ac_meanRPKM.pdf', height = 10, width = 6)\n",
    "LTR_ggplot\n",
    "dev.off()"
   ]
  },
  {
   "cell_type": "code",
   "execution_count": null,
   "id": "56dd6d9e",
   "metadata": {
    "vscode": {
     "languageId": "r"
    }
   },
   "outputs": [],
   "source": []
  }
 ],
 "metadata": {
  "kernelspec": {
   "display_name": "R",
   "language": "R",
   "name": "ir"
  },
  "language_info": {
   "codemirror_mode": "r",
   "file_extension": ".r",
   "mimetype": "text/x-r-source",
   "name": "R",
   "pygments_lexer": "r",
   "version": "4.3.3"
  }
 },
 "nbformat": 4,
 "nbformat_minor": 5
}
