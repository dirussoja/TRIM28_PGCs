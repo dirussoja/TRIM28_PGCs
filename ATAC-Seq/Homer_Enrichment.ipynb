{
 "cells": [
  {
   "cell_type": "code",
   "execution_count": 1,
   "id": "3e2966c7-146b-43a9-b4f2-814a7dac0c3a",
   "metadata": {
    "scrolled": true
   },
   "outputs": [
    {
     "name": "stderr",
     "output_type": "stream",
     "text": [
      "── \u001b[1mAttaching core tidyverse packages\u001b[22m ──────── tidyverse 2.0.0 ──\n",
      "\u001b[32m✔\u001b[39m \u001b[34mdplyr    \u001b[39m 1.1.4     \u001b[32m✔\u001b[39m \u001b[34mreadr    \u001b[39m 2.1.5\n",
      "\u001b[32m✔\u001b[39m \u001b[34mforcats  \u001b[39m 1.0.0     \u001b[32m✔\u001b[39m \u001b[34mstringr  \u001b[39m 1.5.1\n",
      "\u001b[32m✔\u001b[39m \u001b[34mggplot2  \u001b[39m 3.5.1     \u001b[32m✔\u001b[39m \u001b[34mtibble   \u001b[39m 3.2.1\n",
      "\u001b[32m✔\u001b[39m \u001b[34mlubridate\u001b[39m 1.9.3     \u001b[32m✔\u001b[39m \u001b[34mtidyr    \u001b[39m 1.3.1\n",
      "\u001b[32m✔\u001b[39m \u001b[34mpurrr    \u001b[39m 1.0.2     \n",
      "── \u001b[1mConflicts\u001b[22m ────────────────────────── tidyverse_conflicts() ──\n",
      "\u001b[31m✖\u001b[39m \u001b[34mdplyr\u001b[39m::\u001b[32mfilter()\u001b[39m masks \u001b[34mstats\u001b[39m::filter()\n",
      "\u001b[31m✖\u001b[39m \u001b[34mdplyr\u001b[39m::\u001b[32mlag()\u001b[39m    masks \u001b[34mstats\u001b[39m::lag()\n",
      "\u001b[36mℹ\u001b[39m Use the conflicted package (\u001b[3m\u001b[34m<http://conflicted.r-lib.org/>\u001b[39m\u001b[23m) to force all conflicts to become errors\n",
      "\n",
      "Attaching package: ‘reshape2’\n",
      "\n",
      "\n",
      "The following object is masked from ‘package:tidyr’:\n",
      "\n",
      "    smiths\n",
      "\n",
      "\n",
      "\n",
      "Attaching package: ‘gplots’\n",
      "\n",
      "\n",
      "The following object is masked from ‘package:stats’:\n",
      "\n",
      "    lowess\n",
      "\n",
      "\n"
     ]
    }
   ],
   "source": [
    "library(tidyverse)\n",
    "library(pheatmap)\n",
    "library(ggplot2)\n",
    "library(reshape2)\n",
    "library(gplots)\n",
    "#\n",
    "options(digits=15)"
   ]
  },
  {
   "cell_type": "code",
   "execution_count": 2,
   "id": "7e483939-3aac-4214-a968-f19a2ad1fd23",
   "metadata": {},
   "outputs": [
    {
     "data": {
      "text/html": [
       "440"
      ],
      "text/latex": [
       "440"
      ],
      "text/markdown": [
       "440"
      ],
      "text/plain": [
       "[1] 440"
      ]
     },
     "metadata": {},
     "output_type": "display_data"
    },
    {
     "data": {
      "text/html": [
       "440"
      ],
      "text/latex": [
       "440"
      ],
      "text/markdown": [
       "440"
      ],
      "text/plain": [
       "[1] 440"
      ]
     },
     "metadata": {},
     "output_type": "display_data"
    }
   ],
   "source": [
    "keep <- c(1,3,4,5)\n",
    "cols <- c(\"Motif_Name\", \"p_value\", \"Log_p\", \"q_value\")\n",
    "#\n",
    "Male_OC <- read.delim(file = 'homer/Male_OC/knownResults.txt', header = T, sep = \"\\t\")\n",
    "Male_OC <- Male_OC[,keep]\n",
    "colnames(Male_OC) <- cols\n",
    "Male_OC$log10 <- -log10(Male_OC$p_value)\n",
    "Male_OC$log10 <- ifelse(Male_OC$log10 == Inf, \"300\", Male_OC$log10)\n",
    "Male_OC$Condition <- c(\"OC\")\n",
    "Male_OC$Sex <- c(\"Male\")\n",
    "Male_OC$log10 <- as.numeric(Male_OC$log10)\n",
    "Male_OC_tops <- Male_OC[1:10,]$Motif_Name\n",
    "\n",
    "nrow(Male_OC)\n",
    "#\n",
    "Male_CO <- read.delim(file = 'homer/Male_CO/knownResults.txt', header = T, sep = \"\\t\", dec = )\n",
    "Male_CO <- Male_CO[,keep]\n",
    "colnames(Male_CO) <- cols\n",
    "Male_CO$log10 <- -log10(Male_CO$p_value)\n",
    "Male_CO$log10 <- ifelse(Male_CO$log10 == Inf, \"300\", Male_CO$log10) \n",
    "Male_CO$Condition <- c(\"CO\")\n",
    "Male_CO$Sex <- c(\"Male\")\n",
    "Male_CO$log10 <- as.numeric(Male_CO$log10)\n",
    "Male_CO_tops <- Male_CO[1:10,]$Motif_Name\n",
    "\n",
    "nrow(Male_CO)\n",
    "\n",
    "male_tops <- c(Male_OC_tops, Male_CO_tops)"
   ]
  },
  {
   "cell_type": "code",
   "execution_count": 3,
   "id": "0fa97491-fc0e-4980-af30-f0fc4dd830cf",
   "metadata": {},
   "outputs": [],
   "source": [
    "keep <- c(1,3,4,5)\n",
    "cols <- c(\"Motif_Name\", \"p_value\", \"Log_p\", \"q_value\")\n",
    "#\n",
    "Female_OC <- read.delim(file = 'homer/Female_OC/knownResults.txt', header = T, sep = \"\\t\")\n",
    "Female_OC <- Female_OC[,keep]\n",
    "colnames(Female_OC) <- cols\n",
    "Female_OC$log10 <- -log10(Female_OC$p_value)\n",
    "Female_OC$log10 <- ifelse(Female_OC$log10 == Inf, \"300\", Female_OC$log10)\n",
    "Female_OC$Condition <- c(\"OC\")\n",
    "Female_OC$Sex <- c(\"Female\")\n",
    "Female_OC$log10 <- as.numeric(Female_OC$log10)\n",
    "Female_OC_tops <- Female_OC[1:10,]$Motif_Name\n",
    "#\n",
    "Female_CO <- read.delim(file = 'homer/Female_CO/knownResults.txt', header = T, sep = \"\\t\", dec = )\n",
    "Female_CO <- Female_CO[,keep]\n",
    "colnames(Female_CO) <- cols\n",
    "Female_CO$log10 <- -log10(Female_CO$p_value)\n",
    "Female_CO$log10 <- ifelse(Female_CO$log10 == Inf, \"300\", Female_CO$log10) \n",
    "Female_CO$Condition <- c(\"CO\")\n",
    "Female_CO$Sex <- c(\"Female\")\n",
    "Female_CO$log10 <- as.numeric(Female_CO$log10)\n",
    "Female_CO_tops <- Female_CO[1:10,]$Motif_Name\n",
    "#\n",
    "female_tops <- c(Female_OC_tops, Female_CO_tops)"
   ]
  },
  {
   "cell_type": "code",
   "execution_count": 4,
   "id": "bbc5bc9c-dd02-42d3-b968-b0f289a91360",
   "metadata": {},
   "outputs": [
    {
     "data": {
      "text/html": [
       "<style>\n",
       ".list-inline {list-style: none; margin:0; padding: 0}\n",
       ".list-inline>li {display: inline-block}\n",
       ".list-inline>li:not(:last-child)::after {content: \"\\00b7\"; padding: 0 .5ex}\n",
       "</style>\n",
       "<ol class=list-inline><li>'AP-2gamma(AP2)/MCF7-TFAP2C-ChIP-Seq(GSE21234)/Homer'</li><li>'AP-2alpha(AP2)/Hela-AP2alpha-ChIP-Seq(GSE31477)/Homer'</li><li>'Sox2(HMG)/mES-Sox2-ChIP-Seq(GSE11431)/Homer'</li><li>'Sox3(HMG)/NPC-Sox3-ChIP-Seq(GSE33059)/Homer'</li><li>'OCT4-SOX2-TCF-NANOG(POU,Homeobox,HMG)/mES-Oct4-ChIP-Seq(GSE11431)/Homer'</li><li>'Sox21(HMG)/ESC-SOX21-ChIP-Seq(GSE110505)/Homer'</li><li>'Sox6(HMG)/Myotubes-Sox6-ChIP-Seq(GSE32627)/Homer'</li><li>'Sox17(HMG)/Endoderm-Sox17-ChIP-Seq(GSE61475)/Homer'</li><li>'Sox15(HMG)/CPA-Sox15-ChIP-Seq(GSE62909)/Homer'</li><li>'Zic2(Zf)/ESC-Zic2-ChIP-Seq(SRP197560)/Homer'</li><li>'DMRT6(DM)/Testis-DMRT6-ChIP-Seq(GSE60440)/Homer'</li><li>'DMRT1(DM)/Testis-DMRT1-ChIP-Seq(GSE64892)/Homer'</li><li>'NFY(CCAAT)/Promoter/Homer'</li><li>'Brn1(POU,Homeobox)/NPC-Brn1-ChIP-Seq(GSE35496)/Homer'</li><li>'Oct2(POU,Homeobox)/Bcell-Oct2-ChIP-Seq(GSE21512)/Homer'</li><li>'Oct6(POU,Homeobox)/NPC-Pou3f1-ChIP-Seq(GSE35496)/Homer'</li><li>'Oct11(POU,Homeobox)/NCIH1048-POU2F3-ChIP-seq(GSE115123)/Homer'</li><li>'PAX3:FKHR-fusion(Paired,Homeobox)/Rh4-PAX3:FKHR-ChIP-Seq(GSE19063)/Homer'</li><li>'Oct4(POU,Homeobox)/mES-Oct4-ChIP-Seq(GSE11431)/Homer'</li><li>'CTCF-SatelliteElement(Zf?)/CD4+-CTCF-ChIP-Seq(Barski_et_al.)/Homer'</li><li>'CTCF(Zf)/CD4+-CTCF-ChIP-Seq(Barski_et_al.)/Homer'</li></ol>\n"
      ],
      "text/latex": [
       "\\begin{enumerate*}\n",
       "\\item 'AP-2gamma(AP2)/MCF7-TFAP2C-ChIP-Seq(GSE21234)/Homer'\n",
       "\\item 'AP-2alpha(AP2)/Hela-AP2alpha-ChIP-Seq(GSE31477)/Homer'\n",
       "\\item 'Sox2(HMG)/mES-Sox2-ChIP-Seq(GSE11431)/Homer'\n",
       "\\item 'Sox3(HMG)/NPC-Sox3-ChIP-Seq(GSE33059)/Homer'\n",
       "\\item 'OCT4-SOX2-TCF-NANOG(POU,Homeobox,HMG)/mES-Oct4-ChIP-Seq(GSE11431)/Homer'\n",
       "\\item 'Sox21(HMG)/ESC-SOX21-ChIP-Seq(GSE110505)/Homer'\n",
       "\\item 'Sox6(HMG)/Myotubes-Sox6-ChIP-Seq(GSE32627)/Homer'\n",
       "\\item 'Sox17(HMG)/Endoderm-Sox17-ChIP-Seq(GSE61475)/Homer'\n",
       "\\item 'Sox15(HMG)/CPA-Sox15-ChIP-Seq(GSE62909)/Homer'\n",
       "\\item 'Zic2(Zf)/ESC-Zic2-ChIP-Seq(SRP197560)/Homer'\n",
       "\\item 'DMRT6(DM)/Testis-DMRT6-ChIP-Seq(GSE60440)/Homer'\n",
       "\\item 'DMRT1(DM)/Testis-DMRT1-ChIP-Seq(GSE64892)/Homer'\n",
       "\\item 'NFY(CCAAT)/Promoter/Homer'\n",
       "\\item 'Brn1(POU,Homeobox)/NPC-Brn1-ChIP-Seq(GSE35496)/Homer'\n",
       "\\item 'Oct2(POU,Homeobox)/Bcell-Oct2-ChIP-Seq(GSE21512)/Homer'\n",
       "\\item 'Oct6(POU,Homeobox)/NPC-Pou3f1-ChIP-Seq(GSE35496)/Homer'\n",
       "\\item 'Oct11(POU,Homeobox)/NCIH1048-POU2F3-ChIP-seq(GSE115123)/Homer'\n",
       "\\item 'PAX3:FKHR-fusion(Paired,Homeobox)/Rh4-PAX3:FKHR-ChIP-Seq(GSE19063)/Homer'\n",
       "\\item 'Oct4(POU,Homeobox)/mES-Oct4-ChIP-Seq(GSE11431)/Homer'\n",
       "\\item 'CTCF-SatelliteElement(Zf?)/CD4+-CTCF-ChIP-Seq(Barski\\_et\\_al.)/Homer'\n",
       "\\item 'CTCF(Zf)/CD4+-CTCF-ChIP-Seq(Barski\\_et\\_al.)/Homer'\n",
       "\\end{enumerate*}\n"
      ],
      "text/markdown": [
       "1. 'AP-2gamma(AP2)/MCF7-TFAP2C-ChIP-Seq(GSE21234)/Homer'\n",
       "2. 'AP-2alpha(AP2)/Hela-AP2alpha-ChIP-Seq(GSE31477)/Homer'\n",
       "3. 'Sox2(HMG)/mES-Sox2-ChIP-Seq(GSE11431)/Homer'\n",
       "4. 'Sox3(HMG)/NPC-Sox3-ChIP-Seq(GSE33059)/Homer'\n",
       "5. 'OCT4-SOX2-TCF-NANOG(POU,Homeobox,HMG)/mES-Oct4-ChIP-Seq(GSE11431)/Homer'\n",
       "6. 'Sox21(HMG)/ESC-SOX21-ChIP-Seq(GSE110505)/Homer'\n",
       "7. 'Sox6(HMG)/Myotubes-Sox6-ChIP-Seq(GSE32627)/Homer'\n",
       "8. 'Sox17(HMG)/Endoderm-Sox17-ChIP-Seq(GSE61475)/Homer'\n",
       "9. 'Sox15(HMG)/CPA-Sox15-ChIP-Seq(GSE62909)/Homer'\n",
       "10. 'Zic2(Zf)/ESC-Zic2-ChIP-Seq(SRP197560)/Homer'\n",
       "11. 'DMRT6(DM)/Testis-DMRT6-ChIP-Seq(GSE60440)/Homer'\n",
       "12. 'DMRT1(DM)/Testis-DMRT1-ChIP-Seq(GSE64892)/Homer'\n",
       "13. 'NFY(CCAAT)/Promoter/Homer'\n",
       "14. 'Brn1(POU,Homeobox)/NPC-Brn1-ChIP-Seq(GSE35496)/Homer'\n",
       "15. 'Oct2(POU,Homeobox)/Bcell-Oct2-ChIP-Seq(GSE21512)/Homer'\n",
       "16. 'Oct6(POU,Homeobox)/NPC-Pou3f1-ChIP-Seq(GSE35496)/Homer'\n",
       "17. 'Oct11(POU,Homeobox)/NCIH1048-POU2F3-ChIP-seq(GSE115123)/Homer'\n",
       "18. 'PAX3:FKHR-fusion(Paired,Homeobox)/Rh4-PAX3:FKHR-ChIP-Seq(GSE19063)/Homer'\n",
       "19. 'Oct4(POU,Homeobox)/mES-Oct4-ChIP-Seq(GSE11431)/Homer'\n",
       "20. 'CTCF-SatelliteElement(Zf?)/CD4+-CTCF-ChIP-Seq(Barski_et_al.)/Homer'\n",
       "21. 'CTCF(Zf)/CD4+-CTCF-ChIP-Seq(Barski_et_al.)/Homer'\n",
       "\n",
       "\n"
      ],
      "text/plain": [
       " [1] \"AP-2gamma(AP2)/MCF7-TFAP2C-ChIP-Seq(GSE21234)/Homer\"                     \n",
       " [2] \"AP-2alpha(AP2)/Hela-AP2alpha-ChIP-Seq(GSE31477)/Homer\"                   \n",
       " [3] \"Sox2(HMG)/mES-Sox2-ChIP-Seq(GSE11431)/Homer\"                             \n",
       " [4] \"Sox3(HMG)/NPC-Sox3-ChIP-Seq(GSE33059)/Homer\"                             \n",
       " [5] \"OCT4-SOX2-TCF-NANOG(POU,Homeobox,HMG)/mES-Oct4-ChIP-Seq(GSE11431)/Homer\" \n",
       " [6] \"Sox21(HMG)/ESC-SOX21-ChIP-Seq(GSE110505)/Homer\"                          \n",
       " [7] \"Sox6(HMG)/Myotubes-Sox6-ChIP-Seq(GSE32627)/Homer\"                        \n",
       " [8] \"Sox17(HMG)/Endoderm-Sox17-ChIP-Seq(GSE61475)/Homer\"                      \n",
       " [9] \"Sox15(HMG)/CPA-Sox15-ChIP-Seq(GSE62909)/Homer\"                           \n",
       "[10] \"Zic2(Zf)/ESC-Zic2-ChIP-Seq(SRP197560)/Homer\"                             \n",
       "[11] \"DMRT6(DM)/Testis-DMRT6-ChIP-Seq(GSE60440)/Homer\"                         \n",
       "[12] \"DMRT1(DM)/Testis-DMRT1-ChIP-Seq(GSE64892)/Homer\"                         \n",
       "[13] \"NFY(CCAAT)/Promoter/Homer\"                                               \n",
       "[14] \"Brn1(POU,Homeobox)/NPC-Brn1-ChIP-Seq(GSE35496)/Homer\"                    \n",
       "[15] \"Oct2(POU,Homeobox)/Bcell-Oct2-ChIP-Seq(GSE21512)/Homer\"                  \n",
       "[16] \"Oct6(POU,Homeobox)/NPC-Pou3f1-ChIP-Seq(GSE35496)/Homer\"                  \n",
       "[17] \"Oct11(POU,Homeobox)/NCIH1048-POU2F3-ChIP-seq(GSE115123)/Homer\"           \n",
       "[18] \"PAX3:FKHR-fusion(Paired,Homeobox)/Rh4-PAX3:FKHR-ChIP-Seq(GSE19063)/Homer\"\n",
       "[19] \"Oct4(POU,Homeobox)/mES-Oct4-ChIP-Seq(GSE11431)/Homer\"                    \n",
       "[20] \"CTCF-SatelliteElement(Zf?)/CD4+-CTCF-ChIP-Seq(Barski_et_al.)/Homer\"      \n",
       "[21] \"CTCF(Zf)/CD4+-CTCF-ChIP-Seq(Barski_et_al.)/Homer\"                        "
      ]
     },
     "metadata": {},
     "output_type": "display_data"
    },
    {
     "data": {
      "text/html": [
       "440"
      ],
      "text/latex": [
       "440"
      ],
      "text/markdown": [
       "440"
      ],
      "text/plain": [
       "[1] 440"
      ]
     },
     "metadata": {},
     "output_type": "display_data"
    },
    {
     "data": {
      "text/html": [
       "440"
      ],
      "text/latex": [
       "440"
      ],
      "text/markdown": [
       "440"
      ],
      "text/plain": [
       "[1] 440"
      ]
     },
     "metadata": {},
     "output_type": "display_data"
    },
    {
     "data": {
      "text/html": [
       "440"
      ],
      "text/latex": [
       "440"
      ],
      "text/markdown": [
       "440"
      ],
      "text/plain": [
       "[1] 440"
      ]
     },
     "metadata": {},
     "output_type": "display_data"
    },
    {
     "data": {
      "text/html": [
       "440"
      ],
      "text/latex": [
       "440"
      ],
      "text/markdown": [
       "440"
      ],
      "text/plain": [
       "[1] 440"
      ]
     },
     "metadata": {},
     "output_type": "display_data"
    }
   ],
   "source": [
    "all_tops <- unique(c(male_tops, female_tops))\n",
    "all_tops\n",
    "#\n",
    "keep <- c(1,5)\n",
    "Male_OC <- Male_OC[,keep]\n",
    "nrow(Male_OC)\n",
    "Male_CO <- Male_CO[,keep]\n",
    "nrow(Male_CO)\n",
    "Female_OC <- Female_OC[,keep]\n",
    "nrow(Female_OC)\n",
    "Female_CO <- Female_CO[,keep]\n",
    "nrow(Female_CO)"
   ]
  },
  {
   "cell_type": "code",
   "execution_count": 5,
   "id": "acebc31f-4323-4b6f-8552-21643f50972f",
   "metadata": {},
   "outputs": [
    {
     "name": "stderr",
     "output_type": "stream",
     "text": [
      "Warning message in full_join(Male_OC, Male_CO, by = c(\"Motif_Name\")):\n",
      "“\u001b[1m\u001b[22mDetected an unexpected many-to-many relationship between `x`\n",
      "and `y`.\n",
      "\u001b[36mℹ\u001b[39m Row 351 of `x` matches multiple rows in `y`.\n",
      "\u001b[36mℹ\u001b[39m Row 352 of `y` matches multiple rows in `x`.\n",
      "\u001b[36mℹ\u001b[39m If a many-to-many relationship is expected, set `relationship\n",
      "  = \"many-to-many\"` to silence this warning.”\n"
     ]
    },
    {
     "data": {
      "text/html": [
       "<table class=\"dataframe\">\n",
       "<caption>A data.frame: 6 × 3</caption>\n",
       "<thead>\n",
       "\t<tr><th></th><th scope=col>Motif_Name</th><th scope=col>Log10_Male_OC</th><th scope=col>Log10_Male_CO</th></tr>\n",
       "\t<tr><th></th><th scope=col>&lt;chr&gt;</th><th scope=col>&lt;dbl&gt;</th><th scope=col>&lt;dbl&gt;</th></tr>\n",
       "</thead>\n",
       "<tbody>\n",
       "\t<tr><th scope=row>1</th><td>AP-2gamma(AP2)/MCF7-TFAP2C-ChIP-Seq(GSE21234)/Homer                    </td><td>220</td><td>2</td></tr>\n",
       "\t<tr><th scope=row>2</th><td>AP-2alpha(AP2)/Hela-AP2alpha-ChIP-Seq(GSE31477)/Homer                  </td><td>205</td><td>1</td></tr>\n",
       "\t<tr><th scope=row>3</th><td>Sox2(HMG)/mES-Sox2-ChIP-Seq(GSE11431)/Homer                            </td><td>101</td><td>2</td></tr>\n",
       "\t<tr><th scope=row>4</th><td>Sox3(HMG)/NPC-Sox3-ChIP-Seq(GSE33059)/Homer                            </td><td> 90</td><td>0</td></tr>\n",
       "\t<tr><th scope=row>5</th><td>OCT4-SOX2-TCF-NANOG(POU,Homeobox,HMG)/mES-Oct4-ChIP-Seq(GSE11431)/Homer</td><td> 90</td><td>7</td></tr>\n",
       "\t<tr><th scope=row>6</th><td>Sox21(HMG)/ESC-SOX21-ChIP-Seq(GSE110505)/Homer                         </td><td> 87</td><td>3</td></tr>\n",
       "</tbody>\n",
       "</table>\n"
      ],
      "text/latex": [
       "A data.frame: 6 × 3\n",
       "\\begin{tabular}{r|lll}\n",
       "  & Motif\\_Name & Log10\\_Male\\_OC & Log10\\_Male\\_CO\\\\\n",
       "  & <chr> & <dbl> & <dbl>\\\\\n",
       "\\hline\n",
       "\t1 & AP-2gamma(AP2)/MCF7-TFAP2C-ChIP-Seq(GSE21234)/Homer                     & 220 & 2\\\\\n",
       "\t2 & AP-2alpha(AP2)/Hela-AP2alpha-ChIP-Seq(GSE31477)/Homer                   & 205 & 1\\\\\n",
       "\t3 & Sox2(HMG)/mES-Sox2-ChIP-Seq(GSE11431)/Homer                             & 101 & 2\\\\\n",
       "\t4 & Sox3(HMG)/NPC-Sox3-ChIP-Seq(GSE33059)/Homer                             &  90 & 0\\\\\n",
       "\t5 & OCT4-SOX2-TCF-NANOG(POU,Homeobox,HMG)/mES-Oct4-ChIP-Seq(GSE11431)/Homer &  90 & 7\\\\\n",
       "\t6 & Sox21(HMG)/ESC-SOX21-ChIP-Seq(GSE110505)/Homer                          &  87 & 3\\\\\n",
       "\\end{tabular}\n"
      ],
      "text/markdown": [
       "\n",
       "A data.frame: 6 × 3\n",
       "\n",
       "| <!--/--> | Motif_Name &lt;chr&gt; | Log10_Male_OC &lt;dbl&gt; | Log10_Male_CO &lt;dbl&gt; |\n",
       "|---|---|---|---|\n",
       "| 1 | AP-2gamma(AP2)/MCF7-TFAP2C-ChIP-Seq(GSE21234)/Homer                     | 220 | 2 |\n",
       "| 2 | AP-2alpha(AP2)/Hela-AP2alpha-ChIP-Seq(GSE31477)/Homer                   | 205 | 1 |\n",
       "| 3 | Sox2(HMG)/mES-Sox2-ChIP-Seq(GSE11431)/Homer                             | 101 | 2 |\n",
       "| 4 | Sox3(HMG)/NPC-Sox3-ChIP-Seq(GSE33059)/Homer                             |  90 | 0 |\n",
       "| 5 | OCT4-SOX2-TCF-NANOG(POU,Homeobox,HMG)/mES-Oct4-ChIP-Seq(GSE11431)/Homer |  90 | 7 |\n",
       "| 6 | Sox21(HMG)/ESC-SOX21-ChIP-Seq(GSE110505)/Homer                          |  87 | 3 |\n",
       "\n"
      ],
      "text/plain": [
       "  Motif_Name                                                             \n",
       "1 AP-2gamma(AP2)/MCF7-TFAP2C-ChIP-Seq(GSE21234)/Homer                    \n",
       "2 AP-2alpha(AP2)/Hela-AP2alpha-ChIP-Seq(GSE31477)/Homer                  \n",
       "3 Sox2(HMG)/mES-Sox2-ChIP-Seq(GSE11431)/Homer                            \n",
       "4 Sox3(HMG)/NPC-Sox3-ChIP-Seq(GSE33059)/Homer                            \n",
       "5 OCT4-SOX2-TCF-NANOG(POU,Homeobox,HMG)/mES-Oct4-ChIP-Seq(GSE11431)/Homer\n",
       "6 Sox21(HMG)/ESC-SOX21-ChIP-Seq(GSE110505)/Homer                         \n",
       "  Log10_Male_OC Log10_Male_CO\n",
       "1 220           2            \n",
       "2 205           1            \n",
       "3 101           2            \n",
       "4  90           0            \n",
       "5  90           7            \n",
       "6  87           3            "
      ]
     },
     "metadata": {},
     "output_type": "display_data"
    },
    {
     "name": "stderr",
     "output_type": "stream",
     "text": [
      "Warning message in full_join(Female_OC, Female_CO, by = c(\"Motif_Name\")):\n",
      "“\u001b[1m\u001b[22mDetected an unexpected many-to-many relationship between `x`\n",
      "and `y`.\n",
      "\u001b[36mℹ\u001b[39m Row 197 of `x` matches multiple rows in `y`.\n",
      "\u001b[36mℹ\u001b[39m Row 389 of `y` matches multiple rows in `x`.\n",
      "\u001b[36mℹ\u001b[39m If a many-to-many relationship is expected, set `relationship\n",
      "  = \"many-to-many\"` to silence this warning.”\n"
     ]
    },
    {
     "data": {
      "text/html": [
       "<table class=\"dataframe\">\n",
       "<caption>A data.frame: 6 × 3</caption>\n",
       "<thead>\n",
       "\t<tr><th></th><th scope=col>Motif_Name</th><th scope=col>Log10_Female_OC</th><th scope=col>Log10_Female_CO</th></tr>\n",
       "\t<tr><th></th><th scope=col>&lt;chr&gt;</th><th scope=col>&lt;dbl&gt;</th><th scope=col>&lt;dbl&gt;</th></tr>\n",
       "</thead>\n",
       "<tbody>\n",
       "\t<tr><th scope=row>1</th><td>OCT4-SOX2-TCF-NANOG(POU,Homeobox,HMG)/mES-Oct4-ChIP-Seq(GSE11431)/Homer</td><td>102</td><td>  8</td></tr>\n",
       "\t<tr><th scope=row>2</th><td>AP-2gamma(AP2)/MCF7-TFAP2C-ChIP-Seq(GSE21234)/Homer                    </td><td> 81</td><td>  0</td></tr>\n",
       "\t<tr><th scope=row>3</th><td>AP-2alpha(AP2)/Hela-AP2alpha-ChIP-Seq(GSE31477)/Homer                  </td><td> 75</td><td>  0</td></tr>\n",
       "\t<tr><th scope=row>4</th><td>NFY(CCAAT)/Promoter/Homer                                              </td><td> 66</td><td>286</td></tr>\n",
       "\t<tr><th scope=row>5</th><td>Sox2(HMG)/mES-Sox2-ChIP-Seq(GSE11431)/Homer                            </td><td> 62</td><td>  0</td></tr>\n",
       "\t<tr><th scope=row>6</th><td>Brn1(POU,Homeobox)/NPC-Brn1-ChIP-Seq(GSE35496)/Homer                   </td><td> 53</td><td>300</td></tr>\n",
       "</tbody>\n",
       "</table>\n"
      ],
      "text/latex": [
       "A data.frame: 6 × 3\n",
       "\\begin{tabular}{r|lll}\n",
       "  & Motif\\_Name & Log10\\_Female\\_OC & Log10\\_Female\\_CO\\\\\n",
       "  & <chr> & <dbl> & <dbl>\\\\\n",
       "\\hline\n",
       "\t1 & OCT4-SOX2-TCF-NANOG(POU,Homeobox,HMG)/mES-Oct4-ChIP-Seq(GSE11431)/Homer & 102 &   8\\\\\n",
       "\t2 & AP-2gamma(AP2)/MCF7-TFAP2C-ChIP-Seq(GSE21234)/Homer                     &  81 &   0\\\\\n",
       "\t3 & AP-2alpha(AP2)/Hela-AP2alpha-ChIP-Seq(GSE31477)/Homer                   &  75 &   0\\\\\n",
       "\t4 & NFY(CCAAT)/Promoter/Homer                                               &  66 & 286\\\\\n",
       "\t5 & Sox2(HMG)/mES-Sox2-ChIP-Seq(GSE11431)/Homer                             &  62 &   0\\\\\n",
       "\t6 & Brn1(POU,Homeobox)/NPC-Brn1-ChIP-Seq(GSE35496)/Homer                    &  53 & 300\\\\\n",
       "\\end{tabular}\n"
      ],
      "text/markdown": [
       "\n",
       "A data.frame: 6 × 3\n",
       "\n",
       "| <!--/--> | Motif_Name &lt;chr&gt; | Log10_Female_OC &lt;dbl&gt; | Log10_Female_CO &lt;dbl&gt; |\n",
       "|---|---|---|---|\n",
       "| 1 | OCT4-SOX2-TCF-NANOG(POU,Homeobox,HMG)/mES-Oct4-ChIP-Seq(GSE11431)/Homer | 102 |   8 |\n",
       "| 2 | AP-2gamma(AP2)/MCF7-TFAP2C-ChIP-Seq(GSE21234)/Homer                     |  81 |   0 |\n",
       "| 3 | AP-2alpha(AP2)/Hela-AP2alpha-ChIP-Seq(GSE31477)/Homer                   |  75 |   0 |\n",
       "| 4 | NFY(CCAAT)/Promoter/Homer                                               |  66 | 286 |\n",
       "| 5 | Sox2(HMG)/mES-Sox2-ChIP-Seq(GSE11431)/Homer                             |  62 |   0 |\n",
       "| 6 | Brn1(POU,Homeobox)/NPC-Brn1-ChIP-Seq(GSE35496)/Homer                    |  53 | 300 |\n",
       "\n"
      ],
      "text/plain": [
       "  Motif_Name                                                             \n",
       "1 OCT4-SOX2-TCF-NANOG(POU,Homeobox,HMG)/mES-Oct4-ChIP-Seq(GSE11431)/Homer\n",
       "2 AP-2gamma(AP2)/MCF7-TFAP2C-ChIP-Seq(GSE21234)/Homer                    \n",
       "3 AP-2alpha(AP2)/Hela-AP2alpha-ChIP-Seq(GSE31477)/Homer                  \n",
       "4 NFY(CCAAT)/Promoter/Homer                                              \n",
       "5 Sox2(HMG)/mES-Sox2-ChIP-Seq(GSE11431)/Homer                            \n",
       "6 Brn1(POU,Homeobox)/NPC-Brn1-ChIP-Seq(GSE35496)/Homer                   \n",
       "  Log10_Female_OC Log10_Female_CO\n",
       "1 102               8            \n",
       "2  81               0            \n",
       "3  75               0            \n",
       "4  66             286            \n",
       "5  62               0            \n",
       "6  53             300            "
      ]
     },
     "metadata": {},
     "output_type": "display_data"
    }
   ],
   "source": [
    "males <- full_join(Male_OC, Male_CO, by = c(\"Motif_Name\"))\n",
    "cols <- c(\"Motif_Name\", \"Log10_Male_OC\", \"Log10_Male_CO\")\n",
    "colnames(males) <- cols\n",
    "head(males)\n",
    "#\n",
    "females <- full_join(Female_OC, Female_CO, by = c(\"Motif_Name\"))\n",
    "cols <- c(\"Motif_Name\", \"Log10_Female_OC\", \"Log10_Female_CO\")\n",
    "colnames(females) <- cols\n",
    "head(females)"
   ]
  },
  {
   "cell_type": "code",
   "execution_count": 6,
   "id": "7d1289ff-1f15-4de6-be73-cf4451715247",
   "metadata": {},
   "outputs": [
    {
     "name": "stderr",
     "output_type": "stream",
     "text": [
      "Warning message in full_join(males, females, by = c(\"Motif_Name\")):\n",
      "“\u001b[1m\u001b[22mDetected an unexpected many-to-many relationship between `x`\n",
      "and `y`.\n",
      "\u001b[36mℹ\u001b[39m Row 351 of `x` matches multiple rows in `y`.\n",
      "\u001b[36mℹ\u001b[39m Row 197 of `y` matches multiple rows in `x`.\n",
      "\u001b[36mℹ\u001b[39m If a many-to-many relationship is expected, set `relationship\n",
      "  = \"many-to-many\"` to silence this warning.”\n"
     ]
    },
    {
     "data": {
      "text/html": [
       "<table class=\"dataframe\">\n",
       "<caption>A data.frame: 21 × 5</caption>\n",
       "<thead>\n",
       "\t<tr><th scope=col>Motif_Name</th><th scope=col>Log10_Male_OC</th><th scope=col>Log10_Male_CO</th><th scope=col>Log10_Female_OC</th><th scope=col>Log10_Female_CO</th></tr>\n",
       "\t<tr><th scope=col>&lt;chr&gt;</th><th scope=col>&lt;dbl&gt;</th><th scope=col>&lt;dbl&gt;</th><th scope=col>&lt;dbl&gt;</th><th scope=col>&lt;dbl&gt;</th></tr>\n",
       "</thead>\n",
       "<tbody>\n",
       "\t<tr><td>AP-2gamma            </td><td>220</td><td>  2</td><td> 81</td><td>  0</td></tr>\n",
       "\t<tr><td>AP-2alpha            </td><td>205</td><td>  1</td><td> 75</td><td>  0</td></tr>\n",
       "\t<tr><td>Sox2                 </td><td>101</td><td>  2</td><td> 62</td><td>  0</td></tr>\n",
       "\t<tr><td>Sox3                 </td><td> 90</td><td>  0</td><td> 36</td><td>  0</td></tr>\n",
       "\t<tr><td>OCT4-SOX2-TCF-NANOG  </td><td> 90</td><td>  7</td><td>102</td><td>  8</td></tr>\n",
       "\t<tr><td>Sox21                </td><td> 87</td><td>  3</td><td> 42</td><td>  0</td></tr>\n",
       "\t<tr><td>Sox6                 </td><td> 67</td><td>  2</td><td> 36</td><td>  3</td></tr>\n",
       "\t<tr><td>Sox17                </td><td> 66</td><td>  6</td><td> 43</td><td>  6</td></tr>\n",
       "\t<tr><td>Sox15                </td><td> 59</td><td>  1</td><td> 34</td><td>  2</td></tr>\n",
       "\t<tr><td>Zic2                 </td><td> 58</td><td>  0</td><td> 38</td><td>  0</td></tr>\n",
       "\t<tr><td>CTCF                 </td><td> 55</td><td>165</td><td> 23</td><td>257</td></tr>\n",
       "\t<tr><td>Brn1                 </td><td> 40</td><td>300</td><td> 53</td><td>300</td></tr>\n",
       "\t<tr><td>Oct6                 </td><td> 30</td><td>278</td><td> 34</td><td>275</td></tr>\n",
       "\t<tr><td>Oct4                 </td><td> 26</td><td>235</td><td> 34</td><td>235</td></tr>\n",
       "\t<tr><td>Oct11                </td><td> 15</td><td>272</td><td>  9</td><td>280</td></tr>\n",
       "\t<tr><td>CTCF-SatelliteElement</td><td> 14</td><td>181</td><td>  8</td><td>245</td></tr>\n",
       "\t<tr><td>Oct2                 </td><td> 10</td><td>279</td><td>  5</td><td>279</td></tr>\n",
       "\t<tr><td>NFY                  </td><td>  9</td><td>300</td><td> 66</td><td>286</td></tr>\n",
       "\t<tr><td>PAX3:FKHR-fusion     </td><td>  2</td><td>251</td><td> 14</td><td>224</td></tr>\n",
       "\t<tr><td>DMRT1                </td><td>  0</td><td>300</td><td>  0</td><td>300</td></tr>\n",
       "\t<tr><td>DMRT6                </td><td>  0</td><td>300</td><td>  0</td><td>300</td></tr>\n",
       "</tbody>\n",
       "</table>\n"
      ],
      "text/latex": [
       "A data.frame: 21 × 5\n",
       "\\begin{tabular}{lllll}\n",
       " Motif\\_Name & Log10\\_Male\\_OC & Log10\\_Male\\_CO & Log10\\_Female\\_OC & Log10\\_Female\\_CO\\\\\n",
       " <chr> & <dbl> & <dbl> & <dbl> & <dbl>\\\\\n",
       "\\hline\n",
       "\t AP-2gamma             & 220 &   2 &  81 &   0\\\\\n",
       "\t AP-2alpha             & 205 &   1 &  75 &   0\\\\\n",
       "\t Sox2                  & 101 &   2 &  62 &   0\\\\\n",
       "\t Sox3                  &  90 &   0 &  36 &   0\\\\\n",
       "\t OCT4-SOX2-TCF-NANOG   &  90 &   7 & 102 &   8\\\\\n",
       "\t Sox21                 &  87 &   3 &  42 &   0\\\\\n",
       "\t Sox6                  &  67 &   2 &  36 &   3\\\\\n",
       "\t Sox17                 &  66 &   6 &  43 &   6\\\\\n",
       "\t Sox15                 &  59 &   1 &  34 &   2\\\\\n",
       "\t Zic2                  &  58 &   0 &  38 &   0\\\\\n",
       "\t CTCF                  &  55 & 165 &  23 & 257\\\\\n",
       "\t Brn1                  &  40 & 300 &  53 & 300\\\\\n",
       "\t Oct6                  &  30 & 278 &  34 & 275\\\\\n",
       "\t Oct4                  &  26 & 235 &  34 & 235\\\\\n",
       "\t Oct11                 &  15 & 272 &   9 & 280\\\\\n",
       "\t CTCF-SatelliteElement &  14 & 181 &   8 & 245\\\\\n",
       "\t Oct2                  &  10 & 279 &   5 & 279\\\\\n",
       "\t NFY                   &   9 & 300 &  66 & 286\\\\\n",
       "\t PAX3:FKHR-fusion      &   2 & 251 &  14 & 224\\\\\n",
       "\t DMRT1                 &   0 & 300 &   0 & 300\\\\\n",
       "\t DMRT6                 &   0 & 300 &   0 & 300\\\\\n",
       "\\end{tabular}\n"
      ],
      "text/markdown": [
       "\n",
       "A data.frame: 21 × 5\n",
       "\n",
       "| Motif_Name &lt;chr&gt; | Log10_Male_OC &lt;dbl&gt; | Log10_Male_CO &lt;dbl&gt; | Log10_Female_OC &lt;dbl&gt; | Log10_Female_CO &lt;dbl&gt; |\n",
       "|---|---|---|---|---|\n",
       "| AP-2gamma             | 220 |   2 |  81 |   0 |\n",
       "| AP-2alpha             | 205 |   1 |  75 |   0 |\n",
       "| Sox2                  | 101 |   2 |  62 |   0 |\n",
       "| Sox3                  |  90 |   0 |  36 |   0 |\n",
       "| OCT4-SOX2-TCF-NANOG   |  90 |   7 | 102 |   8 |\n",
       "| Sox21                 |  87 |   3 |  42 |   0 |\n",
       "| Sox6                  |  67 |   2 |  36 |   3 |\n",
       "| Sox17                 |  66 |   6 |  43 |   6 |\n",
       "| Sox15                 |  59 |   1 |  34 |   2 |\n",
       "| Zic2                  |  58 |   0 |  38 |   0 |\n",
       "| CTCF                  |  55 | 165 |  23 | 257 |\n",
       "| Brn1                  |  40 | 300 |  53 | 300 |\n",
       "| Oct6                  |  30 | 278 |  34 | 275 |\n",
       "| Oct4                  |  26 | 235 |  34 | 235 |\n",
       "| Oct11                 |  15 | 272 |   9 | 280 |\n",
       "| CTCF-SatelliteElement |  14 | 181 |   8 | 245 |\n",
       "| Oct2                  |  10 | 279 |   5 | 279 |\n",
       "| NFY                   |   9 | 300 |  66 | 286 |\n",
       "| PAX3:FKHR-fusion      |   2 | 251 |  14 | 224 |\n",
       "| DMRT1                 |   0 | 300 |   0 | 300 |\n",
       "| DMRT6                 |   0 | 300 |   0 | 300 |\n",
       "\n"
      ],
      "text/plain": [
       "   Motif_Name            Log10_Male_OC Log10_Male_CO Log10_Female_OC\n",
       "1  AP-2gamma             220             2            81            \n",
       "2  AP-2alpha             205             1            75            \n",
       "3  Sox2                  101             2            62            \n",
       "4  Sox3                   90             0            36            \n",
       "5  OCT4-SOX2-TCF-NANOG    90             7           102            \n",
       "6  Sox21                  87             3            42            \n",
       "7  Sox6                   67             2            36            \n",
       "8  Sox17                  66             6            43            \n",
       "9  Sox15                  59             1            34            \n",
       "10 Zic2                   58             0            38            \n",
       "11 CTCF                   55           165            23            \n",
       "12 Brn1                   40           300            53            \n",
       "13 Oct6                   30           278            34            \n",
       "14 Oct4                   26           235            34            \n",
       "15 Oct11                  15           272             9            \n",
       "16 CTCF-SatelliteElement  14           181             8            \n",
       "17 Oct2                   10           279             5            \n",
       "18 NFY                     9           300            66            \n",
       "19 PAX3:FKHR-fusion        2           251            14            \n",
       "20 DMRT1                   0           300             0            \n",
       "21 DMRT6                   0           300             0            \n",
       "   Log10_Female_CO\n",
       "1    0            \n",
       "2    0            \n",
       "3    0            \n",
       "4    0            \n",
       "5    8            \n",
       "6    0            \n",
       "7    3            \n",
       "8    6            \n",
       "9    2            \n",
       "10   0            \n",
       "11 257            \n",
       "12 300            \n",
       "13 275            \n",
       "14 235            \n",
       "15 280            \n",
       "16 245            \n",
       "17 279            \n",
       "18 286            \n",
       "19 224            \n",
       "20 300            \n",
       "21 300            "
      ]
     },
     "metadata": {},
     "output_type": "display_data"
    },
    {
     "data": {
      "text/plain": [
       "\n",
       "FALSE \n",
       "   84 "
      ]
     },
     "metadata": {},
     "output_type": "display_data"
    },
    {
     "data": {
      "text/html": [
       "<table class=\"dataframe\">\n",
       "<caption>A matrix: 21 × 4 of type dbl</caption>\n",
       "<thead>\n",
       "\t<tr><th></th><th scope=col>Log10_Male_OC</th><th scope=col>Log10_Male_CO</th><th scope=col>Log10_Female_OC</th><th scope=col>Log10_Female_CO</th></tr>\n",
       "</thead>\n",
       "<tbody>\n",
       "\t<tr><th scope=row>AP-2gamma</th><td>220</td><td>  2</td><td> 81</td><td>  0</td></tr>\n",
       "\t<tr><th scope=row>AP-2alpha</th><td>205</td><td>  1</td><td> 75</td><td>  0</td></tr>\n",
       "\t<tr><th scope=row>Sox2</th><td>101</td><td>  2</td><td> 62</td><td>  0</td></tr>\n",
       "\t<tr><th scope=row>Sox3</th><td> 90</td><td>  0</td><td> 36</td><td>  0</td></tr>\n",
       "\t<tr><th scope=row>OCT4-SOX2-TCF-NANOG</th><td> 90</td><td>  7</td><td>102</td><td>  8</td></tr>\n",
       "\t<tr><th scope=row>Sox21</th><td> 87</td><td>  3</td><td> 42</td><td>  0</td></tr>\n",
       "\t<tr><th scope=row>Sox6</th><td> 67</td><td>  2</td><td> 36</td><td>  3</td></tr>\n",
       "\t<tr><th scope=row>Sox17</th><td> 66</td><td>  6</td><td> 43</td><td>  6</td></tr>\n",
       "\t<tr><th scope=row>Sox15</th><td> 59</td><td>  1</td><td> 34</td><td>  2</td></tr>\n",
       "\t<tr><th scope=row>Zic2</th><td> 58</td><td>  0</td><td> 38</td><td>  0</td></tr>\n",
       "\t<tr><th scope=row>CTCF</th><td> 55</td><td>165</td><td> 23</td><td>257</td></tr>\n",
       "\t<tr><th scope=row>Brn1</th><td> 40</td><td>300</td><td> 53</td><td>300</td></tr>\n",
       "\t<tr><th scope=row>Oct6</th><td> 30</td><td>278</td><td> 34</td><td>275</td></tr>\n",
       "\t<tr><th scope=row>Oct4</th><td> 26</td><td>235</td><td> 34</td><td>235</td></tr>\n",
       "\t<tr><th scope=row>Oct11</th><td> 15</td><td>272</td><td>  9</td><td>280</td></tr>\n",
       "\t<tr><th scope=row>CTCF-SatelliteElement</th><td> 14</td><td>181</td><td>  8</td><td>245</td></tr>\n",
       "\t<tr><th scope=row>Oct2</th><td> 10</td><td>279</td><td>  5</td><td>279</td></tr>\n",
       "\t<tr><th scope=row>NFY</th><td>  9</td><td>300</td><td> 66</td><td>286</td></tr>\n",
       "\t<tr><th scope=row>PAX3:FKHR-fusion</th><td>  2</td><td>251</td><td> 14</td><td>224</td></tr>\n",
       "\t<tr><th scope=row>DMRT1</th><td>  0</td><td>300</td><td>  0</td><td>300</td></tr>\n",
       "\t<tr><th scope=row>DMRT6</th><td>  0</td><td>300</td><td>  0</td><td>300</td></tr>\n",
       "</tbody>\n",
       "</table>\n"
      ],
      "text/latex": [
       "A matrix: 21 × 4 of type dbl\n",
       "\\begin{tabular}{r|llll}\n",
       "  & Log10\\_Male\\_OC & Log10\\_Male\\_CO & Log10\\_Female\\_OC & Log10\\_Female\\_CO\\\\\n",
       "\\hline\n",
       "\tAP-2gamma & 220 &   2 &  81 &   0\\\\\n",
       "\tAP-2alpha & 205 &   1 &  75 &   0\\\\\n",
       "\tSox2 & 101 &   2 &  62 &   0\\\\\n",
       "\tSox3 &  90 &   0 &  36 &   0\\\\\n",
       "\tOCT4-SOX2-TCF-NANOG &  90 &   7 & 102 &   8\\\\\n",
       "\tSox21 &  87 &   3 &  42 &   0\\\\\n",
       "\tSox6 &  67 &   2 &  36 &   3\\\\\n",
       "\tSox17 &  66 &   6 &  43 &   6\\\\\n",
       "\tSox15 &  59 &   1 &  34 &   2\\\\\n",
       "\tZic2 &  58 &   0 &  38 &   0\\\\\n",
       "\tCTCF &  55 & 165 &  23 & 257\\\\\n",
       "\tBrn1 &  40 & 300 &  53 & 300\\\\\n",
       "\tOct6 &  30 & 278 &  34 & 275\\\\\n",
       "\tOct4 &  26 & 235 &  34 & 235\\\\\n",
       "\tOct11 &  15 & 272 &   9 & 280\\\\\n",
       "\tCTCF-SatelliteElement &  14 & 181 &   8 & 245\\\\\n",
       "\tOct2 &  10 & 279 &   5 & 279\\\\\n",
       "\tNFY &   9 & 300 &  66 & 286\\\\\n",
       "\tPAX3:FKHR-fusion &   2 & 251 &  14 & 224\\\\\n",
       "\tDMRT1 &   0 & 300 &   0 & 300\\\\\n",
       "\tDMRT6 &   0 & 300 &   0 & 300\\\\\n",
       "\\end{tabular}\n"
      ],
      "text/markdown": [
       "\n",
       "A matrix: 21 × 4 of type dbl\n",
       "\n",
       "| <!--/--> | Log10_Male_OC | Log10_Male_CO | Log10_Female_OC | Log10_Female_CO |\n",
       "|---|---|---|---|---|\n",
       "| AP-2gamma | 220 |   2 |  81 |   0 |\n",
       "| AP-2alpha | 205 |   1 |  75 |   0 |\n",
       "| Sox2 | 101 |   2 |  62 |   0 |\n",
       "| Sox3 |  90 |   0 |  36 |   0 |\n",
       "| OCT4-SOX2-TCF-NANOG |  90 |   7 | 102 |   8 |\n",
       "| Sox21 |  87 |   3 |  42 |   0 |\n",
       "| Sox6 |  67 |   2 |  36 |   3 |\n",
       "| Sox17 |  66 |   6 |  43 |   6 |\n",
       "| Sox15 |  59 |   1 |  34 |   2 |\n",
       "| Zic2 |  58 |   0 |  38 |   0 |\n",
       "| CTCF |  55 | 165 |  23 | 257 |\n",
       "| Brn1 |  40 | 300 |  53 | 300 |\n",
       "| Oct6 |  30 | 278 |  34 | 275 |\n",
       "| Oct4 |  26 | 235 |  34 | 235 |\n",
       "| Oct11 |  15 | 272 |   9 | 280 |\n",
       "| CTCF-SatelliteElement |  14 | 181 |   8 | 245 |\n",
       "| Oct2 |  10 | 279 |   5 | 279 |\n",
       "| NFY |   9 | 300 |  66 | 286 |\n",
       "| PAX3:FKHR-fusion |   2 | 251 |  14 | 224 |\n",
       "| DMRT1 |   0 | 300 |   0 | 300 |\n",
       "| DMRT6 |   0 | 300 |   0 | 300 |\n",
       "\n"
      ],
      "text/plain": [
       "                      Log10_Male_OC Log10_Male_CO Log10_Female_OC\n",
       "AP-2gamma             220             2            81            \n",
       "AP-2alpha             205             1            75            \n",
       "Sox2                  101             2            62            \n",
       "Sox3                   90             0            36            \n",
       "OCT4-SOX2-TCF-NANOG    90             7           102            \n",
       "Sox21                  87             3            42            \n",
       "Sox6                   67             2            36            \n",
       "Sox17                  66             6            43            \n",
       "Sox15                  59             1            34            \n",
       "Zic2                   58             0            38            \n",
       "CTCF                   55           165            23            \n",
       "Brn1                   40           300            53            \n",
       "Oct6                   30           278            34            \n",
       "Oct4                   26           235            34            \n",
       "Oct11                  15           272             9            \n",
       "CTCF-SatelliteElement  14           181             8            \n",
       "Oct2                   10           279             5            \n",
       "NFY                     9           300            66            \n",
       "PAX3:FKHR-fusion        2           251            14            \n",
       "DMRT1                   0           300             0            \n",
       "DMRT6                   0           300             0            \n",
       "                      Log10_Female_CO\n",
       "AP-2gamma               0            \n",
       "AP-2alpha               0            \n",
       "Sox2                    0            \n",
       "Sox3                    0            \n",
       "OCT4-SOX2-TCF-NANOG     8            \n",
       "Sox21                   0            \n",
       "Sox6                    3            \n",
       "Sox17                   6            \n",
       "Sox15                   2            \n",
       "Zic2                    0            \n",
       "CTCF                  257            \n",
       "Brn1                  300            \n",
       "Oct6                  275            \n",
       "Oct4                  235            \n",
       "Oct11                 280            \n",
       "CTCF-SatelliteElement 245            \n",
       "Oct2                  279            \n",
       "NFY                   286            \n",
       "PAX3:FKHR-fusion      224            \n",
       "DMRT1                 300            \n",
       "DMRT6                 300            "
      ]
     },
     "metadata": {},
     "output_type": "display_data"
    }
   ],
   "source": [
    "all <- full_join(males, females, by = c(\"Motif_Name\"))\n",
    "all <- filter(all, Motif_Name %in% all_tops)\n",
    "#all <- all[rowSums(all[,2:5])>0,]\n",
    "all$Motif_Name <- gsub(\"\\\\(.*\", \"\",all$Motif_Name)\n",
    "all\n",
    "rownames(all) <- NULL\n",
    "matrix <- column_to_rownames(all, \"Motif_Name\")\n",
    "matrix <- as.matrix(matrix)\n",
    "table(is.na(matrix))\n",
    "matrix"
   ]
  },
  {
   "cell_type": "code",
   "execution_count": 27,
   "id": "6e2148e5-325e-48fe-8fa5-58ca1d71224e",
   "metadata": {},
   "outputs": [
    {
     "data": {
      "image/png": "[encoded data removed]",
      "text/plain": [
       "Plot with title “Color Key”"
      ]
     },
     "metadata": {
      "image/png": {
       "height": 300,
       "width": 360
      }
     },
     "output_type": "display_data"
    },
    {
     "data": {
      "text/html": [
       "<strong>pdf:</strong> 2"
      ],
      "text/latex": [
       "\\textbf{pdf:} 2"
      ],
      "text/markdown": [
       "**pdf:** 2"
      ],
      "text/plain": [
       "pdf \n",
       "  2 "
      ]
     },
     "metadata": {},
     "output_type": "display_data"
    },
    {
     "data": {
      "image/png": "[encoded data removed]",
      "text/plain": [
       "plot without title"
      ]
     },
     "metadata": {
      "image/png": {
       "height": 300,
       "width": 360
      }
     },
     "output_type": "display_data"
    }
   ],
   "source": [
    "options(repr.plot.width = 6, repr.plot.height = 5)\n",
    "my_palette <- colorRampPalette(c(\"white\", \"#4F2D87\"))(n = 8)\n",
    "heatmap.2(matrix, \n",
    "          trace = \"none\", \n",
    "          scale = \"none\", \n",
    "          col = my_palette, \n",
    "          density.info=\"none\",\n",
    "          margins =c(12,12),\n",
    "          dendrogram = \"col\")\n",
    "\n",
    "p1 <- pheatmap(matrix, scale = \"none\", color = my_palette, cluster_rows = T, cutree_cols = 2, cutree_rows = 2 )\n",
    "\n",
    "pdf(file = 'Motif_Matrix_Top10.pdf', width = 6, height = 5)\n",
    "p1\n",
    "dev.off()"
   ]
  },
  {
   "cell_type": "code",
   "execution_count": null,
   "id": "3f3bc451-7eac-4192-90bd-51ae0df8ed13",
   "metadata": {},
   "outputs": [],
   "source": [
    "save_pheatmap_pdf <- function(x, filename, width=7, height=7) {\n",
    "   stopifnot(!missing(x))\n",
    "   stopifnot(!missing(filename))\n",
    "   pdf(filename, width=width, height=height)\n",
    "   grid::grid.newpage()\n",
    "   grid::grid.draw(x$gtable)\n",
    "   dev.off()\n",
    "}\n",
    "save_pheatmap_pdf(xx, \"test.pdf\")\n"
   ]
  }
 ],
 "metadata": {
  "kernelspec": {
   "display_name": "R",
   "language": "R",
   "name": "ir"
  },
  "language_info": {
   "codemirror_mode": "r",
   "file_extension": ".r",
   "mimetype": "text/x-r-source",
   "name": "R",
   "pygments_lexer": "r",
   "version": "4.3.3"
  }
 },
 "nbformat": 4,
 "nbformat_minor": 5
}
