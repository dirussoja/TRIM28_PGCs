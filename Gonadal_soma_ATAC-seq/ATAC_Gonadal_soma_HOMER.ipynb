{
 "cells": [
  {
   "cell_type": "code",
   "execution_count": 1,
   "id": "3e2966c7-146b-43a9-b4f2-814a7dac0c3a",
   "metadata": {
    "scrolled": true,
    "vscode": {
     "languageId": "r"
    }
   },
   "outputs": [
    {
     "name": "stderr",
     "output_type": "stream",
     "text": [
      "── \u001b[1mAttaching core tidyverse packages\u001b[22m ────────────────────────────────── tidyverse 2.0.0 ──\n",
      "\u001b[32m✔\u001b[39m \u001b[34mdplyr    \u001b[39m 1.1.4     \u001b[32m✔\u001b[39m \u001b[34mreadr    \u001b[39m 2.1.5\n",
      "\u001b[32m✔\u001b[39m \u001b[34mforcats  \u001b[39m 1.0.0     \u001b[32m✔\u001b[39m \u001b[34mstringr  \u001b[39m 1.5.1\n",
      "\u001b[32m✔\u001b[39m \u001b[34mggplot2  \u001b[39m 3.5.1     \u001b[32m✔\u001b[39m \u001b[34mtibble   \u001b[39m 3.2.1\n",
      "\u001b[32m✔\u001b[39m \u001b[34mlubridate\u001b[39m 1.9.3     \u001b[32m✔\u001b[39m \u001b[34mtidyr    \u001b[39m 1.3.1\n",
      "\u001b[32m✔\u001b[39m \u001b[34mpurrr    \u001b[39m 1.0.2     \n",
      "── \u001b[1mConflicts\u001b[22m ──────────────────────────────────────────────────── tidyverse_conflicts() ──\n",
      "\u001b[31m✖\u001b[39m \u001b[34mdplyr\u001b[39m::\u001b[32mfilter()\u001b[39m masks \u001b[34mstats\u001b[39m::filter()\n",
      "\u001b[31m✖\u001b[39m \u001b[34mdplyr\u001b[39m::\u001b[32mlag()\u001b[39m    masks \u001b[34mstats\u001b[39m::lag()\n",
      "\u001b[36mℹ\u001b[39m Use the conflicted package (\u001b[3m\u001b[34m<http://conflicted.r-lib.org/>\u001b[39m\u001b[23m) to force all conflicts to become errors\n",
      "\n",
      "Attaching package: ‘reshape2’\n",
      "\n",
      "\n",
      "The following object is masked from ‘package:tidyr’:\n",
      "\n",
      "    smiths\n",
      "\n",
      "\n",
      "\n",
      "Attaching package: ‘gplots’\n",
      "\n",
      "\n",
      "The following object is masked from ‘package:stats’:\n",
      "\n",
      "    lowess\n",
      "\n",
      "\n"
     ]
    }
   ],
   "source": [
    "library(tidyverse)\n",
    "library(pheatmap)\n",
    "library(ggplot2)\n",
    "library(reshape2)\n",
    "library(gplots)\n",
    "#\n",
    "options(digits=15)"
   ]
  },
  {
   "cell_type": "code",
   "execution_count": 11,
   "id": "7e483939-3aac-4214-a968-f19a2ad1fd23",
   "metadata": {
    "vscode": {
     "languageId": "r"
    }
   },
   "outputs": [
    {
     "data": {
      "text/html": [
       "1006"
      ],
      "text/latex": [
       "1006"
      ],
      "text/markdown": [
       "1006"
      ],
      "text/plain": [
       "[1] 1006"
      ]
     },
     "metadata": {},
     "output_type": "display_data"
    },
    {
     "data": {
      "text/html": [
       "440"
      ],
      "text/latex": [
       "440"
      ],
      "text/markdown": [
       "440"
      ],
      "text/plain": [
       "[1] 440"
      ]
     },
     "metadata": {},
     "output_type": "display_data"
    }
   ],
   "source": [
    "keep <- c(1,3,4,5)\n",
    "cols <- c(\"Motif_Name\", \"p_value\", \"Log_p\", \"q_value\")\n",
    "#\n",
    "Male_OC <- read.delim(file = 'Motifs/M_OC/knownResults.txt', header = T, sep = \"\\t\")\n",
    "Male_OC <- Male_OC[,keep]\n",
    "colnames(Male_OC) <- cols\n",
    "Male_OC$log10 <- -log10(Male_OC$p_value)\n",
    "Male_OC$log10 <- ifelse(Male_OC$log10 == Inf, \"300\", Male_OC$log10)\n",
    "Male_OC$Condition <- c(\"OC\")\n",
    "Male_OC$Sex <- c(\"Male\")\n",
    "Male_OC$log10 <- as.numeric(Male_OC$log10)\n",
    "Male_OC_tops <- Male_OC[1:10,]$Motif_Name\n",
    "\n",
    "nrow(Male_OC)\n",
    "#\n",
    "Male_CO <- read.delim(file = 'Motifs/M_CO/knownResults.txt', header = T, sep = \"\\t\", dec = )\n",
    "Male_CO <- Male_CO[,keep]\n",
    "colnames(Male_CO) <- cols\n",
    "Male_CO$log10 <- -log10(Male_CO$p_value)\n",
    "Male_CO$log10 <- ifelse(Male_CO$log10 == Inf, \"300\", Male_CO$log10) \n",
    "Male_CO$Condition <- c(\"CO\")\n",
    "Male_CO$Sex <- c(\"Male\")\n",
    "Male_CO$log10 <- as.numeric(Male_CO$log10)\n",
    "Male_CO_tops <- Male_CO[1:10,]$Motif_Name\n",
    "\n",
    "nrow(Male_CO)\n",
    "\n",
    "male_tops <- c(Male_OC_tops, Male_CO_tops)"
   ]
  },
  {
   "cell_type": "code",
   "execution_count": 12,
   "id": "0fa97491-fc0e-4980-af30-f0fc4dd830cf",
   "metadata": {
    "vscode": {
     "languageId": "r"
    }
   },
   "outputs": [],
   "source": [
    "keep <- c(1,3,4,5)\n",
    "cols <- c(\"Motif_Name\", \"p_value\", \"Log_p\", \"q_value\")\n",
    "#\n",
    "Female_OC <- read.delim(file = 'Motifs/F_OC/knownResults.txt', header = T, sep = \"\\t\")\n",
    "Female_OC <- Female_OC[,keep]\n",
    "colnames(Female_OC) <- cols\n",
    "Female_OC$log10 <- -log10(Female_OC$p_value)\n",
    "Female_OC$log10 <- ifelse(Female_OC$log10 == Inf, \"300\", Female_OC$log10)\n",
    "Female_OC$Condition <- c(\"OC\")\n",
    "Female_OC$Sex <- c(\"Female\")\n",
    "Female_OC$log10 <- as.numeric(Female_OC$log10)\n",
    "Female_OC_tops <- Female_OC[1:10,]$Motif_Name\n",
    "#\n",
    "Female_CO <- read.delim(file = 'Motifs/F_CO/knownResults.txt', header = T, sep = \"\\t\", dec = )\n",
    "Female_CO <- Female_CO[,keep]\n",
    "colnames(Female_CO) <- cols\n",
    "Female_CO$log10 <- -log10(Female_CO$p_value)\n",
    "Female_CO$log10 <- ifelse(Female_CO$log10 == Inf, \"300\", Female_CO$log10) \n",
    "Female_CO$Condition <- c(\"CO\")\n",
    "Female_CO$Sex <- c(\"Female\")\n",
    "Female_CO$log10 <- as.numeric(Female_CO$log10)\n",
    "Female_CO_tops <- Female_CO[1:10,]$Motif_Name\n",
    "#\n",
    "female_tops <- c(Female_OC_tops, Female_CO_tops)"
   ]
  },
  {
   "cell_type": "code",
   "execution_count": 13,
   "id": "bbc5bc9c-dd02-42d3-b968-b0f289a91360",
   "metadata": {
    "vscode": {
     "languageId": "r"
    }
   },
   "outputs": [
    {
     "data": {
      "text/html": [
       "<style>\n",
       ".list-inline {list-style: none; margin:0; padding: 0}\n",
       ".list-inline>li {display: inline-block}\n",
       ".list-inline>li:not(:last-child)::after {content: \"\\00b7\"; padding: 0 .5ex}\n",
       "</style>\n",
       "<ol class=list-inline><li>'CTCF(Zf)/CD4+-CTCF-ChIP-Seq(Barski_et_al.)/Homer'</li><li>'BORIS(Zf)/K562-CTCFL-ChIP-Seq(GSE32465)/Homer'</li><li>'Hoxc9(Homeobox)/Ainv15-Hoxc9-ChIP-Seq(GSE21812)/Homer'</li><li>'PBX2(Homeobox)/K562-PBX2-ChIP-Seq(Encode)/Homer'</li><li>'HOXA9(Homeobox)/HSC-Hoxa9-ChIP-Seq(GSE33509)/Homer'</li><li>'CTCF-SatelliteElement(Zf?)/CD4+-CTCF-ChIP-Seq(Barski_et_al.)/Homer'</li><li>'COUP-TFII(NR)/Artia-Nr2f2-ChIP-Seq(GSE46497)/Homer'</li><li>'Pdx1(Homeobox)/Islet-Pdx1-ChIP-Seq(SRA008281)/Homer'</li><li>'LIN-39(Homeobox)/cElegans.L3-LIN39-ChIP-Seq(modEncode)/Homer'</li><li>'CDX4(Homeobox)/ZebrafishEmbryos-Cdx4.Myc-ChIP-Seq(GSE48254)/Homer'</li><li>'Nr5a2(NR)/Pancreas-LRH1-ChIP-Seq(GSE34295)/Homer'</li><li>'Nr5a2(NR)/mES-Nr5a2-ChIP-Seq(GSE19019)/Homer'</li><li>'SF1(NR)/H295R-Nr5a1-ChIP-Seq(GSE44220)/Homer'</li><li>'ERRg(NR)/Kidney-ESRRG-ChIP-Seq(GSE104905)/Homer'</li><li>'Esrrb(NR)/mES-Esrrb-ChIP-Seq(GSE11431)/Homer'</li><li>'DMRT1(DM)/Testis-DMRT1-ChIP-Seq(GSE64892)/Homer'</li><li>'DMRT6(DM)/Testis-DMRT6-ChIP-Seq(GSE60440)/Homer'</li><li>'Erra(NR)/HepG2-Erra-ChIP-Seq(GSE31477)/Homer'</li><li>'EAR2(NR)/K562-NR2F6-ChIP-Seq(Encode)/Homer'</li><li>'COUP-TFII(NR)/K562-NR2F1-ChIP-Seq(Encode)/Homer'</li><li>'TEAD1(TEAD)/HepG2-TEAD1-ChIP-Seq(Encode)/Homer'</li></ol>\n"
      ],
      "text/latex": [
       "\\begin{enumerate*}\n",
       "\\item 'CTCF(Zf)/CD4+-CTCF-ChIP-Seq(Barski\\_et\\_al.)/Homer'\n",
       "\\item 'BORIS(Zf)/K562-CTCFL-ChIP-Seq(GSE32465)/Homer'\n",
       "\\item 'Hoxc9(Homeobox)/Ainv15-Hoxc9-ChIP-Seq(GSE21812)/Homer'\n",
       "\\item 'PBX2(Homeobox)/K562-PBX2-ChIP-Seq(Encode)/Homer'\n",
       "\\item 'HOXA9(Homeobox)/HSC-Hoxa9-ChIP-Seq(GSE33509)/Homer'\n",
       "\\item 'CTCF-SatelliteElement(Zf?)/CD4+-CTCF-ChIP-Seq(Barski\\_et\\_al.)/Homer'\n",
       "\\item 'COUP-TFII(NR)/Artia-Nr2f2-ChIP-Seq(GSE46497)/Homer'\n",
       "\\item 'Pdx1(Homeobox)/Islet-Pdx1-ChIP-Seq(SRA008281)/Homer'\n",
       "\\item 'LIN-39(Homeobox)/cElegans.L3-LIN39-ChIP-Seq(modEncode)/Homer'\n",
       "\\item 'CDX4(Homeobox)/ZebrafishEmbryos-Cdx4.Myc-ChIP-Seq(GSE48254)/Homer'\n",
       "\\item 'Nr5a2(NR)/Pancreas-LRH1-ChIP-Seq(GSE34295)/Homer'\n",
       "\\item 'Nr5a2(NR)/mES-Nr5a2-ChIP-Seq(GSE19019)/Homer'\n",
       "\\item 'SF1(NR)/H295R-Nr5a1-ChIP-Seq(GSE44220)/Homer'\n",
       "\\item 'ERRg(NR)/Kidney-ESRRG-ChIP-Seq(GSE104905)/Homer'\n",
       "\\item 'Esrrb(NR)/mES-Esrrb-ChIP-Seq(GSE11431)/Homer'\n",
       "\\item 'DMRT1(DM)/Testis-DMRT1-ChIP-Seq(GSE64892)/Homer'\n",
       "\\item 'DMRT6(DM)/Testis-DMRT6-ChIP-Seq(GSE60440)/Homer'\n",
       "\\item 'Erra(NR)/HepG2-Erra-ChIP-Seq(GSE31477)/Homer'\n",
       "\\item 'EAR2(NR)/K562-NR2F6-ChIP-Seq(Encode)/Homer'\n",
       "\\item 'COUP-TFII(NR)/K562-NR2F1-ChIP-Seq(Encode)/Homer'\n",
       "\\item 'TEAD1(TEAD)/HepG2-TEAD1-ChIP-Seq(Encode)/Homer'\n",
       "\\end{enumerate*}\n"
      ],
      "text/markdown": [
       "1. 'CTCF(Zf)/CD4+-CTCF-ChIP-Seq(Barski_et_al.)/Homer'\n",
       "2. 'BORIS(Zf)/K562-CTCFL-ChIP-Seq(GSE32465)/Homer'\n",
       "3. 'Hoxc9(Homeobox)/Ainv15-Hoxc9-ChIP-Seq(GSE21812)/Homer'\n",
       "4. 'PBX2(Homeobox)/K562-PBX2-ChIP-Seq(Encode)/Homer'\n",
       "5. 'HOXA9(Homeobox)/HSC-Hoxa9-ChIP-Seq(GSE33509)/Homer'\n",
       "6. 'CTCF-SatelliteElement(Zf?)/CD4+-CTCF-ChIP-Seq(Barski_et_al.)/Homer'\n",
       "7. 'COUP-TFII(NR)/Artia-Nr2f2-ChIP-Seq(GSE46497)/Homer'\n",
       "8. 'Pdx1(Homeobox)/Islet-Pdx1-ChIP-Seq(SRA008281)/Homer'\n",
       "9. 'LIN-39(Homeobox)/cElegans.L3-LIN39-ChIP-Seq(modEncode)/Homer'\n",
       "10. 'CDX4(Homeobox)/ZebrafishEmbryos-Cdx4.Myc-ChIP-Seq(GSE48254)/Homer'\n",
       "11. 'Nr5a2(NR)/Pancreas-LRH1-ChIP-Seq(GSE34295)/Homer'\n",
       "12. 'Nr5a2(NR)/mES-Nr5a2-ChIP-Seq(GSE19019)/Homer'\n",
       "13. 'SF1(NR)/H295R-Nr5a1-ChIP-Seq(GSE44220)/Homer'\n",
       "14. 'ERRg(NR)/Kidney-ESRRG-ChIP-Seq(GSE104905)/Homer'\n",
       "15. 'Esrrb(NR)/mES-Esrrb-ChIP-Seq(GSE11431)/Homer'\n",
       "16. 'DMRT1(DM)/Testis-DMRT1-ChIP-Seq(GSE64892)/Homer'\n",
       "17. 'DMRT6(DM)/Testis-DMRT6-ChIP-Seq(GSE60440)/Homer'\n",
       "18. 'Erra(NR)/HepG2-Erra-ChIP-Seq(GSE31477)/Homer'\n",
       "19. 'EAR2(NR)/K562-NR2F6-ChIP-Seq(Encode)/Homer'\n",
       "20. 'COUP-TFII(NR)/K562-NR2F1-ChIP-Seq(Encode)/Homer'\n",
       "21. 'TEAD1(TEAD)/HepG2-TEAD1-ChIP-Seq(Encode)/Homer'\n",
       "\n",
       "\n"
      ],
      "text/plain": [
       " [1] \"CTCF(Zf)/CD4+-CTCF-ChIP-Seq(Barski_et_al.)/Homer\"                  \n",
       " [2] \"BORIS(Zf)/K562-CTCFL-ChIP-Seq(GSE32465)/Homer\"                     \n",
       " [3] \"Hoxc9(Homeobox)/Ainv15-Hoxc9-ChIP-Seq(GSE21812)/Homer\"             \n",
       " [4] \"PBX2(Homeobox)/K562-PBX2-ChIP-Seq(Encode)/Homer\"                   \n",
       " [5] \"HOXA9(Homeobox)/HSC-Hoxa9-ChIP-Seq(GSE33509)/Homer\"                \n",
       " [6] \"CTCF-SatelliteElement(Zf?)/CD4+-CTCF-ChIP-Seq(Barski_et_al.)/Homer\"\n",
       " [7] \"COUP-TFII(NR)/Artia-Nr2f2-ChIP-Seq(GSE46497)/Homer\"                \n",
       " [8] \"Pdx1(Homeobox)/Islet-Pdx1-ChIP-Seq(SRA008281)/Homer\"               \n",
       " [9] \"LIN-39(Homeobox)/cElegans.L3-LIN39-ChIP-Seq(modEncode)/Homer\"      \n",
       "[10] \"CDX4(Homeobox)/ZebrafishEmbryos-Cdx4.Myc-ChIP-Seq(GSE48254)/Homer\" \n",
       "[11] \"Nr5a2(NR)/Pancreas-LRH1-ChIP-Seq(GSE34295)/Homer\"                  \n",
       "[12] \"Nr5a2(NR)/mES-Nr5a2-ChIP-Seq(GSE19019)/Homer\"                      \n",
       "[13] \"SF1(NR)/H295R-Nr5a1-ChIP-Seq(GSE44220)/Homer\"                      \n",
       "[14] \"ERRg(NR)/Kidney-ESRRG-ChIP-Seq(GSE104905)/Homer\"                   \n",
       "[15] \"Esrrb(NR)/mES-Esrrb-ChIP-Seq(GSE11431)/Homer\"                      \n",
       "[16] \"DMRT1(DM)/Testis-DMRT1-ChIP-Seq(GSE64892)/Homer\"                   \n",
       "[17] \"DMRT6(DM)/Testis-DMRT6-ChIP-Seq(GSE60440)/Homer\"                   \n",
       "[18] \"Erra(NR)/HepG2-Erra-ChIP-Seq(GSE31477)/Homer\"                      \n",
       "[19] \"EAR2(NR)/K562-NR2F6-ChIP-Seq(Encode)/Homer\"                        \n",
       "[20] \"COUP-TFII(NR)/K562-NR2F1-ChIP-Seq(Encode)/Homer\"                   \n",
       "[21] \"TEAD1(TEAD)/HepG2-TEAD1-ChIP-Seq(Encode)/Homer\"                    "
      ]
     },
     "metadata": {},
     "output_type": "display_data"
    },
    {
     "data": {
      "text/html": [
       "1006"
      ],
      "text/latex": [
       "1006"
      ],
      "text/markdown": [
       "1006"
      ],
      "text/plain": [
       "[1] 1006"
      ]
     },
     "metadata": {},
     "output_type": "display_data"
    },
    {
     "data": {
      "text/html": [
       "<table class=\"dataframe\">\n",
       "<caption>A data.frame: 1006 × 2</caption>\n",
       "<thead>\n",
       "\t<tr><th scope=col>Motif_Name</th><th scope=col>log10</th></tr>\n",
       "\t<tr><th scope=col>&lt;chr&gt;</th><th scope=col>&lt;dbl&gt;</th></tr>\n",
       "</thead>\n",
       "<tbody>\n",
       "\t<tr><td>CTCF(Zf)/CD4+-CTCF-ChIP-Seq(Barski_et_al.)/Homer                  </td><td>300</td></tr>\n",
       "\t<tr><td>BORIS(Zf)/K562-CTCFL-ChIP-Seq(GSE32465)/Homer                     </td><td>300</td></tr>\n",
       "\t<tr><td>Hoxc9(Homeobox)/Ainv15-Hoxc9-ChIP-Seq(GSE21812)/Homer             </td><td>300</td></tr>\n",
       "\t<tr><td>PBX2(Homeobox)/K562-PBX2-ChIP-Seq(Encode)/Homer                   </td><td>300</td></tr>\n",
       "\t<tr><td>HOXA9(Homeobox)/HSC-Hoxa9-ChIP-Seq(GSE33509)/Homer                </td><td>297</td></tr>\n",
       "\t<tr><td>CTCF-SatelliteElement(Zf?)/CD4+-CTCF-ChIP-Seq(Barski_et_al.)/Homer</td><td>183</td></tr>\n",
       "\t<tr><td>COUP-TFII(NR)/Artia-Nr2f2-ChIP-Seq(GSE46497)/Homer                </td><td>168</td></tr>\n",
       "\t<tr><td>Pdx1(Homeobox)/Islet-Pdx1-ChIP-Seq(SRA008281)/Homer               </td><td>157</td></tr>\n",
       "\t<tr><td>LIN-39(Homeobox)/cElegans.L3-LIN39-ChIP-Seq(modEncode)/Homer      </td><td>152</td></tr>\n",
       "\t<tr><td>CDX4(Homeobox)/ZebrafishEmbryos-Cdx4.Myc-ChIP-Seq(GSE48254)/Homer </td><td>130</td></tr>\n",
       "\t<tr><td>HOXA1(Homeobox)/mES-Hoxa1-ChIP-Seq(SRP084292)/Homer               </td><td>115</td></tr>\n",
       "\t<tr><td>COUP-TFII(NR)/K562-NR2F1-ChIP-Seq(Encode)/Homer                   </td><td>108</td></tr>\n",
       "\t<tr><td>TEAD1(TEAD)/HepG2-TEAD1-ChIP-Seq(Encode)/Homer                    </td><td>103</td></tr>\n",
       "\t<tr><td>EAR2(NR)/K562-NR2F6-ChIP-Seq(Encode)/Homer                        </td><td>102</td></tr>\n",
       "\t<tr><td>Gata6(Zf)/HUG1N-GATA6-ChIP-Seq(GSE51936)/Homer                    </td><td> 99</td></tr>\n",
       "\t<tr><td>GATA3(Zf)/iTreg-Gata3-ChIP-Seq(GSE20898)/Homer                    </td><td> 96</td></tr>\n",
       "\t<tr><td>Gata4(Zf)/Heart-Gata4-ChIP-Seq(GSE35151)/Homer                    </td><td> 92</td></tr>\n",
       "\t<tr><td>Gata2(Zf)/K562-GATA2-ChIP-Seq(GSE18829)/Homer                     </td><td> 90</td></tr>\n",
       "\t<tr><td>Gata1(Zf)/K562-GATA1-ChIP-Seq(GSE18829)/Homer                     </td><td> 90</td></tr>\n",
       "\t<tr><td>caudal(Homeobox)/Drosophila-Embryos-ChIP-Chip(modEncode)/Homer    </td><td> 87</td></tr>\n",
       "\t<tr><td>TEAD(TEA)/Fibroblast-PU.1-ChIP-Seq(Unpublished)/Homer             </td><td> 87</td></tr>\n",
       "\t<tr><td>TEAD4(TEA)/Tropoblast-Tead4-ChIP-Seq(GSE37350)/Homer              </td><td> 87</td></tr>\n",
       "\t<tr><td>HOXA2(Homeobox)/mES-Hoxa2-ChIP-Seq(Donaldson_et_al.)/Homer        </td><td> 82</td></tr>\n",
       "\t<tr><td>TEAD3(TEA)/HepG2-TEAD3-ChIP-Seq(Encode)/Homer                     </td><td> 80</td></tr>\n",
       "\t<tr><td>Cdx2(Homeobox)/mES-Cdx2-ChIP-Seq(GSE14586)/Homer                  </td><td> 79</td></tr>\n",
       "\t<tr><td>TEAD2(TEA)/Py2T-Tead2-ChIP-Seq(GSE55709)/Homer                    </td><td> 74</td></tr>\n",
       "\t<tr><td>WT1(Zf)/Kidney-WT1-ChIP-Seq(GSE90016)/Homer                       </td><td> 73</td></tr>\n",
       "\t<tr><td>Hoxb4(Homeobox)/ES-Hoxb4-ChIP-Seq(GSE34014)/Homer                 </td><td> 70</td></tr>\n",
       "\t<tr><td>Esrrb(NR)/mES-Esrrb-ChIP-Seq(GSE11431)/Homer                      </td><td> 64</td></tr>\n",
       "\t<tr><td>TRPS1(Zf)/MCF7-TRPS1-ChIP-Seq(GSE107013)/Homer                    </td><td> 63</td></tr>\n",
       "\t<tr><td>⋮</td><td>⋮</td></tr>\n",
       "\t<tr><td>MYB63(MYB)/col-MYB63-DAP-Seq(GSE60143)/Homer               </td><td>0</td></tr>\n",
       "\t<tr><td>LHY(Myb)/Seedling-LHY-ChIP-Seq(GSE52175)/Homer             </td><td>0</td></tr>\n",
       "\t<tr><td>ZML2(C2C2gata)/col-ZML2-DAP-Seq(GSE60143)/Homer            </td><td>0</td></tr>\n",
       "\t<tr><td>MYB4(MYB)/col200-MYB4-DAP-Seq(GSE60143)/Homer              </td><td>0</td></tr>\n",
       "\t<tr><td>MYB74(MYB)/colamp-MYB74-DAP-Seq(GSE60143)/Homer            </td><td>0</td></tr>\n",
       "\t<tr><td>MYB17(MYB)/colamp-MYB17-DAP-Seq(GSE60143)/Homer            </td><td>0</td></tr>\n",
       "\t<tr><td>MYB92(MYB)/colamp-MYB92-DAP-Seq(GSE60143)/Homer            </td><td>0</td></tr>\n",
       "\t<tr><td>AT3G10113(MYBrelated)/col-AT3G10113-DAP-Seq(GSE60143)/Homer</td><td>0</td></tr>\n",
       "\t<tr><td>At3g24120(G2like)/col-At3g24120-DAP-Seq(GSE60143)/Homer    </td><td>0</td></tr>\n",
       "\t<tr><td>MYB51(MYB)/col-MYB51-DAP-Seq(GSE60143)/Homer               </td><td>0</td></tr>\n",
       "\t<tr><td>RVE1(MYBrelated)/col-RVE1-DAP-Seq(GSE60143)/Homer          </td><td>0</td></tr>\n",
       "\t<tr><td>AT5G45580(G2like)/colamp-AT5G45580-DAP-Seq(GSE60143)/Homer </td><td>0</td></tr>\n",
       "\t<tr><td>Slug(Zf)/Mesoderm-Snai2-ChIP-Seq(GSE61475)/Homer           </td><td>0</td></tr>\n",
       "\t<tr><td>HSF3(HSF)/colamp-HSF3-DAP-Seq(GSE60143)/Homer              </td><td>0</td></tr>\n",
       "\t<tr><td>ATY19(MYB)/col-ATY19-DAP-Seq(GSE60143)/Homer               </td><td>0</td></tr>\n",
       "\t<tr><td>MYB99(MYB)/colamp-MYB99-DAP-Seq(GSE60143)/Homer            </td><td>0</td></tr>\n",
       "\t<tr><td>BPC6(BBRBPC)/col-BPC6-DAP-Seq(GSE60143)/Homer              </td><td>0</td></tr>\n",
       "\t<tr><td>MYB83(MYB)/colamp-MYB83-DAP-Seq(GSE60143)/Homer            </td><td>0</td></tr>\n",
       "\t<tr><td>At2g01060(G2like)/colamp-At2g01060-DAP-Seq(GSE60143)/Homer </td><td>0</td></tr>\n",
       "\t<tr><td>E2A(bHLH),near_PU.1/Bcell-PU.1-ChIP-Seq(GSE21512)/Homer    </td><td>0</td></tr>\n",
       "\t<tr><td>Snail1(Zf)/LS174T-SNAIL1.HA-ChIP-Seq(GSE127183)/Homer      </td><td>0</td></tr>\n",
       "\t<tr><td>ZEB1(Zf)/PDAC-ZEB1-ChIP-Seq(GSE64557)/Homer                </td><td>0</td></tr>\n",
       "\t<tr><td>ZEB2(Zf)/SNU398-ZEB2-ChIP-Seq(GSE103048)/Homer             </td><td>0</td></tr>\n",
       "\t<tr><td>ZFP3(Zf)/HEK293-ZFP3.GFP-ChIP-Seq(GSE58341)/Homer          </td><td>0</td></tr>\n",
       "\t<tr><td>Zelda(Zf)/Embryo-zld-ChIP-Seq(GSE65441)/Homer              </td><td>0</td></tr>\n",
       "\t<tr><td>AT4G12670(MYBrelated)/col-AT4G12670-DAP-Seq(GSE60143)/Homer</td><td>0</td></tr>\n",
       "\t<tr><td>bZIP42(bZIP)/colamp-bZIP42-DAP-Seq(GSE60143)/Homer         </td><td>0</td></tr>\n",
       "\t<tr><td>NGA4(ABI3VP1)/col-NGA4-DAP-Seq(GSE60143)/Homer             </td><td>0</td></tr>\n",
       "\t<tr><td>REM16(ABI3VP1)/col-REM16-DAP-Seq(GSE60143)/Homer           </td><td>0</td></tr>\n",
       "\t<tr><td>WRKY7(WRKY)/colamp-WRKY7-DAP-Seq(GSE60143)/Homer           </td><td>0</td></tr>\n",
       "</tbody>\n",
       "</table>\n"
      ],
      "text/latex": [
       "A data.frame: 1006 × 2\n",
       "\\begin{tabular}{ll}\n",
       " Motif\\_Name & log10\\\\\n",
       " <chr> & <dbl>\\\\\n",
       "\\hline\n",
       "\t CTCF(Zf)/CD4+-CTCF-ChIP-Seq(Barski\\_et\\_al.)/Homer                   & 300\\\\\n",
       "\t BORIS(Zf)/K562-CTCFL-ChIP-Seq(GSE32465)/Homer                      & 300\\\\\n",
       "\t Hoxc9(Homeobox)/Ainv15-Hoxc9-ChIP-Seq(GSE21812)/Homer              & 300\\\\\n",
       "\t PBX2(Homeobox)/K562-PBX2-ChIP-Seq(Encode)/Homer                    & 300\\\\\n",
       "\t HOXA9(Homeobox)/HSC-Hoxa9-ChIP-Seq(GSE33509)/Homer                 & 297\\\\\n",
       "\t CTCF-SatelliteElement(Zf?)/CD4+-CTCF-ChIP-Seq(Barski\\_et\\_al.)/Homer & 183\\\\\n",
       "\t COUP-TFII(NR)/Artia-Nr2f2-ChIP-Seq(GSE46497)/Homer                 & 168\\\\\n",
       "\t Pdx1(Homeobox)/Islet-Pdx1-ChIP-Seq(SRA008281)/Homer                & 157\\\\\n",
       "\t LIN-39(Homeobox)/cElegans.L3-LIN39-ChIP-Seq(modEncode)/Homer       & 152\\\\\n",
       "\t CDX4(Homeobox)/ZebrafishEmbryos-Cdx4.Myc-ChIP-Seq(GSE48254)/Homer  & 130\\\\\n",
       "\t HOXA1(Homeobox)/mES-Hoxa1-ChIP-Seq(SRP084292)/Homer                & 115\\\\\n",
       "\t COUP-TFII(NR)/K562-NR2F1-ChIP-Seq(Encode)/Homer                    & 108\\\\\n",
       "\t TEAD1(TEAD)/HepG2-TEAD1-ChIP-Seq(Encode)/Homer                     & 103\\\\\n",
       "\t EAR2(NR)/K562-NR2F6-ChIP-Seq(Encode)/Homer                         & 102\\\\\n",
       "\t Gata6(Zf)/HUG1N-GATA6-ChIP-Seq(GSE51936)/Homer                     &  99\\\\\n",
       "\t GATA3(Zf)/iTreg-Gata3-ChIP-Seq(GSE20898)/Homer                     &  96\\\\\n",
       "\t Gata4(Zf)/Heart-Gata4-ChIP-Seq(GSE35151)/Homer                     &  92\\\\\n",
       "\t Gata2(Zf)/K562-GATA2-ChIP-Seq(GSE18829)/Homer                      &  90\\\\\n",
       "\t Gata1(Zf)/K562-GATA1-ChIP-Seq(GSE18829)/Homer                      &  90\\\\\n",
       "\t caudal(Homeobox)/Drosophila-Embryos-ChIP-Chip(modEncode)/Homer     &  87\\\\\n",
       "\t TEAD(TEA)/Fibroblast-PU.1-ChIP-Seq(Unpublished)/Homer              &  87\\\\\n",
       "\t TEAD4(TEA)/Tropoblast-Tead4-ChIP-Seq(GSE37350)/Homer               &  87\\\\\n",
       "\t HOXA2(Homeobox)/mES-Hoxa2-ChIP-Seq(Donaldson\\_et\\_al.)/Homer         &  82\\\\\n",
       "\t TEAD3(TEA)/HepG2-TEAD3-ChIP-Seq(Encode)/Homer                      &  80\\\\\n",
       "\t Cdx2(Homeobox)/mES-Cdx2-ChIP-Seq(GSE14586)/Homer                   &  79\\\\\n",
       "\t TEAD2(TEA)/Py2T-Tead2-ChIP-Seq(GSE55709)/Homer                     &  74\\\\\n",
       "\t WT1(Zf)/Kidney-WT1-ChIP-Seq(GSE90016)/Homer                        &  73\\\\\n",
       "\t Hoxb4(Homeobox)/ES-Hoxb4-ChIP-Seq(GSE34014)/Homer                  &  70\\\\\n",
       "\t Esrrb(NR)/mES-Esrrb-ChIP-Seq(GSE11431)/Homer                       &  64\\\\\n",
       "\t TRPS1(Zf)/MCF7-TRPS1-ChIP-Seq(GSE107013)/Homer                     &  63\\\\\n",
       "\t ⋮ & ⋮\\\\\n",
       "\t MYB63(MYB)/col-MYB63-DAP-Seq(GSE60143)/Homer                & 0\\\\\n",
       "\t LHY(Myb)/Seedling-LHY-ChIP-Seq(GSE52175)/Homer              & 0\\\\\n",
       "\t ZML2(C2C2gata)/col-ZML2-DAP-Seq(GSE60143)/Homer             & 0\\\\\n",
       "\t MYB4(MYB)/col200-MYB4-DAP-Seq(GSE60143)/Homer               & 0\\\\\n",
       "\t MYB74(MYB)/colamp-MYB74-DAP-Seq(GSE60143)/Homer             & 0\\\\\n",
       "\t MYB17(MYB)/colamp-MYB17-DAP-Seq(GSE60143)/Homer             & 0\\\\\n",
       "\t MYB92(MYB)/colamp-MYB92-DAP-Seq(GSE60143)/Homer             & 0\\\\\n",
       "\t AT3G10113(MYBrelated)/col-AT3G10113-DAP-Seq(GSE60143)/Homer & 0\\\\\n",
       "\t At3g24120(G2like)/col-At3g24120-DAP-Seq(GSE60143)/Homer     & 0\\\\\n",
       "\t MYB51(MYB)/col-MYB51-DAP-Seq(GSE60143)/Homer                & 0\\\\\n",
       "\t RVE1(MYBrelated)/col-RVE1-DAP-Seq(GSE60143)/Homer           & 0\\\\\n",
       "\t AT5G45580(G2like)/colamp-AT5G45580-DAP-Seq(GSE60143)/Homer  & 0\\\\\n",
       "\t Slug(Zf)/Mesoderm-Snai2-ChIP-Seq(GSE61475)/Homer            & 0\\\\\n",
       "\t HSF3(HSF)/colamp-HSF3-DAP-Seq(GSE60143)/Homer               & 0\\\\\n",
       "\t ATY19(MYB)/col-ATY19-DAP-Seq(GSE60143)/Homer                & 0\\\\\n",
       "\t MYB99(MYB)/colamp-MYB99-DAP-Seq(GSE60143)/Homer             & 0\\\\\n",
       "\t BPC6(BBRBPC)/col-BPC6-DAP-Seq(GSE60143)/Homer               & 0\\\\\n",
       "\t MYB83(MYB)/colamp-MYB83-DAP-Seq(GSE60143)/Homer             & 0\\\\\n",
       "\t At2g01060(G2like)/colamp-At2g01060-DAP-Seq(GSE60143)/Homer  & 0\\\\\n",
       "\t E2A(bHLH),near\\_PU.1/Bcell-PU.1-ChIP-Seq(GSE21512)/Homer     & 0\\\\\n",
       "\t Snail1(Zf)/LS174T-SNAIL1.HA-ChIP-Seq(GSE127183)/Homer       & 0\\\\\n",
       "\t ZEB1(Zf)/PDAC-ZEB1-ChIP-Seq(GSE64557)/Homer                 & 0\\\\\n",
       "\t ZEB2(Zf)/SNU398-ZEB2-ChIP-Seq(GSE103048)/Homer              & 0\\\\\n",
       "\t ZFP3(Zf)/HEK293-ZFP3.GFP-ChIP-Seq(GSE58341)/Homer           & 0\\\\\n",
       "\t Zelda(Zf)/Embryo-zld-ChIP-Seq(GSE65441)/Homer               & 0\\\\\n",
       "\t AT4G12670(MYBrelated)/col-AT4G12670-DAP-Seq(GSE60143)/Homer & 0\\\\\n",
       "\t bZIP42(bZIP)/colamp-bZIP42-DAP-Seq(GSE60143)/Homer          & 0\\\\\n",
       "\t NGA4(ABI3VP1)/col-NGA4-DAP-Seq(GSE60143)/Homer              & 0\\\\\n",
       "\t REM16(ABI3VP1)/col-REM16-DAP-Seq(GSE60143)/Homer            & 0\\\\\n",
       "\t WRKY7(WRKY)/colamp-WRKY7-DAP-Seq(GSE60143)/Homer            & 0\\\\\n",
       "\\end{tabular}\n"
      ],
      "text/markdown": [
       "\n",
       "A data.frame: 1006 × 2\n",
       "\n",
       "| Motif_Name &lt;chr&gt; | log10 &lt;dbl&gt; |\n",
       "|---|---|\n",
       "| CTCF(Zf)/CD4+-CTCF-ChIP-Seq(Barski_et_al.)/Homer                   | 300 |\n",
       "| BORIS(Zf)/K562-CTCFL-ChIP-Seq(GSE32465)/Homer                      | 300 |\n",
       "| Hoxc9(Homeobox)/Ainv15-Hoxc9-ChIP-Seq(GSE21812)/Homer              | 300 |\n",
       "| PBX2(Homeobox)/K562-PBX2-ChIP-Seq(Encode)/Homer                    | 300 |\n",
       "| HOXA9(Homeobox)/HSC-Hoxa9-ChIP-Seq(GSE33509)/Homer                 | 297 |\n",
       "| CTCF-SatelliteElement(Zf?)/CD4+-CTCF-ChIP-Seq(Barski_et_al.)/Homer | 183 |\n",
       "| COUP-TFII(NR)/Artia-Nr2f2-ChIP-Seq(GSE46497)/Homer                 | 168 |\n",
       "| Pdx1(Homeobox)/Islet-Pdx1-ChIP-Seq(SRA008281)/Homer                | 157 |\n",
       "| LIN-39(Homeobox)/cElegans.L3-LIN39-ChIP-Seq(modEncode)/Homer       | 152 |\n",
       "| CDX4(Homeobox)/ZebrafishEmbryos-Cdx4.Myc-ChIP-Seq(GSE48254)/Homer  | 130 |\n",
       "| HOXA1(Homeobox)/mES-Hoxa1-ChIP-Seq(SRP084292)/Homer                | 115 |\n",
       "| COUP-TFII(NR)/K562-NR2F1-ChIP-Seq(Encode)/Homer                    | 108 |\n",
       "| TEAD1(TEAD)/HepG2-TEAD1-ChIP-Seq(Encode)/Homer                     | 103 |\n",
       "| EAR2(NR)/K562-NR2F6-ChIP-Seq(Encode)/Homer                         | 102 |\n",
       "| Gata6(Zf)/HUG1N-GATA6-ChIP-Seq(GSE51936)/Homer                     |  99 |\n",
       "| GATA3(Zf)/iTreg-Gata3-ChIP-Seq(GSE20898)/Homer                     |  96 |\n",
       "| Gata4(Zf)/Heart-Gata4-ChIP-Seq(GSE35151)/Homer                     |  92 |\n",
       "| Gata2(Zf)/K562-GATA2-ChIP-Seq(GSE18829)/Homer                      |  90 |\n",
       "| Gata1(Zf)/K562-GATA1-ChIP-Seq(GSE18829)/Homer                      |  90 |\n",
       "| caudal(Homeobox)/Drosophila-Embryos-ChIP-Chip(modEncode)/Homer     |  87 |\n",
       "| TEAD(TEA)/Fibroblast-PU.1-ChIP-Seq(Unpublished)/Homer              |  87 |\n",
       "| TEAD4(TEA)/Tropoblast-Tead4-ChIP-Seq(GSE37350)/Homer               |  87 |\n",
       "| HOXA2(Homeobox)/mES-Hoxa2-ChIP-Seq(Donaldson_et_al.)/Homer         |  82 |\n",
       "| TEAD3(TEA)/HepG2-TEAD3-ChIP-Seq(Encode)/Homer                      |  80 |\n",
       "| Cdx2(Homeobox)/mES-Cdx2-ChIP-Seq(GSE14586)/Homer                   |  79 |\n",
       "| TEAD2(TEA)/Py2T-Tead2-ChIP-Seq(GSE55709)/Homer                     |  74 |\n",
       "| WT1(Zf)/Kidney-WT1-ChIP-Seq(GSE90016)/Homer                        |  73 |\n",
       "| Hoxb4(Homeobox)/ES-Hoxb4-ChIP-Seq(GSE34014)/Homer                  |  70 |\n",
       "| Esrrb(NR)/mES-Esrrb-ChIP-Seq(GSE11431)/Homer                       |  64 |\n",
       "| TRPS1(Zf)/MCF7-TRPS1-ChIP-Seq(GSE107013)/Homer                     |  63 |\n",
       "| ⋮ | ⋮ |\n",
       "| MYB63(MYB)/col-MYB63-DAP-Seq(GSE60143)/Homer                | 0 |\n",
       "| LHY(Myb)/Seedling-LHY-ChIP-Seq(GSE52175)/Homer              | 0 |\n",
       "| ZML2(C2C2gata)/col-ZML2-DAP-Seq(GSE60143)/Homer             | 0 |\n",
       "| MYB4(MYB)/col200-MYB4-DAP-Seq(GSE60143)/Homer               | 0 |\n",
       "| MYB74(MYB)/colamp-MYB74-DAP-Seq(GSE60143)/Homer             | 0 |\n",
       "| MYB17(MYB)/colamp-MYB17-DAP-Seq(GSE60143)/Homer             | 0 |\n",
       "| MYB92(MYB)/colamp-MYB92-DAP-Seq(GSE60143)/Homer             | 0 |\n",
       "| AT3G10113(MYBrelated)/col-AT3G10113-DAP-Seq(GSE60143)/Homer | 0 |\n",
       "| At3g24120(G2like)/col-At3g24120-DAP-Seq(GSE60143)/Homer     | 0 |\n",
       "| MYB51(MYB)/col-MYB51-DAP-Seq(GSE60143)/Homer                | 0 |\n",
       "| RVE1(MYBrelated)/col-RVE1-DAP-Seq(GSE60143)/Homer           | 0 |\n",
       "| AT5G45580(G2like)/colamp-AT5G45580-DAP-Seq(GSE60143)/Homer  | 0 |\n",
       "| Slug(Zf)/Mesoderm-Snai2-ChIP-Seq(GSE61475)/Homer            | 0 |\n",
       "| HSF3(HSF)/colamp-HSF3-DAP-Seq(GSE60143)/Homer               | 0 |\n",
       "| ATY19(MYB)/col-ATY19-DAP-Seq(GSE60143)/Homer                | 0 |\n",
       "| MYB99(MYB)/colamp-MYB99-DAP-Seq(GSE60143)/Homer             | 0 |\n",
       "| BPC6(BBRBPC)/col-BPC6-DAP-Seq(GSE60143)/Homer               | 0 |\n",
       "| MYB83(MYB)/colamp-MYB83-DAP-Seq(GSE60143)/Homer             | 0 |\n",
       "| At2g01060(G2like)/colamp-At2g01060-DAP-Seq(GSE60143)/Homer  | 0 |\n",
       "| E2A(bHLH),near_PU.1/Bcell-PU.1-ChIP-Seq(GSE21512)/Homer     | 0 |\n",
       "| Snail1(Zf)/LS174T-SNAIL1.HA-ChIP-Seq(GSE127183)/Homer       | 0 |\n",
       "| ZEB1(Zf)/PDAC-ZEB1-ChIP-Seq(GSE64557)/Homer                 | 0 |\n",
       "| ZEB2(Zf)/SNU398-ZEB2-ChIP-Seq(GSE103048)/Homer              | 0 |\n",
       "| ZFP3(Zf)/HEK293-ZFP3.GFP-ChIP-Seq(GSE58341)/Homer           | 0 |\n",
       "| Zelda(Zf)/Embryo-zld-ChIP-Seq(GSE65441)/Homer               | 0 |\n",
       "| AT4G12670(MYBrelated)/col-AT4G12670-DAP-Seq(GSE60143)/Homer | 0 |\n",
       "| bZIP42(bZIP)/colamp-bZIP42-DAP-Seq(GSE60143)/Homer          | 0 |\n",
       "| NGA4(ABI3VP1)/col-NGA4-DAP-Seq(GSE60143)/Homer              | 0 |\n",
       "| REM16(ABI3VP1)/col-REM16-DAP-Seq(GSE60143)/Homer            | 0 |\n",
       "| WRKY7(WRKY)/colamp-WRKY7-DAP-Seq(GSE60143)/Homer            | 0 |\n",
       "\n"
      ],
      "text/plain": [
       "     Motif_Name                                                         log10\n",
       "1    CTCF(Zf)/CD4+-CTCF-ChIP-Seq(Barski_et_al.)/Homer                   300  \n",
       "2    BORIS(Zf)/K562-CTCFL-ChIP-Seq(GSE32465)/Homer                      300  \n",
       "3    Hoxc9(Homeobox)/Ainv15-Hoxc9-ChIP-Seq(GSE21812)/Homer              300  \n",
       "4    PBX2(Homeobox)/K562-PBX2-ChIP-Seq(Encode)/Homer                    300  \n",
       "5    HOXA9(Homeobox)/HSC-Hoxa9-ChIP-Seq(GSE33509)/Homer                 297  \n",
       "6    CTCF-SatelliteElement(Zf?)/CD4+-CTCF-ChIP-Seq(Barski_et_al.)/Homer 183  \n",
       "7    COUP-TFII(NR)/Artia-Nr2f2-ChIP-Seq(GSE46497)/Homer                 168  \n",
       "8    Pdx1(Homeobox)/Islet-Pdx1-ChIP-Seq(SRA008281)/Homer                157  \n",
       "9    LIN-39(Homeobox)/cElegans.L3-LIN39-ChIP-Seq(modEncode)/Homer       152  \n",
       "10   CDX4(Homeobox)/ZebrafishEmbryos-Cdx4.Myc-ChIP-Seq(GSE48254)/Homer  130  \n",
       "11   HOXA1(Homeobox)/mES-Hoxa1-ChIP-Seq(SRP084292)/Homer                115  \n",
       "12   COUP-TFII(NR)/K562-NR2F1-ChIP-Seq(Encode)/Homer                    108  \n",
       "13   TEAD1(TEAD)/HepG2-TEAD1-ChIP-Seq(Encode)/Homer                     103  \n",
       "14   EAR2(NR)/K562-NR2F6-ChIP-Seq(Encode)/Homer                         102  \n",
       "15   Gata6(Zf)/HUG1N-GATA6-ChIP-Seq(GSE51936)/Homer                      99  \n",
       "16   GATA3(Zf)/iTreg-Gata3-ChIP-Seq(GSE20898)/Homer                      96  \n",
       "17   Gata4(Zf)/Heart-Gata4-ChIP-Seq(GSE35151)/Homer                      92  \n",
       "18   Gata2(Zf)/K562-GATA2-ChIP-Seq(GSE18829)/Homer                       90  \n",
       "19   Gata1(Zf)/K562-GATA1-ChIP-Seq(GSE18829)/Homer                       90  \n",
       "20   caudal(Homeobox)/Drosophila-Embryos-ChIP-Chip(modEncode)/Homer      87  \n",
       "21   TEAD(TEA)/Fibroblast-PU.1-ChIP-Seq(Unpublished)/Homer               87  \n",
       "22   TEAD4(TEA)/Tropoblast-Tead4-ChIP-Seq(GSE37350)/Homer                87  \n",
       "23   HOXA2(Homeobox)/mES-Hoxa2-ChIP-Seq(Donaldson_et_al.)/Homer          82  \n",
       "24   TEAD3(TEA)/HepG2-TEAD3-ChIP-Seq(Encode)/Homer                       80  \n",
       "25   Cdx2(Homeobox)/mES-Cdx2-ChIP-Seq(GSE14586)/Homer                    79  \n",
       "26   TEAD2(TEA)/Py2T-Tead2-ChIP-Seq(GSE55709)/Homer                      74  \n",
       "27   WT1(Zf)/Kidney-WT1-ChIP-Seq(GSE90016)/Homer                         73  \n",
       "28   Hoxb4(Homeobox)/ES-Hoxb4-ChIP-Seq(GSE34014)/Homer                   70  \n",
       "29   Esrrb(NR)/mES-Esrrb-ChIP-Seq(GSE11431)/Homer                        64  \n",
       "30   TRPS1(Zf)/MCF7-TRPS1-ChIP-Seq(GSE107013)/Homer                      63  \n",
       "⋮    ⋮                                                                  ⋮    \n",
       "977  MYB63(MYB)/col-MYB63-DAP-Seq(GSE60143)/Homer                       0    \n",
       "978  LHY(Myb)/Seedling-LHY-ChIP-Seq(GSE52175)/Homer                     0    \n",
       "979  ZML2(C2C2gata)/col-ZML2-DAP-Seq(GSE60143)/Homer                    0    \n",
       "980  MYB4(MYB)/col200-MYB4-DAP-Seq(GSE60143)/Homer                      0    \n",
       "981  MYB74(MYB)/colamp-MYB74-DAP-Seq(GSE60143)/Homer                    0    \n",
       "982  MYB17(MYB)/colamp-MYB17-DAP-Seq(GSE60143)/Homer                    0    \n",
       "983  MYB92(MYB)/colamp-MYB92-DAP-Seq(GSE60143)/Homer                    0    \n",
       "984  AT3G10113(MYBrelated)/col-AT3G10113-DAP-Seq(GSE60143)/Homer        0    \n",
       "985  At3g24120(G2like)/col-At3g24120-DAP-Seq(GSE60143)/Homer            0    \n",
       "986  MYB51(MYB)/col-MYB51-DAP-Seq(GSE60143)/Homer                       0    \n",
       "987  RVE1(MYBrelated)/col-RVE1-DAP-Seq(GSE60143)/Homer                  0    \n",
       "988  AT5G45580(G2like)/colamp-AT5G45580-DAP-Seq(GSE60143)/Homer         0    \n",
       "989  Slug(Zf)/Mesoderm-Snai2-ChIP-Seq(GSE61475)/Homer                   0    \n",
       "990  HSF3(HSF)/colamp-HSF3-DAP-Seq(GSE60143)/Homer                      0    \n",
       "991  ATY19(MYB)/col-ATY19-DAP-Seq(GSE60143)/Homer                       0    \n",
       "992  MYB99(MYB)/colamp-MYB99-DAP-Seq(GSE60143)/Homer                    0    \n",
       "993  BPC6(BBRBPC)/col-BPC6-DAP-Seq(GSE60143)/Homer                      0    \n",
       "994  MYB83(MYB)/colamp-MYB83-DAP-Seq(GSE60143)/Homer                    0    \n",
       "995  At2g01060(G2like)/colamp-At2g01060-DAP-Seq(GSE60143)/Homer         0    \n",
       "996  E2A(bHLH),near_PU.1/Bcell-PU.1-ChIP-Seq(GSE21512)/Homer            0    \n",
       "997  Snail1(Zf)/LS174T-SNAIL1.HA-ChIP-Seq(GSE127183)/Homer              0    \n",
       "998  ZEB1(Zf)/PDAC-ZEB1-ChIP-Seq(GSE64557)/Homer                        0    \n",
       "999  ZEB2(Zf)/SNU398-ZEB2-ChIP-Seq(GSE103048)/Homer                     0    \n",
       "1000 ZFP3(Zf)/HEK293-ZFP3.GFP-ChIP-Seq(GSE58341)/Homer                  0    \n",
       "1001 Zelda(Zf)/Embryo-zld-ChIP-Seq(GSE65441)/Homer                      0    \n",
       "1002 AT4G12670(MYBrelated)/col-AT4G12670-DAP-Seq(GSE60143)/Homer        0    \n",
       "1003 bZIP42(bZIP)/colamp-bZIP42-DAP-Seq(GSE60143)/Homer                 0    \n",
       "1004 NGA4(ABI3VP1)/col-NGA4-DAP-Seq(GSE60143)/Homer                     0    \n",
       "1005 REM16(ABI3VP1)/col-REM16-DAP-Seq(GSE60143)/Homer                   0    \n",
       "1006 WRKY7(WRKY)/colamp-WRKY7-DAP-Seq(GSE60143)/Homer                   0    "
      ]
     },
     "metadata": {},
     "output_type": "display_data"
    },
    {
     "data": {
      "text/html": [
       "440"
      ],
      "text/latex": [
       "440"
      ],
      "text/markdown": [
       "440"
      ],
      "text/plain": [
       "[1] 440"
      ]
     },
     "metadata": {},
     "output_type": "display_data"
    },
    {
     "data": {
      "text/html": [
       "1006"
      ],
      "text/latex": [
       "1006"
      ],
      "text/markdown": [
       "1006"
      ],
      "text/plain": [
       "[1] 1006"
      ]
     },
     "metadata": {},
     "output_type": "display_data"
    },
    {
     "data": {
      "text/html": [
       "1006"
      ],
      "text/latex": [
       "1006"
      ],
      "text/markdown": [
       "1006"
      ],
      "text/plain": [
       "[1] 1006"
      ]
     },
     "metadata": {},
     "output_type": "display_data"
    }
   ],
   "source": [
    "all_tops <- unique(c(male_tops, female_tops))\n",
    "all_tops\n",
    "#\n",
    "keep <- c(1,5)\n",
    "Male_OC <- Male_OC[,keep]\n",
    "nrow(Male_OC)\n",
    "Male_OC\n",
    "Male_CO <- Male_CO[,keep]\n",
    "nrow(Male_CO)\n",
    "Female_OC <- Female_OC[,keep]\n",
    "nrow(Female_OC)\n",
    "Female_CO <- Female_CO[,keep]\n",
    "nrow(Female_CO)"
   ]
  },
  {
   "cell_type": "code",
   "execution_count": 7,
   "id": "acebc31f-4323-4b6f-8552-21643f50972f",
   "metadata": {
    "vscode": {
     "languageId": "r"
    }
   },
   "outputs": [
    {
     "name": "stderr",
     "output_type": "stream",
     "text": [
      "Warning message in full_join(Male_OC, Male_CO, by = c(\"Motif_Name\")):\n",
      "“\u001b[1m\u001b[22mDetected an unexpected many-to-many relationship between `x` and `y`.\n",
      "\u001b[36mℹ\u001b[39m Row 684 of `x` matches multiple rows in `y`.\n",
      "\u001b[36mℹ\u001b[39m Row 266 of `y` matches multiple rows in `x`.\n",
      "\u001b[36mℹ\u001b[39m If a many-to-many relationship is expected, set `relationship = \"many-to-many\"` to\n",
      "  silence this warning.”\n"
     ]
    },
    {
     "data": {
      "text/html": [
       "<table class=\"dataframe\">\n",
       "<caption>A data.frame: 6 × 3</caption>\n",
       "<thead>\n",
       "\t<tr><th></th><th scope=col>Motif_Name</th><th scope=col>Log10_Male_OC</th><th scope=col>Log10_Male_CO</th></tr>\n",
       "\t<tr><th></th><th scope=col>&lt;chr&gt;</th><th scope=col>&lt;dbl&gt;</th><th scope=col>&lt;dbl&gt;</th></tr>\n",
       "</thead>\n",
       "<tbody>\n",
       "\t<tr><th scope=row>1</th><td>CTCF(Zf)/CD4+-CTCF-ChIP-Seq(Barski_et_al.)/Homer                  </td><td>300</td><td> 9</td></tr>\n",
       "\t<tr><th scope=row>2</th><td>BORIS(Zf)/K562-CTCFL-ChIP-Seq(GSE32465)/Homer                     </td><td>300</td><td> 4</td></tr>\n",
       "\t<tr><th scope=row>3</th><td>Hoxc9(Homeobox)/Ainv15-Hoxc9-ChIP-Seq(GSE21812)/Homer             </td><td>300</td><td> 0</td></tr>\n",
       "\t<tr><th scope=row>4</th><td>PBX2(Homeobox)/K562-PBX2-ChIP-Seq(Encode)/Homer                   </td><td>300</td><td> 0</td></tr>\n",
       "\t<tr><th scope=row>5</th><td>HOXA9(Homeobox)/HSC-Hoxa9-ChIP-Seq(GSE33509)/Homer                </td><td>297</td><td>NA</td></tr>\n",
       "\t<tr><th scope=row>6</th><td>CTCF-SatelliteElement(Zf?)/CD4+-CTCF-ChIP-Seq(Barski_et_al.)/Homer</td><td>183</td><td> 0</td></tr>\n",
       "</tbody>\n",
       "</table>\n"
      ],
      "text/latex": [
       "A data.frame: 6 × 3\n",
       "\\begin{tabular}{r|lll}\n",
       "  & Motif\\_Name & Log10\\_Male\\_OC & Log10\\_Male\\_CO\\\\\n",
       "  & <chr> & <dbl> & <dbl>\\\\\n",
       "\\hline\n",
       "\t1 & CTCF(Zf)/CD4+-CTCF-ChIP-Seq(Barski\\_et\\_al.)/Homer                   & 300 &  9\\\\\n",
       "\t2 & BORIS(Zf)/K562-CTCFL-ChIP-Seq(GSE32465)/Homer                      & 300 &  4\\\\\n",
       "\t3 & Hoxc9(Homeobox)/Ainv15-Hoxc9-ChIP-Seq(GSE21812)/Homer              & 300 &  0\\\\\n",
       "\t4 & PBX2(Homeobox)/K562-PBX2-ChIP-Seq(Encode)/Homer                    & 300 &  0\\\\\n",
       "\t5 & HOXA9(Homeobox)/HSC-Hoxa9-ChIP-Seq(GSE33509)/Homer                 & 297 & NA\\\\\n",
       "\t6 & CTCF-SatelliteElement(Zf?)/CD4+-CTCF-ChIP-Seq(Barski\\_et\\_al.)/Homer & 183 &  0\\\\\n",
       "\\end{tabular}\n"
      ],
      "text/markdown": [
       "\n",
       "A data.frame: 6 × 3\n",
       "\n",
       "| <!--/--> | Motif_Name &lt;chr&gt; | Log10_Male_OC &lt;dbl&gt; | Log10_Male_CO &lt;dbl&gt; |\n",
       "|---|---|---|---|\n",
       "| 1 | CTCF(Zf)/CD4+-CTCF-ChIP-Seq(Barski_et_al.)/Homer                   | 300 |  9 |\n",
       "| 2 | BORIS(Zf)/K562-CTCFL-ChIP-Seq(GSE32465)/Homer                      | 300 |  4 |\n",
       "| 3 | Hoxc9(Homeobox)/Ainv15-Hoxc9-ChIP-Seq(GSE21812)/Homer              | 300 |  0 |\n",
       "| 4 | PBX2(Homeobox)/K562-PBX2-ChIP-Seq(Encode)/Homer                    | 300 |  0 |\n",
       "| 5 | HOXA9(Homeobox)/HSC-Hoxa9-ChIP-Seq(GSE33509)/Homer                 | 297 | NA |\n",
       "| 6 | CTCF-SatelliteElement(Zf?)/CD4+-CTCF-ChIP-Seq(Barski_et_al.)/Homer | 183 |  0 |\n",
       "\n"
      ],
      "text/plain": [
       "  Motif_Name                                                        \n",
       "1 CTCF(Zf)/CD4+-CTCF-ChIP-Seq(Barski_et_al.)/Homer                  \n",
       "2 BORIS(Zf)/K562-CTCFL-ChIP-Seq(GSE32465)/Homer                     \n",
       "3 Hoxc9(Homeobox)/Ainv15-Hoxc9-ChIP-Seq(GSE21812)/Homer             \n",
       "4 PBX2(Homeobox)/K562-PBX2-ChIP-Seq(Encode)/Homer                   \n",
       "5 HOXA9(Homeobox)/HSC-Hoxa9-ChIP-Seq(GSE33509)/Homer                \n",
       "6 CTCF-SatelliteElement(Zf?)/CD4+-CTCF-ChIP-Seq(Barski_et_al.)/Homer\n",
       "  Log10_Male_OC Log10_Male_CO\n",
       "1 300            9           \n",
       "2 300            4           \n",
       "3 300            0           \n",
       "4 300            0           \n",
       "5 297           NA           \n",
       "6 183            0           "
      ]
     },
     "metadata": {},
     "output_type": "display_data"
    },
    {
     "name": "stderr",
     "output_type": "stream",
     "text": [
      "Warning message in full_join(Female_OC, Female_CO, by = c(\"Motif_Name\")):\n",
      "“\u001b[1m\u001b[22mDetected an unexpected many-to-many relationship between `x` and `y`.\n",
      "\u001b[36mℹ\u001b[39m Row 684 of `x` matches multiple rows in `y`.\n",
      "\u001b[36mℹ\u001b[39m Row 458 of `y` matches multiple rows in `x`.\n",
      "\u001b[36mℹ\u001b[39m If a many-to-many relationship is expected, set `relationship = \"many-to-many\"` to\n",
      "  silence this warning.”\n"
     ]
    },
    {
     "data": {
      "text/html": [
       "<table class=\"dataframe\">\n",
       "<caption>A data.frame: 6 × 3</caption>\n",
       "<thead>\n",
       "\t<tr><th></th><th scope=col>Motif_Name</th><th scope=col>Log10_Female_OC</th><th scope=col>Log10_Female_CO</th></tr>\n",
       "\t<tr><th></th><th scope=col>&lt;chr&gt;</th><th scope=col>&lt;dbl&gt;</th><th scope=col>&lt;dbl&gt;</th></tr>\n",
       "</thead>\n",
       "<tbody>\n",
       "\t<tr><th scope=row>1</th><td>CTCF(Zf)/CD4+-CTCF-ChIP-Seq(Barski_et_al.)/Homer                  </td><td>300</td><td>6</td></tr>\n",
       "\t<tr><th scope=row>2</th><td>BORIS(Zf)/K562-CTCFL-ChIP-Seq(GSE32465)/Homer                     </td><td>300</td><td>4</td></tr>\n",
       "\t<tr><th scope=row>3</th><td>Hoxc9(Homeobox)/Ainv15-Hoxc9-ChIP-Seq(GSE21812)/Homer             </td><td>288</td><td>0</td></tr>\n",
       "\t<tr><th scope=row>4</th><td>CTCF-SatelliteElement(Zf?)/CD4+-CTCF-ChIP-Seq(Barski_et_al.)/Homer</td><td>265</td><td>1</td></tr>\n",
       "\t<tr><th scope=row>5</th><td>PBX2(Homeobox)/K562-PBX2-ChIP-Seq(Encode)/Homer                   </td><td>262</td><td>0</td></tr>\n",
       "\t<tr><th scope=row>6</th><td>HOXA9(Homeobox)/HSC-Hoxa9-ChIP-Seq(GSE33509)/Homer                </td><td>233</td><td>0</td></tr>\n",
       "</tbody>\n",
       "</table>\n"
      ],
      "text/latex": [
       "A data.frame: 6 × 3\n",
       "\\begin{tabular}{r|lll}\n",
       "  & Motif\\_Name & Log10\\_Female\\_OC & Log10\\_Female\\_CO\\\\\n",
       "  & <chr> & <dbl> & <dbl>\\\\\n",
       "\\hline\n",
       "\t1 & CTCF(Zf)/CD4+-CTCF-ChIP-Seq(Barski\\_et\\_al.)/Homer                   & 300 & 6\\\\\n",
       "\t2 & BORIS(Zf)/K562-CTCFL-ChIP-Seq(GSE32465)/Homer                      & 300 & 4\\\\\n",
       "\t3 & Hoxc9(Homeobox)/Ainv15-Hoxc9-ChIP-Seq(GSE21812)/Homer              & 288 & 0\\\\\n",
       "\t4 & CTCF-SatelliteElement(Zf?)/CD4+-CTCF-ChIP-Seq(Barski\\_et\\_al.)/Homer & 265 & 1\\\\\n",
       "\t5 & PBX2(Homeobox)/K562-PBX2-ChIP-Seq(Encode)/Homer                    & 262 & 0\\\\\n",
       "\t6 & HOXA9(Homeobox)/HSC-Hoxa9-ChIP-Seq(GSE33509)/Homer                 & 233 & 0\\\\\n",
       "\\end{tabular}\n"
      ],
      "text/markdown": [
       "\n",
       "A data.frame: 6 × 3\n",
       "\n",
       "| <!--/--> | Motif_Name &lt;chr&gt; | Log10_Female_OC &lt;dbl&gt; | Log10_Female_CO &lt;dbl&gt; |\n",
       "|---|---|---|---|\n",
       "| 1 | CTCF(Zf)/CD4+-CTCF-ChIP-Seq(Barski_et_al.)/Homer                   | 300 | 6 |\n",
       "| 2 | BORIS(Zf)/K562-CTCFL-ChIP-Seq(GSE32465)/Homer                      | 300 | 4 |\n",
       "| 3 | Hoxc9(Homeobox)/Ainv15-Hoxc9-ChIP-Seq(GSE21812)/Homer              | 288 | 0 |\n",
       "| 4 | CTCF-SatelliteElement(Zf?)/CD4+-CTCF-ChIP-Seq(Barski_et_al.)/Homer | 265 | 1 |\n",
       "| 5 | PBX2(Homeobox)/K562-PBX2-ChIP-Seq(Encode)/Homer                    | 262 | 0 |\n",
       "| 6 | HOXA9(Homeobox)/HSC-Hoxa9-ChIP-Seq(GSE33509)/Homer                 | 233 | 0 |\n",
       "\n"
      ],
      "text/plain": [
       "  Motif_Name                                                        \n",
       "1 CTCF(Zf)/CD4+-CTCF-ChIP-Seq(Barski_et_al.)/Homer                  \n",
       "2 BORIS(Zf)/K562-CTCFL-ChIP-Seq(GSE32465)/Homer                     \n",
       "3 Hoxc9(Homeobox)/Ainv15-Hoxc9-ChIP-Seq(GSE21812)/Homer             \n",
       "4 CTCF-SatelliteElement(Zf?)/CD4+-CTCF-ChIP-Seq(Barski_et_al.)/Homer\n",
       "5 PBX2(Homeobox)/K562-PBX2-ChIP-Seq(Encode)/Homer                   \n",
       "6 HOXA9(Homeobox)/HSC-Hoxa9-ChIP-Seq(GSE33509)/Homer                \n",
       "  Log10_Female_OC Log10_Female_CO\n",
       "1 300             6              \n",
       "2 300             4              \n",
       "3 288             0              \n",
       "4 265             1              \n",
       "5 262             0              \n",
       "6 233             0              "
      ]
     },
     "metadata": {},
     "output_type": "display_data"
    }
   ],
   "source": [
    "males <- full_join(Male_OC, Male_CO, by = c(\"Motif_Name\"))\n",
    "cols <- c(\"Motif_Name\", \"Log10_Male_OC\", \"Log10_Male_CO\")\n",
    "colnames(males) <- cols\n",
    "head(males)\n",
    "#\n",
    "females <- full_join(Female_OC, Female_CO, by = c(\"Motif_Name\"))\n",
    "cols <- c(\"Motif_Name\", \"Log10_Female_OC\", \"Log10_Female_CO\")\n",
    "colnames(females) <- cols\n",
    "head(females)"
   ]
  },
  {
   "cell_type": "code",
   "execution_count": 22,
   "id": "7d1289ff-1f15-4de6-be73-cf4451715247",
   "metadata": {
    "vscode": {
     "languageId": "r"
    }
   },
   "outputs": [
    {
     "name": "stderr",
     "output_type": "stream",
     "text": [
      "Warning message in full_join(males, females, by = c(\"Motif_Name\")):\n",
      "“\u001b[1m\u001b[22mDetected an unexpected many-to-many relationship between `x` and `y`.\n",
      "\u001b[36mℹ\u001b[39m Row 684 of `x` matches multiple rows in `y`.\n",
      "\u001b[36mℹ\u001b[39m Row 684 of `y` matches multiple rows in `x`.\n",
      "\u001b[36mℹ\u001b[39m If a many-to-many relationship is expected, set `relationship = \"many-to-many\"` to\n",
      "  silence this warning.”\n"
     ]
    },
    {
     "data": {
      "text/html": [
       "<table class=\"dataframe\">\n",
       "<caption>A data.frame: 21 × 5</caption>\n",
       "<thead>\n",
       "\t<tr><th scope=col>Motif_Name</th><th scope=col>Log10_Male_OC</th><th scope=col>Log10_Male_CO</th><th scope=col>Log10_Female_OC</th><th scope=col>Log10_Female_CO</th></tr>\n",
       "\t<tr><th scope=col>&lt;chr&gt;</th><th scope=col>&lt;dbl&gt;</th><th scope=col>&lt;dbl&gt;</th><th scope=col>&lt;dbl&gt;</th><th scope=col>&lt;dbl&gt;</th></tr>\n",
       "</thead>\n",
       "<tbody>\n",
       "\t<tr><td>CTCF(Zf)/CD4+-CTCF-ChIP-Seq(Barski_et_al.)/Homer                  </td><td>300</td><td>  9</td><td>300</td><td>  6</td></tr>\n",
       "\t<tr><td>BORIS(Zf)/K562-CTCFL-ChIP-Seq(GSE32465)/Homer                     </td><td>300</td><td>  4</td><td>300</td><td>  4</td></tr>\n",
       "\t<tr><td>Hoxc9(Homeobox)/Ainv15-Hoxc9-ChIP-Seq(GSE21812)/Homer             </td><td>300</td><td>  0</td><td>288</td><td>  0</td></tr>\n",
       "\t<tr><td>PBX2(Homeobox)/K562-PBX2-ChIP-Seq(Encode)/Homer                   </td><td>300</td><td>  0</td><td>262</td><td>  0</td></tr>\n",
       "\t<tr><td>HOXA9(Homeobox)/HSC-Hoxa9-ChIP-Seq(GSE33509)/Homer                </td><td>297</td><td>  0</td><td>233</td><td>  0</td></tr>\n",
       "\t<tr><td>CTCF-SatelliteElement(Zf?)/CD4+-CTCF-ChIP-Seq(Barski_et_al.)/Homer</td><td>183</td><td>  0</td><td>265</td><td>  1</td></tr>\n",
       "\t<tr><td>COUP-TFII(NR)/Artia-Nr2f2-ChIP-Seq(GSE46497)/Homer                </td><td>168</td><td>287</td><td>210</td><td>172</td></tr>\n",
       "\t<tr><td>Pdx1(Homeobox)/Islet-Pdx1-ChIP-Seq(SRA008281)/Homer               </td><td>157</td><td>  0</td><td>122</td><td>  0</td></tr>\n",
       "\t<tr><td>LIN-39(Homeobox)/cElegans.L3-LIN39-ChIP-Seq(modEncode)/Homer      </td><td>152</td><td>  0</td><td>129</td><td>  0</td></tr>\n",
       "\t<tr><td>CDX4(Homeobox)/ZebrafishEmbryos-Cdx4.Myc-ChIP-Seq(GSE48254)/Homer </td><td>130</td><td>  0</td><td> 91</td><td>  0</td></tr>\n",
       "\t<tr><td>COUP-TFII(NR)/K562-NR2F1-ChIP-Seq(Encode)/Homer                   </td><td>108</td><td>301</td><td> 93</td><td>191</td></tr>\n",
       "\t<tr><td>TEAD1(TEAD)/HepG2-TEAD1-ChIP-Seq(Encode)/Homer                    </td><td>103</td><td>144</td><td>143</td><td> 97</td></tr>\n",
       "\t<tr><td>EAR2(NR)/K562-NR2F6-ChIP-Seq(Encode)/Homer                        </td><td>102</td><td>300</td><td>101</td><td>222</td></tr>\n",
       "\t<tr><td>Esrrb(NR)/mES-Esrrb-ChIP-Seq(GSE11431)/Homer                      </td><td> 64</td><td>300</td><td> 78</td><td>300</td></tr>\n",
       "\t<tr><td>Erra(NR)/HepG2-Erra-ChIP-Seq(GSE31477)/Homer                      </td><td> 54</td><td>300</td><td> 79</td><td>249</td></tr>\n",
       "\t<tr><td>ERRg(NR)/Kidney-ESRRG-ChIP-Seq(GSE104905)/Homer                   </td><td> 52</td><td>300</td><td> 50</td><td>300</td></tr>\n",
       "\t<tr><td>Nr5a2(NR)/mES-Nr5a2-ChIP-Seq(GSE19019)/Homer                      </td><td> 27</td><td>300</td><td> 24</td><td>300</td></tr>\n",
       "\t<tr><td>Nr5a2(NR)/Pancreas-LRH1-ChIP-Seq(GSE34295)/Homer                  </td><td> 27</td><td>300</td><td> 26</td><td>300</td></tr>\n",
       "\t<tr><td>SF1(NR)/H295R-Nr5a1-ChIP-Seq(GSE44220)/Homer                      </td><td> 15</td><td>300</td><td> 10</td><td>300</td></tr>\n",
       "\t<tr><td>DMRT1(DM)/Testis-DMRT1-ChIP-Seq(GSE64892)/Homer                   </td><td>  0</td><td>300</td><td>  0</td><td>300</td></tr>\n",
       "\t<tr><td>DMRT6(DM)/Testis-DMRT6-ChIP-Seq(GSE60440)/Homer                   </td><td>  0</td><td>300</td><td>  0</td><td>300</td></tr>\n",
       "</tbody>\n",
       "</table>\n"
      ],
      "text/latex": [
       "A data.frame: 21 × 5\n",
       "\\begin{tabular}{lllll}\n",
       " Motif\\_Name & Log10\\_Male\\_OC & Log10\\_Male\\_CO & Log10\\_Female\\_OC & Log10\\_Female\\_CO\\\\\n",
       " <chr> & <dbl> & <dbl> & <dbl> & <dbl>\\\\\n",
       "\\hline\n",
       "\t CTCF(Zf)/CD4+-CTCF-ChIP-Seq(Barski\\_et\\_al.)/Homer                   & 300 &   9 & 300 &   6\\\\\n",
       "\t BORIS(Zf)/K562-CTCFL-ChIP-Seq(GSE32465)/Homer                      & 300 &   4 & 300 &   4\\\\\n",
       "\t Hoxc9(Homeobox)/Ainv15-Hoxc9-ChIP-Seq(GSE21812)/Homer              & 300 &   0 & 288 &   0\\\\\n",
       "\t PBX2(Homeobox)/K562-PBX2-ChIP-Seq(Encode)/Homer                    & 300 &   0 & 262 &   0\\\\\n",
       "\t HOXA9(Homeobox)/HSC-Hoxa9-ChIP-Seq(GSE33509)/Homer                 & 297 &   0 & 233 &   0\\\\\n",
       "\t CTCF-SatelliteElement(Zf?)/CD4+-CTCF-ChIP-Seq(Barski\\_et\\_al.)/Homer & 183 &   0 & 265 &   1\\\\\n",
       "\t COUP-TFII(NR)/Artia-Nr2f2-ChIP-Seq(GSE46497)/Homer                 & 168 & 287 & 210 & 172\\\\\n",
       "\t Pdx1(Homeobox)/Islet-Pdx1-ChIP-Seq(SRA008281)/Homer                & 157 &   0 & 122 &   0\\\\\n",
       "\t LIN-39(Homeobox)/cElegans.L3-LIN39-ChIP-Seq(modEncode)/Homer       & 152 &   0 & 129 &   0\\\\\n",
       "\t CDX4(Homeobox)/ZebrafishEmbryos-Cdx4.Myc-ChIP-Seq(GSE48254)/Homer  & 130 &   0 &  91 &   0\\\\\n",
       "\t COUP-TFII(NR)/K562-NR2F1-ChIP-Seq(Encode)/Homer                    & 108 & 301 &  93 & 191\\\\\n",
       "\t TEAD1(TEAD)/HepG2-TEAD1-ChIP-Seq(Encode)/Homer                     & 103 & 144 & 143 &  97\\\\\n",
       "\t EAR2(NR)/K562-NR2F6-ChIP-Seq(Encode)/Homer                         & 102 & 300 & 101 & 222\\\\\n",
       "\t Esrrb(NR)/mES-Esrrb-ChIP-Seq(GSE11431)/Homer                       &  64 & 300 &  78 & 300\\\\\n",
       "\t Erra(NR)/HepG2-Erra-ChIP-Seq(GSE31477)/Homer                       &  54 & 300 &  79 & 249\\\\\n",
       "\t ERRg(NR)/Kidney-ESRRG-ChIP-Seq(GSE104905)/Homer                    &  52 & 300 &  50 & 300\\\\\n",
       "\t Nr5a2(NR)/mES-Nr5a2-ChIP-Seq(GSE19019)/Homer                       &  27 & 300 &  24 & 300\\\\\n",
       "\t Nr5a2(NR)/Pancreas-LRH1-ChIP-Seq(GSE34295)/Homer                   &  27 & 300 &  26 & 300\\\\\n",
       "\t SF1(NR)/H295R-Nr5a1-ChIP-Seq(GSE44220)/Homer                       &  15 & 300 &  10 & 300\\\\\n",
       "\t DMRT1(DM)/Testis-DMRT1-ChIP-Seq(GSE64892)/Homer                    &   0 & 300 &   0 & 300\\\\\n",
       "\t DMRT6(DM)/Testis-DMRT6-ChIP-Seq(GSE60440)/Homer                    &   0 & 300 &   0 & 300\\\\\n",
       "\\end{tabular}\n"
      ],
      "text/markdown": [
       "\n",
       "A data.frame: 21 × 5\n",
       "\n",
       "| Motif_Name &lt;chr&gt; | Log10_Male_OC &lt;dbl&gt; | Log10_Male_CO &lt;dbl&gt; | Log10_Female_OC &lt;dbl&gt; | Log10_Female_CO &lt;dbl&gt; |\n",
       "|---|---|---|---|---|\n",
       "| CTCF(Zf)/CD4+-CTCF-ChIP-Seq(Barski_et_al.)/Homer                   | 300 |   9 | 300 |   6 |\n",
       "| BORIS(Zf)/K562-CTCFL-ChIP-Seq(GSE32465)/Homer                      | 300 |   4 | 300 |   4 |\n",
       "| Hoxc9(Homeobox)/Ainv15-Hoxc9-ChIP-Seq(GSE21812)/Homer              | 300 |   0 | 288 |   0 |\n",
       "| PBX2(Homeobox)/K562-PBX2-ChIP-Seq(Encode)/Homer                    | 300 |   0 | 262 |   0 |\n",
       "| HOXA9(Homeobox)/HSC-Hoxa9-ChIP-Seq(GSE33509)/Homer                 | 297 |   0 | 233 |   0 |\n",
       "| CTCF-SatelliteElement(Zf?)/CD4+-CTCF-ChIP-Seq(Barski_et_al.)/Homer | 183 |   0 | 265 |   1 |\n",
       "| COUP-TFII(NR)/Artia-Nr2f2-ChIP-Seq(GSE46497)/Homer                 | 168 | 287 | 210 | 172 |\n",
       "| Pdx1(Homeobox)/Islet-Pdx1-ChIP-Seq(SRA008281)/Homer                | 157 |   0 | 122 |   0 |\n",
       "| LIN-39(Homeobox)/cElegans.L3-LIN39-ChIP-Seq(modEncode)/Homer       | 152 |   0 | 129 |   0 |\n",
       "| CDX4(Homeobox)/ZebrafishEmbryos-Cdx4.Myc-ChIP-Seq(GSE48254)/Homer  | 130 |   0 |  91 |   0 |\n",
       "| COUP-TFII(NR)/K562-NR2F1-ChIP-Seq(Encode)/Homer                    | 108 | 301 |  93 | 191 |\n",
       "| TEAD1(TEAD)/HepG2-TEAD1-ChIP-Seq(Encode)/Homer                     | 103 | 144 | 143 |  97 |\n",
       "| EAR2(NR)/K562-NR2F6-ChIP-Seq(Encode)/Homer                         | 102 | 300 | 101 | 222 |\n",
       "| Esrrb(NR)/mES-Esrrb-ChIP-Seq(GSE11431)/Homer                       |  64 | 300 |  78 | 300 |\n",
       "| Erra(NR)/HepG2-Erra-ChIP-Seq(GSE31477)/Homer                       |  54 | 300 |  79 | 249 |\n",
       "| ERRg(NR)/Kidney-ESRRG-ChIP-Seq(GSE104905)/Homer                    |  52 | 300 |  50 | 300 |\n",
       "| Nr5a2(NR)/mES-Nr5a2-ChIP-Seq(GSE19019)/Homer                       |  27 | 300 |  24 | 300 |\n",
       "| Nr5a2(NR)/Pancreas-LRH1-ChIP-Seq(GSE34295)/Homer                   |  27 | 300 |  26 | 300 |\n",
       "| SF1(NR)/H295R-Nr5a1-ChIP-Seq(GSE44220)/Homer                       |  15 | 300 |  10 | 300 |\n",
       "| DMRT1(DM)/Testis-DMRT1-ChIP-Seq(GSE64892)/Homer                    |   0 | 300 |   0 | 300 |\n",
       "| DMRT6(DM)/Testis-DMRT6-ChIP-Seq(GSE60440)/Homer                    |   0 | 300 |   0 | 300 |\n",
       "\n"
      ],
      "text/plain": [
       "   Motif_Name                                                        \n",
       "1  CTCF(Zf)/CD4+-CTCF-ChIP-Seq(Barski_et_al.)/Homer                  \n",
       "2  BORIS(Zf)/K562-CTCFL-ChIP-Seq(GSE32465)/Homer                     \n",
       "3  Hoxc9(Homeobox)/Ainv15-Hoxc9-ChIP-Seq(GSE21812)/Homer             \n",
       "4  PBX2(Homeobox)/K562-PBX2-ChIP-Seq(Encode)/Homer                   \n",
       "5  HOXA9(Homeobox)/HSC-Hoxa9-ChIP-Seq(GSE33509)/Homer                \n",
       "6  CTCF-SatelliteElement(Zf?)/CD4+-CTCF-ChIP-Seq(Barski_et_al.)/Homer\n",
       "7  COUP-TFII(NR)/Artia-Nr2f2-ChIP-Seq(GSE46497)/Homer                \n",
       "8  Pdx1(Homeobox)/Islet-Pdx1-ChIP-Seq(SRA008281)/Homer               \n",
       "9  LIN-39(Homeobox)/cElegans.L3-LIN39-ChIP-Seq(modEncode)/Homer      \n",
       "10 CDX4(Homeobox)/ZebrafishEmbryos-Cdx4.Myc-ChIP-Seq(GSE48254)/Homer \n",
       "11 COUP-TFII(NR)/K562-NR2F1-ChIP-Seq(Encode)/Homer                   \n",
       "12 TEAD1(TEAD)/HepG2-TEAD1-ChIP-Seq(Encode)/Homer                    \n",
       "13 EAR2(NR)/K562-NR2F6-ChIP-Seq(Encode)/Homer                        \n",
       "14 Esrrb(NR)/mES-Esrrb-ChIP-Seq(GSE11431)/Homer                      \n",
       "15 Erra(NR)/HepG2-Erra-ChIP-Seq(GSE31477)/Homer                      \n",
       "16 ERRg(NR)/Kidney-ESRRG-ChIP-Seq(GSE104905)/Homer                   \n",
       "17 Nr5a2(NR)/mES-Nr5a2-ChIP-Seq(GSE19019)/Homer                      \n",
       "18 Nr5a2(NR)/Pancreas-LRH1-ChIP-Seq(GSE34295)/Homer                  \n",
       "19 SF1(NR)/H295R-Nr5a1-ChIP-Seq(GSE44220)/Homer                      \n",
       "20 DMRT1(DM)/Testis-DMRT1-ChIP-Seq(GSE64892)/Homer                   \n",
       "21 DMRT6(DM)/Testis-DMRT6-ChIP-Seq(GSE60440)/Homer                   \n",
       "   Log10_Male_OC Log10_Male_CO Log10_Female_OC Log10_Female_CO\n",
       "1  300             9           300               6            \n",
       "2  300             4           300               4            \n",
       "3  300             0           288               0            \n",
       "4  300             0           262               0            \n",
       "5  297             0           233               0            \n",
       "6  183             0           265               1            \n",
       "7  168           287           210             172            \n",
       "8  157             0           122               0            \n",
       "9  152             0           129               0            \n",
       "10 130             0            91               0            \n",
       "11 108           301            93             191            \n",
       "12 103           144           143              97            \n",
       "13 102           300           101             222            \n",
       "14  64           300            78             300            \n",
       "15  54           300            79             249            \n",
       "16  52           300            50             300            \n",
       "17  27           300            24             300            \n",
       "18  27           300            26             300            \n",
       "19  15           300            10             300            \n",
       "20   0           300             0             300            \n",
       "21   0           300             0             300            "
      ]
     },
     "metadata": {},
     "output_type": "display_data"
    },
    {
     "data": {
      "text/plain": [
       "\n",
       "FALSE \n",
       "   84 "
      ]
     },
     "metadata": {},
     "output_type": "display_data"
    },
    {
     "data": {
      "text/html": [
       "<table class=\"dataframe\">\n",
       "<caption>A matrix: 21 × 4 of type dbl</caption>\n",
       "<thead>\n",
       "\t<tr><th></th><th scope=col>Log10_Male_OC</th><th scope=col>Log10_Male_CO</th><th scope=col>Log10_Female_OC</th><th scope=col>Log10_Female_CO</th></tr>\n",
       "</thead>\n",
       "<tbody>\n",
       "\t<tr><th scope=row>CTCF(Zf)/CD4+-CTCF-ChIP-Seq(Barski_et_al.)/Homer</th><td>300</td><td>  9</td><td>300</td><td>  6</td></tr>\n",
       "\t<tr><th scope=row>BORIS(Zf)/K562-CTCFL-ChIP-Seq(GSE32465)/Homer</th><td>300</td><td>  4</td><td>300</td><td>  4</td></tr>\n",
       "\t<tr><th scope=row>Hoxc9(Homeobox)/Ainv15-Hoxc9-ChIP-Seq(GSE21812)/Homer</th><td>300</td><td>  0</td><td>288</td><td>  0</td></tr>\n",
       "\t<tr><th scope=row>PBX2(Homeobox)/K562-PBX2-ChIP-Seq(Encode)/Homer</th><td>300</td><td>  0</td><td>262</td><td>  0</td></tr>\n",
       "\t<tr><th scope=row>HOXA9(Homeobox)/HSC-Hoxa9-ChIP-Seq(GSE33509)/Homer</th><td>297</td><td>  0</td><td>233</td><td>  0</td></tr>\n",
       "\t<tr><th scope=row>CTCF-SatelliteElement(Zf?)/CD4+-CTCF-ChIP-Seq(Barski_et_al.)/Homer</th><td>183</td><td>  0</td><td>265</td><td>  1</td></tr>\n",
       "\t<tr><th scope=row>COUP-TFII(NR)/Artia-Nr2f2-ChIP-Seq(GSE46497)/Homer</th><td>168</td><td>287</td><td>210</td><td>172</td></tr>\n",
       "\t<tr><th scope=row>Pdx1(Homeobox)/Islet-Pdx1-ChIP-Seq(SRA008281)/Homer</th><td>157</td><td>  0</td><td>122</td><td>  0</td></tr>\n",
       "\t<tr><th scope=row>LIN-39(Homeobox)/cElegans.L3-LIN39-ChIP-Seq(modEncode)/Homer</th><td>152</td><td>  0</td><td>129</td><td>  0</td></tr>\n",
       "\t<tr><th scope=row>CDX4(Homeobox)/ZebrafishEmbryos-Cdx4.Myc-ChIP-Seq(GSE48254)/Homer</th><td>130</td><td>  0</td><td> 91</td><td>  0</td></tr>\n",
       "\t<tr><th scope=row>COUP-TFII(NR)/K562-NR2F1-ChIP-Seq(Encode)/Homer</th><td>108</td><td>301</td><td> 93</td><td>191</td></tr>\n",
       "\t<tr><th scope=row>TEAD1(TEAD)/HepG2-TEAD1-ChIP-Seq(Encode)/Homer</th><td>103</td><td>144</td><td>143</td><td> 97</td></tr>\n",
       "\t<tr><th scope=row>EAR2(NR)/K562-NR2F6-ChIP-Seq(Encode)/Homer</th><td>102</td><td>300</td><td>101</td><td>222</td></tr>\n",
       "\t<tr><th scope=row>Esrrb(NR)/mES-Esrrb-ChIP-Seq(GSE11431)/Homer</th><td> 64</td><td>300</td><td> 78</td><td>300</td></tr>\n",
       "\t<tr><th scope=row>Erra(NR)/HepG2-Erra-ChIP-Seq(GSE31477)/Homer</th><td> 54</td><td>300</td><td> 79</td><td>249</td></tr>\n",
       "\t<tr><th scope=row>ERRg(NR)/Kidney-ESRRG-ChIP-Seq(GSE104905)/Homer</th><td> 52</td><td>300</td><td> 50</td><td>300</td></tr>\n",
       "\t<tr><th scope=row>Nr5a2(NR)/mES-Nr5a2-ChIP-Seq(GSE19019)/Homer</th><td> 27</td><td>300</td><td> 24</td><td>300</td></tr>\n",
       "\t<tr><th scope=row>Nr5a2(NR)/Pancreas-LRH1-ChIP-Seq(GSE34295)/Homer</th><td> 27</td><td>300</td><td> 26</td><td>300</td></tr>\n",
       "\t<tr><th scope=row>SF1(NR)/H295R-Nr5a1-ChIP-Seq(GSE44220)/Homer</th><td> 15</td><td>300</td><td> 10</td><td>300</td></tr>\n",
       "\t<tr><th scope=row>DMRT1(DM)/Testis-DMRT1-ChIP-Seq(GSE64892)/Homer</th><td>  0</td><td>300</td><td>  0</td><td>300</td></tr>\n",
       "\t<tr><th scope=row>DMRT6(DM)/Testis-DMRT6-ChIP-Seq(GSE60440)/Homer</th><td>  0</td><td>300</td><td>  0</td><td>300</td></tr>\n",
       "</tbody>\n",
       "</table>\n"
      ],
      "text/latex": [
       "A matrix: 21 × 4 of type dbl\n",
       "\\begin{tabular}{r|llll}\n",
       "  & Log10\\_Male\\_OC & Log10\\_Male\\_CO & Log10\\_Female\\_OC & Log10\\_Female\\_CO\\\\\n",
       "\\hline\n",
       "\tCTCF(Zf)/CD4+-CTCF-ChIP-Seq(Barski\\_et\\_al.)/Homer & 300 &   9 & 300 &   6\\\\\n",
       "\tBORIS(Zf)/K562-CTCFL-ChIP-Seq(GSE32465)/Homer & 300 &   4 & 300 &   4\\\\\n",
       "\tHoxc9(Homeobox)/Ainv15-Hoxc9-ChIP-Seq(GSE21812)/Homer & 300 &   0 & 288 &   0\\\\\n",
       "\tPBX2(Homeobox)/K562-PBX2-ChIP-Seq(Encode)/Homer & 300 &   0 & 262 &   0\\\\\n",
       "\tHOXA9(Homeobox)/HSC-Hoxa9-ChIP-Seq(GSE33509)/Homer & 297 &   0 & 233 &   0\\\\\n",
       "\tCTCF-SatelliteElement(Zf?)/CD4+-CTCF-ChIP-Seq(Barski\\_et\\_al.)/Homer & 183 &   0 & 265 &   1\\\\\n",
       "\tCOUP-TFII(NR)/Artia-Nr2f2-ChIP-Seq(GSE46497)/Homer & 168 & 287 & 210 & 172\\\\\n",
       "\tPdx1(Homeobox)/Islet-Pdx1-ChIP-Seq(SRA008281)/Homer & 157 &   0 & 122 &   0\\\\\n",
       "\tLIN-39(Homeobox)/cElegans.L3-LIN39-ChIP-Seq(modEncode)/Homer & 152 &   0 & 129 &   0\\\\\n",
       "\tCDX4(Homeobox)/ZebrafishEmbryos-Cdx4.Myc-ChIP-Seq(GSE48254)/Homer & 130 &   0 &  91 &   0\\\\\n",
       "\tCOUP-TFII(NR)/K562-NR2F1-ChIP-Seq(Encode)/Homer & 108 & 301 &  93 & 191\\\\\n",
       "\tTEAD1(TEAD)/HepG2-TEAD1-ChIP-Seq(Encode)/Homer & 103 & 144 & 143 &  97\\\\\n",
       "\tEAR2(NR)/K562-NR2F6-ChIP-Seq(Encode)/Homer & 102 & 300 & 101 & 222\\\\\n",
       "\tEsrrb(NR)/mES-Esrrb-ChIP-Seq(GSE11431)/Homer &  64 & 300 &  78 & 300\\\\\n",
       "\tErra(NR)/HepG2-Erra-ChIP-Seq(GSE31477)/Homer &  54 & 300 &  79 & 249\\\\\n",
       "\tERRg(NR)/Kidney-ESRRG-ChIP-Seq(GSE104905)/Homer &  52 & 300 &  50 & 300\\\\\n",
       "\tNr5a2(NR)/mES-Nr5a2-ChIP-Seq(GSE19019)/Homer &  27 & 300 &  24 & 300\\\\\n",
       "\tNr5a2(NR)/Pancreas-LRH1-ChIP-Seq(GSE34295)/Homer &  27 & 300 &  26 & 300\\\\\n",
       "\tSF1(NR)/H295R-Nr5a1-ChIP-Seq(GSE44220)/Homer &  15 & 300 &  10 & 300\\\\\n",
       "\tDMRT1(DM)/Testis-DMRT1-ChIP-Seq(GSE64892)/Homer &   0 & 300 &   0 & 300\\\\\n",
       "\tDMRT6(DM)/Testis-DMRT6-ChIP-Seq(GSE60440)/Homer &   0 & 300 &   0 & 300\\\\\n",
       "\\end{tabular}\n"
      ],
      "text/markdown": [
       "\n",
       "A matrix: 21 × 4 of type dbl\n",
       "\n",
       "| <!--/--> | Log10_Male_OC | Log10_Male_CO | Log10_Female_OC | Log10_Female_CO |\n",
       "|---|---|---|---|---|\n",
       "| CTCF(Zf)/CD4+-CTCF-ChIP-Seq(Barski_et_al.)/Homer | 300 |   9 | 300 |   6 |\n",
       "| BORIS(Zf)/K562-CTCFL-ChIP-Seq(GSE32465)/Homer | 300 |   4 | 300 |   4 |\n",
       "| Hoxc9(Homeobox)/Ainv15-Hoxc9-ChIP-Seq(GSE21812)/Homer | 300 |   0 | 288 |   0 |\n",
       "| PBX2(Homeobox)/K562-PBX2-ChIP-Seq(Encode)/Homer | 300 |   0 | 262 |   0 |\n",
       "| HOXA9(Homeobox)/HSC-Hoxa9-ChIP-Seq(GSE33509)/Homer | 297 |   0 | 233 |   0 |\n",
       "| CTCF-SatelliteElement(Zf?)/CD4+-CTCF-ChIP-Seq(Barski_et_al.)/Homer | 183 |   0 | 265 |   1 |\n",
       "| COUP-TFII(NR)/Artia-Nr2f2-ChIP-Seq(GSE46497)/Homer | 168 | 287 | 210 | 172 |\n",
       "| Pdx1(Homeobox)/Islet-Pdx1-ChIP-Seq(SRA008281)/Homer | 157 |   0 | 122 |   0 |\n",
       "| LIN-39(Homeobox)/cElegans.L3-LIN39-ChIP-Seq(modEncode)/Homer | 152 |   0 | 129 |   0 |\n",
       "| CDX4(Homeobox)/ZebrafishEmbryos-Cdx4.Myc-ChIP-Seq(GSE48254)/Homer | 130 |   0 |  91 |   0 |\n",
       "| COUP-TFII(NR)/K562-NR2F1-ChIP-Seq(Encode)/Homer | 108 | 301 |  93 | 191 |\n",
       "| TEAD1(TEAD)/HepG2-TEAD1-ChIP-Seq(Encode)/Homer | 103 | 144 | 143 |  97 |\n",
       "| EAR2(NR)/K562-NR2F6-ChIP-Seq(Encode)/Homer | 102 | 300 | 101 | 222 |\n",
       "| Esrrb(NR)/mES-Esrrb-ChIP-Seq(GSE11431)/Homer |  64 | 300 |  78 | 300 |\n",
       "| Erra(NR)/HepG2-Erra-ChIP-Seq(GSE31477)/Homer |  54 | 300 |  79 | 249 |\n",
       "| ERRg(NR)/Kidney-ESRRG-ChIP-Seq(GSE104905)/Homer |  52 | 300 |  50 | 300 |\n",
       "| Nr5a2(NR)/mES-Nr5a2-ChIP-Seq(GSE19019)/Homer |  27 | 300 |  24 | 300 |\n",
       "| Nr5a2(NR)/Pancreas-LRH1-ChIP-Seq(GSE34295)/Homer |  27 | 300 |  26 | 300 |\n",
       "| SF1(NR)/H295R-Nr5a1-ChIP-Seq(GSE44220)/Homer |  15 | 300 |  10 | 300 |\n",
       "| DMRT1(DM)/Testis-DMRT1-ChIP-Seq(GSE64892)/Homer |   0 | 300 |   0 | 300 |\n",
       "| DMRT6(DM)/Testis-DMRT6-ChIP-Seq(GSE60440)/Homer |   0 | 300 |   0 | 300 |\n",
       "\n"
      ],
      "text/plain": [
       "                                                                   Log10_Male_OC\n",
       "CTCF(Zf)/CD4+-CTCF-ChIP-Seq(Barski_et_al.)/Homer                   300          \n",
       "BORIS(Zf)/K562-CTCFL-ChIP-Seq(GSE32465)/Homer                      300          \n",
       "Hoxc9(Homeobox)/Ainv15-Hoxc9-ChIP-Seq(GSE21812)/Homer              300          \n",
       "PBX2(Homeobox)/K562-PBX2-ChIP-Seq(Encode)/Homer                    300          \n",
       "HOXA9(Homeobox)/HSC-Hoxa9-ChIP-Seq(GSE33509)/Homer                 297          \n",
       "CTCF-SatelliteElement(Zf?)/CD4+-CTCF-ChIP-Seq(Barski_et_al.)/Homer 183          \n",
       "COUP-TFII(NR)/Artia-Nr2f2-ChIP-Seq(GSE46497)/Homer                 168          \n",
       "Pdx1(Homeobox)/Islet-Pdx1-ChIP-Seq(SRA008281)/Homer                157          \n",
       "LIN-39(Homeobox)/cElegans.L3-LIN39-ChIP-Seq(modEncode)/Homer       152          \n",
       "CDX4(Homeobox)/ZebrafishEmbryos-Cdx4.Myc-ChIP-Seq(GSE48254)/Homer  130          \n",
       "COUP-TFII(NR)/K562-NR2F1-ChIP-Seq(Encode)/Homer                    108          \n",
       "TEAD1(TEAD)/HepG2-TEAD1-ChIP-Seq(Encode)/Homer                     103          \n",
       "EAR2(NR)/K562-NR2F6-ChIP-Seq(Encode)/Homer                         102          \n",
       "Esrrb(NR)/mES-Esrrb-ChIP-Seq(GSE11431)/Homer                        64          \n",
       "Erra(NR)/HepG2-Erra-ChIP-Seq(GSE31477)/Homer                        54          \n",
       "ERRg(NR)/Kidney-ESRRG-ChIP-Seq(GSE104905)/Homer                     52          \n",
       "Nr5a2(NR)/mES-Nr5a2-ChIP-Seq(GSE19019)/Homer                        27          \n",
       "Nr5a2(NR)/Pancreas-LRH1-ChIP-Seq(GSE34295)/Homer                    27          \n",
       "SF1(NR)/H295R-Nr5a1-ChIP-Seq(GSE44220)/Homer                        15          \n",
       "DMRT1(DM)/Testis-DMRT1-ChIP-Seq(GSE64892)/Homer                      0          \n",
       "DMRT6(DM)/Testis-DMRT6-ChIP-Seq(GSE60440)/Homer                      0          \n",
       "                                                                   Log10_Male_CO\n",
       "CTCF(Zf)/CD4+-CTCF-ChIP-Seq(Barski_et_al.)/Homer                     9          \n",
       "BORIS(Zf)/K562-CTCFL-ChIP-Seq(GSE32465)/Homer                        4          \n",
       "Hoxc9(Homeobox)/Ainv15-Hoxc9-ChIP-Seq(GSE21812)/Homer                0          \n",
       "PBX2(Homeobox)/K562-PBX2-ChIP-Seq(Encode)/Homer                      0          \n",
       "HOXA9(Homeobox)/HSC-Hoxa9-ChIP-Seq(GSE33509)/Homer                   0          \n",
       "CTCF-SatelliteElement(Zf?)/CD4+-CTCF-ChIP-Seq(Barski_et_al.)/Homer   0          \n",
       "COUP-TFII(NR)/Artia-Nr2f2-ChIP-Seq(GSE46497)/Homer                 287          \n",
       "Pdx1(Homeobox)/Islet-Pdx1-ChIP-Seq(SRA008281)/Homer                  0          \n",
       "LIN-39(Homeobox)/cElegans.L3-LIN39-ChIP-Seq(modEncode)/Homer         0          \n",
       "CDX4(Homeobox)/ZebrafishEmbryos-Cdx4.Myc-ChIP-Seq(GSE48254)/Homer    0          \n",
       "COUP-TFII(NR)/K562-NR2F1-ChIP-Seq(Encode)/Homer                    301          \n",
       "TEAD1(TEAD)/HepG2-TEAD1-ChIP-Seq(Encode)/Homer                     144          \n",
       "EAR2(NR)/K562-NR2F6-ChIP-Seq(Encode)/Homer                         300          \n",
       "Esrrb(NR)/mES-Esrrb-ChIP-Seq(GSE11431)/Homer                       300          \n",
       "Erra(NR)/HepG2-Erra-ChIP-Seq(GSE31477)/Homer                       300          \n",
       "ERRg(NR)/Kidney-ESRRG-ChIP-Seq(GSE104905)/Homer                    300          \n",
       "Nr5a2(NR)/mES-Nr5a2-ChIP-Seq(GSE19019)/Homer                       300          \n",
       "Nr5a2(NR)/Pancreas-LRH1-ChIP-Seq(GSE34295)/Homer                   300          \n",
       "SF1(NR)/H295R-Nr5a1-ChIP-Seq(GSE44220)/Homer                       300          \n",
       "DMRT1(DM)/Testis-DMRT1-ChIP-Seq(GSE64892)/Homer                    300          \n",
       "DMRT6(DM)/Testis-DMRT6-ChIP-Seq(GSE60440)/Homer                    300          \n",
       "                                                                   Log10_Female_OC\n",
       "CTCF(Zf)/CD4+-CTCF-ChIP-Seq(Barski_et_al.)/Homer                   300            \n",
       "BORIS(Zf)/K562-CTCFL-ChIP-Seq(GSE32465)/Homer                      300            \n",
       "Hoxc9(Homeobox)/Ainv15-Hoxc9-ChIP-Seq(GSE21812)/Homer              288            \n",
       "PBX2(Homeobox)/K562-PBX2-ChIP-Seq(Encode)/Homer                    262            \n",
       "HOXA9(Homeobox)/HSC-Hoxa9-ChIP-Seq(GSE33509)/Homer                 233            \n",
       "CTCF-SatelliteElement(Zf?)/CD4+-CTCF-ChIP-Seq(Barski_et_al.)/Homer 265            \n",
       "COUP-TFII(NR)/Artia-Nr2f2-ChIP-Seq(GSE46497)/Homer                 210            \n",
       "Pdx1(Homeobox)/Islet-Pdx1-ChIP-Seq(SRA008281)/Homer                122            \n",
       "LIN-39(Homeobox)/cElegans.L3-LIN39-ChIP-Seq(modEncode)/Homer       129            \n",
       "CDX4(Homeobox)/ZebrafishEmbryos-Cdx4.Myc-ChIP-Seq(GSE48254)/Homer   91            \n",
       "COUP-TFII(NR)/K562-NR2F1-ChIP-Seq(Encode)/Homer                     93            \n",
       "TEAD1(TEAD)/HepG2-TEAD1-ChIP-Seq(Encode)/Homer                     143            \n",
       "EAR2(NR)/K562-NR2F6-ChIP-Seq(Encode)/Homer                         101            \n",
       "Esrrb(NR)/mES-Esrrb-ChIP-Seq(GSE11431)/Homer                        78            \n",
       "Erra(NR)/HepG2-Erra-ChIP-Seq(GSE31477)/Homer                        79            \n",
       "ERRg(NR)/Kidney-ESRRG-ChIP-Seq(GSE104905)/Homer                     50            \n",
       "Nr5a2(NR)/mES-Nr5a2-ChIP-Seq(GSE19019)/Homer                        24            \n",
       "Nr5a2(NR)/Pancreas-LRH1-ChIP-Seq(GSE34295)/Homer                    26            \n",
       "SF1(NR)/H295R-Nr5a1-ChIP-Seq(GSE44220)/Homer                        10            \n",
       "DMRT1(DM)/Testis-DMRT1-ChIP-Seq(GSE64892)/Homer                      0            \n",
       "DMRT6(DM)/Testis-DMRT6-ChIP-Seq(GSE60440)/Homer                      0            \n",
       "                                                                   Log10_Female_CO\n",
       "CTCF(Zf)/CD4+-CTCF-ChIP-Seq(Barski_et_al.)/Homer                     6            \n",
       "BORIS(Zf)/K562-CTCFL-ChIP-Seq(GSE32465)/Homer                        4            \n",
       "Hoxc9(Homeobox)/Ainv15-Hoxc9-ChIP-Seq(GSE21812)/Homer                0            \n",
       "PBX2(Homeobox)/K562-PBX2-ChIP-Seq(Encode)/Homer                      0            \n",
       "HOXA9(Homeobox)/HSC-Hoxa9-ChIP-Seq(GSE33509)/Homer                   0            \n",
       "CTCF-SatelliteElement(Zf?)/CD4+-CTCF-ChIP-Seq(Barski_et_al.)/Homer   1            \n",
       "COUP-TFII(NR)/Artia-Nr2f2-ChIP-Seq(GSE46497)/Homer                 172            \n",
       "Pdx1(Homeobox)/Islet-Pdx1-ChIP-Seq(SRA008281)/Homer                  0            \n",
       "LIN-39(Homeobox)/cElegans.L3-LIN39-ChIP-Seq(modEncode)/Homer         0            \n",
       "CDX4(Homeobox)/ZebrafishEmbryos-Cdx4.Myc-ChIP-Seq(GSE48254)/Homer    0            \n",
       "COUP-TFII(NR)/K562-NR2F1-ChIP-Seq(Encode)/Homer                    191            \n",
       "TEAD1(TEAD)/HepG2-TEAD1-ChIP-Seq(Encode)/Homer                      97            \n",
       "EAR2(NR)/K562-NR2F6-ChIP-Seq(Encode)/Homer                         222            \n",
       "Esrrb(NR)/mES-Esrrb-ChIP-Seq(GSE11431)/Homer                       300            \n",
       "Erra(NR)/HepG2-Erra-ChIP-Seq(GSE31477)/Homer                       249            \n",
       "ERRg(NR)/Kidney-ESRRG-ChIP-Seq(GSE104905)/Homer                    300            \n",
       "Nr5a2(NR)/mES-Nr5a2-ChIP-Seq(GSE19019)/Homer                       300            \n",
       "Nr5a2(NR)/Pancreas-LRH1-ChIP-Seq(GSE34295)/Homer                   300            \n",
       "SF1(NR)/H295R-Nr5a1-ChIP-Seq(GSE44220)/Homer                       300            \n",
       "DMRT1(DM)/Testis-DMRT1-ChIP-Seq(GSE64892)/Homer                    300            \n",
       "DMRT6(DM)/Testis-DMRT6-ChIP-Seq(GSE60440)/Homer                    300            "
      ]
     },
     "metadata": {},
     "output_type": "display_data"
    }
   ],
   "source": [
    "all <- full_join(males, females, by = c(\"Motif_Name\"))\n",
    "all <- filter(all, Motif_Name %in% all_tops)\n",
    "all[is.na(all)] <- 0\n",
    "all\n",
    "rownames(all) <- NULL\n",
    "matrix <- column_to_rownames(all, \"Motif_Name\")\n",
    "matrix <- as.matrix(matrix)\n",
    "table(is.na(matrix))\n",
    "matrix"
   ]
  },
  {
   "cell_type": "code",
   "execution_count": null,
   "id": "6e2148e5-325e-48fe-8fa5-58ca1d71224e",
   "metadata": {
    "vscode": {
     "languageId": "r"
    }
   },
   "outputs": [],
   "source": [
    "options(repr.plot.width = 12, repr.plot.height = 6)\n",
    "my_palette <- colorRampPalette(c(\"white\", \"#d5440a\"))(n = 8)\n",
    "\n",
    "p1 <- pheatmap(matrix, scale = \"none\", color = my_palette, cluster_rows = T, cutree_cols = 2, cutree_rows = 2 )\n",
    "\n",
    "pdf(file = 'Motif_Matrix_Soma_Top10.pdf', width = 12, height = 6)\n",
    "p1\n",
    "dev.off()"
   ]
  },
  {
   "cell_type": "code",
   "execution_count": null,
   "id": "ed5902e2-b855-4b45-b7ff-a0b183192963",
   "metadata": {
    "vscode": {
     "languageId": "r"
    }
   },
   "outputs": [],
   "source": []
  }
 ],
 "metadata": {
  "kernelspec": {
   "display_name": "R",
   "language": "R",
   "name": "ir"
  },
  "language_info": {
   "codemirror_mode": "r",
   "file_extension": ".r",
   "mimetype": "text/x-r-source",
   "name": "R",
   "pygments_lexer": "r",
   "version": "4.3.3"
  }
 },
 "nbformat": 4,
 "nbformat_minor": 5
}
